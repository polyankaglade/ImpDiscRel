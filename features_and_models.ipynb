{
 "cells": [
  {
   "cell_type": "code",
   "execution_count": 18,
   "metadata": {},
   "outputs": [],
   "source": [
    "import pandas as pd\n",
    "\n",
    "from tqdm.auto import tqdm\n",
    "tqdm.pandas()"
   ]
  },
  {
   "cell_type": "markdown",
   "metadata": {},
   "source": [
    "## Данные\n",
    "\n",
    "собираю примеры из нескольких отдельных файлов"
   ]
  },
  {
   "cell_type": "code",
   "execution_count": 73,
   "metadata": {},
   "outputs": [],
   "source": [
    "contrast_df = pd.read_csv('Data\\contrast_clean_extended.tsv', sep='\\t')\n",
    "cause_df = pd.read_csv('Data\\cause_clean_extended.tsv', sep='\\t')"
   ]
  },
  {
   "cell_type": "code",
   "execution_count": 74,
   "metadata": {},
   "outputs": [
    {
     "data": {
      "text/html": [
       "<div>\n",
       "<style scoped>\n",
       "    .dataframe tbody tr th:only-of-type {\n",
       "        vertical-align: middle;\n",
       "    }\n",
       "\n",
       "    .dataframe tbody tr th {\n",
       "        vertical-align: top;\n",
       "    }\n",
       "\n",
       "    .dataframe thead th {\n",
       "        text-align: right;\n",
       "    }\n",
       "</style>\n",
       "<table border=\"1\" class=\"dataframe\">\n",
       "  <thead>\n",
       "    <tr style=\"text-align: right;\">\n",
       "      <th></th>\n",
       "      <th>id</th>\n",
       "      <th>текст</th>\n",
       "      <th>relation</th>\n",
       "    </tr>\n",
       "  </thead>\n",
       "  <tbody>\n",
       "    <tr>\n",
       "      <th>0</th>\n",
       "      <td>407</td>\n",
       "      <td>В солнечный день, наверное, и вода играет друг...</td>\n",
       "      <td>contrast</td>\n",
       "    </tr>\n",
       "    <tr>\n",
       "      <th>1</th>\n",
       "      <td>921</td>\n",
       "      <td>там никто не в курсе никаких автобусов_говорят...</td>\n",
       "      <td>contrast</td>\n",
       "    </tr>\n",
       "    <tr>\n",
       "      <th>2</th>\n",
       "      <td>1051</td>\n",
       "      <td>В каком-то проёме за щёлкой эти монетки и оста...</td>\n",
       "      <td>contrast</td>\n",
       "    </tr>\n",
       "    <tr>\n",
       "      <th>3</th>\n",
       "      <td>1067</td>\n",
       "      <td>Что ни говори, общий относительно приличный ур...</td>\n",
       "      <td>contrast</td>\n",
       "    </tr>\n",
       "    <tr>\n",
       "      <th>4</th>\n",
       "      <td>1161</td>\n",
       "      <td>Коробка красивая,_прибор явно туфтовый, даже п...</td>\n",
       "      <td>contrast</td>\n",
       "    </tr>\n",
       "  </tbody>\n",
       "</table>\n",
       "</div>"
      ],
      "text/plain": [
       "     id                                              текст  relation\n",
       "0   407  В солнечный день, наверное, и вода играет друг...  contrast\n",
       "1   921  там никто не в курсе никаких автобусов_говорят...  contrast\n",
       "2  1051  В каком-то проёме за щёлкой эти монетки и оста...  contrast\n",
       "3  1067  Что ни говори, общий относительно приличный ур...  contrast\n",
       "4  1161  Коробка красивая,_прибор явно туфтовый, даже п...  contrast"
      ]
     },
     "execution_count": 74,
     "metadata": {},
     "output_type": "execute_result"
    }
   ],
   "source": [
    "df1 = contrast_df\n",
    "df1['relation'] = 'contrast'\n",
    "df1.head()"
   ]
  },
  {
   "cell_type": "code",
   "execution_count": 75,
   "metadata": {},
   "outputs": [
    {
     "data": {
      "text/html": [
       "<div>\n",
       "<style scoped>\n",
       "    .dataframe tbody tr th:only-of-type {\n",
       "        vertical-align: middle;\n",
       "    }\n",
       "\n",
       "    .dataframe tbody tr th {\n",
       "        vertical-align: top;\n",
       "    }\n",
       "\n",
       "    .dataframe thead th {\n",
       "        text-align: right;\n",
       "    }\n",
       "</style>\n",
       "<table border=\"1\" class=\"dataframe\">\n",
       "  <thead>\n",
       "    <tr style=\"text-align: right;\">\n",
       "      <th></th>\n",
       "      <th>id</th>\n",
       "      <th>текст</th>\n",
       "      <th>relation</th>\n",
       "    </tr>\n",
       "  </thead>\n",
       "  <tbody>\n",
       "    <tr>\n",
       "      <th>0</th>\n",
       "      <td>24</td>\n",
       "      <td>Помада довольно стойкая,_отлично переживет пер...</td>\n",
       "      <td>cause</td>\n",
       "    </tr>\n",
       "    <tr>\n",
       "      <th>1</th>\n",
       "      <td>101</td>\n",
       "      <td>Выпадает небольшой осадок._Всегда встряхиваю п...</td>\n",
       "      <td>cause</td>\n",
       "    </tr>\n",
       "    <tr>\n",
       "      <th>2</th>\n",
       "      <td>136</td>\n",
       "      <td>зато есть ощущение, что присутствует муцин ули...</td>\n",
       "      <td>cause</td>\n",
       "    </tr>\n",
       "    <tr>\n",
       "      <th>3</th>\n",
       "      <td>206</td>\n",
       "      <td>Не самый послушный,_может осыпаться под глаза.</td>\n",
       "      <td>cause</td>\n",
       "    </tr>\n",
       "    <tr>\n",
       "      <th>4</th>\n",
       "      <td>392</td>\n",
       "      <td>После октябрьской революции_монастырь официаль...</td>\n",
       "      <td>cause</td>\n",
       "    </tr>\n",
       "  </tbody>\n",
       "</table>\n",
       "</div>"
      ],
      "text/plain": [
       "    id                                              текст relation\n",
       "0   24  Помада довольно стойкая,_отлично переживет пер...    cause\n",
       "1  101  Выпадает небольшой осадок._Всегда встряхиваю п...    cause\n",
       "2  136  зато есть ощущение, что присутствует муцин ули...    cause\n",
       "3  206     Не самый послушный,_может осыпаться под глаза.    cause\n",
       "4  392  После октябрьской революции_монастырь официаль...    cause"
      ]
     },
     "execution_count": 75,
     "metadata": {},
     "output_type": "execute_result"
    }
   ],
   "source": [
    "df2 = cause_df\n",
    "df2['relation'] = 'cause'\n",
    "df2.head()"
   ]
  },
  {
   "cell_type": "markdown",
   "metadata": {},
   "source": [
    "склеиваю два датафрейма и проверяю, что нигде ничего не потерялось (нет пустых значений)"
   ]
  },
  {
   "cell_type": "code",
   "execution_count": 76,
   "metadata": {},
   "outputs": [
    {
     "data": {
      "text/plain": [
       "id          False\n",
       "текст       False\n",
       "relation    False\n",
       "dtype: bool"
      ]
     },
     "execution_count": 76,
     "metadata": {},
     "output_type": "execute_result"
    }
   ],
   "source": [
    "all_data = pd.concat([df1, df2], ignore_index=True)\n",
    "all_data.isna().any()"
   ]
  },
  {
   "cell_type": "code",
   "execution_count": 77,
   "metadata": {},
   "outputs": [
    {
     "name": "stdout",
     "output_type": "stream",
     "text": [
      "<class 'pandas.core.frame.DataFrame'>\n",
      "RangeIndex: 200 entries, 0 to 199\n",
      "Data columns (total 3 columns):\n",
      "id          200 non-null int64\n",
      "текст       200 non-null object\n",
      "relation    200 non-null object\n",
      "dtypes: int64(1), object(2)\n",
      "memory usage: 4.8+ KB\n"
     ]
    }
   ],
   "source": [
    "all_data.info()"
   ]
  },
  {
   "cell_type": "markdown",
   "metadata": {},
   "source": [
    "Разделяю пример на две ЭДЕ по `_`"
   ]
  },
  {
   "cell_type": "code",
   "execution_count": 78,
   "metadata": {},
   "outputs": [
    {
     "data": {
      "text/html": [
       "<div>\n",
       "<style scoped>\n",
       "    .dataframe tbody tr th:only-of-type {\n",
       "        vertical-align: middle;\n",
       "    }\n",
       "\n",
       "    .dataframe tbody tr th {\n",
       "        vertical-align: top;\n",
       "    }\n",
       "\n",
       "    .dataframe thead th {\n",
       "        text-align: right;\n",
       "    }\n",
       "</style>\n",
       "<table border=\"1\" class=\"dataframe\">\n",
       "  <thead>\n",
       "    <tr style=\"text-align: right;\">\n",
       "      <th></th>\n",
       "      <th>id</th>\n",
       "      <th>текст</th>\n",
       "      <th>relation</th>\n",
       "      <th>эде1</th>\n",
       "      <th>эде2</th>\n",
       "    </tr>\n",
       "  </thead>\n",
       "  <tbody>\n",
       "    <tr>\n",
       "      <th>0</th>\n",
       "      <td>407</td>\n",
       "      <td>В солнечный день, наверное, и вода играет друг...</td>\n",
       "      <td>contrast</td>\n",
       "      <td>В солнечный день, наверное, и вода играет друг...</td>\n",
       "      <td>Главное, что это не повод сидеть дома,</td>\n",
       "    </tr>\n",
       "    <tr>\n",
       "      <th>1</th>\n",
       "      <td>921</td>\n",
       "      <td>там никто не в курсе никаких автобусов_говорят...</td>\n",
       "      <td>contrast</td>\n",
       "      <td>там никто не в курсе никаких автобусов</td>\n",
       "      <td>говорят; что всё на автостанцию приходит.</td>\n",
       "    </tr>\n",
       "    <tr>\n",
       "      <th>2</th>\n",
       "      <td>1051</td>\n",
       "      <td>В каком-то проёме за щёлкой эти монетки и оста...</td>\n",
       "      <td>contrast</td>\n",
       "      <td>В каком-то проёме за щёлкой эти монетки и оста...</td>\n",
       "      <td>И даже никаких чеков автомат не выдаёт.</td>\n",
       "    </tr>\n",
       "    <tr>\n",
       "      <th>3</th>\n",
       "      <td>1067</td>\n",
       "      <td>Что ни говори, общий относительно приличный ур...</td>\n",
       "      <td>contrast</td>\n",
       "      <td>Что ни говори, общий относительно приличный ур...</td>\n",
       "      <td>Автобусный транспорт реально много где на уров...</td>\n",
       "    </tr>\n",
       "    <tr>\n",
       "      <th>4</th>\n",
       "      <td>1161</td>\n",
       "      <td>Коробка красивая,_прибор явно туфтовый, даже п...</td>\n",
       "      <td>contrast</td>\n",
       "      <td>Коробка красивая,</td>\n",
       "      <td>прибор явно туфтовый, даже по внешнему виду.</td>\n",
       "    </tr>\n",
       "  </tbody>\n",
       "</table>\n",
       "</div>"
      ],
      "text/plain": [
       "     id                                              текст  relation  \\\n",
       "0   407  В солнечный день, наверное, и вода играет друг...  contrast   \n",
       "1   921  там никто не в курсе никаких автобусов_говорят...  contrast   \n",
       "2  1051  В каком-то проёме за щёлкой эти монетки и оста...  contrast   \n",
       "3  1067  Что ни говори, общий относительно приличный ур...  contrast   \n",
       "4  1161  Коробка красивая,_прибор явно туфтовый, даже п...  contrast   \n",
       "\n",
       "                                                эде1  \\\n",
       "0  В солнечный день, наверное, и вода играет друг...   \n",
       "1             там никто не в курсе никаких автобусов   \n",
       "2  В каком-то проёме за щёлкой эти монетки и оста...   \n",
       "3  Что ни говори, общий относительно приличный ур...   \n",
       "4                                  Коробка красивая,   \n",
       "\n",
       "                                                эде2  \n",
       "0             Главное, что это не повод сидеть дома,  \n",
       "1          говорят; что всё на автостанцию приходит.  \n",
       "2            И даже никаких чеков автомат не выдаёт.  \n",
       "3  Автобусный транспорт реально много где на уров...  \n",
       "4       прибор явно туфтовый, даже по внешнему виду.  "
      ]
     },
     "execution_count": 78,
     "metadata": {},
     "output_type": "execute_result"
    }
   ],
   "source": [
    "new_df = all_data['текст'].str.split('_',expand=True)\n",
    "new_df = new_df.rename(columns={0:'эде1', 1:'эде2'})\n",
    "all_data = pd.concat([ all_data, new_df[['эде1', 'эде2']] ], axis=1)\n",
    "all_data.head()"
   ]
  },
  {
   "cell_type": "code",
   "execution_count": 79,
   "metadata": {},
   "outputs": [
    {
     "data": {
      "text/html": [
       "<div>\n",
       "<style scoped>\n",
       "    .dataframe tbody tr th:only-of-type {\n",
       "        vertical-align: middle;\n",
       "    }\n",
       "\n",
       "    .dataframe tbody tr th {\n",
       "        vertical-align: top;\n",
       "    }\n",
       "\n",
       "    .dataframe thead th {\n",
       "        text-align: right;\n",
       "    }\n",
       "</style>\n",
       "<table border=\"1\" class=\"dataframe\">\n",
       "  <thead>\n",
       "    <tr style=\"text-align: right;\">\n",
       "      <th></th>\n",
       "      <th>id</th>\n",
       "      <th>текст</th>\n",
       "      <th>relation</th>\n",
       "      <th>эде1</th>\n",
       "      <th>эде2</th>\n",
       "    </tr>\n",
       "  </thead>\n",
       "  <tbody>\n",
       "    <tr>\n",
       "      <th>96</th>\n",
       "      <td>24927</td>\n",
       "      <td>некоторые называют главным врагом Иран,_другие...</td>\n",
       "      <td>contrast</td>\n",
       "      <td>некоторые называют главным врагом Иран,</td>\n",
       "      <td>другие указывают на Израиль или совсем иные ст...</td>\n",
       "    </tr>\n",
       "    <tr>\n",
       "      <th>97</th>\n",
       "      <td>25922</td>\n",
       "      <td>удары дронов приносят определенный краткосрочн...</td>\n",
       "      <td>contrast</td>\n",
       "      <td>удары дронов приносят определенный краткосрочн...</td>\n",
       "      <td>чего нельзя сказать о последствиях для долгоср...</td>\n",
       "    </tr>\n",
       "    <tr>\n",
       "      <th>98</th>\n",
       "      <td>29470</td>\n",
       "      <td>Этот статистический показатель адекватно харак...</td>\n",
       "      <td>contrast</td>\n",
       "      <td>Этот статистический показатель адекватно харак...</td>\n",
       "      <td>В случае сильной асимметрии рассуждения в терм...</td>\n",
       "    </tr>\n",
       "    <tr>\n",
       "      <th>99</th>\n",
       "      <td>30522</td>\n",
       "      <td>Для случая прозрачности жидкости и дна ротора ...</td>\n",
       "      <td>contrast</td>\n",
       "      <td>Для случая прозрачности жидкости и дна ротора ...</td>\n",
       "      <td>в противном случае - зеркалом.</td>\n",
       "    </tr>\n",
       "    <tr>\n",
       "      <th>100</th>\n",
       "      <td>24</td>\n",
       "      <td>Помада довольно стойкая,_отлично переживет пер...</td>\n",
       "      <td>cause</td>\n",
       "      <td>Помада довольно стойкая,</td>\n",
       "      <td>отлично переживет перекус.</td>\n",
       "    </tr>\n",
       "    <tr>\n",
       "      <th>101</th>\n",
       "      <td>101</td>\n",
       "      <td>Выпадает небольшой осадок._Всегда встряхиваю п...</td>\n",
       "      <td>cause</td>\n",
       "      <td>Выпадает небольшой осадок.</td>\n",
       "      <td>Всегда встряхиваю перед применением.</td>\n",
       "    </tr>\n",
       "    <tr>\n",
       "      <th>102</th>\n",
       "      <td>136</td>\n",
       "      <td>зато есть ощущение, что присутствует муцин ули...</td>\n",
       "      <td>cause</td>\n",
       "      <td>зато есть ощущение, что присутствует муцин ули...</td>\n",
       "      <td>консистенция крема какая-то тягучая.</td>\n",
       "    </tr>\n",
       "    <tr>\n",
       "      <th>103</th>\n",
       "      <td>206</td>\n",
       "      <td>Не самый послушный,_может осыпаться под глаза.</td>\n",
       "      <td>cause</td>\n",
       "      <td>Не самый послушный,</td>\n",
       "      <td>может осыпаться под глаза.</td>\n",
       "    </tr>\n",
       "  </tbody>\n",
       "</table>\n",
       "</div>"
      ],
      "text/plain": [
       "        id                                              текст  relation  \\\n",
       "96   24927  некоторые называют главным врагом Иран,_другие...  contrast   \n",
       "97   25922  удары дронов приносят определенный краткосрочн...  contrast   \n",
       "98   29470  Этот статистический показатель адекватно харак...  contrast   \n",
       "99   30522  Для случая прозрачности жидкости и дна ротора ...  contrast   \n",
       "100     24  Помада довольно стойкая,_отлично переживет пер...     cause   \n",
       "101    101  Выпадает небольшой осадок._Всегда встряхиваю п...     cause   \n",
       "102    136  зато есть ощущение, что присутствует муцин ули...     cause   \n",
       "103    206     Не самый послушный,_может осыпаться под глаза.     cause   \n",
       "\n",
       "                                                  эде1  \\\n",
       "96             некоторые называют главным врагом Иран,   \n",
       "97   удары дронов приносят определенный краткосрочн...   \n",
       "98   Этот статистический показатель адекватно харак...   \n",
       "99   Для случая прозрачности жидкости и дна ротора ...   \n",
       "100                           Помада довольно стойкая,   \n",
       "101                         Выпадает небольшой осадок.   \n",
       "102  зато есть ощущение, что присутствует муцин ули...   \n",
       "103                                Не самый послушный,   \n",
       "\n",
       "                                                  эде2  \n",
       "96   другие указывают на Израиль или совсем иные ст...  \n",
       "97   чего нельзя сказать о последствиях для долгоср...  \n",
       "98   В случае сильной асимметрии рассуждения в терм...  \n",
       "99                      в противном случае - зеркалом.  \n",
       "100                         отлично переживет перекус.  \n",
       "101               Всегда встряхиваю перед применением.  \n",
       "102               консистенция крема какая-то тягучая.  \n",
       "103                         может осыпаться под глаза.  "
      ]
     },
     "execution_count": 79,
     "metadata": {},
     "output_type": "execute_result"
    }
   ],
   "source": [
    "all_data.iloc[96:104]"
   ]
  },
  {
   "cell_type": "markdown",
   "metadata": {},
   "source": [
    "# Признаки\n",
    "\n",
    "считаю все признаки, которые можно получить автоматически"
   ]
  },
  {
   "cell_type": "markdown",
   "metadata": {},
   "source": [
    "## Длины\n",
    "\n",
    "Токенизирую тексты и считаю следующие параметры (учитывая только слова, без пунктуации):\n",
    "\n",
    "`n_words` - кол-во слов в каждой ЭДЕ\n",
    "\n",
    "`av_words_length` - средняя длина слова в каждой ЭДЕ\n",
    "\n",
    "`n_words_diff` - разница в кол-вах между словами (знак показывает, какая из ЭДЕ длинее)"
   ]
  },
  {
   "cell_type": "code",
   "execution_count": 80,
   "metadata": {},
   "outputs": [],
   "source": [
    "import re\n",
    "from razdel import tokenize"
   ]
  },
  {
   "cell_type": "code",
   "execution_count": 81,
   "metadata": {},
   "outputs": [],
   "source": [
    "def tokenizer(text_data):\n",
    "    tokens = [_.text for _ in list(tokenize(str(text_data).lower()))] #if not re.search('[^а-яА-ЯёЁa-zA-z]', _.text)]\n",
    "    return \" \".join(tokens)\n",
    "\n",
    "def get_words(tokens):\n",
    "    words = [token for token in tokens.split() if not re.search('[^а-яА-ЯёЁa-zA-z]', token)]\n",
    "    return \" \".join(words)\n",
    "\n",
    "def count_words(words):\n",
    "    return len(words.split())\n",
    "\n",
    "def av_word_length(words):\n",
    "    l = [len(word) for word in words.split()]\n",
    "    return sum(l)/len(l)"
   ]
  },
  {
   "cell_type": "code",
   "execution_count": 82,
   "metadata": {},
   "outputs": [
    {
     "data": {
      "application/vnd.jupyter.widget-view+json": {
       "model_id": "20c56d8fcc574d9d983567a03d7afad5",
       "version_major": 2,
       "version_minor": 0
      },
      "text/plain": [
       "HBox(children=(IntProgress(value=0, max=200), HTML(value='')))"
      ]
     },
     "metadata": {},
     "output_type": "display_data"
    },
    {
     "name": "stdout",
     "output_type": "stream",
     "text": [
      "\n"
     ]
    },
    {
     "data": {
      "application/vnd.jupyter.widget-view+json": {
       "model_id": "c9e5626c74774c318e6fab2cf2e6d8fa",
       "version_major": 2,
       "version_minor": 0
      },
      "text/plain": [
       "HBox(children=(IntProgress(value=0, max=200), HTML(value='')))"
      ]
     },
     "metadata": {},
     "output_type": "display_data"
    },
    {
     "name": "stdout",
     "output_type": "stream",
     "text": [
      "\n"
     ]
    },
    {
     "data": {
      "application/vnd.jupyter.widget-view+json": {
       "model_id": "d274dd1e287f430bbc2af7ea27104fb9",
       "version_major": 2,
       "version_minor": 0
      },
      "text/plain": [
       "HBox(children=(IntProgress(value=0, max=200), HTML(value='')))"
      ]
     },
     "metadata": {},
     "output_type": "display_data"
    },
    {
     "name": "stdout",
     "output_type": "stream",
     "text": [
      "\n"
     ]
    },
    {
     "data": {
      "application/vnd.jupyter.widget-view+json": {
       "model_id": "5f60e7170d354997871ead12841ec6dd",
       "version_major": 2,
       "version_minor": 0
      },
      "text/plain": [
       "HBox(children=(IntProgress(value=0, max=200), HTML(value='')))"
      ]
     },
     "metadata": {},
     "output_type": "display_data"
    },
    {
     "name": "stdout",
     "output_type": "stream",
     "text": [
      "\n"
     ]
    },
    {
     "data": {
      "application/vnd.jupyter.widget-view+json": {
       "model_id": "c09b092116b444f597541ce7d9aa5b3d",
       "version_major": 2,
       "version_minor": 0
      },
      "text/plain": [
       "HBox(children=(IntProgress(value=0, max=200), HTML(value='')))"
      ]
     },
     "metadata": {},
     "output_type": "display_data"
    },
    {
     "name": "stdout",
     "output_type": "stream",
     "text": [
      "\n"
     ]
    },
    {
     "data": {
      "application/vnd.jupyter.widget-view+json": {
       "model_id": "63c545d2a9624a09a143f8d613cee135",
       "version_major": 2,
       "version_minor": 0
      },
      "text/plain": [
       "HBox(children=(IntProgress(value=0, max=200), HTML(value='')))"
      ]
     },
     "metadata": {},
     "output_type": "display_data"
    },
    {
     "name": "stdout",
     "output_type": "stream",
     "text": [
      "\n"
     ]
    },
    {
     "data": {
      "application/vnd.jupyter.widget-view+json": {
       "model_id": "28e3861b07f446c098fbd4e7824343cd",
       "version_major": 2,
       "version_minor": 0
      },
      "text/plain": [
       "HBox(children=(IntProgress(value=0, max=200), HTML(value='')))"
      ]
     },
     "metadata": {},
     "output_type": "display_data"
    },
    {
     "name": "stdout",
     "output_type": "stream",
     "text": [
      "\n"
     ]
    },
    {
     "data": {
      "application/vnd.jupyter.widget-view+json": {
       "model_id": "0d715008e42247a58eb46506cebc5230",
       "version_major": 2,
       "version_minor": 0
      },
      "text/plain": [
       "HBox(children=(IntProgress(value=0, max=200), HTML(value='')))"
      ]
     },
     "metadata": {},
     "output_type": "display_data"
    },
    {
     "name": "stdout",
     "output_type": "stream",
     "text": [
      "\n"
     ]
    }
   ],
   "source": [
    "for i in ['1', '2']:\n",
    "    all_data['tokens'+i] = all_data['эде'+i].progress_apply(tokenizer)\n",
    "    all_data['words'+i] = all_data['tokens'+i].progress_apply(get_words)\n",
    "    all_data['n_words'+i] = all_data['words'+i].progress_apply(count_words)\n",
    "    all_data['av_words_length'+i] = all_data['words'+i].progress_apply(av_word_length)"
   ]
  },
  {
   "cell_type": "code",
   "execution_count": 83,
   "metadata": {},
   "outputs": [],
   "source": [
    "all_data['n_words_diff'] = all_data['n_words1'] - all_data['n_words2']"
   ]
  },
  {
   "cell_type": "markdown",
   "metadata": {},
   "source": [
    "## Пунктуация между ЭДЕ\n",
    "\n",
    "`punct` - знак препинания между двумя ЭДЕ (беру последний токен первой ЭДЕ). _None_ если знаков там нет. Данные заранее нормализованы вручную так, чтобы знак оставался в первом эелементе. "
   ]
  },
  {
   "cell_type": "code",
   "execution_count": 84,
   "metadata": {},
   "outputs": [],
   "source": [
    "def find_punct(tokens):\n",
    "    last = tokens[-1]\n",
    "    if last not in ['.', ',', ':', '-', '?', ')', '…']:\n",
    "        last = 'none'\n",
    "        \n",
    "    return last\n",
    "\n",
    "all_data['punct'] = all_data['tokens1'].apply(find_punct)\n",
    "all_data['if punct'] = (all_data['punct'] != 'none')"
   ]
  },
  {
   "cell_type": "markdown",
   "metadata": {},
   "source": [
    "## POS анализ\n",
    "\n",
    "Считаю вектор со значениями всех частей речи и разбиваю его на отдельные признаки"
   ]
  },
  {
   "cell_type": "code",
   "execution_count": 85,
   "metadata": {},
   "outputs": [],
   "source": [
    "from pymorphy2 import MorphAnalyzer\n",
    "morph = MorphAnalyzer()"
   ]
  },
  {
   "cell_type": "code",
   "execution_count": 86,
   "metadata": {},
   "outputs": [],
   "source": [
    "tag_list = ['ADJF', 'ADJS', 'ADVB', 'COMP', 'CONJ', 'GRND', 'INFN', 'INTJ', 'NOUN',\n",
    "            'NPRO', 'NUMR', 'None', 'PRCL', 'PRED', 'PREP', 'PRTF', 'PRTS', 'VERB']"
   ]
  },
  {
   "cell_type": "code",
   "execution_count": 87,
   "metadata": {},
   "outputs": [],
   "source": [
    "def count_POS(words):\n",
    "    POS_dict = {'ADJF': 0,\n",
    "                'ADJS': 0,\n",
    "                'ADVB': 0,\n",
    "                'COMP': 0,\n",
    "                'CONJ': 0,\n",
    "                'GRND': 0,\n",
    "                'INFN': 0,\n",
    "                'INTJ': 0,\n",
    "                'NOUN': 0,\n",
    "                'NPRO': 0,\n",
    "                'NUMR': 0,\n",
    "                'None': 0,\n",
    "                'PRCL': 0,\n",
    "                'PRED': 0,\n",
    "                'PREP': 0,\n",
    "                'PRTF': 0,\n",
    "                'PRTS': 0,\n",
    "                'VERB': 0}\n",
    "    \n",
    "    for word in words.split():\n",
    "        p = morph.parse(word)[0]\n",
    "        tag = p.tag.POS\n",
    "        if tag is None:\n",
    "            tag = 'None'\n",
    "        POS_dict[tag] += 1\n",
    "    return list(POS_dict.values())"
   ]
  },
  {
   "cell_type": "code",
   "execution_count": 88,
   "metadata": {},
   "outputs": [
    {
     "data": {
      "application/vnd.jupyter.widget-view+json": {
       "model_id": "b5693cbde4fe4797b1ffae28fd284c66",
       "version_major": 2,
       "version_minor": 0
      },
      "text/plain": [
       "HBox(children=(IntProgress(value=0, max=200), HTML(value='')))"
      ]
     },
     "metadata": {},
     "output_type": "display_data"
    },
    {
     "name": "stdout",
     "output_type": "stream",
     "text": [
      "\n"
     ]
    },
    {
     "data": {
      "application/vnd.jupyter.widget-view+json": {
       "model_id": "8cacf3b5c8df4225bc8eef112b94abb6",
       "version_major": 2,
       "version_minor": 0
      },
      "text/plain": [
       "HBox(children=(IntProgress(value=0, max=200), HTML(value='')))"
      ]
     },
     "metadata": {},
     "output_type": "display_data"
    },
    {
     "name": "stdout",
     "output_type": "stream",
     "text": [
      "\n"
     ]
    }
   ],
   "source": [
    "for i in ['1', '2']:\n",
    "    all_data['pos_vector'+i] = all_data['words'+i].progress_apply(count_POS)\n",
    "    \n",
    "    all_data[ [tag+i for tag in tag_list] ] = pd.DataFrame(all_data['pos_vector'+i].tolist())"
   ]
  },
  {
   "cell_type": "markdown",
   "metadata": {},
   "source": [
    "## Повторяющиеся слова\n",
    "\n",
    "Лемматизирую тексты и считаю сколько слов встречаются в обеих ЭДЕ"
   ]
  },
  {
   "cell_type": "code",
   "execution_count": 89,
   "metadata": {},
   "outputs": [],
   "source": [
    "def lemmatizer(words):\n",
    "    lem_text = []\n",
    "    for word in words.split():\n",
    "        lem = morph.parse(word)[0].normal_form\n",
    "#         if lem not in stops:\n",
    "        lem_text.append(lem)\n",
    "    return ' '.join(lem_text)\n",
    "\n",
    "def similar_words(lemm_a, lemm_b):\n",
    "    return list(set(lemm_a.split()) & set(lemm_b.split()))"
   ]
  },
  {
   "cell_type": "code",
   "execution_count": 90,
   "metadata": {},
   "outputs": [
    {
     "data": {
      "application/vnd.jupyter.widget-view+json": {
       "model_id": "bea7a35c298d41d581fd44a61c17c85d",
       "version_major": 2,
       "version_minor": 0
      },
      "text/plain": [
       "HBox(children=(IntProgress(value=0, max=200), HTML(value='')))"
      ]
     },
     "metadata": {},
     "output_type": "display_data"
    },
    {
     "name": "stdout",
     "output_type": "stream",
     "text": [
      "\n"
     ]
    },
    {
     "data": {
      "application/vnd.jupyter.widget-view+json": {
       "model_id": "6b063e53966b48e6841b473a631ede8f",
       "version_major": 2,
       "version_minor": 0
      },
      "text/plain": [
       "HBox(children=(IntProgress(value=0, max=200), HTML(value='')))"
      ]
     },
     "metadata": {},
     "output_type": "display_data"
    },
    {
     "name": "stdout",
     "output_type": "stream",
     "text": [
      "\n"
     ]
    }
   ],
   "source": [
    "for i in ['1', '2']:\n",
    "    all_data['lemm'+i] = all_data['words'+i].progress_apply(lemmatizer)"
   ]
  },
  {
   "cell_type": "code",
   "execution_count": 91,
   "metadata": {},
   "outputs": [],
   "source": [
    "all_data['similar_words'] = all_data.apply(lambda x: similar_words(x['lemm1'], x['lemm2']), axis=1)\n",
    "all_data['n_similar_words'] = all_data['similar_words'].apply(len)"
   ]
  },
  {
   "cell_type": "code",
   "execution_count": 92,
   "metadata": {
    "scrolled": false
   },
   "outputs": [
    {
     "data": {
      "text/plain": [
       "2                                          [и]\n",
       "3                         [уровень, транспорт]\n",
       "9                                          [с]\n",
       "11                                    [бывать]\n",
       "15                                       [кот]\n",
       "18                                    [писать]\n",
       "20                                       [для]\n",
       "21                                  [хотеться]\n",
       "22          [результат, быстрый, путь, к, это]\n",
       "23                         [быть, пищеварение]\n",
       "25                           [тестер, платить]\n",
       "26                                  [работать]\n",
       "27                         [ресурс, требовать]\n",
       "28                                    [способ]\n",
       "30                                       [что]\n",
       "32                                [технология]\n",
       "34                                        [не]\n",
       "35                                 [хотеть, я]\n",
       "37                     [сказать, мочь, я, что]\n",
       "39                                  [удобство]\n",
       "41                   [значит, это, что, нужно]\n",
       "42                 [союз, и, россия, это, что]\n",
       "45                                       [они]\n",
       "49                                     [когда]\n",
       "52                                         [в]\n",
       "53                                   [не, это]\n",
       "55     [себя, с, вредить, в, граница, человек]\n",
       "56                                    [рулить]\n",
       "57                                     [не, и]\n",
       "59                                       [это]\n",
       "                        ...                   \n",
       "89                                      [план]\n",
       "90                                        [бы]\n",
       "93                                         [у]\n",
       "95                               [освобождать]\n",
       "98                             [распределение]\n",
       "99                                    [случай]\n",
       "106                          [парковка, класс]\n",
       "109                            [в, не, я, для]\n",
       "111                            [дневный, я, и]\n",
       "117                                        [и]\n",
       "120                                        [я]\n",
       "127                                        [я]\n",
       "130                                       [не]\n",
       "132                                        [и]\n",
       "134                               [время, это]\n",
       "139                                        [к]\n",
       "147                                   [они, и]\n",
       "148                       [уязвимость, сервис]\n",
       "149                                        [с]\n",
       "150                                   [к, это]\n",
       "154                                       [не]\n",
       "159                                  [большой]\n",
       "160                                 [в, центр]\n",
       "166                                        [в]\n",
       "178                             [очень, с, не]\n",
       "180                                        [в]\n",
       "182                                        [и]\n",
       "184                                  [большой]\n",
       "188                                       [на]\n",
       "189                                        [с]\n",
       "Name: similar_words, Length: 78, dtype: object"
      ]
     },
     "execution_count": 92,
     "metadata": {},
     "output_type": "execute_result"
    }
   ],
   "source": [
    "all_data[all_data['n_similar_words'] != 0]['similar_words']"
   ]
  },
  {
   "cell_type": "markdown",
   "metadata": {},
   "source": [
    "## Эмбединги\n",
    "\n",
    "Обучаю модель, получаю вектора размерности 10 для каждой пары ЭДЕ и считаю их косинусную близовть. Вектора разбиваю на 10 отдельных признаков. Как дальше покажут эксперименты, если использовать эти 10 отдельных признаков, то почти все модели получаются сильно завязаны на каку-то их часть, при этом если их не использовать - качество не особо и меняется. Так что в итоге при обучении я буду использовать только значение близости между векторами двух ЭДЕ `cosine_d2v`."
   ]
  },
  {
   "cell_type": "markdown",
   "metadata": {},
   "source": [
    "### doc2vec"
   ]
  },
  {
   "cell_type": "code",
   "execution_count": 93,
   "metadata": {},
   "outputs": [],
   "source": [
    "from gensim.models.doc2vec import Doc2Vec, TaggedDocument"
   ]
  },
  {
   "cell_type": "code",
   "execution_count": 94,
   "metadata": {},
   "outputs": [
    {
     "data": {
      "text/plain": [
       "400"
      ]
     },
     "execution_count": 94,
     "metadata": {},
     "output_type": "execute_result"
    }
   ],
   "source": [
    "corpora = all_data['lemm1'].values.tolist() + all_data['lemm2'].values.tolist()\n",
    "len(corpora)"
   ]
  },
  {
   "cell_type": "code",
   "execution_count": 95,
   "metadata": {},
   "outputs": [],
   "source": [
    "documents = [TaggedDocument(doc.split(), [i]) for i, doc in enumerate(corpora)]\n",
    "model = Doc2Vec(documents, vector_size=10, window=2, min_count=1)"
   ]
  },
  {
   "cell_type": "code",
   "execution_count": 96,
   "metadata": {},
   "outputs": [],
   "source": [
    "def get_d2v_vector(lemm):\n",
    "    return model.infer_vector(lemm.split())\n",
    "\n",
    "def cosine_d2v(lemm1, lemm2):\n",
    "    return model.wv.n_similarity(lemm1.split(),lemm2.split())"
   ]
  },
  {
   "cell_type": "code",
   "execution_count": 97,
   "metadata": {},
   "outputs": [
    {
     "data": {
      "application/vnd.jupyter.widget-view+json": {
       "model_id": "ede458a2f4754cf189edec97dd5ebf9e",
       "version_major": 2,
       "version_minor": 0
      },
      "text/plain": [
       "HBox(children=(IntProgress(value=0, max=200), HTML(value='')))"
      ]
     },
     "metadata": {},
     "output_type": "display_data"
    },
    {
     "name": "stdout",
     "output_type": "stream",
     "text": [
      "\n"
     ]
    },
    {
     "data": {
      "application/vnd.jupyter.widget-view+json": {
       "model_id": "c10517300b1543089a1ac00da250bb29",
       "version_major": 2,
       "version_minor": 0
      },
      "text/plain": [
       "HBox(children=(IntProgress(value=0, max=200), HTML(value='')))"
      ]
     },
     "metadata": {},
     "output_type": "display_data"
    },
    {
     "name": "stdout",
     "output_type": "stream",
     "text": [
      "\n"
     ]
    }
   ],
   "source": [
    "for i in ['1', '2']:\n",
    "    all_data['d2v_vector'+i] = all_data['lemm'+i].progress_apply(get_d2v_vector)\n",
    "    all_data[ ['v'+str(n)+'_'+i for n in range(10)] ] = pd.DataFrame(all_data['d2v_vector'+i].tolist())"
   ]
  },
  {
   "cell_type": "code",
   "execution_count": 98,
   "metadata": {},
   "outputs": [],
   "source": [
    "all_data['cosine_d2v'] = all_data.apply(lambda x: cosine_d2v(x['lemm1'], x['lemm2']), axis=1)"
   ]
  },
  {
   "cell_type": "markdown",
   "metadata": {},
   "source": [
    "### Сохранение всех результатов экселе"
   ]
  },
  {
   "cell_type": "code",
   "execution_count": 99,
   "metadata": {},
   "outputs": [],
   "source": [
    "all_data.to_excel('Data\\data_full_markup.xlsx')"
   ]
  },
  {
   "cell_type": "markdown",
   "metadata": {},
   "source": [
    "# Модели"
   ]
  },
  {
   "cell_type": "code",
   "execution_count": 100,
   "metadata": {},
   "outputs": [],
   "source": [
    "import numpy as np\n",
    "from sklearn.metrics import classification_report"
   ]
  },
  {
   "cell_type": "markdown",
   "metadata": {},
   "source": [
    "## Обчающая и тестовая выборки"
   ]
  },
  {
   "cell_type": "code",
   "execution_count": 101,
   "metadata": {},
   "outputs": [],
   "source": [
    "from sklearn.preprocessing import LabelEncoder\n",
    "from sklearn.model_selection import train_test_split"
   ]
  },
  {
   "cell_type": "code",
   "execution_count": 124,
   "metadata": {},
   "outputs": [],
   "source": [
    "not_features = ['id', 'текст',\n",
    "                'эде1', 'эде2',\n",
    "                'tokens1', 'tokens2',\n",
    "                'words1', 'words2',\n",
    "                'pos_vector1', 'pos_vector2',\n",
    "                'lemm1', 'lemm2',\n",
    "                'similar_words', 'if punct', \n",
    "                'd2v_vector1', 'd2v_vector2']\n",
    "\n",
    "not_features.extend(['v'+str(n)+'_'+'1' for n in range(10)])\n",
    "not_features.extend(['v'+str(n)+'_'+'2' for n in range(10)])\n",
    "\n",
    "features = list(set(all_data.columns.values.tolist()) - set(not_features))\n",
    "\n",
    "data = all_data.drop(columns=not_features)\n",
    "data = data.apply(LabelEncoder().fit_transform) # 1 = contrast, 0 = cause\n",
    "\n",
    "X = data.drop(columns=['relation'])\n",
    "y = data['relation']\n",
    "\n",
    "X_train, X_test, y_train, y_test = train_test_split(X, y, \n",
    "                                                    stratify=y,\n",
    "                                                    test_size=0.2,\n",
    "                                                    random_state=42)"
   ]
  },
  {
   "cell_type": "code",
   "execution_count": 125,
   "metadata": {},
   "outputs": [
    {
     "data": {
      "text/plain": [
       "45"
      ]
     },
     "execution_count": 125,
     "metadata": {},
     "output_type": "execute_result"
    }
   ],
   "source": [
    "len(features)"
   ]
  },
  {
   "cell_type": "code",
   "execution_count": 128,
   "metadata": {},
   "outputs": [
    {
     "name": "stdout",
     "output_type": "stream",
     "text": [
      "<class 'pandas.core.frame.DataFrame'>\n",
      "Int64Index: 160 entries, 154 to 5\n",
      "Data columns (total 44 columns):\n",
      "n_words1            160 non-null int64\n",
      "av_words_length1    160 non-null int64\n",
      "n_words2            160 non-null int64\n",
      "av_words_length2    160 non-null int64\n",
      "n_words_diff        160 non-null int64\n",
      "punct               160 non-null int32\n",
      "ADJF1               160 non-null int64\n",
      "ADJS1               160 non-null int64\n",
      "ADVB1               160 non-null int64\n",
      "COMP1               160 non-null int64\n",
      "CONJ1               160 non-null int64\n",
      "GRND1               160 non-null int64\n",
      "INFN1               160 non-null int64\n",
      "INTJ1               160 non-null int64\n",
      "NOUN1               160 non-null int64\n",
      "NPRO1               160 non-null int64\n",
      "NUMR1               160 non-null int64\n",
      "None1               160 non-null int64\n",
      "PRCL1               160 non-null int64\n",
      "PRED1               160 non-null int64\n",
      "PREP1               160 non-null int64\n",
      "PRTF1               160 non-null int64\n",
      "PRTS1               160 non-null int64\n",
      "VERB1               160 non-null int64\n",
      "ADJF2               160 non-null int64\n",
      "ADJS2               160 non-null int64\n",
      "ADVB2               160 non-null int64\n",
      "COMP2               160 non-null int64\n",
      "CONJ2               160 non-null int64\n",
      "GRND2               160 non-null int64\n",
      "INFN2               160 non-null int64\n",
      "INTJ2               160 non-null int64\n",
      "NOUN2               160 non-null int64\n",
      "NPRO2               160 non-null int64\n",
      "NUMR2               160 non-null int64\n",
      "None2               160 non-null int64\n",
      "PRCL2               160 non-null int64\n",
      "PRED2               160 non-null int64\n",
      "PREP2               160 non-null int64\n",
      "PRTF2               160 non-null int64\n",
      "PRTS2               160 non-null int64\n",
      "VERB2               160 non-null int64\n",
      "n_similar_words     160 non-null int64\n",
      "cosine_d2v          160 non-null int64\n",
      "dtypes: int32(1), int64(43)\n",
      "memory usage: 55.6 KB\n"
     ]
    }
   ],
   "source": [
    "X_train.info()"
   ]
  },
  {
   "cell_type": "markdown",
   "metadata": {},
   "source": [
    "## Логистическая регрессия"
   ]
  },
  {
   "cell_type": "code",
   "execution_count": 129,
   "metadata": {},
   "outputs": [],
   "source": [
    "from sklearn.linear_model import LogisticRegression"
   ]
  },
  {
   "cell_type": "code",
   "execution_count": 130,
   "metadata": {},
   "outputs": [
    {
     "name": "stderr",
     "output_type": "stream",
     "text": [
      "C:\\Users\\User\\AppData\\Roaming\\Python\\Python37\\site-packages\\sklearn\\linear_model\\logistic.py:432: FutureWarning: Default solver will be changed to 'lbfgs' in 0.22. Specify a solver to silence this warning.\n",
      "  FutureWarning)\n"
     ]
    },
    {
     "data": {
      "text/plain": [
       "LogisticRegression(C=1.0, class_weight=None, dual=False, fit_intercept=True,\n",
       "                   intercept_scaling=1, l1_ratio=None, max_iter=100,\n",
       "                   multi_class='warn', n_jobs=None, penalty='l2',\n",
       "                   random_state=42, solver='warn', tol=0.0001, verbose=0,\n",
       "                   warm_start=False)"
      ]
     },
     "execution_count": 130,
     "metadata": {},
     "output_type": "execute_result"
    }
   ],
   "source": [
    "lreg = LogisticRegression(random_state=42)\n",
    "lreg.fit(X_train, y_train)"
   ]
  },
  {
   "cell_type": "code",
   "execution_count": 131,
   "metadata": {},
   "outputs": [
    {
     "name": "stdout",
     "output_type": "stream",
     "text": [
      "              precision    recall  f1-score   support\n",
      "\n",
      "           0       0.63      0.85      0.72        20\n",
      "           1       0.77      0.50      0.61        20\n",
      "\n",
      "    accuracy                           0.68        40\n",
      "   macro avg       0.70      0.68      0.66        40\n",
      "weighted avg       0.70      0.68      0.66        40\n",
      "\n"
     ]
    }
   ],
   "source": [
    "y_pred_lreg = lreg.predict(X_test)\n",
    "print(classification_report(y_test, y_pred_lreg))"
   ]
  },
  {
   "cell_type": "code",
   "execution_count": 132,
   "metadata": {},
   "outputs": [
    {
     "name": "stdout",
     "output_type": "stream",
     "text": [
      "ADJS1 - 1.085441197099366\n",
      "INTJ1 - 1.0293079088221717\n",
      "n_similar_words - 0.7371931103399947\n",
      "PRCL2 - 0.6429721059209502\n",
      "VERB1 - 0.5880565013937814\n",
      "ADJF2 - 0.5622177777973437\n",
      "NPRO2 - 0.45557345138561595\n",
      "None2 - 0.45522497737707995\n",
      "INTJ2 - 0.45412598029400736\n",
      "PREP2 - 0.4172867754400803\n",
      "PRED1 - 0.4031741799485455\n",
      "NUMR1 - 0.24942471483632453\n",
      "CONJ2 - 0.24552549208040486\n",
      "ADJF1 - 0.22714057703189525\n",
      "ADJS2 - 0.21028239873406304\n",
      "PRCL1 - 0.2071600151088745\n",
      "INFN1 - 0.18354885744804522\n",
      "n_words1 - 0.1737286548720663\n",
      "ADVB1 - 0.13371611677645603\n",
      "punct - 0.12203823284452073\n",
      "PRTS1 - 0.10400063363620218\n",
      "NOUN1 - 0.0918560400569942\n",
      "COMP2 - 0.058632208244127126\n",
      "NOUN2 - 0.013461147644860429\n",
      "av_words_length2 - 0.008952918558857595\n",
      "av_words_length1 - 0.0037074565335378827\n",
      "cosine_d2v - 0.003665545642884344\n",
      "PRED2 - -0.056327592768354466\n",
      "PREP1 - -0.10130332563913814\n",
      "CONJ1 - -0.12613840903469667\n",
      "n_words_diff - -0.16081292295999156\n",
      "ADVB2 - -0.19538871966479607\n",
      "PRTF2 - -0.21614062955027466\n",
      "GRND1 - -0.2216962412363006\n",
      "VERB2 - -0.2656759320617068\n",
      "NUMR2 - -0.31532484305752845\n",
      "PRTS2 - -0.33044213475874645\n",
      "COMP1 - -0.34591662379936133\n",
      "INFN2 - -0.41910187113921293\n",
      "NPRO1 - -0.4565678969082752\n",
      "n_words2 - -0.491224738395305\n",
      "None1 - -0.5769292658257829\n",
      "GRND2 - -1.2952622270728487\n",
      "PRTF1 - -1.6373960109353347\n"
     ]
    }
   ],
   "source": [
    "feature_importances_lreg = lreg.coef_\n",
    "for ind in np.argsort(-feature_importances_lreg[0]):\n",
    "    print(X_train.columns[ind], '-', feature_importances_lreg[0][ind])"
   ]
  },
  {
   "cell_type": "markdown",
   "metadata": {},
   "source": [
    "## Decision Tree"
   ]
  },
  {
   "cell_type": "code",
   "execution_count": 133,
   "metadata": {},
   "outputs": [],
   "source": [
    "from sklearn.tree import DecisionTreeClassifier"
   ]
  },
  {
   "cell_type": "code",
   "execution_count": 134,
   "metadata": {},
   "outputs": [
    {
     "data": {
      "text/plain": [
       "DecisionTreeClassifier(class_weight=None, criterion='gini', max_depth=None,\n",
       "                       max_features=None, max_leaf_nodes=None,\n",
       "                       min_impurity_decrease=0.0, min_impurity_split=None,\n",
       "                       min_samples_leaf=1, min_samples_split=2,\n",
       "                       min_weight_fraction_leaf=0.0, presort=False,\n",
       "                       random_state=42, splitter='best')"
      ]
     },
     "execution_count": 134,
     "metadata": {},
     "output_type": "execute_result"
    }
   ],
   "source": [
    "tree_clf = DecisionTreeClassifier(random_state=42)\n",
    "tree_clf.fit(X_train, y_train)"
   ]
  },
  {
   "cell_type": "code",
   "execution_count": 135,
   "metadata": {},
   "outputs": [
    {
     "name": "stdout",
     "output_type": "stream",
     "text": [
      "              precision    recall  f1-score   support\n",
      "\n",
      "           0       0.54      0.75      0.63        20\n",
      "           1       0.58      0.35      0.44        20\n",
      "\n",
      "    accuracy                           0.55        40\n",
      "   macro avg       0.56      0.55      0.53        40\n",
      "weighted avg       0.56      0.55      0.53        40\n",
      "\n"
     ]
    }
   ],
   "source": [
    "y_pred_tree = tree_clf.predict(X_test)\n",
    "print(classification_report(y_test, y_pred_tree))"
   ]
  },
  {
   "cell_type": "code",
   "execution_count": 136,
   "metadata": {},
   "outputs": [
    {
     "name": "stdout",
     "output_type": "stream",
     "text": [
      "n_similar_words - 0.10121457489878546\n",
      "n_words2 - 0.09503331438676267\n",
      "cosine_d2v - 0.09396617621407535\n",
      "av_words_length2 - 0.07282388663967611\n",
      "NPRO1 - 0.07190521227406474\n",
      "av_words_length1 - 0.06168425872373238\n",
      "n_words_diff - 0.0604370596302076\n",
      "n_words1 - 0.04534035982814179\n",
      "GRND1 - 0.04292679479932162\n",
      "PRCL2 - 0.03215348639455786\n",
      "ADJS1 - 0.03109507954125048\n",
      "INFN1 - 0.03\n",
      "GRND2 - 0.029701468710089385\n",
      "CONJ2 - 0.029166666666666667\n",
      "ADJF1 - 0.028356950067476395\n",
      "ADJF2 - 0.02739049145299146\n",
      "COMP2 - 0.02291666666666667\n",
      "COMP1 - 0.021428571428571432\n",
      "ADVB1 - 0.0188673469387755\n",
      "PREP1 - 0.01875\n",
      "PRTF1 - 0.018409586056644896\n",
      "INFN2 - 0.018127450980392146\n",
      "PRTF2 - 0.016666666666666666\n",
      "PREP2 - 0.01163793103448274\n",
      "punct - 0.0\n",
      "VERB2 - 0.0\n",
      "PRTS2 - 0.0\n",
      "PRED2 - 0.0\n",
      "CONJ1 - 0.0\n",
      "None2 - 0.0\n",
      "NUMR2 - 0.0\n",
      "NPRO2 - 0.0\n",
      "NOUN2 - 0.0\n",
      "INTJ2 - 0.0\n",
      "INTJ1 - 0.0\n",
      "NOUN1 - 0.0\n",
      "NUMR1 - 0.0\n",
      "ADVB2 - 0.0\n",
      "None1 - 0.0\n",
      "PRCL1 - 0.0\n",
      "VERB1 - 0.0\n",
      "PRTS1 - 0.0\n",
      "PRED1 - 0.0\n",
      "ADJS2 - 0.0\n"
     ]
    }
   ],
   "source": [
    "feature_importances_tree = tree_clf.feature_importances_\n",
    "for ind in np.argsort(-feature_importances_tree):\n",
    "    print(X_train.columns[ind], '-', feature_importances_tree[ind])"
   ]
  },
  {
   "cell_type": "markdown",
   "metadata": {},
   "source": [
    "## Random Forest"
   ]
  },
  {
   "cell_type": "code",
   "execution_count": 137,
   "metadata": {},
   "outputs": [],
   "source": [
    "from sklearn.ensemble import RandomForestClassifier"
   ]
  },
  {
   "cell_type": "code",
   "execution_count": 142,
   "metadata": {},
   "outputs": [
    {
     "data": {
      "text/plain": [
       "RandomForestClassifier(bootstrap=True, class_weight=None, criterion='gini',\n",
       "                       max_depth=None, max_features='auto', max_leaf_nodes=None,\n",
       "                       min_impurity_decrease=0.0, min_impurity_split=None,\n",
       "                       min_samples_leaf=1, min_samples_split=2,\n",
       "                       min_weight_fraction_leaf=0.0, n_estimators=100,\n",
       "                       n_jobs=None, oob_score=False, random_state=42, verbose=0,\n",
       "                       warm_start=False)"
      ]
     },
     "execution_count": 142,
     "metadata": {},
     "output_type": "execute_result"
    }
   ],
   "source": [
    "rf_clf = RandomForestClassifier(n_estimators=100, random_state=42)\n",
    "rf_clf.fit(X_train, y_train)"
   ]
  },
  {
   "cell_type": "code",
   "execution_count": 143,
   "metadata": {},
   "outputs": [
    {
     "name": "stdout",
     "output_type": "stream",
     "text": [
      "              precision    recall  f1-score   support\n",
      "\n",
      "           0       0.58      0.75      0.65        20\n",
      "           1       0.64      0.45      0.53        20\n",
      "\n",
      "    accuracy                           0.60        40\n",
      "   macro avg       0.61      0.60      0.59        40\n",
      "weighted avg       0.61      0.60      0.59        40\n",
      "\n"
     ]
    }
   ],
   "source": [
    "y_pred_forest = rf_clf.predict(X_test)\n",
    "print(classification_report(y_test, y_pred_forest))"
   ]
  },
  {
   "cell_type": "code",
   "execution_count": 144,
   "metadata": {},
   "outputs": [
    {
     "name": "stdout",
     "output_type": "stream",
     "text": [
      "cosine_d2v - 0.08465074242743144\n",
      "av_words_length2 - 0.07007484208913177\n",
      "av_words_length1 - 0.06744173692821456\n",
      "n_similar_words - 0.06330606597959737\n",
      "n_words1 - 0.061439707825010015\n",
      "n_words_diff - 0.06007311341534713\n",
      "n_words2 - 0.05017453222401222\n",
      "NOUN1 - 0.04574398338461655\n",
      "NOUN2 - 0.03569061725639318\n",
      "ADJF2 - 0.032003661600512136\n",
      "punct - 0.0305962896322699\n",
      "PRCL2 - 0.02710915138925103\n",
      "PRCL1 - 0.026821068154556094\n",
      "ADJF1 - 0.026147839028649065\n",
      "ADVB1 - 0.022337789146219644\n",
      "PREP2 - 0.021402243269407206\n",
      "CONJ1 - 0.019730318375483\n",
      "VERB2 - 0.019711038032686253\n",
      "PREP1 - 0.01947171908269157\n",
      "VERB1 - 0.019341113747626985\n",
      "ADVB2 - 0.01819764794094001\n",
      "GRND2 - 0.016368330440283897\n",
      "NPRO1 - 0.015891536472549487\n",
      "INFN2 - 0.014941306270728585\n",
      "INFN1 - 0.014356348540528847\n",
      "CONJ2 - 0.013900377117687587\n",
      "PRTF1 - 0.012735254473343373\n",
      "GRND1 - 0.011953334069210968\n",
      "NPRO2 - 0.011263226106096607\n",
      "ADJS1 - 0.011031806543122491\n",
      "INTJ1 - 0.007713557088207694\n",
      "COMP2 - 0.007688536834348228\n",
      "COMP1 - 0.0051540212028077645\n",
      "PRED1 - 0.0050442747084052855\n",
      "INTJ2 - 0.004914600636748503\n",
      "PRTS2 - 0.004301441391990717\n",
      "PRTF2 - 0.004109101445902556\n",
      "NUMR2 - 0.0036717088383729367\n",
      "PRED2 - 0.0035616422383164797\n",
      "None1 - 0.0035453021824409514\n",
      "NUMR1 - 0.0022687250254624035\n",
      "None2 - 0.0015069597143604599\n",
      "PRTS1 - 0.0014979043908035295\n",
      "ADJS2 - 0.001115483338233558\n"
     ]
    }
   ],
   "source": [
    "feature_importances_forest = rf_clf.feature_importances_\n",
    "for ind in np.argsort(-feature_importances_forest):\n",
    "    print(X_train.columns[ind], '-', feature_importances_forest[ind])"
   ]
  },
  {
   "cell_type": "markdown",
   "metadata": {},
   "source": [
    "## SVM"
   ]
  },
  {
   "cell_type": "code",
   "execution_count": 145,
   "metadata": {},
   "outputs": [],
   "source": [
    "from sklearn.svm import SVC"
   ]
  },
  {
   "cell_type": "code",
   "execution_count": 146,
   "metadata": {},
   "outputs": [
    {
     "data": {
      "text/plain": [
       "SVC(C=1.0, cache_size=200, class_weight=None, coef0=0.0,\n",
       "    decision_function_shape='ovr', degree=3, gamma='auto_deprecated',\n",
       "    kernel='linear', max_iter=-1, probability=False, random_state=42,\n",
       "    shrinking=True, tol=0.001, verbose=False)"
      ]
     },
     "execution_count": 146,
     "metadata": {},
     "output_type": "execute_result"
    }
   ],
   "source": [
    "svc = SVC(kernel='linear', random_state=42)\n",
    "svc.fit(X_train, y_train)"
   ]
  },
  {
   "cell_type": "code",
   "execution_count": 147,
   "metadata": {},
   "outputs": [
    {
     "name": "stdout",
     "output_type": "stream",
     "text": [
      "              precision    recall  f1-score   support\n",
      "\n",
      "           0       0.70      0.80      0.74        20\n",
      "           1       0.76      0.65      0.70        20\n",
      "\n",
      "    accuracy                           0.73        40\n",
      "   macro avg       0.73      0.73      0.72        40\n",
      "weighted avg       0.73      0.72      0.72        40\n",
      "\n"
     ]
    }
   ],
   "source": [
    "y_pred_svc = svc.predict(X_test)\n",
    "print(classification_report(y_test, y_pred_svc))"
   ]
  },
  {
   "cell_type": "code",
   "execution_count": 148,
   "metadata": {},
   "outputs": [
    {
     "name": "stdout",
     "output_type": "stream",
     "text": [
      "INTJ1 - 1.0537772868181863\n",
      "PRCL2 - 0.8366666515072936\n",
      "ADJS1 - 0.8024009109772537\n",
      "n_similar_words - 0.6536490444927135\n",
      "None2 - 0.6267285835610545\n",
      "VERB1 - 0.5649043686559256\n",
      "PRED1 - 0.5560871430748581\n",
      "n_words1 - 0.5533508587846967\n",
      "NPRO2 - 0.5494544425525598\n",
      "PRTS1 - 0.5198813217358829\n",
      "PREP2 - 0.4324686668335658\n",
      "CONJ2 - 0.34978281941562583\n",
      "INFN1 - 0.330652903554026\n",
      "ADJF2 - 0.30701568047839345\n",
      "COMP2 - 0.22297934246193402\n",
      "ADJF1 - 0.2093584154360233\n",
      "INTJ2 - 0.17958140669064565\n",
      "NUMR1 - 0.1672405951813677\n",
      "PRCL1 - 0.09536154326484958\n",
      "PREP1 - 0.07514152214946712\n",
      "punct - 0.06394758165490533\n",
      "NOUN1 - 0.0638107194450015\n",
      "ADJS2 - 0.0548502136181268\n",
      "av_words_length2 - 0.018238563727772217\n",
      "av_words_length1 - 0.005080945181463292\n",
      "cosine_d2v - 0.004100595454538336\n",
      "NUMR2 - 0.0\n",
      "PRTS2 - 0.0\n",
      "GRND1 - 0.0\n",
      "ADVB1 - -0.02362721467973783\n",
      "NOUN2 - -0.11433054404462162\n",
      "ADVB2 - -0.18780568379315188\n",
      "CONJ1 - -0.21548620696225962\n",
      "INFN2 - -0.2600499508677143\n",
      "NPRO1 - -0.28573079612080443\n",
      "VERB2 - -0.315127265500486\n",
      "PRTF2 - -0.31537050931792576\n",
      "PRED2 - -0.4219451500885798\n",
      "n_words_diff - -0.5292596214714855\n",
      "None1 - -0.5863768980335902\n",
      "COMP1 - -0.7540617642309493\n",
      "n_words2 - -0.795626192538025\n",
      "GRND2 - -1.7830334720700463\n",
      "PRTF1 - -1.8305473521013813\n"
     ]
    }
   ],
   "source": [
    "feature_importances_svc = svc.coef_\n",
    "for ind in np.argsort(-feature_importances_svc[0]):\n",
    "    print(X_train.columns[ind], '-', feature_importances_svc[0][ind])"
   ]
  },
  {
   "cell_type": "markdown",
   "metadata": {},
   "source": [
    "## Сравнение качества моделей"
   ]
  },
  {
   "cell_type": "markdown",
   "metadata": {},
   "source": [
    "### F1-score"
   ]
  },
  {
   "cell_type": "code",
   "execution_count": 149,
   "metadata": {},
   "outputs": [
    {
     "data": {
      "text/html": [
       "<div>\n",
       "<style scoped>\n",
       "    .dataframe tbody tr th:only-of-type {\n",
       "        vertical-align: middle;\n",
       "    }\n",
       "\n",
       "    .dataframe tbody tr th {\n",
       "        vertical-align: top;\n",
       "    }\n",
       "\n",
       "    .dataframe thead th {\n",
       "        text-align: right;\n",
       "    }\n",
       "</style>\n",
       "<table border=\"1\" class=\"dataframe\">\n",
       "  <thead>\n",
       "    <tr style=\"text-align: right;\">\n",
       "      <th></th>\n",
       "      <th>LReg</th>\n",
       "      <th>DTree</th>\n",
       "      <th>RForest</th>\n",
       "      <th>SVM</th>\n",
       "    </tr>\n",
       "  </thead>\n",
       "  <tbody>\n",
       "    <tr>\n",
       "      <th>cause</th>\n",
       "      <td>0.723404</td>\n",
       "      <td>0.6250</td>\n",
       "      <td>0.652174</td>\n",
       "      <td>0.744186</td>\n",
       "    </tr>\n",
       "    <tr>\n",
       "      <th>contrast</th>\n",
       "      <td>0.606061</td>\n",
       "      <td>0.4375</td>\n",
       "      <td>0.529412</td>\n",
       "      <td>0.702703</td>\n",
       "    </tr>\n",
       "  </tbody>\n",
       "</table>\n",
       "</div>"
      ],
      "text/plain": [
       "              LReg   DTree   RForest       SVM\n",
       "cause     0.723404  0.6250  0.652174  0.744186\n",
       "contrast  0.606061  0.4375  0.529412  0.702703"
      ]
     },
     "execution_count": 149,
     "metadata": {},
     "output_type": "execute_result"
    }
   ],
   "source": [
    "pd.DataFrame({\n",
    "    'LReg': [classification_report(y_test, y_pred_lreg, output_dict=True)['0']['f1-score'], classification_report(y_test, y_pred_lreg, output_dict=True)['1']['f1-score']],\n",
    "    'DTree': [classification_report(y_test, y_pred_tree, output_dict=True)['0']['f1-score'], classification_report(y_test, y_pred_tree, output_dict=True)['1']['f1-score']],\n",
    "    'RForest': [classification_report(y_test, y_pred_forest, output_dict=True)['0']['f1-score'], classification_report(y_test, y_pred_forest, output_dict=True)['1']['f1-score']],\n",
    "    'SVM': [classification_report(y_test, y_pred_svc, output_dict=True)['0']['f1-score'], classification_report(y_test, y_pred_svc, output_dict=True)['1']['f1-score']]\n",
    "}, index=['cause', 'contrast'])"
   ]
  },
  {
   "cell_type": "markdown",
   "metadata": {},
   "source": [
    "### Precision"
   ]
  },
  {
   "cell_type": "code",
   "execution_count": 150,
   "metadata": {},
   "outputs": [
    {
     "data": {
      "text/html": [
       "<div>\n",
       "<style scoped>\n",
       "    .dataframe tbody tr th:only-of-type {\n",
       "        vertical-align: middle;\n",
       "    }\n",
       "\n",
       "    .dataframe tbody tr th {\n",
       "        vertical-align: top;\n",
       "    }\n",
       "\n",
       "    .dataframe thead th {\n",
       "        text-align: right;\n",
       "    }\n",
       "</style>\n",
       "<table border=\"1\" class=\"dataframe\">\n",
       "  <thead>\n",
       "    <tr style=\"text-align: right;\">\n",
       "      <th></th>\n",
       "      <th>LReg</th>\n",
       "      <th>DTree</th>\n",
       "      <th>RForest</th>\n",
       "      <th>SVM</th>\n",
       "    </tr>\n",
       "  </thead>\n",
       "  <tbody>\n",
       "    <tr>\n",
       "      <th>cause</th>\n",
       "      <td>0.629630</td>\n",
       "      <td>0.535714</td>\n",
       "      <td>0.576923</td>\n",
       "      <td>0.695652</td>\n",
       "    </tr>\n",
       "    <tr>\n",
       "      <th>contrast</th>\n",
       "      <td>0.769231</td>\n",
       "      <td>0.583333</td>\n",
       "      <td>0.642857</td>\n",
       "      <td>0.764706</td>\n",
       "    </tr>\n",
       "  </tbody>\n",
       "</table>\n",
       "</div>"
      ],
      "text/plain": [
       "              LReg     DTree   RForest       SVM\n",
       "cause     0.629630  0.535714  0.576923  0.695652\n",
       "contrast  0.769231  0.583333  0.642857  0.764706"
      ]
     },
     "execution_count": 150,
     "metadata": {},
     "output_type": "execute_result"
    }
   ],
   "source": [
    "pd.DataFrame({\n",
    "    'LReg': [classification_report(y_test, y_pred_lreg, output_dict=True)['0']['precision'], classification_report(y_test, y_pred_lreg, output_dict=True)['1']['precision']],\n",
    "    'DTree': [classification_report(y_test, y_pred_tree, output_dict=True)['0']['precision'], classification_report(y_test, y_pred_tree, output_dict=True)['1']['precision']],\n",
    "    'RForest': [classification_report(y_test, y_pred_forest, output_dict=True)['0']['precision'], classification_report(y_test, y_pred_forest, output_dict=True)['1']['precision']],\n",
    "    'SVM': [classification_report(y_test, y_pred_svc, output_dict=True)['0']['precision'], classification_report(y_test, y_pred_svc, output_dict=True)['1']['precision']]\n",
    "}, index=['cause', 'contrast'])"
   ]
  },
  {
   "cell_type": "markdown",
   "metadata": {},
   "source": [
    "### Recall"
   ]
  },
  {
   "cell_type": "code",
   "execution_count": 151,
   "metadata": {},
   "outputs": [
    {
     "data": {
      "text/html": [
       "<div>\n",
       "<style scoped>\n",
       "    .dataframe tbody tr th:only-of-type {\n",
       "        vertical-align: middle;\n",
       "    }\n",
       "\n",
       "    .dataframe tbody tr th {\n",
       "        vertical-align: top;\n",
       "    }\n",
       "\n",
       "    .dataframe thead th {\n",
       "        text-align: right;\n",
       "    }\n",
       "</style>\n",
       "<table border=\"1\" class=\"dataframe\">\n",
       "  <thead>\n",
       "    <tr style=\"text-align: right;\">\n",
       "      <th></th>\n",
       "      <th>LReg</th>\n",
       "      <th>DTree</th>\n",
       "      <th>RForest</th>\n",
       "      <th>SVM</th>\n",
       "    </tr>\n",
       "  </thead>\n",
       "  <tbody>\n",
       "    <tr>\n",
       "      <th>cause</th>\n",
       "      <td>0.85</td>\n",
       "      <td>0.75</td>\n",
       "      <td>0.75</td>\n",
       "      <td>0.80</td>\n",
       "    </tr>\n",
       "    <tr>\n",
       "      <th>contrast</th>\n",
       "      <td>0.50</td>\n",
       "      <td>0.35</td>\n",
       "      <td>0.45</td>\n",
       "      <td>0.65</td>\n",
       "    </tr>\n",
       "  </tbody>\n",
       "</table>\n",
       "</div>"
      ],
      "text/plain": [
       "          LReg  DTree  RForest   SVM\n",
       "cause     0.85   0.75     0.75  0.80\n",
       "contrast  0.50   0.35     0.45  0.65"
      ]
     },
     "execution_count": 151,
     "metadata": {},
     "output_type": "execute_result"
    }
   ],
   "source": [
    "pd.DataFrame({\n",
    "    'LReg': [classification_report(y_test, y_pred_lreg, output_dict=True)['0']['recall'], classification_report(y_test, y_pred_lreg, output_dict=True)['1']['recall']],\n",
    "    'DTree': [classification_report(y_test, y_pred_tree, output_dict=True)['0']['recall'], classification_report(y_test, y_pred_tree, output_dict=True)['1']['recall']],\n",
    "    'RForest': [classification_report(y_test, y_pred_forest, output_dict=True)['0']['recall'], classification_report(y_test, y_pred_forest, output_dict=True)['1']['recall']],\n",
    "    'SVM': [classification_report(y_test, y_pred_svc, output_dict=True)['0']['recall'], classification_report(y_test, y_pred_svc, output_dict=True)['1']['recall']]\n",
    "}, index=['cause', 'contrast'])"
   ]
  },
  {
   "cell_type": "markdown",
   "metadata": {},
   "source": [
    "## Сравнение важности признаков\n",
    "\n",
    "Сравниваю абсолютные значения всех признаков"
   ]
  },
  {
   "cell_type": "code",
   "execution_count": 152,
   "metadata": {},
   "outputs": [],
   "source": [
    "features = pd.DataFrame({'LReg': abs(feature_importances_lreg[0]), \n",
    "              'DTree': feature_importances_tree, \n",
    "              'RForest': feature_importances_forest,\n",
    "              'SVM': abs(feature_importances_svc[0]),}, index=X_train.columns)"
   ]
  },
  {
   "cell_type": "code",
   "execution_count": 153,
   "metadata": {},
   "outputs": [],
   "source": [
    "import seaborn as sns\n",
    "import matplotlib.pyplot as plt"
   ]
  },
  {
   "cell_type": "code",
   "execution_count": 154,
   "metadata": {},
   "outputs": [
    {
     "data": {
      "image/png": "[encoded data removed]",
      "text/plain": [
       "<Figure size 720x720 with 4 Axes>"
      ]
     },
     "metadata": {
      "needs_background": "light"
     },
     "output_type": "display_data"
    }
   ],
   "source": [
    "fig, (ax,ax2) = plt.subplots(ncols=2, figsize=(10,10))\n",
    "fig.subplots_adjust(wspace=0.5)\n",
    "sns.heatmap(features[['LReg', 'SVM']], cmap=\"rocket\", ax=ax, cbar=True, vmin=0)\n",
    "sns.heatmap(features[['DTree', 'RForest']], cmap=\"rocket\", ax=ax2, cbar=True, vmax=0.12)\n",
    "plt.show()"
   ]
  },
  {
   "cell_type": "code",
   "execution_count": 155,
   "metadata": {},
   "outputs": [
    {
     "data": {
      "text/html": [
       "<div>\n",
       "<style scoped>\n",
       "    .dataframe tbody tr th:only-of-type {\n",
       "        vertical-align: middle;\n",
       "    }\n",
       "\n",
       "    .dataframe tbody tr th {\n",
       "        vertical-align: top;\n",
       "    }\n",
       "\n",
       "    .dataframe thead th {\n",
       "        text-align: right;\n",
       "    }\n",
       "</style>\n",
       "<table border=\"1\" class=\"dataframe\">\n",
       "  <thead>\n",
       "    <tr style=\"text-align: right;\">\n",
       "      <th></th>\n",
       "      <th>LReg</th>\n",
       "      <th>DTree</th>\n",
       "      <th>RForest</th>\n",
       "      <th>SVM</th>\n",
       "    </tr>\n",
       "  </thead>\n",
       "  <tbody>\n",
       "    <tr>\n",
       "      <th>n_words1</th>\n",
       "      <td>0.173729</td>\n",
       "      <td>0.045340</td>\n",
       "      <td>0.061440</td>\n",
       "      <td>0.553351</td>\n",
       "    </tr>\n",
       "    <tr>\n",
       "      <th>av_words_length1</th>\n",
       "      <td>0.003707</td>\n",
       "      <td>0.061684</td>\n",
       "      <td>0.067442</td>\n",
       "      <td>0.005081</td>\n",
       "    </tr>\n",
       "    <tr>\n",
       "      <th>n_words2</th>\n",
       "      <td>0.491225</td>\n",
       "      <td>0.095033</td>\n",
       "      <td>0.050175</td>\n",
       "      <td>0.795626</td>\n",
       "    </tr>\n",
       "    <tr>\n",
       "      <th>av_words_length2</th>\n",
       "      <td>0.008953</td>\n",
       "      <td>0.072824</td>\n",
       "      <td>0.070075</td>\n",
       "      <td>0.018239</td>\n",
       "    </tr>\n",
       "    <tr>\n",
       "      <th>n_words_diff</th>\n",
       "      <td>0.160813</td>\n",
       "      <td>0.060437</td>\n",
       "      <td>0.060073</td>\n",
       "      <td>0.529260</td>\n",
       "    </tr>\n",
       "    <tr>\n",
       "      <th>punct</th>\n",
       "      <td>0.122038</td>\n",
       "      <td>0.000000</td>\n",
       "      <td>0.030596</td>\n",
       "      <td>0.063948</td>\n",
       "    </tr>\n",
       "    <tr>\n",
       "      <th>ADJF1</th>\n",
       "      <td>0.227141</td>\n",
       "      <td>0.028357</td>\n",
       "      <td>0.026148</td>\n",
       "      <td>0.209358</td>\n",
       "    </tr>\n",
       "    <tr>\n",
       "      <th>ADJS1</th>\n",
       "      <td>1.085441</td>\n",
       "      <td>0.031095</td>\n",
       "      <td>0.011032</td>\n",
       "      <td>0.802401</td>\n",
       "    </tr>\n",
       "    <tr>\n",
       "      <th>ADVB1</th>\n",
       "      <td>0.133716</td>\n",
       "      <td>0.018867</td>\n",
       "      <td>0.022338</td>\n",
       "      <td>0.023627</td>\n",
       "    </tr>\n",
       "    <tr>\n",
       "      <th>COMP1</th>\n",
       "      <td>0.345917</td>\n",
       "      <td>0.021429</td>\n",
       "      <td>0.005154</td>\n",
       "      <td>0.754062</td>\n",
       "    </tr>\n",
       "    <tr>\n",
       "      <th>CONJ1</th>\n",
       "      <td>0.126138</td>\n",
       "      <td>0.000000</td>\n",
       "      <td>0.019730</td>\n",
       "      <td>0.215486</td>\n",
       "    </tr>\n",
       "    <tr>\n",
       "      <th>GRND1</th>\n",
       "      <td>0.221696</td>\n",
       "      <td>0.042927</td>\n",
       "      <td>0.011953</td>\n",
       "      <td>0.000000</td>\n",
       "    </tr>\n",
       "    <tr>\n",
       "      <th>INFN1</th>\n",
       "      <td>0.183549</td>\n",
       "      <td>0.030000</td>\n",
       "      <td>0.014356</td>\n",
       "      <td>0.330653</td>\n",
       "    </tr>\n",
       "    <tr>\n",
       "      <th>INTJ1</th>\n",
       "      <td>1.029308</td>\n",
       "      <td>0.000000</td>\n",
       "      <td>0.007714</td>\n",
       "      <td>1.053777</td>\n",
       "    </tr>\n",
       "    <tr>\n",
       "      <th>NOUN1</th>\n",
       "      <td>0.091856</td>\n",
       "      <td>0.000000</td>\n",
       "      <td>0.045744</td>\n",
       "      <td>0.063811</td>\n",
       "    </tr>\n",
       "    <tr>\n",
       "      <th>NPRO1</th>\n",
       "      <td>0.456568</td>\n",
       "      <td>0.071905</td>\n",
       "      <td>0.015892</td>\n",
       "      <td>0.285731</td>\n",
       "    </tr>\n",
       "    <tr>\n",
       "      <th>NUMR1</th>\n",
       "      <td>0.249425</td>\n",
       "      <td>0.000000</td>\n",
       "      <td>0.002269</td>\n",
       "      <td>0.167241</td>\n",
       "    </tr>\n",
       "    <tr>\n",
       "      <th>None1</th>\n",
       "      <td>0.576929</td>\n",
       "      <td>0.000000</td>\n",
       "      <td>0.003545</td>\n",
       "      <td>0.586377</td>\n",
       "    </tr>\n",
       "    <tr>\n",
       "      <th>PRCL1</th>\n",
       "      <td>0.207160</td>\n",
       "      <td>0.000000</td>\n",
       "      <td>0.026821</td>\n",
       "      <td>0.095362</td>\n",
       "    </tr>\n",
       "    <tr>\n",
       "      <th>PRED1</th>\n",
       "      <td>0.403174</td>\n",
       "      <td>0.000000</td>\n",
       "      <td>0.005044</td>\n",
       "      <td>0.556087</td>\n",
       "    </tr>\n",
       "    <tr>\n",
       "      <th>PREP1</th>\n",
       "      <td>0.101303</td>\n",
       "      <td>0.018750</td>\n",
       "      <td>0.019472</td>\n",
       "      <td>0.075142</td>\n",
       "    </tr>\n",
       "    <tr>\n",
       "      <th>PRTF1</th>\n",
       "      <td>1.637396</td>\n",
       "      <td>0.018410</td>\n",
       "      <td>0.012735</td>\n",
       "      <td>1.830547</td>\n",
       "    </tr>\n",
       "    <tr>\n",
       "      <th>PRTS1</th>\n",
       "      <td>0.104001</td>\n",
       "      <td>0.000000</td>\n",
       "      <td>0.001498</td>\n",
       "      <td>0.519881</td>\n",
       "    </tr>\n",
       "    <tr>\n",
       "      <th>VERB1</th>\n",
       "      <td>0.588057</td>\n",
       "      <td>0.000000</td>\n",
       "      <td>0.019341</td>\n",
       "      <td>0.564904</td>\n",
       "    </tr>\n",
       "    <tr>\n",
       "      <th>ADJF2</th>\n",
       "      <td>0.562218</td>\n",
       "      <td>0.027390</td>\n",
       "      <td>0.032004</td>\n",
       "      <td>0.307016</td>\n",
       "    </tr>\n",
       "    <tr>\n",
       "      <th>ADJS2</th>\n",
       "      <td>0.210282</td>\n",
       "      <td>0.000000</td>\n",
       "      <td>0.001115</td>\n",
       "      <td>0.054850</td>\n",
       "    </tr>\n",
       "    <tr>\n",
       "      <th>ADVB2</th>\n",
       "      <td>0.195389</td>\n",
       "      <td>0.000000</td>\n",
       "      <td>0.018198</td>\n",
       "      <td>0.187806</td>\n",
       "    </tr>\n",
       "    <tr>\n",
       "      <th>COMP2</th>\n",
       "      <td>0.058632</td>\n",
       "      <td>0.022917</td>\n",
       "      <td>0.007689</td>\n",
       "      <td>0.222979</td>\n",
       "    </tr>\n",
       "    <tr>\n",
       "      <th>CONJ2</th>\n",
       "      <td>0.245525</td>\n",
       "      <td>0.029167</td>\n",
       "      <td>0.013900</td>\n",
       "      <td>0.349783</td>\n",
       "    </tr>\n",
       "    <tr>\n",
       "      <th>GRND2</th>\n",
       "      <td>1.295262</td>\n",
       "      <td>0.029701</td>\n",
       "      <td>0.016368</td>\n",
       "      <td>1.783033</td>\n",
       "    </tr>\n",
       "    <tr>\n",
       "      <th>INFN2</th>\n",
       "      <td>0.419102</td>\n",
       "      <td>0.018127</td>\n",
       "      <td>0.014941</td>\n",
       "      <td>0.260050</td>\n",
       "    </tr>\n",
       "    <tr>\n",
       "      <th>INTJ2</th>\n",
       "      <td>0.454126</td>\n",
       "      <td>0.000000</td>\n",
       "      <td>0.004915</td>\n",
       "      <td>0.179581</td>\n",
       "    </tr>\n",
       "    <tr>\n",
       "      <th>NOUN2</th>\n",
       "      <td>0.013461</td>\n",
       "      <td>0.000000</td>\n",
       "      <td>0.035691</td>\n",
       "      <td>0.114331</td>\n",
       "    </tr>\n",
       "    <tr>\n",
       "      <th>NPRO2</th>\n",
       "      <td>0.455573</td>\n",
       "      <td>0.000000</td>\n",
       "      <td>0.011263</td>\n",
       "      <td>0.549454</td>\n",
       "    </tr>\n",
       "    <tr>\n",
       "      <th>NUMR2</th>\n",
       "      <td>0.315325</td>\n",
       "      <td>0.000000</td>\n",
       "      <td>0.003672</td>\n",
       "      <td>0.000000</td>\n",
       "    </tr>\n",
       "    <tr>\n",
       "      <th>None2</th>\n",
       "      <td>0.455225</td>\n",
       "      <td>0.000000</td>\n",
       "      <td>0.001507</td>\n",
       "      <td>0.626729</td>\n",
       "    </tr>\n",
       "    <tr>\n",
       "      <th>PRCL2</th>\n",
       "      <td>0.642972</td>\n",
       "      <td>0.032153</td>\n",
       "      <td>0.027109</td>\n",
       "      <td>0.836667</td>\n",
       "    </tr>\n",
       "    <tr>\n",
       "      <th>PRED2</th>\n",
       "      <td>0.056328</td>\n",
       "      <td>0.000000</td>\n",
       "      <td>0.003562</td>\n",
       "      <td>0.421945</td>\n",
       "    </tr>\n",
       "    <tr>\n",
       "      <th>PREP2</th>\n",
       "      <td>0.417287</td>\n",
       "      <td>0.011638</td>\n",
       "      <td>0.021402</td>\n",
       "      <td>0.432469</td>\n",
       "    </tr>\n",
       "    <tr>\n",
       "      <th>PRTF2</th>\n",
       "      <td>0.216141</td>\n",
       "      <td>0.016667</td>\n",
       "      <td>0.004109</td>\n",
       "      <td>0.315371</td>\n",
       "    </tr>\n",
       "    <tr>\n",
       "      <th>PRTS2</th>\n",
       "      <td>0.330442</td>\n",
       "      <td>0.000000</td>\n",
       "      <td>0.004301</td>\n",
       "      <td>0.000000</td>\n",
       "    </tr>\n",
       "    <tr>\n",
       "      <th>VERB2</th>\n",
       "      <td>0.265676</td>\n",
       "      <td>0.000000</td>\n",
       "      <td>0.019711</td>\n",
       "      <td>0.315127</td>\n",
       "    </tr>\n",
       "    <tr>\n",
       "      <th>n_similar_words</th>\n",
       "      <td>0.737193</td>\n",
       "      <td>0.101215</td>\n",
       "      <td>0.063306</td>\n",
       "      <td>0.653649</td>\n",
       "    </tr>\n",
       "    <tr>\n",
       "      <th>cosine_d2v</th>\n",
       "      <td>0.003666</td>\n",
       "      <td>0.093966</td>\n",
       "      <td>0.084651</td>\n",
       "      <td>0.004101</td>\n",
       "    </tr>\n",
       "  </tbody>\n",
       "</table>\n",
       "</div>"
      ],
      "text/plain": [
       "                      LReg     DTree   RForest       SVM\n",
       "n_words1          0.173729  0.045340  0.061440  0.553351\n",
       "av_words_length1  0.003707  0.061684  0.067442  0.005081\n",
       "n_words2          0.491225  0.095033  0.050175  0.795626\n",
       "av_words_length2  0.008953  0.072824  0.070075  0.018239\n",
       "n_words_diff      0.160813  0.060437  0.060073  0.529260\n",
       "punct             0.122038  0.000000  0.030596  0.063948\n",
       "ADJF1             0.227141  0.028357  0.026148  0.209358\n",
       "ADJS1             1.085441  0.031095  0.011032  0.802401\n",
       "ADVB1             0.133716  0.018867  0.022338  0.023627\n",
       "COMP1             0.345917  0.021429  0.005154  0.754062\n",
       "CONJ1             0.126138  0.000000  0.019730  0.215486\n",
       "GRND1             0.221696  0.042927  0.011953  0.000000\n",
       "INFN1             0.183549  0.030000  0.014356  0.330653\n",
       "INTJ1             1.029308  0.000000  0.007714  1.053777\n",
       "NOUN1             0.091856  0.000000  0.045744  0.063811\n",
       "NPRO1             0.456568  0.071905  0.015892  0.285731\n",
       "NUMR1             0.249425  0.000000  0.002269  0.167241\n",
       "None1             0.576929  0.000000  0.003545  0.586377\n",
       "PRCL1             0.207160  0.000000  0.026821  0.095362\n",
       "PRED1             0.403174  0.000000  0.005044  0.556087\n",
       "PREP1             0.101303  0.018750  0.019472  0.075142\n",
       "PRTF1             1.637396  0.018410  0.012735  1.830547\n",
       "PRTS1             0.104001  0.000000  0.001498  0.519881\n",
       "VERB1             0.588057  0.000000  0.019341  0.564904\n",
       "ADJF2             0.562218  0.027390  0.032004  0.307016\n",
       "ADJS2             0.210282  0.000000  0.001115  0.054850\n",
       "ADVB2             0.195389  0.000000  0.018198  0.187806\n",
       "COMP2             0.058632  0.022917  0.007689  0.222979\n",
       "CONJ2             0.245525  0.029167  0.013900  0.349783\n",
       "GRND2             1.295262  0.029701  0.016368  1.783033\n",
       "INFN2             0.419102  0.018127  0.014941  0.260050\n",
       "INTJ2             0.454126  0.000000  0.004915  0.179581\n",
       "NOUN2             0.013461  0.000000  0.035691  0.114331\n",
       "NPRO2             0.455573  0.000000  0.011263  0.549454\n",
       "NUMR2             0.315325  0.000000  0.003672  0.000000\n",
       "None2             0.455225  0.000000  0.001507  0.626729\n",
       "PRCL2             0.642972  0.032153  0.027109  0.836667\n",
       "PRED2             0.056328  0.000000  0.003562  0.421945\n",
       "PREP2             0.417287  0.011638  0.021402  0.432469\n",
       "PRTF2             0.216141  0.016667  0.004109  0.315371\n",
       "PRTS2             0.330442  0.000000  0.004301  0.000000\n",
       "VERB2             0.265676  0.000000  0.019711  0.315127\n",
       "n_similar_words   0.737193  0.101215  0.063306  0.653649\n",
       "cosine_d2v        0.003666  0.093966  0.084651  0.004101"
      ]
     },
     "execution_count": 155,
     "metadata": {},
     "output_type": "execute_result"
    }
   ],
   "source": [
    "features"
   ]
  },
  {
   "cell_type": "markdown",
   "metadata": {},
   "source": [
    "_Анна Полянская, НИУ ВШЭ, 2020_"
   ]
  }
 ],
 "metadata": {
  "kernelspec": {
   "display_name": "Python 3",
   "language": "python",
   "name": "python3"
  },
  "language_info": {
   "codemirror_mode": {
    "name": "ipython",
    "version": 3
   },
   "file_extension": ".py",
   "mimetype": "text/x-python",
   "name": "python",
   "nbconvert_exporter": "python",
   "pygments_lexer": "ipython3",
   "version": "3.7.3"
  }
 },
 "nbformat": 4,
 "nbformat_minor": 2
}
