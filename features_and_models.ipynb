{
 "cells": [
  {
   "cell_type": "code",
   "execution_count": 2,
   "metadata": {},
   "outputs": [],
   "source": [
    "import pandas as pd\n",
    "\n",
    "from tqdm.auto import tqdm\n",
    "tqdm.pandas()"
   ]
  },
  {
   "cell_type": "markdown",
   "metadata": {},
   "source": [
    "## Данные\n",
    "\n",
    "собираю примеры из нескольких отдельных файлов"
   ]
  },
  {
   "cell_type": "code",
   "execution_count": 3,
   "metadata": {},
   "outputs": [],
   "source": [
    "contrast_df = pd.read_csv('Data\\contrast_examples.tsv', sep='\\t')\n",
    "cause_df = pd.read_csv('Data\\cause_examples.tsv', sep='\\t')"
   ]
  },
  {
   "cell_type": "code",
   "execution_count": 4,
   "metadata": {},
   "outputs": [
    {
     "data": {
      "text/html": [
       "<div>\n",
       "<style scoped>\n",
       "    .dataframe tbody tr th:only-of-type {\n",
       "        vertical-align: middle;\n",
       "    }\n",
       "\n",
       "    .dataframe tbody tr th {\n",
       "        vertical-align: top;\n",
       "    }\n",
       "\n",
       "    .dataframe thead th {\n",
       "        text-align: right;\n",
       "    }\n",
       "</style>\n",
       "<table border=\"1\" class=\"dataframe\">\n",
       "  <thead>\n",
       "    <tr style=\"text-align: right;\">\n",
       "      <th></th>\n",
       "      <th>id</th>\n",
       "      <th>текст</th>\n",
       "      <th>relation</th>\n",
       "      <th>есть маркер?</th>\n",
       "    </tr>\n",
       "  </thead>\n",
       "  <tbody>\n",
       "    <tr>\n",
       "      <th>0</th>\n",
       "      <td>407</td>\n",
       "      <td>В солнечный день, наверное, и вода играет друг...</td>\n",
       "      <td>contrast</td>\n",
       "      <td>нет</td>\n",
       "    </tr>\n",
       "    <tr>\n",
       "      <th>2</th>\n",
       "      <td>921</td>\n",
       "      <td>там никто не в курсе никаких автобусов_говорят...</td>\n",
       "      <td>contrast</td>\n",
       "      <td>нет</td>\n",
       "    </tr>\n",
       "    <tr>\n",
       "      <th>3</th>\n",
       "      <td>1051</td>\n",
       "      <td>В каком-то проёме за щёлкой эти монетки и оста...</td>\n",
       "      <td>contrast</td>\n",
       "      <td>нет</td>\n",
       "    </tr>\n",
       "    <tr>\n",
       "      <th>4</th>\n",
       "      <td>1067</td>\n",
       "      <td>Что ни говори, общий относительно приличный ур...</td>\n",
       "      <td>contrast</td>\n",
       "      <td>нет</td>\n",
       "    </tr>\n",
       "    <tr>\n",
       "      <th>5</th>\n",
       "      <td>1161</td>\n",
       "      <td>Коробка красивая,_прибор явно туфтовый, даже п...</td>\n",
       "      <td>contrast</td>\n",
       "      <td>нет</td>\n",
       "    </tr>\n",
       "  </tbody>\n",
       "</table>\n",
       "</div>"
      ],
      "text/plain": [
       "     id                                              текст  relation  \\\n",
       "0   407  В солнечный день, наверное, и вода играет друг...  contrast   \n",
       "2   921  там никто не в курсе никаких автобусов_говорят...  contrast   \n",
       "3  1051  В каком-то проёме за щёлкой эти монетки и оста...  contrast   \n",
       "4  1067  Что ни говори, общий относительно приличный ур...  contrast   \n",
       "5  1161  Коробка красивая,_прибор явно туфтовый, даже п...  contrast   \n",
       "\n",
       "  есть маркер?  \n",
       "0          нет  \n",
       "2          нет  \n",
       "3          нет  \n",
       "4          нет  \n",
       "5          нет  "
      ]
     },
     "execution_count": 4,
     "metadata": {},
     "output_type": "execute_result"
    }
   ],
   "source": [
    "df1 = contrast_df[contrast_df['подходит?']=='да'].drop(columns=['подходит?'])\n",
    "df1['relation'] = 'contrast'\n",
    "df1['есть маркер?'] = 'нет'\n",
    "df1['id'] = df1['id']+1\n",
    "df1.head()"
   ]
  },
  {
   "cell_type": "code",
   "execution_count": 5,
   "metadata": {},
   "outputs": [
    {
     "data": {
      "text/html": [
       "<div>\n",
       "<style scoped>\n",
       "    .dataframe tbody tr th:only-of-type {\n",
       "        vertical-align: middle;\n",
       "    }\n",
       "\n",
       "    .dataframe tbody tr th {\n",
       "        vertical-align: top;\n",
       "    }\n",
       "\n",
       "    .dataframe thead th {\n",
       "        text-align: right;\n",
       "    }\n",
       "</style>\n",
       "<table border=\"1\" class=\"dataframe\">\n",
       "  <thead>\n",
       "    <tr style=\"text-align: right;\">\n",
       "      <th></th>\n",
       "      <th>id</th>\n",
       "      <th>есть маркер?</th>\n",
       "      <th>текст</th>\n",
       "      <th>relation</th>\n",
       "    </tr>\n",
       "  </thead>\n",
       "  <tbody>\n",
       "    <tr>\n",
       "      <th>0</th>\n",
       "      <td>24</td>\n",
       "      <td>нет</td>\n",
       "      <td>Помада довольно стойкая,_отлично переживет пер...</td>\n",
       "      <td>cause</td>\n",
       "    </tr>\n",
       "    <tr>\n",
       "      <th>1</th>\n",
       "      <td>41</td>\n",
       "      <td>да</td>\n",
       "      <td>Поскольку кремовых румян у меня не было никаки...</td>\n",
       "      <td>cause</td>\n",
       "    </tr>\n",
       "    <tr>\n",
       "      <th>2</th>\n",
       "      <td>54</td>\n",
       "      <td>да</td>\n",
       "      <td>Благодаря достаточной пигментированности_хвати...</td>\n",
       "      <td>cause</td>\n",
       "    </tr>\n",
       "    <tr>\n",
       "      <th>3</th>\n",
       "      <td>57</td>\n",
       "      <td>да</td>\n",
       "      <td>Сверху кремовые текстуры я всегда перекрываю п...</td>\n",
       "      <td>cause</td>\n",
       "    </tr>\n",
       "    <tr>\n",
       "      <th>4</th>\n",
       "      <td>71</td>\n",
       "      <td>да</td>\n",
       "      <td>Популярная идея микробиома, косметики с про/пр...</td>\n",
       "      <td>cause</td>\n",
       "    </tr>\n",
       "  </tbody>\n",
       "</table>\n",
       "</div>"
      ],
      "text/plain": [
       "   id есть маркер?                                              текст relation\n",
       "0  24          нет  Помада довольно стойкая,_отлично переживет пер...    cause\n",
       "1  41           да  Поскольку кремовых румян у меня не было никаки...    cause\n",
       "2  54           да  Благодаря достаточной пигментированности_хвати...    cause\n",
       "3  57           да  Сверху кремовые текстуры я всегда перекрываю п...    cause\n",
       "4  71           да  Популярная идея микробиома, косметики с про/пр...    cause"
      ]
     },
     "execution_count": 5,
     "metadata": {},
     "output_type": "execute_result"
    }
   ],
   "source": [
    "df2 = cause_df\n",
    "df2['relation'] = 'cause'\n",
    "df2.head()"
   ]
  },
  {
   "cell_type": "markdown",
   "metadata": {},
   "source": [
    "склеиваю два датафрейма и проверяю, что нигде ничего не потерялось (нет пустых значений)"
   ]
  },
  {
   "cell_type": "code",
   "execution_count": 6,
   "metadata": {},
   "outputs": [
    {
     "name": "stderr",
     "output_type": "stream",
     "text": [
      "C:\\ProgramData\\Anaconda3\\lib\\site-packages\\ipykernel_launcher.py:1: FutureWarning: Sorting because non-concatenation axis is not aligned. A future version\n",
      "of pandas will change to not sort by default.\n",
      "\n",
      "To accept the future behavior, pass 'sort=False'.\n",
      "\n",
      "To retain the current behavior and silence the warning, pass 'sort=True'.\n",
      "\n",
      "  \"\"\"Entry point for launching an IPython kernel.\n"
     ]
    },
    {
     "data": {
      "text/plain": [
       "id              False\n",
       "relation        False\n",
       "есть маркер?    False\n",
       "текст           False\n",
       "dtype: bool"
      ]
     },
     "execution_count": 6,
     "metadata": {},
     "output_type": "execute_result"
    }
   ],
   "source": [
    "all_data = pd.concat([df1, df2], ignore_index=True)\n",
    "all_data.isna().any()"
   ]
  },
  {
   "cell_type": "markdown",
   "metadata": {},
   "source": [
    "Разделяю пример на две ЭДЕ по `_`"
   ]
  },
  {
   "cell_type": "code",
   "execution_count": 7,
   "metadata": {},
   "outputs": [
    {
     "data": {
      "text/html": [
       "<div>\n",
       "<style scoped>\n",
       "    .dataframe tbody tr th:only-of-type {\n",
       "        vertical-align: middle;\n",
       "    }\n",
       "\n",
       "    .dataframe tbody tr th {\n",
       "        vertical-align: top;\n",
       "    }\n",
       "\n",
       "    .dataframe thead th {\n",
       "        text-align: right;\n",
       "    }\n",
       "</style>\n",
       "<table border=\"1\" class=\"dataframe\">\n",
       "  <thead>\n",
       "    <tr style=\"text-align: right;\">\n",
       "      <th></th>\n",
       "      <th>id</th>\n",
       "      <th>relation</th>\n",
       "      <th>есть маркер?</th>\n",
       "      <th>текст</th>\n",
       "      <th>эде1</th>\n",
       "      <th>эде2</th>\n",
       "    </tr>\n",
       "  </thead>\n",
       "  <tbody>\n",
       "    <tr>\n",
       "      <th>0</th>\n",
       "      <td>407</td>\n",
       "      <td>contrast</td>\n",
       "      <td>нет</td>\n",
       "      <td>В солнечный день, наверное, и вода играет друг...</td>\n",
       "      <td>В солнечный день, наверное, и вода играет друг...</td>\n",
       "      <td>Главное, что это не повод сидеть дома,</td>\n",
       "    </tr>\n",
       "    <tr>\n",
       "      <th>1</th>\n",
       "      <td>921</td>\n",
       "      <td>contrast</td>\n",
       "      <td>нет</td>\n",
       "      <td>там никто не в курсе никаких автобусов_говорят...</td>\n",
       "      <td>там никто не в курсе никаких автобусов</td>\n",
       "      <td>говорят; что всё на автостанцию приходит.</td>\n",
       "    </tr>\n",
       "    <tr>\n",
       "      <th>2</th>\n",
       "      <td>1051</td>\n",
       "      <td>contrast</td>\n",
       "      <td>нет</td>\n",
       "      <td>В каком-то проёме за щёлкой эти монетки и оста...</td>\n",
       "      <td>В каком-то проёме за щёлкой эти монетки и оста...</td>\n",
       "      <td>И даже никаких чеков автомат не выдаёт.</td>\n",
       "    </tr>\n",
       "    <tr>\n",
       "      <th>3</th>\n",
       "      <td>1067</td>\n",
       "      <td>contrast</td>\n",
       "      <td>нет</td>\n",
       "      <td>Что ни говори, общий относительно приличный ур...</td>\n",
       "      <td>Что ни говори, общий относительно приличный ур...</td>\n",
       "      <td>Автобусный транспорт реально много где на уров...</td>\n",
       "    </tr>\n",
       "    <tr>\n",
       "      <th>4</th>\n",
       "      <td>1161</td>\n",
       "      <td>contrast</td>\n",
       "      <td>нет</td>\n",
       "      <td>Коробка красивая,_прибор явно туфтовый, даже п...</td>\n",
       "      <td>Коробка красивая,</td>\n",
       "      <td>прибор явно туфтовый, даже по внешнему виду.</td>\n",
       "    </tr>\n",
       "  </tbody>\n",
       "</table>\n",
       "</div>"
      ],
      "text/plain": [
       "     id  relation есть маркер?  \\\n",
       "0   407  contrast          нет   \n",
       "1   921  contrast          нет   \n",
       "2  1051  contrast          нет   \n",
       "3  1067  contrast          нет   \n",
       "4  1161  contrast          нет   \n",
       "\n",
       "                                               текст  \\\n",
       "0  В солнечный день, наверное, и вода играет друг...   \n",
       "1  там никто не в курсе никаких автобусов_говорят...   \n",
       "2  В каком-то проёме за щёлкой эти монетки и оста...   \n",
       "3  Что ни говори, общий относительно приличный ур...   \n",
       "4  Коробка красивая,_прибор явно туфтовый, даже п...   \n",
       "\n",
       "                                                эде1  \\\n",
       "0  В солнечный день, наверное, и вода играет друг...   \n",
       "1             там никто не в курсе никаких автобусов   \n",
       "2  В каком-то проёме за щёлкой эти монетки и оста...   \n",
       "3  Что ни говори, общий относительно приличный ур...   \n",
       "4                                  Коробка красивая,   \n",
       "\n",
       "                                                эде2  \n",
       "0             Главное, что это не повод сидеть дома,  \n",
       "1          говорят; что всё на автостанцию приходит.  \n",
       "2            И даже никаких чеков автомат не выдаёт.  \n",
       "3  Автобусный транспорт реально много где на уров...  \n",
       "4       прибор явно туфтовый, даже по внешнему виду.  "
      ]
     },
     "execution_count": 7,
     "metadata": {},
     "output_type": "execute_result"
    }
   ],
   "source": [
    "new_df = all_data['текст'].str.split('_',expand=True)\n",
    "new_df = new_df.rename(columns={0:'эде1', 1:'эде2'})\n",
    "all_data = pd.concat([ all_data, new_df[['эде1', 'эде2']] ], axis=1)\n",
    "all_data.head()"
   ]
  },
  {
   "cell_type": "markdown",
   "metadata": {},
   "source": [
    "# Признаки\n",
    "\n",
    "считаю все признаки, которые можно получить автоматически"
   ]
  },
  {
   "cell_type": "markdown",
   "metadata": {},
   "source": [
    "## Длины\n",
    "\n",
    "Токенизирую тексты и считаю следующие параметры (учитывая только слова, без пунктуации):\n",
    "\n",
    "`n_words` - кол-во слов в каждой ЭДЕ\n",
    "\n",
    "`av_words_length` - средняя длина слова в каждой ЭДЕ\n",
    "\n",
    "`n_words_diff` - разница в кол-вах между словами (знак показывает, какая из ЭДЕ длинее)"
   ]
  },
  {
   "cell_type": "code",
   "execution_count": 8,
   "metadata": {},
   "outputs": [],
   "source": [
    "import re\n",
    "from razdel import tokenize"
   ]
  },
  {
   "cell_type": "code",
   "execution_count": 9,
   "metadata": {},
   "outputs": [],
   "source": [
    "def tokenizer(text_data):\n",
    "    tokens = [_.text for _ in list(tokenize(str(text_data).lower()))] #if not re.search('[^а-яА-ЯёЁa-zA-z]', _.text)]\n",
    "    return \" \".join(tokens)\n",
    "\n",
    "def get_words(tokens):\n",
    "    words = [token for token in tokens.split() if not re.search('[^а-яА-ЯёЁa-zA-z]', token)]\n",
    "    return \" \".join(words)\n",
    "\n",
    "def count_words(words):\n",
    "    return len(words.split())\n",
    "\n",
    "def av_word_length(words):\n",
    "    l = [len(word) for word in words.split()]\n",
    "    return sum(l)/len(l)"
   ]
  },
  {
   "cell_type": "code",
   "execution_count": 10,
   "metadata": {},
   "outputs": [
    {
     "data": {
      "application/vnd.jupyter.widget-view+json": {
       "model_id": "b6971996a4464e759d98da9354c45ea5",
       "version_major": 2,
       "version_minor": 0
      },
      "text/plain": [
       "HBox(children=(IntProgress(value=0, max=162), HTML(value='')))"
      ]
     },
     "metadata": {},
     "output_type": "display_data"
    },
    {
     "name": "stdout",
     "output_type": "stream",
     "text": [
      "\n"
     ]
    },
    {
     "data": {
      "application/vnd.jupyter.widget-view+json": {
       "model_id": "3575ec5353c649cda0d88ecd5b94353f",
       "version_major": 2,
       "version_minor": 0
      },
      "text/plain": [
       "HBox(children=(IntProgress(value=0, max=162), HTML(value='')))"
      ]
     },
     "metadata": {},
     "output_type": "display_data"
    },
    {
     "name": "stdout",
     "output_type": "stream",
     "text": [
      "\n"
     ]
    },
    {
     "data": {
      "application/vnd.jupyter.widget-view+json": {
       "model_id": "0f884c44c02444988507912d595a1679",
       "version_major": 2,
       "version_minor": 0
      },
      "text/plain": [
       "HBox(children=(IntProgress(value=0, max=162), HTML(value='')))"
      ]
     },
     "metadata": {},
     "output_type": "display_data"
    },
    {
     "name": "stdout",
     "output_type": "stream",
     "text": [
      "\n"
     ]
    },
    {
     "data": {
      "application/vnd.jupyter.widget-view+json": {
       "model_id": "fe94a5c41fcf4263b27b537a096971fc",
       "version_major": 2,
       "version_minor": 0
      },
      "text/plain": [
       "HBox(children=(IntProgress(value=0, max=162), HTML(value='')))"
      ]
     },
     "metadata": {},
     "output_type": "display_data"
    },
    {
     "name": "stdout",
     "output_type": "stream",
     "text": [
      "\n"
     ]
    },
    {
     "data": {
      "application/vnd.jupyter.widget-view+json": {
       "model_id": "dc495027222442d3877420717b78bf6f",
       "version_major": 2,
       "version_minor": 0
      },
      "text/plain": [
       "HBox(children=(IntProgress(value=0, max=162), HTML(value='')))"
      ]
     },
     "metadata": {},
     "output_type": "display_data"
    },
    {
     "name": "stdout",
     "output_type": "stream",
     "text": [
      "\n"
     ]
    },
    {
     "data": {
      "application/vnd.jupyter.widget-view+json": {
       "model_id": "86ee82e4b8464752a5c88101605385a3",
       "version_major": 2,
       "version_minor": 0
      },
      "text/plain": [
       "HBox(children=(IntProgress(value=0, max=162), HTML(value='')))"
      ]
     },
     "metadata": {},
     "output_type": "display_data"
    },
    {
     "name": "stdout",
     "output_type": "stream",
     "text": [
      "\n"
     ]
    },
    {
     "data": {
      "application/vnd.jupyter.widget-view+json": {
       "model_id": "3f6de599d64c40d3a0398ec70b7cb161",
       "version_major": 2,
       "version_minor": 0
      },
      "text/plain": [
       "HBox(children=(IntProgress(value=0, max=162), HTML(value='')))"
      ]
     },
     "metadata": {},
     "output_type": "display_data"
    },
    {
     "name": "stdout",
     "output_type": "stream",
     "text": [
      "\n"
     ]
    },
    {
     "data": {
      "application/vnd.jupyter.widget-view+json": {
       "model_id": "ae53633b31ed454a99159ea8237c9048",
       "version_major": 2,
       "version_minor": 0
      },
      "text/plain": [
       "HBox(children=(IntProgress(value=0, max=162), HTML(value='')))"
      ]
     },
     "metadata": {},
     "output_type": "display_data"
    },
    {
     "name": "stdout",
     "output_type": "stream",
     "text": [
      "\n"
     ]
    }
   ],
   "source": [
    "for i in ['1', '2']:\n",
    "    all_data['tokens'+i] = all_data['эде'+i].progress_apply(tokenizer)\n",
    "    all_data['words'+i] = all_data['tokens'+i].progress_apply(get_words)\n",
    "    all_data['n_words'+i] = all_data['words'+i].progress_apply(count_words)\n",
    "    all_data['av_words_length'+i] = all_data['words'+i].progress_apply(av_word_length)"
   ]
  },
  {
   "cell_type": "code",
   "execution_count": 11,
   "metadata": {},
   "outputs": [],
   "source": [
    "all_data['n_words_diff'] = all_data['n_words1'] - all_data['n_words2']"
   ]
  },
  {
   "cell_type": "markdown",
   "metadata": {},
   "source": [
    "## Пунктуация между ЭДЕ\n",
    "\n",
    "`punct` - знак препинания между двумя ЭДЕ (беру последний токен первой ЭДЕ). _None_ если знаков там нет. Данные заранее нормализованы вручную так, чтобы знак оставался в первом эелементе. "
   ]
  },
  {
   "cell_type": "code",
   "execution_count": 12,
   "metadata": {},
   "outputs": [],
   "source": [
    "def find_punct(tokens):\n",
    "    last = tokens[-1]\n",
    "    if last not in ['.', ',', ':', '-', '?', ')', '…']:\n",
    "        last = 'none'\n",
    "        \n",
    "    return last\n",
    "\n",
    "all_data['punct'] = all_data['tokens1'].apply(find_punct)\n",
    "all_data['if punct'] = (all_data['punct'] != 'none')"
   ]
  },
  {
   "cell_type": "markdown",
   "metadata": {},
   "source": [
    "## POS анализ\n",
    "\n",
    "Считаю вектор со значениями всех чатей речи и разбиваю его на отдельные признаки"
   ]
  },
  {
   "cell_type": "code",
   "execution_count": 13,
   "metadata": {},
   "outputs": [],
   "source": [
    "from pymorphy2 import MorphAnalyzer\n",
    "morph = MorphAnalyzer()"
   ]
  },
  {
   "cell_type": "code",
   "execution_count": 14,
   "metadata": {},
   "outputs": [],
   "source": [
    "tag_list = ['ADJF', 'ADJS', 'ADVB', 'COMP', 'CONJ', 'GRND', 'INFN', 'INTJ', 'NOUN',\n",
    "            'NPRO', 'NUMR', 'None', 'PRCL', 'PRED', 'PREP', 'PRTF', 'PRTS', 'VERB']"
   ]
  },
  {
   "cell_type": "code",
   "execution_count": 15,
   "metadata": {},
   "outputs": [],
   "source": [
    "def count_POS(words):\n",
    "    POS_dict = {'ADJF': 0,\n",
    "                'ADJS': 0,\n",
    "                'ADVB': 0,\n",
    "                'COMP': 0,\n",
    "                'CONJ': 0,\n",
    "                'GRND': 0,\n",
    "                'INFN': 0,\n",
    "                'INTJ': 0,\n",
    "                'NOUN': 0,\n",
    "                'NPRO': 0,\n",
    "                'NUMR': 0,\n",
    "                'None': 0,\n",
    "                'PRCL': 0,\n",
    "                'PRED': 0,\n",
    "                'PREP': 0,\n",
    "                'PRTF': 0,\n",
    "                'PRTS': 0,\n",
    "                'VERB': 0}\n",
    "    \n",
    "    for word in words.split():\n",
    "        p = morph.parse(word)[0]\n",
    "        tag = p.tag.POS\n",
    "        if tag is None:\n",
    "            tag = 'None'\n",
    "        POS_dict[tag] += 1\n",
    "    return list(POS_dict.values())"
   ]
  },
  {
   "cell_type": "code",
   "execution_count": 16,
   "metadata": {},
   "outputs": [
    {
     "data": {
      "application/vnd.jupyter.widget-view+json": {
       "model_id": "7f43f213939a4e3b8e6c2c7ee253eb9b",
       "version_major": 2,
       "version_minor": 0
      },
      "text/plain": [
       "HBox(children=(IntProgress(value=0, max=162), HTML(value='')))"
      ]
     },
     "metadata": {},
     "output_type": "display_data"
    },
    {
     "name": "stdout",
     "output_type": "stream",
     "text": [
      "\n"
     ]
    },
    {
     "data": {
      "application/vnd.jupyter.widget-view+json": {
       "model_id": "6f053ec81a6445009b677e10c888d7c8",
       "version_major": 2,
       "version_minor": 0
      },
      "text/plain": [
       "HBox(children=(IntProgress(value=0, max=162), HTML(value='')))"
      ]
     },
     "metadata": {},
     "output_type": "display_data"
    },
    {
     "name": "stdout",
     "output_type": "stream",
     "text": [
      "\n"
     ]
    }
   ],
   "source": [
    "for i in ['1', '2']:\n",
    "    all_data['pos_vector'+i] = all_data['words'+i].progress_apply(count_POS)\n",
    "    \n",
    "    all_data[ [tag+i for tag in tag_list] ] = pd.DataFrame(all_data['pos_vector'+i].tolist())"
   ]
  },
  {
   "cell_type": "markdown",
   "metadata": {},
   "source": [
    "## Повторяющиеся слова\n",
    "\n",
    "Лемматизирую тексты и считаю сколько слов встречаются в обеих ЭДЕ"
   ]
  },
  {
   "cell_type": "code",
   "execution_count": 17,
   "metadata": {},
   "outputs": [],
   "source": [
    "def lemmatizer(words):\n",
    "    lem_text = []\n",
    "    for word in words.split():\n",
    "        lem = morph.parse(word)[0].normal_form\n",
    "#         if lem not in stops:\n",
    "        lem_text.append(lem)\n",
    "    return ' '.join(lem_text)\n",
    "\n",
    "def similar_words(lemm_a, lemm_b):\n",
    "    return list(set(lemm_a.split()) & set(lemm_b.split()))"
   ]
  },
  {
   "cell_type": "code",
   "execution_count": 18,
   "metadata": {},
   "outputs": [
    {
     "data": {
      "application/vnd.jupyter.widget-view+json": {
       "model_id": "954e956fef2e46ca8c70f5d9db58acfa",
       "version_major": 2,
       "version_minor": 0
      },
      "text/plain": [
       "HBox(children=(IntProgress(value=0, max=162), HTML(value='')))"
      ]
     },
     "metadata": {},
     "output_type": "display_data"
    },
    {
     "name": "stdout",
     "output_type": "stream",
     "text": [
      "\n"
     ]
    },
    {
     "data": {
      "application/vnd.jupyter.widget-view+json": {
       "model_id": "210b3afbbb1e457fa714398d3f5d6770",
       "version_major": 2,
       "version_minor": 0
      },
      "text/plain": [
       "HBox(children=(IntProgress(value=0, max=162), HTML(value='')))"
      ]
     },
     "metadata": {},
     "output_type": "display_data"
    },
    {
     "name": "stdout",
     "output_type": "stream",
     "text": [
      "\n"
     ]
    }
   ],
   "source": [
    "for i in ['1', '2']:\n",
    "    all_data['lemm'+i] = all_data['words'+i].progress_apply(lemmatizer)"
   ]
  },
  {
   "cell_type": "code",
   "execution_count": 19,
   "metadata": {},
   "outputs": [],
   "source": [
    "all_data['similar_words'] = all_data.apply(lambda x: similar_words(x['lemm1'], x['lemm2']), axis=1)\n",
    "all_data['n_similar_words'] = all_data['similar_words'].apply(len)"
   ]
  },
  {
   "cell_type": "code",
   "execution_count": 20,
   "metadata": {
    "scrolled": false
   },
   "outputs": [
    {
     "data": {
      "text/plain": [
       "2                                     [и]\n",
       "3                    [уровень, транспорт]\n",
       "9                                     [с]\n",
       "11                               [бывать]\n",
       "15                                  [кот]\n",
       "18                               [писать]\n",
       "20                                  [для]\n",
       "21                             [хотеться]\n",
       "22     [путь, результат, это, быстрый, к]\n",
       "23                    [быть, пищеварение]\n",
       "25                      [платить, тестер]\n",
       "26                             [работать]\n",
       "27                    [требовать, ресурс]\n",
       "28                               [способ]\n",
       "30                                  [что]\n",
       "32                           [технология]\n",
       "34                                   [не]\n",
       "35                            [хотеть, я]\n",
       "37                [сказать, мочь, я, что]\n",
       "39                             [удобство]\n",
       "41              [нужно, это, значит, что]\n",
       "42            [союз, это, россия, и, что]\n",
       "45                                  [они]\n",
       "49                                [когда]\n",
       "53                              [быть, я]\n",
       "56                                [не, я]\n",
       "59                                  [что]\n",
       "60                                  [что]\n",
       "62                                [на, я]\n",
       "66                      [класс, парковка]\n",
       "                      ...                \n",
       "72                                   [по]\n",
       "73                        [я, дневный, и]\n",
       "79                                    [и]\n",
       "82                                    [я]\n",
       "87                                [диван]\n",
       "92                                    [я]\n",
       "95                                   [не]\n",
       "97                                    [и]\n",
       "100                          [это, время]\n",
       "110                                   [к]\n",
       "115                               [волос]\n",
       "119                              [они, и]\n",
       "120                  [сервис, уязвимость]\n",
       "121                                   [с]\n",
       "122                      [вы, звонить, с]\n",
       "123                              [это, к]\n",
       "128                                  [не]\n",
       "129                           [россия, и]\n",
       "132                                  [не]\n",
       "133                                   [в]\n",
       "142                                [быть]\n",
       "143                     [граница, плохой]\n",
       "146                                 [что]\n",
       "147                                  [не]\n",
       "149                             [большой]\n",
       "150                            [в, центр]\n",
       "153                                   [у]\n",
       "155                               [очень]\n",
       "156                                  [не]\n",
       "160                                   [я]\n",
       "Name: similar_words, Length: 61, dtype: object"
      ]
     },
     "execution_count": 20,
     "metadata": {},
     "output_type": "execute_result"
    }
   ],
   "source": [
    "all_data[all_data['n_similar_words'] != 0]['similar_words']"
   ]
  },
  {
   "cell_type": "markdown",
   "metadata": {},
   "source": [
    "## Эмбединги\n",
    "\n",
    "Обучаю модель, получаю вектора размерности 10 для каждой пары ЭДЕ и считаю их косинусную близовть. Вектора разбиваю на 10 отдельных признаков. Как дальше покажут эксперименты, если использовать эти 10 отдельных признаков, то почти все модели получаются сильно завязаны на каку-то их часть, при этом если их не использовать - качество не особо и меняется. Так что в итоге при обучении я буду использовать только значение близости между векторами двух ЭДЕ `cosine_d2v`."
   ]
  },
  {
   "cell_type": "markdown",
   "metadata": {},
   "source": [
    "### doc2vec"
   ]
  },
  {
   "cell_type": "code",
   "execution_count": 21,
   "metadata": {},
   "outputs": [],
   "source": [
    "from gensim.models.doc2vec import Doc2Vec, TaggedDocument"
   ]
  },
  {
   "cell_type": "code",
   "execution_count": 22,
   "metadata": {},
   "outputs": [
    {
     "data": {
      "text/plain": [
       "324"
      ]
     },
     "execution_count": 22,
     "metadata": {},
     "output_type": "execute_result"
    }
   ],
   "source": [
    "corpora = all_data['lemm1'].values.tolist() + all_data['lemm2'].values.tolist()\n",
    "len(corpora)"
   ]
  },
  {
   "cell_type": "code",
   "execution_count": 23,
   "metadata": {},
   "outputs": [],
   "source": [
    "documents = [TaggedDocument(doc.split(), [i]) for i, doc in enumerate(corpora)]\n",
    "model = Doc2Vec(documents, vector_size=10, window=2, min_count=1)"
   ]
  },
  {
   "cell_type": "code",
   "execution_count": 24,
   "metadata": {},
   "outputs": [],
   "source": [
    "def get_d2v_vector(lemm):\n",
    "    return model.infer_vector(lemm.split())\n",
    "\n",
    "def cosine_d2v(lemm1, lemm2):\n",
    "    return model.wv.n_similarity(lemm1.split(),lemm2.split())"
   ]
  },
  {
   "cell_type": "code",
   "execution_count": 25,
   "metadata": {},
   "outputs": [
    {
     "data": {
      "application/vnd.jupyter.widget-view+json": {
       "model_id": "77de234c61994c0eae9ae797ff0f090b",
       "version_major": 2,
       "version_minor": 0
      },
      "text/plain": [
       "HBox(children=(IntProgress(value=0, max=162), HTML(value='')))"
      ]
     },
     "metadata": {},
     "output_type": "display_data"
    },
    {
     "name": "stdout",
     "output_type": "stream",
     "text": [
      "\n"
     ]
    },
    {
     "data": {
      "application/vnd.jupyter.widget-view+json": {
       "model_id": "4d1540bbc31842eaab9e80a19bda5634",
       "version_major": 2,
       "version_minor": 0
      },
      "text/plain": [
       "HBox(children=(IntProgress(value=0, max=162), HTML(value='')))"
      ]
     },
     "metadata": {},
     "output_type": "display_data"
    },
    {
     "name": "stdout",
     "output_type": "stream",
     "text": [
      "\n"
     ]
    }
   ],
   "source": [
    "for i in ['1', '2']:\n",
    "    all_data['d2v_vector'+i] = all_data['lemm'+i].progress_apply(get_d2v_vector)\n",
    "    all_data[ ['v'+str(n)+'_'+i for n in range(10)] ] = pd.DataFrame(all_data['d2v_vector'+i].tolist())"
   ]
  },
  {
   "cell_type": "code",
   "execution_count": 26,
   "metadata": {},
   "outputs": [],
   "source": [
    "all_data['cosine_d2v'] = all_data.apply(lambda x: cosine_d2v(x['lemm1'], x['lemm2']), axis=1)"
   ]
  },
  {
   "cell_type": "markdown",
   "metadata": {},
   "source": [
    "### Сохранение всех результатов экселе"
   ]
  },
  {
   "cell_type": "code",
   "execution_count": 27,
   "metadata": {},
   "outputs": [],
   "source": [
    "all_data.to_excel('Data\\data_full_markup.xlsx')"
   ]
  },
  {
   "cell_type": "markdown",
   "metadata": {},
   "source": [
    "# Модели"
   ]
  },
  {
   "cell_type": "code",
   "execution_count": 28,
   "metadata": {},
   "outputs": [],
   "source": [
    "import numpy as np\n",
    "from sklearn.metrics import classification_report"
   ]
  },
  {
   "cell_type": "markdown",
   "metadata": {},
   "source": [
    "## Обчающая и тестовая выборки"
   ]
  },
  {
   "cell_type": "code",
   "execution_count": 29,
   "metadata": {},
   "outputs": [],
   "source": [
    "from sklearn.preprocessing import LabelEncoder\n",
    "from sklearn.model_selection import train_test_split"
   ]
  },
  {
   "cell_type": "code",
   "execution_count": 30,
   "metadata": {},
   "outputs": [],
   "source": [
    "no_marker = all_data[all_data['есть маркер?'] == 'нет']"
   ]
  },
  {
   "cell_type": "code",
   "execution_count": 31,
   "metadata": {},
   "outputs": [],
   "source": [
    "not_features = ['id', 'есть маркер?', 'текст',\n",
    "                'эде1', 'эде2',\n",
    "                'tokens1', 'tokens2',\n",
    "                'words1', 'words2',\n",
    "                'pos_vector1', 'pos_vector2',\n",
    "                'lemm1', 'lemm2',\n",
    "                'similar_words', 'if punct', \n",
    "                'd2v_vector1', 'd2v_vector2']\n",
    "\n",
    "not_features.extend(['v'+str(n)+'_'+'1' for n in range(10)])\n",
    "not_features.extend(['v'+str(n)+'_'+'2' for n in range(10)])\n",
    "\n",
    "features = list(set(no_marker.columns.values.tolist()) - set(not_features))\n",
    "\n",
    "data = no_marker.drop(columns=not_features)\n",
    "data = data.apply(LabelEncoder().fit_transform) # 1 = contrast, 0 = cause\n",
    "\n",
    "X = data.drop(columns=['relation'])\n",
    "y = data['relation']\n",
    "\n",
    "X_train, X_test, y_train, y_test = train_test_split(X, y, \n",
    "                                                    stratify=y,\n",
    "                                                    test_size=0.2,\n",
    "                                                    random_state=42)"
   ]
  },
  {
   "cell_type": "code",
   "execution_count": 32,
   "metadata": {},
   "outputs": [
    {
     "name": "stdout",
     "output_type": "stream",
     "text": [
      "<class 'pandas.core.frame.DataFrame'>\n",
      "Int64Index: 88 entries, 90 to 114\n",
      "Data columns (total 44 columns):\n",
      "n_words1            88 non-null int64\n",
      "av_words_length1    88 non-null int64\n",
      "n_words2            88 non-null int64\n",
      "av_words_length2    88 non-null int64\n",
      "n_words_diff        88 non-null int64\n",
      "punct               88 non-null int32\n",
      "ADJF1               88 non-null int64\n",
      "ADJS1               88 non-null int64\n",
      "ADVB1               88 non-null int64\n",
      "COMP1               88 non-null int64\n",
      "CONJ1               88 non-null int64\n",
      "GRND1               88 non-null int64\n",
      "INFN1               88 non-null int64\n",
      "INTJ1               88 non-null int64\n",
      "NOUN1               88 non-null int64\n",
      "NPRO1               88 non-null int64\n",
      "NUMR1               88 non-null int64\n",
      "None1               88 non-null int64\n",
      "PRCL1               88 non-null int64\n",
      "PRED1               88 non-null int64\n",
      "PREP1               88 non-null int64\n",
      "PRTF1               88 non-null int64\n",
      "PRTS1               88 non-null int64\n",
      "VERB1               88 non-null int64\n",
      "ADJF2               88 non-null int64\n",
      "ADJS2               88 non-null int64\n",
      "ADVB2               88 non-null int64\n",
      "COMP2               88 non-null int64\n",
      "CONJ2               88 non-null int64\n",
      "GRND2               88 non-null int64\n",
      "INFN2               88 non-null int64\n",
      "INTJ2               88 non-null int64\n",
      "NOUN2               88 non-null int64\n",
      "NPRO2               88 non-null int64\n",
      "NUMR2               88 non-null int64\n",
      "None2               88 non-null int64\n",
      "PRCL2               88 non-null int64\n",
      "PRED2               88 non-null int64\n",
      "PREP2               88 non-null int64\n",
      "PRTF2               88 non-null int64\n",
      "PRTS2               88 non-null int64\n",
      "VERB2               88 non-null int64\n",
      "n_similar_words     88 non-null int64\n",
      "cosine_d2v          88 non-null int64\n",
      "dtypes: int32(1), int64(43)\n",
      "memory usage: 30.6 KB\n"
     ]
    }
   ],
   "source": [
    "X_train.info()"
   ]
  },
  {
   "cell_type": "markdown",
   "metadata": {},
   "source": [
    "## Логистическая регрессия"
   ]
  },
  {
   "cell_type": "code",
   "execution_count": 33,
   "metadata": {},
   "outputs": [],
   "source": [
    "from sklearn.linear_model import LogisticRegression"
   ]
  },
  {
   "cell_type": "code",
   "execution_count": 34,
   "metadata": {},
   "outputs": [
    {
     "name": "stderr",
     "output_type": "stream",
     "text": [
      "C:\\Users\\User\\AppData\\Roaming\\Python\\Python37\\site-packages\\sklearn\\linear_model\\logistic.py:432: FutureWarning: Default solver will be changed to 'lbfgs' in 0.22. Specify a solver to silence this warning.\n",
      "  FutureWarning)\n"
     ]
    },
    {
     "data": {
      "text/plain": [
       "LogisticRegression(C=1.0, class_weight=None, dual=False, fit_intercept=True,\n",
       "                   intercept_scaling=1, l1_ratio=None, max_iter=100,\n",
       "                   multi_class='warn', n_jobs=None, penalty='l2',\n",
       "                   random_state=42, solver='warn', tol=0.0001, verbose=0,\n",
       "                   warm_start=False)"
      ]
     },
     "execution_count": 34,
     "metadata": {},
     "output_type": "execute_result"
    }
   ],
   "source": [
    "lreg = LogisticRegression(random_state=42)\n",
    "lreg.fit(X_train, y_train)"
   ]
  },
  {
   "cell_type": "code",
   "execution_count": 35,
   "metadata": {},
   "outputs": [
    {
     "name": "stdout",
     "output_type": "stream",
     "text": [
      "              precision    recall  f1-score   support\n",
      "\n",
      "           0       0.64      0.58      0.61        12\n",
      "           1       0.55      0.60      0.57        10\n",
      "\n",
      "    accuracy                           0.59        22\n",
      "   macro avg       0.59      0.59      0.59        22\n",
      "weighted avg       0.60      0.59      0.59        22\n",
      "\n"
     ]
    }
   ],
   "source": [
    "y_pred_lreg = lreg.predict(X_test)\n",
    "print(classification_report(y_test, y_pred_lreg))"
   ]
  },
  {
   "cell_type": "code",
   "execution_count": 36,
   "metadata": {},
   "outputs": [
    {
     "name": "stdout",
     "output_type": "stream",
     "text": [
      "PRCL2 - 1.4670782677718803\n",
      "VERB1 - 0.7772828592428411\n",
      "NUMR1 - 0.6818007123886191\n",
      "ADJS1 - 0.6788518303056905\n",
      "ADVB1 - 0.6595502475731199\n",
      "n_similar_words - 0.6199275073264818\n",
      "INTJ2 - 0.5324387499921709\n",
      "INTJ1 - 0.4771718004026744\n",
      "PRED1 - 0.3792354053895994\n",
      "PREP2 - 0.3757810231306586\n",
      "ADJF1 - 0.36754742880029234\n",
      "ADJF2 - 0.3596354072909244\n",
      "PRCL1 - 0.2814309272581437\n",
      "CONJ2 - 0.27427340907359693\n",
      "punct - 0.19461736219874282\n",
      "CONJ1 - 0.18846204185972232\n",
      "None2 - 0.17586874015518325\n",
      "INFN1 - 0.13512699719859309\n",
      "NOUN1 - 0.11254048521310035\n",
      "ADJS2 - 0.07755941423575269\n",
      "PRTS2 - 0.06940401957366814\n",
      "av_words_length1 - 0.01560699507197942\n",
      "COMP1 - 0.007467531067098584\n",
      "n_words1 - 0.006433042367618369\n",
      "av_words_length2 - 0.0023954185477351175\n",
      "PRTF2 - -0.0008136058322891148\n",
      "cosine_d2v - -0.008373775290109034\n",
      "NUMR2 - -0.03301137603387295\n",
      "PRED2 - -0.043888467880762005\n",
      "n_words_diff - -0.06244873990617853\n",
      "NPRO2 - -0.08540993626795067\n",
      "INFN2 - -0.101288566359321\n",
      "ADVB2 - -0.14328995070267006\n",
      "PREP1 - -0.14733642923943027\n",
      "PRTS1 - -0.18731208399997826\n",
      "None1 - -0.1950324069653275\n",
      "NPRO1 - -0.28102636483548205\n",
      "n_words2 - -0.2989298856791143\n",
      "GRND1 - -0.3818441277120808\n",
      "NOUN2 - -0.3999633634299364\n",
      "GRND2 - -0.4897428883864079\n",
      "COMP2 - -0.5805505679687106\n",
      "PRTF1 - -0.948071523366704\n",
      "VERB2 - -1.0480254477958224\n"
     ]
    }
   ],
   "source": [
    "feature_importances_lreg = lreg.coef_\n",
    "for ind in np.argsort(-feature_importances_lreg[0]):\n",
    "    print(X_train.columns[ind], '-', feature_importances_lreg[0][ind])"
   ]
  },
  {
   "cell_type": "markdown",
   "metadata": {},
   "source": [
    "## Decision Tree"
   ]
  },
  {
   "cell_type": "code",
   "execution_count": 37,
   "metadata": {},
   "outputs": [],
   "source": [
    "from sklearn.tree import DecisionTreeClassifier"
   ]
  },
  {
   "cell_type": "code",
   "execution_count": 38,
   "metadata": {},
   "outputs": [
    {
     "data": {
      "text/plain": [
       "DecisionTreeClassifier(class_weight=None, criterion='gini', max_depth=None,\n",
       "                       max_features=None, max_leaf_nodes=None,\n",
       "                       min_impurity_decrease=0.0, min_impurity_split=None,\n",
       "                       min_samples_leaf=1, min_samples_split=2,\n",
       "                       min_weight_fraction_leaf=0.0, presort=False,\n",
       "                       random_state=42, splitter='best')"
      ]
     },
     "execution_count": 38,
     "metadata": {},
     "output_type": "execute_result"
    }
   ],
   "source": [
    "tree_clf = DecisionTreeClassifier(random_state=42)\n",
    "tree_clf.fit(X_train, y_train)"
   ]
  },
  {
   "cell_type": "code",
   "execution_count": 39,
   "metadata": {},
   "outputs": [
    {
     "name": "stdout",
     "output_type": "stream",
     "text": [
      "              precision    recall  f1-score   support\n",
      "\n",
      "           0       0.75      0.75      0.75        12\n",
      "           1       0.70      0.70      0.70        10\n",
      "\n",
      "    accuracy                           0.73        22\n",
      "   macro avg       0.72      0.72      0.72        22\n",
      "weighted avg       0.73      0.73      0.73        22\n",
      "\n"
     ]
    }
   ],
   "source": [
    "y_pred_tree = tree_clf.predict(X_test)\n",
    "print(classification_report(y_test, y_pred_tree))"
   ]
  },
  {
   "cell_type": "code",
   "execution_count": 40,
   "metadata": {},
   "outputs": [
    {
     "name": "stdout",
     "output_type": "stream",
     "text": [
      "PRCL2 - 0.2157310081223126\n",
      "av_words_length2 - 0.13685337598044553\n",
      "cosine_d2v - 0.09605190430335142\n",
      "n_words2 - 0.08534115987532133\n",
      "n_words1 - 0.08003549245785271\n",
      "VERB2 - 0.07707546786830673\n",
      "ADVB2 - 0.05579710144927536\n",
      "punct - 0.0557971014492753\n",
      "NPRO1 - 0.03985507246376811\n",
      "PREP1 - 0.03416149068322981\n",
      "ADJF2 - 0.03416149068322981\n",
      "INTJ1 - 0.03414119270896762\n",
      "ADJF1 - 0.022774327122153208\n",
      "ADVB1 - 0.018309880862475533\n",
      "NPRO2 - 0.013913933970034919\n",
      "GRND1 - 0.0\n",
      "INFN2 - 0.0\n",
      "INTJ2 - 0.0\n",
      "NOUN2 - 0.0\n",
      "NUMR2 - 0.0\n",
      "None2 - 0.0\n",
      "av_words_length1 - 0.0\n",
      "PRED2 - 0.0\n",
      "PREP2 - 0.0\n",
      "PRTF2 - 0.0\n",
      "PRTS2 - 0.0\n",
      "GRND2 - 0.0\n",
      "CONJ2 - 0.0\n",
      "COMP2 - 0.0\n",
      "ADJS1 - 0.0\n",
      "ADJS2 - 0.0\n",
      "n_words_diff - 0.0\n",
      "VERB1 - 0.0\n",
      "PRTS1 - 0.0\n",
      "n_similar_words - 0.0\n",
      "PRED1 - 0.0\n",
      "PRCL1 - 0.0\n",
      "None1 - 0.0\n",
      "NUMR1 - 0.0\n",
      "COMP1 - 0.0\n",
      "NOUN1 - 0.0\n",
      "INFN1 - 0.0\n",
      "CONJ1 - 0.0\n",
      "PRTF1 - 0.0\n"
     ]
    }
   ],
   "source": [
    "feature_importances_tree = tree_clf.feature_importances_\n",
    "for ind in np.argsort(-feature_importances_tree):\n",
    "    print(X_train.columns[ind], '-', feature_importances_tree[ind])"
   ]
  },
  {
   "cell_type": "markdown",
   "metadata": {},
   "source": [
    "## Random Forest"
   ]
  },
  {
   "cell_type": "code",
   "execution_count": 41,
   "metadata": {},
   "outputs": [],
   "source": [
    "from sklearn.ensemble import RandomForestClassifier"
   ]
  },
  {
   "cell_type": "code",
   "execution_count": 42,
   "metadata": {},
   "outputs": [
    {
     "data": {
      "text/plain": [
       "RandomForestClassifier(bootstrap=True, class_weight=None, criterion='gini',\n",
       "                       max_depth=None, max_features='auto', max_leaf_nodes=None,\n",
       "                       min_impurity_decrease=0.0, min_impurity_split=None,\n",
       "                       min_samples_leaf=1, min_samples_split=2,\n",
       "                       min_weight_fraction_leaf=0.0, n_estimators=10,\n",
       "                       n_jobs=None, oob_score=False, random_state=42, verbose=0,\n",
       "                       warm_start=False)"
      ]
     },
     "execution_count": 42,
     "metadata": {},
     "output_type": "execute_result"
    }
   ],
   "source": [
    "rf_clf = RandomForestClassifier(n_estimators=10, random_state=42)\n",
    "rf_clf.fit(X_train, y_train)"
   ]
  },
  {
   "cell_type": "code",
   "execution_count": 43,
   "metadata": {},
   "outputs": [
    {
     "name": "stdout",
     "output_type": "stream",
     "text": [
      "              precision    recall  f1-score   support\n",
      "\n",
      "           0       0.71      0.42      0.53        12\n",
      "           1       0.53      0.80      0.64        10\n",
      "\n",
      "    accuracy                           0.59        22\n",
      "   macro avg       0.62      0.61      0.58        22\n",
      "weighted avg       0.63      0.59      0.58        22\n",
      "\n"
     ]
    }
   ],
   "source": [
    "y_pred_forest = rf_clf.predict(X_test)\n",
    "print(classification_report(y_test, y_pred_forest))"
   ]
  },
  {
   "cell_type": "code",
   "execution_count": 44,
   "metadata": {},
   "outputs": [
    {
     "name": "stdout",
     "output_type": "stream",
     "text": [
      "PRCL2 - 0.09930898734985635\n",
      "n_words_diff - 0.08921480770740522\n",
      "n_words1 - 0.07007712053111556\n",
      "punct - 0.06877158793172818\n",
      "cosine_d2v - 0.060473737568044306\n",
      "av_words_length2 - 0.06005533657559416\n",
      "n_words2 - 0.05546628903107394\n",
      "ADJF1 - 0.04453277866494089\n",
      "NOUN2 - 0.04445941634140339\n",
      "NOUN1 - 0.042275509813671425\n",
      "ADJF2 - 0.036183204944678915\n",
      "CONJ2 - 0.03199622331125544\n",
      "PREP2 - 0.028545493339103105\n",
      "ADVB1 - 0.027126389323686446\n",
      "PRCL1 - 0.026366385530162274\n",
      "av_words_length1 - 0.02531731790505224\n",
      "INFN1 - 0.021966794748105922\n",
      "VERB2 - 0.0209328812196719\n",
      "CONJ1 - 0.01843098917571572\n",
      "ADVB2 - 0.015799579137472437\n",
      "PREP1 - 0.015680426077419943\n",
      "GRND1 - 0.012838293010014368\n",
      "VERB1 - 0.012556469128630727\n",
      "INFN2 - 0.010068440230071089\n",
      "n_similar_words - 0.00939535087172946\n",
      "COMP2 - 0.008258155240598478\n",
      "PRED2 - 0.006999295278365044\n",
      "COMP1 - 0.006731532318439931\n",
      "ADJS1 - 0.0056985112885734\n",
      "INTJ2 - 0.005580014619638302\n",
      "NUMR2 - 0.004781781397832475\n",
      "PRED1 - 0.0038704445587162974\n",
      "PRTF1 - 0.0033846153846153818\n",
      "None1 - 0.003044455976474658\n",
      "PRTF2 - 0.0017217630853994473\n",
      "NPRO1 - 0.0016756910800797928\n",
      "NPRO2 - 0.0002446437838238576\n",
      "GRND2 - 0.00016928651983946498\n",
      "ADJS2 - 0.0\n",
      "None2 - 0.0\n",
      "PRTS2 - 0.0\n",
      "INTJ1 - 0.0\n",
      "NUMR1 - 0.0\n",
      "PRTS1 - 0.0\n"
     ]
    }
   ],
   "source": [
    "feature_importances_forest = rf_clf.feature_importances_\n",
    "for ind in np.argsort(-feature_importances_forest):\n",
    "    print(X_train.columns[ind], '-', feature_importances_forest[ind])"
   ]
  },
  {
   "cell_type": "markdown",
   "metadata": {},
   "source": [
    "## SVM"
   ]
  },
  {
   "cell_type": "code",
   "execution_count": 45,
   "metadata": {},
   "outputs": [],
   "source": [
    "from sklearn.svm import SVC"
   ]
  },
  {
   "cell_type": "code",
   "execution_count": 46,
   "metadata": {},
   "outputs": [
    {
     "data": {
      "text/plain": [
       "SVC(C=1.0, cache_size=200, class_weight=None, coef0=0.0,\n",
       "    decision_function_shape='ovr', degree=3, gamma='auto_deprecated',\n",
       "    kernel='linear', max_iter=-1, probability=False, random_state=42,\n",
       "    shrinking=True, tol=0.001, verbose=False)"
      ]
     },
     "execution_count": 46,
     "metadata": {},
     "output_type": "execute_result"
    }
   ],
   "source": [
    "svc = SVC(kernel='linear', random_state=42)\n",
    "svc.fit(X_train, y_train)"
   ]
  },
  {
   "cell_type": "code",
   "execution_count": 47,
   "metadata": {},
   "outputs": [
    {
     "name": "stdout",
     "output_type": "stream",
     "text": [
      "              precision    recall  f1-score   support\n",
      "\n",
      "           0       0.75      0.50      0.60        12\n",
      "           1       0.57      0.80      0.67        10\n",
      "\n",
      "    accuracy                           0.64        22\n",
      "   macro avg       0.66      0.65      0.63        22\n",
      "weighted avg       0.67      0.64      0.63        22\n",
      "\n"
     ]
    }
   ],
   "source": [
    "y_pred_svc = svc.predict(X_test)\n",
    "print(classification_report(y_test, y_pred_svc))"
   ]
  },
  {
   "cell_type": "code",
   "execution_count": 48,
   "metadata": {},
   "outputs": [
    {
     "name": "stdout",
     "output_type": "stream",
     "text": [
      "ADJS1 - 1.445136196018833\n",
      "PRCL2 - 1.310239798013576\n",
      "NUMR1 - 1.0\n",
      "None2 - 0.8087449977353177\n",
      "VERB1 - 0.7440442114653347\n",
      "ADJF2 - 0.6298521802178154\n",
      "INTJ2 - 0.6049659757879084\n",
      "INTJ1 - 0.5466581566410739\n",
      "PRED1 - 0.5315997096680213\n",
      "n_similar_words - 0.4792075082786238\n",
      "PREP2 - 0.4641968723609721\n",
      "PRCL1 - 0.4592228796081235\n",
      "ADVB1 - 0.4550260171913321\n",
      "CONJ2 - 0.3385931297058556\n",
      "ADJF1 - 0.19690779579077505\n",
      "NOUN1 - 0.1880915761434066\n",
      "n_words_diff - 0.1743280607509471\n",
      "punct - 0.17363194043997437\n",
      "PRED2 - 0.16097556735408702\n",
      "INFN1 - 0.13398395422290937\n",
      "CONJ1 - 0.12957949321833984\n",
      "COMP1 - 0.12156368724666206\n",
      "av_words_length1 - 0.021879865988674974\n",
      "PREP1 - 0.019914661523895094\n",
      "av_words_length2 - 0.007624395469355116\n",
      "NPRO2 - 0.006817926286598719\n",
      "NUMR2 - 0.0\n",
      "PRTS2 - 0.0\n",
      "cosine_d2v - -0.0025767188941991925\n",
      "PRTF2 - -0.01816893840323737\n",
      "n_words2 - -0.061487415549065505\n",
      "INFN2 - -0.06625883895944269\n",
      "ADVB2 - -0.07782263407007528\n",
      "GRND1 - -0.08838005589260156\n",
      "NPRO1 - -0.09307193535215508\n",
      "None1 - -0.14710793393334032\n",
      "GRND2 - -0.1994671886742405\n",
      "ADJS2 - -0.23150823112276378\n",
      "COMP2 - -0.3231267472664857\n",
      "n_words1 - -0.3237635878778362\n",
      "NOUN2 - -0.4276053905718618\n",
      "PRTS1 - -0.4859654286599851\n",
      "VERB2 - -0.9451522271105202\n",
      "PRTF1 - -1.6565772768695297\n"
     ]
    }
   ],
   "source": [
    "feature_importances_svc = svc.coef_\n",
    "for ind in np.argsort(-feature_importances_svc[0]):\n",
    "    print(X_train.columns[ind], '-', feature_importances_svc[0][ind])"
   ]
  },
  {
   "cell_type": "markdown",
   "metadata": {},
   "source": [
    "## Сравнение качества моделей"
   ]
  },
  {
   "cell_type": "markdown",
   "metadata": {},
   "source": [
    "### F1-score"
   ]
  },
  {
   "cell_type": "code",
   "execution_count": 49,
   "metadata": {},
   "outputs": [
    {
     "data": {
      "text/html": [
       "<div>\n",
       "<style scoped>\n",
       "    .dataframe tbody tr th:only-of-type {\n",
       "        vertical-align: middle;\n",
       "    }\n",
       "\n",
       "    .dataframe tbody tr th {\n",
       "        vertical-align: top;\n",
       "    }\n",
       "\n",
       "    .dataframe thead th {\n",
       "        text-align: right;\n",
       "    }\n",
       "</style>\n",
       "<table border=\"1\" class=\"dataframe\">\n",
       "  <thead>\n",
       "    <tr style=\"text-align: right;\">\n",
       "      <th></th>\n",
       "      <th>LReg</th>\n",
       "      <th>DTree</th>\n",
       "      <th>RForest</th>\n",
       "      <th>SVM</th>\n",
       "    </tr>\n",
       "  </thead>\n",
       "  <tbody>\n",
       "    <tr>\n",
       "      <th>cause</th>\n",
       "      <td>0.608696</td>\n",
       "      <td>0.75</td>\n",
       "      <td>0.526316</td>\n",
       "      <td>0.600000</td>\n",
       "    </tr>\n",
       "    <tr>\n",
       "      <th>contrast</th>\n",
       "      <td>0.571429</td>\n",
       "      <td>0.70</td>\n",
       "      <td>0.640000</td>\n",
       "      <td>0.666667</td>\n",
       "    </tr>\n",
       "  </tbody>\n",
       "</table>\n",
       "</div>"
      ],
      "text/plain": [
       "              LReg  DTree   RForest       SVM\n",
       "cause     0.608696   0.75  0.526316  0.600000\n",
       "contrast  0.571429   0.70  0.640000  0.666667"
      ]
     },
     "execution_count": 49,
     "metadata": {},
     "output_type": "execute_result"
    }
   ],
   "source": [
    "pd.DataFrame({\n",
    "    'LReg': [classification_report(y_test, y_pred_lreg, output_dict=True)['0']['f1-score'], classification_report(y_test, y_pred_lreg, output_dict=True)['1']['f1-score']],\n",
    "    'DTree': [classification_report(y_test, y_pred_tree, output_dict=True)['0']['f1-score'], classification_report(y_test, y_pred_tree, output_dict=True)['1']['f1-score']],\n",
    "    'RForest': [classification_report(y_test, y_pred_forest, output_dict=True)['0']['f1-score'], classification_report(y_test, y_pred_forest, output_dict=True)['1']['f1-score']],\n",
    "    'SVM': [classification_report(y_test, y_pred_svc, output_dict=True)['0']['f1-score'], classification_report(y_test, y_pred_svc, output_dict=True)['1']['f1-score']]\n",
    "}, index=['cause', 'contrast'])"
   ]
  },
  {
   "cell_type": "markdown",
   "metadata": {},
   "source": [
    "### Precision"
   ]
  },
  {
   "cell_type": "code",
   "execution_count": 50,
   "metadata": {},
   "outputs": [
    {
     "data": {
      "text/html": [
       "<div>\n",
       "<style scoped>\n",
       "    .dataframe tbody tr th:only-of-type {\n",
       "        vertical-align: middle;\n",
       "    }\n",
       "\n",
       "    .dataframe tbody tr th {\n",
       "        vertical-align: top;\n",
       "    }\n",
       "\n",
       "    .dataframe thead th {\n",
       "        text-align: right;\n",
       "    }\n",
       "</style>\n",
       "<table border=\"1\" class=\"dataframe\">\n",
       "  <thead>\n",
       "    <tr style=\"text-align: right;\">\n",
       "      <th></th>\n",
       "      <th>LReg</th>\n",
       "      <th>DTree</th>\n",
       "      <th>RForest</th>\n",
       "      <th>SVM</th>\n",
       "    </tr>\n",
       "  </thead>\n",
       "  <tbody>\n",
       "    <tr>\n",
       "      <th>cause</th>\n",
       "      <td>0.636364</td>\n",
       "      <td>0.75</td>\n",
       "      <td>0.714286</td>\n",
       "      <td>0.750000</td>\n",
       "    </tr>\n",
       "    <tr>\n",
       "      <th>contrast</th>\n",
       "      <td>0.545455</td>\n",
       "      <td>0.70</td>\n",
       "      <td>0.533333</td>\n",
       "      <td>0.571429</td>\n",
       "    </tr>\n",
       "  </tbody>\n",
       "</table>\n",
       "</div>"
      ],
      "text/plain": [
       "              LReg  DTree   RForest       SVM\n",
       "cause     0.636364   0.75  0.714286  0.750000\n",
       "contrast  0.545455   0.70  0.533333  0.571429"
      ]
     },
     "execution_count": 50,
     "metadata": {},
     "output_type": "execute_result"
    }
   ],
   "source": [
    "pd.DataFrame({\n",
    "    'LReg': [classification_report(y_test, y_pred_lreg, output_dict=True)['0']['precision'], classification_report(y_test, y_pred_lreg, output_dict=True)['1']['precision']],\n",
    "    'DTree': [classification_report(y_test, y_pred_tree, output_dict=True)['0']['precision'], classification_report(y_test, y_pred_tree, output_dict=True)['1']['precision']],\n",
    "    'RForest': [classification_report(y_test, y_pred_forest, output_dict=True)['0']['precision'], classification_report(y_test, y_pred_forest, output_dict=True)['1']['precision']],\n",
    "    'SVM': [classification_report(y_test, y_pred_svc, output_dict=True)['0']['precision'], classification_report(y_test, y_pred_svc, output_dict=True)['1']['precision']]\n",
    "}, index=['cause', 'contrast'])"
   ]
  },
  {
   "cell_type": "markdown",
   "metadata": {},
   "source": [
    "### Recall"
   ]
  },
  {
   "cell_type": "code",
   "execution_count": 51,
   "metadata": {},
   "outputs": [
    {
     "data": {
      "text/html": [
       "<div>\n",
       "<style scoped>\n",
       "    .dataframe tbody tr th:only-of-type {\n",
       "        vertical-align: middle;\n",
       "    }\n",
       "\n",
       "    .dataframe tbody tr th {\n",
       "        vertical-align: top;\n",
       "    }\n",
       "\n",
       "    .dataframe thead th {\n",
       "        text-align: right;\n",
       "    }\n",
       "</style>\n",
       "<table border=\"1\" class=\"dataframe\">\n",
       "  <thead>\n",
       "    <tr style=\"text-align: right;\">\n",
       "      <th></th>\n",
       "      <th>LReg</th>\n",
       "      <th>DTree</th>\n",
       "      <th>RForest</th>\n",
       "      <th>SVM</th>\n",
       "    </tr>\n",
       "  </thead>\n",
       "  <tbody>\n",
       "    <tr>\n",
       "      <th>cause</th>\n",
       "      <td>0.583333</td>\n",
       "      <td>0.75</td>\n",
       "      <td>0.416667</td>\n",
       "      <td>0.5</td>\n",
       "    </tr>\n",
       "    <tr>\n",
       "      <th>contrast</th>\n",
       "      <td>0.600000</td>\n",
       "      <td>0.70</td>\n",
       "      <td>0.800000</td>\n",
       "      <td>0.8</td>\n",
       "    </tr>\n",
       "  </tbody>\n",
       "</table>\n",
       "</div>"
      ],
      "text/plain": [
       "              LReg  DTree   RForest  SVM\n",
       "cause     0.583333   0.75  0.416667  0.5\n",
       "contrast  0.600000   0.70  0.800000  0.8"
      ]
     },
     "execution_count": 51,
     "metadata": {},
     "output_type": "execute_result"
    }
   ],
   "source": [
    "pd.DataFrame({\n",
    "    'LReg': [classification_report(y_test, y_pred_lreg, output_dict=True)['0']['recall'], classification_report(y_test, y_pred_lreg, output_dict=True)['1']['recall']],\n",
    "    'DTree': [classification_report(y_test, y_pred_tree, output_dict=True)['0']['recall'], classification_report(y_test, y_pred_tree, output_dict=True)['1']['recall']],\n",
    "    'RForest': [classification_report(y_test, y_pred_forest, output_dict=True)['0']['recall'], classification_report(y_test, y_pred_forest, output_dict=True)['1']['recall']],\n",
    "    'SVM': [classification_report(y_test, y_pred_svc, output_dict=True)['0']['recall'], classification_report(y_test, y_pred_svc, output_dict=True)['1']['recall']]\n",
    "}, index=['cause', 'contrast'])"
   ]
  },
  {
   "cell_type": "markdown",
   "metadata": {},
   "source": [
    "## Сравнение важности признаков\n",
    "\n",
    "Сравниваю абсолютные значения всех признаков"
   ]
  },
  {
   "cell_type": "code",
   "execution_count": 52,
   "metadata": {},
   "outputs": [],
   "source": [
    "features = pd.DataFrame({'LReg': abs(feature_importances_lreg[0]), \n",
    "              'DTree': feature_importances_tree, \n",
    "              'RForest': feature_importances_forest,\n",
    "              'SVM': abs(feature_importances_svc[0]),}, index=X_train.columns)"
   ]
  },
  {
   "cell_type": "code",
   "execution_count": 53,
   "metadata": {},
   "outputs": [],
   "source": [
    "import seaborn as sns\n",
    "import matplotlib.pyplot as plt"
   ]
  },
  {
   "cell_type": "code",
   "execution_count": 55,
   "metadata": {},
   "outputs": [
    {
     "data": {
      "image/png": "[encoded data removed]",
      "text/plain": [
       "<Figure size 720x720 with 4 Axes>"
      ]
     },
     "metadata": {
      "needs_background": "light"
     },
     "output_type": "display_data"
    }
   ],
   "source": [
    "fig, (ax,ax2) = plt.subplots(ncols=2, figsize=(10,10))\n",
    "fig.subplots_adjust(wspace=0.5)\n",
    "sns.heatmap(features[['LReg', 'SVM']], cmap=\"rocket\", ax=ax, cbar=True, vmin=0)\n",
    "sns.heatmap(features[['DTree', 'RForest']], cmap=\"rocket\", ax=ax2, cbar=True, vmax=0.12)\n",
    "plt.show()"
   ]
  },
  {
   "cell_type": "code",
   "execution_count": 56,
   "metadata": {},
   "outputs": [
    {
     "data": {
      "text/html": [
       "<div>\n",
       "<style scoped>\n",
       "    .dataframe tbody tr th:only-of-type {\n",
       "        vertical-align: middle;\n",
       "    }\n",
       "\n",
       "    .dataframe tbody tr th {\n",
       "        vertical-align: top;\n",
       "    }\n",
       "\n",
       "    .dataframe thead th {\n",
       "        text-align: right;\n",
       "    }\n",
       "</style>\n",
       "<table border=\"1\" class=\"dataframe\">\n",
       "  <thead>\n",
       "    <tr style=\"text-align: right;\">\n",
       "      <th></th>\n",
       "      <th>LReg</th>\n",
       "      <th>DTree</th>\n",
       "      <th>RForest</th>\n",
       "      <th>SVM</th>\n",
       "    </tr>\n",
       "  </thead>\n",
       "  <tbody>\n",
       "    <tr>\n",
       "      <th>n_words1</th>\n",
       "      <td>0.006433</td>\n",
       "      <td>0.080035</td>\n",
       "      <td>0.070077</td>\n",
       "      <td>0.323764</td>\n",
       "    </tr>\n",
       "    <tr>\n",
       "      <th>av_words_length1</th>\n",
       "      <td>0.015607</td>\n",
       "      <td>0.000000</td>\n",
       "      <td>0.025317</td>\n",
       "      <td>0.021880</td>\n",
       "    </tr>\n",
       "    <tr>\n",
       "      <th>n_words2</th>\n",
       "      <td>0.298930</td>\n",
       "      <td>0.085341</td>\n",
       "      <td>0.055466</td>\n",
       "      <td>0.061487</td>\n",
       "    </tr>\n",
       "    <tr>\n",
       "      <th>av_words_length2</th>\n",
       "      <td>0.002395</td>\n",
       "      <td>0.136853</td>\n",
       "      <td>0.060055</td>\n",
       "      <td>0.007624</td>\n",
       "    </tr>\n",
       "    <tr>\n",
       "      <th>n_words_diff</th>\n",
       "      <td>0.062449</td>\n",
       "      <td>0.000000</td>\n",
       "      <td>0.089215</td>\n",
       "      <td>0.174328</td>\n",
       "    </tr>\n",
       "    <tr>\n",
       "      <th>punct</th>\n",
       "      <td>0.194617</td>\n",
       "      <td>0.055797</td>\n",
       "      <td>0.068772</td>\n",
       "      <td>0.173632</td>\n",
       "    </tr>\n",
       "    <tr>\n",
       "      <th>ADJF1</th>\n",
       "      <td>0.367547</td>\n",
       "      <td>0.022774</td>\n",
       "      <td>0.044533</td>\n",
       "      <td>0.196908</td>\n",
       "    </tr>\n",
       "    <tr>\n",
       "      <th>ADJS1</th>\n",
       "      <td>0.678852</td>\n",
       "      <td>0.000000</td>\n",
       "      <td>0.005699</td>\n",
       "      <td>1.445136</td>\n",
       "    </tr>\n",
       "    <tr>\n",
       "      <th>ADVB1</th>\n",
       "      <td>0.659550</td>\n",
       "      <td>0.018310</td>\n",
       "      <td>0.027126</td>\n",
       "      <td>0.455026</td>\n",
       "    </tr>\n",
       "    <tr>\n",
       "      <th>COMP1</th>\n",
       "      <td>0.007468</td>\n",
       "      <td>0.000000</td>\n",
       "      <td>0.006732</td>\n",
       "      <td>0.121564</td>\n",
       "    </tr>\n",
       "    <tr>\n",
       "      <th>CONJ1</th>\n",
       "      <td>0.188462</td>\n",
       "      <td>0.000000</td>\n",
       "      <td>0.018431</td>\n",
       "      <td>0.129579</td>\n",
       "    </tr>\n",
       "    <tr>\n",
       "      <th>GRND1</th>\n",
       "      <td>0.381844</td>\n",
       "      <td>0.000000</td>\n",
       "      <td>0.012838</td>\n",
       "      <td>0.088380</td>\n",
       "    </tr>\n",
       "    <tr>\n",
       "      <th>INFN1</th>\n",
       "      <td>0.135127</td>\n",
       "      <td>0.000000</td>\n",
       "      <td>0.021967</td>\n",
       "      <td>0.133984</td>\n",
       "    </tr>\n",
       "    <tr>\n",
       "      <th>INTJ1</th>\n",
       "      <td>0.477172</td>\n",
       "      <td>0.034141</td>\n",
       "      <td>0.000000</td>\n",
       "      <td>0.546658</td>\n",
       "    </tr>\n",
       "    <tr>\n",
       "      <th>NOUN1</th>\n",
       "      <td>0.112540</td>\n",
       "      <td>0.000000</td>\n",
       "      <td>0.042276</td>\n",
       "      <td>0.188092</td>\n",
       "    </tr>\n",
       "    <tr>\n",
       "      <th>NPRO1</th>\n",
       "      <td>0.281026</td>\n",
       "      <td>0.039855</td>\n",
       "      <td>0.001676</td>\n",
       "      <td>0.093072</td>\n",
       "    </tr>\n",
       "    <tr>\n",
       "      <th>NUMR1</th>\n",
       "      <td>0.681801</td>\n",
       "      <td>0.000000</td>\n",
       "      <td>0.000000</td>\n",
       "      <td>1.000000</td>\n",
       "    </tr>\n",
       "    <tr>\n",
       "      <th>None1</th>\n",
       "      <td>0.195032</td>\n",
       "      <td>0.000000</td>\n",
       "      <td>0.003044</td>\n",
       "      <td>0.147108</td>\n",
       "    </tr>\n",
       "    <tr>\n",
       "      <th>PRCL1</th>\n",
       "      <td>0.281431</td>\n",
       "      <td>0.000000</td>\n",
       "      <td>0.026366</td>\n",
       "      <td>0.459223</td>\n",
       "    </tr>\n",
       "    <tr>\n",
       "      <th>PRED1</th>\n",
       "      <td>0.379235</td>\n",
       "      <td>0.000000</td>\n",
       "      <td>0.003870</td>\n",
       "      <td>0.531600</td>\n",
       "    </tr>\n",
       "    <tr>\n",
       "      <th>PREP1</th>\n",
       "      <td>0.147336</td>\n",
       "      <td>0.034161</td>\n",
       "      <td>0.015680</td>\n",
       "      <td>0.019915</td>\n",
       "    </tr>\n",
       "    <tr>\n",
       "      <th>PRTF1</th>\n",
       "      <td>0.948072</td>\n",
       "      <td>0.000000</td>\n",
       "      <td>0.003385</td>\n",
       "      <td>1.656577</td>\n",
       "    </tr>\n",
       "    <tr>\n",
       "      <th>PRTS1</th>\n",
       "      <td>0.187312</td>\n",
       "      <td>0.000000</td>\n",
       "      <td>0.000000</td>\n",
       "      <td>0.485965</td>\n",
       "    </tr>\n",
       "    <tr>\n",
       "      <th>VERB1</th>\n",
       "      <td>0.777283</td>\n",
       "      <td>0.000000</td>\n",
       "      <td>0.012556</td>\n",
       "      <td>0.744044</td>\n",
       "    </tr>\n",
       "    <tr>\n",
       "      <th>ADJF2</th>\n",
       "      <td>0.359635</td>\n",
       "      <td>0.034161</td>\n",
       "      <td>0.036183</td>\n",
       "      <td>0.629852</td>\n",
       "    </tr>\n",
       "    <tr>\n",
       "      <th>ADJS2</th>\n",
       "      <td>0.077559</td>\n",
       "      <td>0.000000</td>\n",
       "      <td>0.000000</td>\n",
       "      <td>0.231508</td>\n",
       "    </tr>\n",
       "    <tr>\n",
       "      <th>ADVB2</th>\n",
       "      <td>0.143290</td>\n",
       "      <td>0.055797</td>\n",
       "      <td>0.015800</td>\n",
       "      <td>0.077823</td>\n",
       "    </tr>\n",
       "    <tr>\n",
       "      <th>COMP2</th>\n",
       "      <td>0.580551</td>\n",
       "      <td>0.000000</td>\n",
       "      <td>0.008258</td>\n",
       "      <td>0.323127</td>\n",
       "    </tr>\n",
       "    <tr>\n",
       "      <th>CONJ2</th>\n",
       "      <td>0.274273</td>\n",
       "      <td>0.000000</td>\n",
       "      <td>0.031996</td>\n",
       "      <td>0.338593</td>\n",
       "    </tr>\n",
       "    <tr>\n",
       "      <th>GRND2</th>\n",
       "      <td>0.489743</td>\n",
       "      <td>0.000000</td>\n",
       "      <td>0.000169</td>\n",
       "      <td>0.199467</td>\n",
       "    </tr>\n",
       "    <tr>\n",
       "      <th>INFN2</th>\n",
       "      <td>0.101289</td>\n",
       "      <td>0.000000</td>\n",
       "      <td>0.010068</td>\n",
       "      <td>0.066259</td>\n",
       "    </tr>\n",
       "    <tr>\n",
       "      <th>INTJ2</th>\n",
       "      <td>0.532439</td>\n",
       "      <td>0.000000</td>\n",
       "      <td>0.005580</td>\n",
       "      <td>0.604966</td>\n",
       "    </tr>\n",
       "    <tr>\n",
       "      <th>NOUN2</th>\n",
       "      <td>0.399963</td>\n",
       "      <td>0.000000</td>\n",
       "      <td>0.044459</td>\n",
       "      <td>0.427605</td>\n",
       "    </tr>\n",
       "    <tr>\n",
       "      <th>NPRO2</th>\n",
       "      <td>0.085410</td>\n",
       "      <td>0.013914</td>\n",
       "      <td>0.000245</td>\n",
       "      <td>0.006818</td>\n",
       "    </tr>\n",
       "    <tr>\n",
       "      <th>NUMR2</th>\n",
       "      <td>0.033011</td>\n",
       "      <td>0.000000</td>\n",
       "      <td>0.004782</td>\n",
       "      <td>0.000000</td>\n",
       "    </tr>\n",
       "    <tr>\n",
       "      <th>None2</th>\n",
       "      <td>0.175869</td>\n",
       "      <td>0.000000</td>\n",
       "      <td>0.000000</td>\n",
       "      <td>0.808745</td>\n",
       "    </tr>\n",
       "    <tr>\n",
       "      <th>PRCL2</th>\n",
       "      <td>1.467078</td>\n",
       "      <td>0.215731</td>\n",
       "      <td>0.099309</td>\n",
       "      <td>1.310240</td>\n",
       "    </tr>\n",
       "    <tr>\n",
       "      <th>PRED2</th>\n",
       "      <td>0.043888</td>\n",
       "      <td>0.000000</td>\n",
       "      <td>0.006999</td>\n",
       "      <td>0.160976</td>\n",
       "    </tr>\n",
       "    <tr>\n",
       "      <th>PREP2</th>\n",
       "      <td>0.375781</td>\n",
       "      <td>0.000000</td>\n",
       "      <td>0.028545</td>\n",
       "      <td>0.464197</td>\n",
       "    </tr>\n",
       "    <tr>\n",
       "      <th>PRTF2</th>\n",
       "      <td>0.000814</td>\n",
       "      <td>0.000000</td>\n",
       "      <td>0.001722</td>\n",
       "      <td>0.018169</td>\n",
       "    </tr>\n",
       "    <tr>\n",
       "      <th>PRTS2</th>\n",
       "      <td>0.069404</td>\n",
       "      <td>0.000000</td>\n",
       "      <td>0.000000</td>\n",
       "      <td>0.000000</td>\n",
       "    </tr>\n",
       "    <tr>\n",
       "      <th>VERB2</th>\n",
       "      <td>1.048025</td>\n",
       "      <td>0.077075</td>\n",
       "      <td>0.020933</td>\n",
       "      <td>0.945152</td>\n",
       "    </tr>\n",
       "    <tr>\n",
       "      <th>n_similar_words</th>\n",
       "      <td>0.619928</td>\n",
       "      <td>0.000000</td>\n",
       "      <td>0.009395</td>\n",
       "      <td>0.479208</td>\n",
       "    </tr>\n",
       "    <tr>\n",
       "      <th>cosine_d2v</th>\n",
       "      <td>0.008374</td>\n",
       "      <td>0.096052</td>\n",
       "      <td>0.060474</td>\n",
       "      <td>0.002577</td>\n",
       "    </tr>\n",
       "  </tbody>\n",
       "</table>\n",
       "</div>"
      ],
      "text/plain": [
       "                      LReg     DTree   RForest       SVM\n",
       "n_words1          0.006433  0.080035  0.070077  0.323764\n",
       "av_words_length1  0.015607  0.000000  0.025317  0.021880\n",
       "n_words2          0.298930  0.085341  0.055466  0.061487\n",
       "av_words_length2  0.002395  0.136853  0.060055  0.007624\n",
       "n_words_diff      0.062449  0.000000  0.089215  0.174328\n",
       "punct             0.194617  0.055797  0.068772  0.173632\n",
       "ADJF1             0.367547  0.022774  0.044533  0.196908\n",
       "ADJS1             0.678852  0.000000  0.005699  1.445136\n",
       "ADVB1             0.659550  0.018310  0.027126  0.455026\n",
       "COMP1             0.007468  0.000000  0.006732  0.121564\n",
       "CONJ1             0.188462  0.000000  0.018431  0.129579\n",
       "GRND1             0.381844  0.000000  0.012838  0.088380\n",
       "INFN1             0.135127  0.000000  0.021967  0.133984\n",
       "INTJ1             0.477172  0.034141  0.000000  0.546658\n",
       "NOUN1             0.112540  0.000000  0.042276  0.188092\n",
       "NPRO1             0.281026  0.039855  0.001676  0.093072\n",
       "NUMR1             0.681801  0.000000  0.000000  1.000000\n",
       "None1             0.195032  0.000000  0.003044  0.147108\n",
       "PRCL1             0.281431  0.000000  0.026366  0.459223\n",
       "PRED1             0.379235  0.000000  0.003870  0.531600\n",
       "PREP1             0.147336  0.034161  0.015680  0.019915\n",
       "PRTF1             0.948072  0.000000  0.003385  1.656577\n",
       "PRTS1             0.187312  0.000000  0.000000  0.485965\n",
       "VERB1             0.777283  0.000000  0.012556  0.744044\n",
       "ADJF2             0.359635  0.034161  0.036183  0.629852\n",
       "ADJS2             0.077559  0.000000  0.000000  0.231508\n",
       "ADVB2             0.143290  0.055797  0.015800  0.077823\n",
       "COMP2             0.580551  0.000000  0.008258  0.323127\n",
       "CONJ2             0.274273  0.000000  0.031996  0.338593\n",
       "GRND2             0.489743  0.000000  0.000169  0.199467\n",
       "INFN2             0.101289  0.000000  0.010068  0.066259\n",
       "INTJ2             0.532439  0.000000  0.005580  0.604966\n",
       "NOUN2             0.399963  0.000000  0.044459  0.427605\n",
       "NPRO2             0.085410  0.013914  0.000245  0.006818\n",
       "NUMR2             0.033011  0.000000  0.004782  0.000000\n",
       "None2             0.175869  0.000000  0.000000  0.808745\n",
       "PRCL2             1.467078  0.215731  0.099309  1.310240\n",
       "PRED2             0.043888  0.000000  0.006999  0.160976\n",
       "PREP2             0.375781  0.000000  0.028545  0.464197\n",
       "PRTF2             0.000814  0.000000  0.001722  0.018169\n",
       "PRTS2             0.069404  0.000000  0.000000  0.000000\n",
       "VERB2             1.048025  0.077075  0.020933  0.945152\n",
       "n_similar_words   0.619928  0.000000  0.009395  0.479208\n",
       "cosine_d2v        0.008374  0.096052  0.060474  0.002577"
      ]
     },
     "execution_count": 56,
     "metadata": {},
     "output_type": "execute_result"
    }
   ],
   "source": [
    "features"
   ]
  },
  {
   "cell_type": "markdown",
   "metadata": {},
   "source": [
    "_Анна Полянская, НИУ ВШЭ, 2020_"
   ]
  }
 ],
 "metadata": {
  "kernelspec": {
   "display_name": "Python 3",
   "language": "python",
   "name": "python3"
  },
  "language_info": {
   "codemirror_mode": {
    "name": "ipython",
    "version": 3
   },
   "file_extension": ".py",
   "mimetype": "text/x-python",
   "name": "python",
   "nbconvert_exporter": "python",
   "pygments_lexer": "ipython3",
   "version": "3.7.3"
  }
 },
 "nbformat": 4,
 "nbformat_minor": 2
}
