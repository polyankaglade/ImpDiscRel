{
 "cells": [
  {
   "cell_type": "code",
   "execution_count": 39,
   "metadata": {},
   "outputs": [],
   "source": [
    "import pandas as pd\n",
    "\n",
    "from tqdm.auto import tqdm\n",
    "tqdm.pandas()"
   ]
  },
  {
   "cell_type": "markdown",
   "metadata": {},
   "source": [
    "## Данные\n",
    "\n",
    "собираю примеры из нескольких отдельных файлов"
   ]
  },
  {
   "cell_type": "code",
   "execution_count": 63,
   "metadata": {},
   "outputs": [],
   "source": [
    "contrast_df = pd.read_csv('contrast_examples.tsv', sep='\\t')\n",
    "cause_df = pd.read_csv('cause_examples.tsv', sep='\\t')"
   ]
  },
  {
   "cell_type": "code",
   "execution_count": 362,
   "metadata": {},
   "outputs": [
    {
     "data": {
      "text/html": [
       "<div>\n",
       "<style scoped>\n",
       "    .dataframe tbody tr th:only-of-type {\n",
       "        vertical-align: middle;\n",
       "    }\n",
       "\n",
       "    .dataframe tbody tr th {\n",
       "        vertical-align: top;\n",
       "    }\n",
       "\n",
       "    .dataframe thead th {\n",
       "        text-align: right;\n",
       "    }\n",
       "</style>\n",
       "<table border=\"1\" class=\"dataframe\">\n",
       "  <thead>\n",
       "    <tr style=\"text-align: right;\">\n",
       "      <th></th>\n",
       "      <th>id</th>\n",
       "      <th>текст</th>\n",
       "      <th>relation</th>\n",
       "      <th>есть маркер?</th>\n",
       "    </tr>\n",
       "  </thead>\n",
       "  <tbody>\n",
       "    <tr>\n",
       "      <th>0</th>\n",
       "      <td>407</td>\n",
       "      <td>В солнечный день, наверное, и вода играет друг...</td>\n",
       "      <td>contrast</td>\n",
       "      <td>нет</td>\n",
       "    </tr>\n",
       "    <tr>\n",
       "      <th>2</th>\n",
       "      <td>921</td>\n",
       "      <td>там никто не в курсе никаких автобусов_говорят...</td>\n",
       "      <td>contrast</td>\n",
       "      <td>нет</td>\n",
       "    </tr>\n",
       "    <tr>\n",
       "      <th>3</th>\n",
       "      <td>1051</td>\n",
       "      <td>В каком-то проёме за щёлкой эти монетки и оста...</td>\n",
       "      <td>contrast</td>\n",
       "      <td>нет</td>\n",
       "    </tr>\n",
       "    <tr>\n",
       "      <th>4</th>\n",
       "      <td>1067</td>\n",
       "      <td>Что ни говори, общий относительно приличный ур...</td>\n",
       "      <td>contrast</td>\n",
       "      <td>нет</td>\n",
       "    </tr>\n",
       "    <tr>\n",
       "      <th>5</th>\n",
       "      <td>1161</td>\n",
       "      <td>Коробка красивая,_прибор явно туфтовый, даже п...</td>\n",
       "      <td>contrast</td>\n",
       "      <td>нет</td>\n",
       "    </tr>\n",
       "  </tbody>\n",
       "</table>\n",
       "</div>"
      ],
      "text/plain": [
       "     id                                              текст  relation  \\\n",
       "0   407  В солнечный день, наверное, и вода играет друг...  contrast   \n",
       "2   921  там никто не в курсе никаких автобусов_говорят...  contrast   \n",
       "3  1051  В каком-то проёме за щёлкой эти монетки и оста...  contrast   \n",
       "4  1067  Что ни говори, общий относительно приличный ур...  contrast   \n",
       "5  1161  Коробка красивая,_прибор явно туфтовый, даже п...  contrast   \n",
       "\n",
       "  есть маркер?  \n",
       "0          нет  \n",
       "2          нет  \n",
       "3          нет  \n",
       "4          нет  \n",
       "5          нет  "
      ]
     },
     "execution_count": 362,
     "metadata": {},
     "output_type": "execute_result"
    }
   ],
   "source": [
    "df1 = contrast_df[contrast_df['подходит?']=='да'].drop(columns=['подходит?'])\n",
    "df1['relation'] = 'contrast'\n",
    "df1['есть маркер?'] = 'нет'\n",
    "df1['id'] = df1['id']+1\n",
    "df1.head()"
   ]
  },
  {
   "cell_type": "code",
   "execution_count": 161,
   "metadata": {},
   "outputs": [],
   "source": [
    "#df1[['id', 'текст']].to_csv('contrast_clean.tsv', sep='\\t')"
   ]
  },
  {
   "cell_type": "code",
   "execution_count": 361,
   "metadata": {},
   "outputs": [
    {
     "data": {
      "text/html": [
       "<div>\n",
       "<style scoped>\n",
       "    .dataframe tbody tr th:only-of-type {\n",
       "        vertical-align: middle;\n",
       "    }\n",
       "\n",
       "    .dataframe tbody tr th {\n",
       "        vertical-align: top;\n",
       "    }\n",
       "\n",
       "    .dataframe thead th {\n",
       "        text-align: right;\n",
       "    }\n",
       "</style>\n",
       "<table border=\"1\" class=\"dataframe\">\n",
       "  <thead>\n",
       "    <tr style=\"text-align: right;\">\n",
       "      <th></th>\n",
       "      <th>id</th>\n",
       "      <th>есть маркер?</th>\n",
       "      <th>текст</th>\n",
       "      <th>relation</th>\n",
       "    </tr>\n",
       "  </thead>\n",
       "  <tbody>\n",
       "    <tr>\n",
       "      <th>0</th>\n",
       "      <td>24</td>\n",
       "      <td>нет</td>\n",
       "      <td>Помада довольно стойкая,_отлично переживет пер...</td>\n",
       "      <td>cause</td>\n",
       "    </tr>\n",
       "    <tr>\n",
       "      <th>1</th>\n",
       "      <td>41</td>\n",
       "      <td>да</td>\n",
       "      <td>Поскольку кремовых румян у меня не было никаки...</td>\n",
       "      <td>cause</td>\n",
       "    </tr>\n",
       "    <tr>\n",
       "      <th>2</th>\n",
       "      <td>54</td>\n",
       "      <td>да</td>\n",
       "      <td>Благодаря достаточной пигментированности_хвати...</td>\n",
       "      <td>cause</td>\n",
       "    </tr>\n",
       "    <tr>\n",
       "      <th>3</th>\n",
       "      <td>57</td>\n",
       "      <td>да</td>\n",
       "      <td>Сверху кремовые текстуры я всегда перекрываю п...</td>\n",
       "      <td>cause</td>\n",
       "    </tr>\n",
       "    <tr>\n",
       "      <th>4</th>\n",
       "      <td>71</td>\n",
       "      <td>да</td>\n",
       "      <td>Популярная идея микробиома, косметики с про/пр...</td>\n",
       "      <td>cause</td>\n",
       "    </tr>\n",
       "  </tbody>\n",
       "</table>\n",
       "</div>"
      ],
      "text/plain": [
       "   id есть маркер?                                              текст relation\n",
       "0  24          нет  Помада довольно стойкая,_отлично переживет пер...    cause\n",
       "1  41           да  Поскольку кремовых румян у меня не было никаки...    cause\n",
       "2  54           да  Благодаря достаточной пигментированности_хвати...    cause\n",
       "3  57           да  Сверху кремовые текстуры я всегда перекрываю п...    cause\n",
       "4  71           да  Популярная идея микробиома, косметики с про/пр...    cause"
      ]
     },
     "execution_count": 361,
     "metadata": {},
     "output_type": "execute_result"
    }
   ],
   "source": [
    "df2 = cause_df\n",
    "df2['relation'] = 'cause'\n",
    "df2.head()"
   ]
  },
  {
   "cell_type": "markdown",
   "metadata": {},
   "source": [
    "склеиваю два датафрейма и проверяю, что нигде ничего не потерялось (нет пустых значений)"
   ]
  },
  {
   "cell_type": "code",
   "execution_count": 119,
   "metadata": {},
   "outputs": [
    {
     "name": "stderr",
     "output_type": "stream",
     "text": [
      "C:\\ProgramData\\Anaconda3\\lib\\site-packages\\ipykernel_launcher.py:1: FutureWarning: Sorting because non-concatenation axis is not aligned. A future version\n",
      "of pandas will change to not sort by default.\n",
      "\n",
      "To accept the future behavior, pass 'sort=False'.\n",
      "\n",
      "To retain the current behavior and silence the warning, pass 'sort=True'.\n",
      "\n",
      "  \"\"\"Entry point for launching an IPython kernel.\n"
     ]
    },
    {
     "data": {
      "text/plain": [
       "id              False\n",
       "relation        False\n",
       "есть маркер?    False\n",
       "текст           False\n",
       "dtype: bool"
      ]
     },
     "execution_count": 119,
     "metadata": {},
     "output_type": "execute_result"
    }
   ],
   "source": [
    "all_data = pd.concat([df1, df2], ignore_index=True)\n",
    "all_data.isna().any()"
   ]
  },
  {
   "cell_type": "markdown",
   "metadata": {},
   "source": [
    "Разделяю пример на две ЭДЕ по `_`"
   ]
  },
  {
   "cell_type": "code",
   "execution_count": 120,
   "metadata": {},
   "outputs": [
    {
     "data": {
      "text/html": [
       "<div>\n",
       "<style scoped>\n",
       "    .dataframe tbody tr th:only-of-type {\n",
       "        vertical-align: middle;\n",
       "    }\n",
       "\n",
       "    .dataframe tbody tr th {\n",
       "        vertical-align: top;\n",
       "    }\n",
       "\n",
       "    .dataframe thead th {\n",
       "        text-align: right;\n",
       "    }\n",
       "</style>\n",
       "<table border=\"1\" class=\"dataframe\">\n",
       "  <thead>\n",
       "    <tr style=\"text-align: right;\">\n",
       "      <th></th>\n",
       "      <th>id</th>\n",
       "      <th>relation</th>\n",
       "      <th>есть маркер?</th>\n",
       "      <th>текст</th>\n",
       "      <th>эде1</th>\n",
       "      <th>эде2</th>\n",
       "    </tr>\n",
       "  </thead>\n",
       "  <tbody>\n",
       "    <tr>\n",
       "      <th>0</th>\n",
       "      <td>407</td>\n",
       "      <td>contrast</td>\n",
       "      <td>нет</td>\n",
       "      <td>В солнечный день, наверное, и вода играет друг...</td>\n",
       "      <td>В солнечный день, наверное, и вода играет друг...</td>\n",
       "      <td>Главное, что это не повод сидеть дома,</td>\n",
       "    </tr>\n",
       "    <tr>\n",
       "      <th>1</th>\n",
       "      <td>921</td>\n",
       "      <td>contrast</td>\n",
       "      <td>нет</td>\n",
       "      <td>там никто не в курсе никаких автобусов_говорят...</td>\n",
       "      <td>там никто не в курсе никаких автобусов</td>\n",
       "      <td>говорят; что всё на автостанцию приходит.</td>\n",
       "    </tr>\n",
       "    <tr>\n",
       "      <th>2</th>\n",
       "      <td>1051</td>\n",
       "      <td>contrast</td>\n",
       "      <td>нет</td>\n",
       "      <td>В каком-то проёме за щёлкой эти монетки и оста...</td>\n",
       "      <td>В каком-то проёме за щёлкой эти монетки и оста...</td>\n",
       "      <td>И даже никаких чеков автомат не выдаёт.</td>\n",
       "    </tr>\n",
       "    <tr>\n",
       "      <th>3</th>\n",
       "      <td>1067</td>\n",
       "      <td>contrast</td>\n",
       "      <td>нет</td>\n",
       "      <td>Что ни говори, общий относительно приличный ур...</td>\n",
       "      <td>Что ни говори, общий относительно приличный ур...</td>\n",
       "      <td>Автобусный транспорт реально много где на уров...</td>\n",
       "    </tr>\n",
       "    <tr>\n",
       "      <th>4</th>\n",
       "      <td>1161</td>\n",
       "      <td>contrast</td>\n",
       "      <td>нет</td>\n",
       "      <td>Коробка красивая,_прибор явно туфтовый, даже п...</td>\n",
       "      <td>Коробка красивая,</td>\n",
       "      <td>прибор явно туфтовый, даже по внешнему виду.</td>\n",
       "    </tr>\n",
       "  </tbody>\n",
       "</table>\n",
       "</div>"
      ],
      "text/plain": [
       "     id  relation есть маркер?  \\\n",
       "0   407  contrast          нет   \n",
       "1   921  contrast          нет   \n",
       "2  1051  contrast          нет   \n",
       "3  1067  contrast          нет   \n",
       "4  1161  contrast          нет   \n",
       "\n",
       "                                               текст  \\\n",
       "0  В солнечный день, наверное, и вода играет друг...   \n",
       "1  там никто не в курсе никаких автобусов_говорят...   \n",
       "2  В каком-то проёме за щёлкой эти монетки и оста...   \n",
       "3  Что ни говори, общий относительно приличный ур...   \n",
       "4  Коробка красивая,_прибор явно туфтовый, даже п...   \n",
       "\n",
       "                                                эде1  \\\n",
       "0  В солнечный день, наверное, и вода играет друг...   \n",
       "1             там никто не в курсе никаких автобусов   \n",
       "2  В каком-то проёме за щёлкой эти монетки и оста...   \n",
       "3  Что ни говори, общий относительно приличный ур...   \n",
       "4                                  Коробка красивая,   \n",
       "\n",
       "                                                эде2  \n",
       "0             Главное, что это не повод сидеть дома,  \n",
       "1          говорят; что всё на автостанцию приходит.  \n",
       "2            И даже никаких чеков автомат не выдаёт.  \n",
       "3  Автобусный транспорт реально много где на уров...  \n",
       "4       прибор явно туфтовый, даже по внешнему виду.  "
      ]
     },
     "execution_count": 120,
     "metadata": {},
     "output_type": "execute_result"
    }
   ],
   "source": [
    "new_df = all_data['текст'].str.split('_',expand=True)\n",
    "new_df = new_df.rename(columns={0:'эде1', 1:'эде2'})\n",
    "all_data = pd.concat([ all_data, new_df[['эде1', 'эде2']] ], axis=1)\n",
    "all_data.head()"
   ]
  },
  {
   "cell_type": "markdown",
   "metadata": {},
   "source": [
    "# Признаки\n",
    "\n",
    "считаю все признаки, которые можно получить автоматически"
   ]
  },
  {
   "cell_type": "markdown",
   "metadata": {},
   "source": [
    "## Длины\n",
    "\n",
    "Токенизирую тексты и считаю следующие параметры (учитывая только слова, без пунктуации):\n",
    "\n",
    "`n_words` - кол-во слов в каждой ЭДЕ\n",
    "\n",
    "`av_words_length` - средняя длина слова в каждой ЭДЕ\n",
    "\n",
    "`n_words_diff` - разница в кол-вах между словами (знак показывает, какая из ЭДЕ длинее)"
   ]
  },
  {
   "cell_type": "code",
   "execution_count": 121,
   "metadata": {},
   "outputs": [],
   "source": [
    "import re\n",
    "from razdel import tokenize"
   ]
  },
  {
   "cell_type": "code",
   "execution_count": 122,
   "metadata": {},
   "outputs": [],
   "source": [
    "def tokenizer(text_data):\n",
    "    tokens = [_.text for _ in list(tokenize(str(text_data).lower()))] #if not re.search('[^а-яА-ЯёЁa-zA-z]', _.text)]\n",
    "    return \" \".join(tokens)\n",
    "\n",
    "def get_words(tokens):\n",
    "    words = [token for token in tokens.split() if not re.search('[^а-яА-ЯёЁa-zA-z]', token)]\n",
    "    return \" \".join(words)\n",
    "\n",
    "def count_words(words):\n",
    "    return len(words.split())\n",
    "\n",
    "def av_word_length(words):\n",
    "    l = [len(word) for word in words.split()]\n",
    "    return sum(l)/len(l)"
   ]
  },
  {
   "cell_type": "code",
   "execution_count": 123,
   "metadata": {},
   "outputs": [
    {
     "data": {
      "application/vnd.jupyter.widget-view+json": {
       "model_id": "5c670da5e7de4f9a8f8f7d5c28149a59",
       "version_major": 2,
       "version_minor": 0
      },
      "text/plain": [
       "HBox(children=(IntProgress(value=0, max=162), HTML(value='')))"
      ]
     },
     "metadata": {},
     "output_type": "display_data"
    },
    {
     "data": {
      "application/vnd.jupyter.widget-view+json": {
       "model_id": "42100f424a074cb49c4f4976c1ee7256",
       "version_major": 2,
       "version_minor": 0
      },
      "text/plain": [
       "HBox(children=(IntProgress(value=0, max=162), HTML(value='')))"
      ]
     },
     "metadata": {},
     "output_type": "display_data"
    },
    {
     "data": {
      "application/vnd.jupyter.widget-view+json": {
       "model_id": "c2d472eec75f4e1e8c34f8d77b192289",
       "version_major": 2,
       "version_minor": 0
      },
      "text/plain": [
       "HBox(children=(IntProgress(value=0, max=162), HTML(value='')))"
      ]
     },
     "metadata": {},
     "output_type": "display_data"
    },
    {
     "data": {
      "application/vnd.jupyter.widget-view+json": {
       "model_id": "3bfcf7df1ebe42c190551d29a6ae6998",
       "version_major": 2,
       "version_minor": 0
      },
      "text/plain": [
       "HBox(children=(IntProgress(value=0, max=162), HTML(value='')))"
      ]
     },
     "metadata": {},
     "output_type": "display_data"
    },
    {
     "data": {
      "application/vnd.jupyter.widget-view+json": {
       "model_id": "99c9a197e947475e97464bc979867e23",
       "version_major": 2,
       "version_minor": 0
      },
      "text/plain": [
       "HBox(children=(IntProgress(value=0, max=162), HTML(value='')))"
      ]
     },
     "metadata": {},
     "output_type": "display_data"
    },
    {
     "data": {
      "application/vnd.jupyter.widget-view+json": {
       "model_id": "ee64051098b34bbfa33453d0eace915e",
       "version_major": 2,
       "version_minor": 0
      },
      "text/plain": [
       "HBox(children=(IntProgress(value=0, max=162), HTML(value='')))"
      ]
     },
     "metadata": {},
     "output_type": "display_data"
    },
    {
     "data": {
      "application/vnd.jupyter.widget-view+json": {
       "model_id": "61e6e9019e8740e9ba7d4381f0112fba",
       "version_major": 2,
       "version_minor": 0
      },
      "text/plain": [
       "HBox(children=(IntProgress(value=0, max=162), HTML(value='')))"
      ]
     },
     "metadata": {},
     "output_type": "display_data"
    },
    {
     "data": {
      "application/vnd.jupyter.widget-view+json": {
       "model_id": "197af658fd914b9fbb2a73a85b62423b",
       "version_major": 2,
       "version_minor": 0
      },
      "text/plain": [
       "HBox(children=(IntProgress(value=0, max=162), HTML(value='')))"
      ]
     },
     "metadata": {},
     "output_type": "display_data"
    }
   ],
   "source": [
    "for i in ['1', '2']:\n",
    "    all_data['tokens'+i] = all_data['эде'+i].progress_apply(tokenizer)\n",
    "    all_data['words'+i] = all_data['tokens'+i].progress_apply(get_words)\n",
    "    all_data['n_words'+i] = all_data['words'+i].progress_apply(count_words)\n",
    "    all_data['av_words_length'+i] = all_data['words'+i].progress_apply(av_word_length)"
   ]
  },
  {
   "cell_type": "code",
   "execution_count": 124,
   "metadata": {},
   "outputs": [],
   "source": [
    "all_data['n_words_diff'] = all_data['n_words1'] - all_data['n_words2']"
   ]
  },
  {
   "cell_type": "markdown",
   "metadata": {},
   "source": [
    "## Пунктуация между ЭДЕ\n",
    "\n",
    "`punct` - знак препинания между двумя ЭДЕ (беру последний токен первой ЭДЕ). _None_ если знаков там нет. Данные заранее нормализованы вручную так, чтобы знак оставался в первом эелементе. "
   ]
  },
  {
   "cell_type": "code",
   "execution_count": 126,
   "metadata": {},
   "outputs": [],
   "source": [
    "def find_punct(tokens):\n",
    "    last = tokens[-1]\n",
    "    if last not in ['.', ',', ':', '-', '?', ')', '…']:\n",
    "        last = 'none'\n",
    "        \n",
    "    return last\n",
    "\n",
    "all_data['punct'] = all_data['tokens1'].apply(find_punct)\n",
    "all_data['if punct'] = (all_data['punct'] != 'none')"
   ]
  },
  {
   "cell_type": "markdown",
   "metadata": {},
   "source": [
    "## POS анализ\n",
    "\n",
    "Считаю вектор со значениями всех чатей речи и разбиваю его на отдельные признаки"
   ]
  },
  {
   "cell_type": "code",
   "execution_count": 127,
   "metadata": {},
   "outputs": [],
   "source": [
    "from pymorphy2 import MorphAnalyzer\n",
    "morph = MorphAnalyzer()"
   ]
  },
  {
   "cell_type": "code",
   "execution_count": 133,
   "metadata": {},
   "outputs": [],
   "source": [
    "tag_list = ['ADJF', 'ADJS', 'ADVB', 'COMP', 'CONJ', 'GRND', 'INFN', 'INTJ', 'NOUN',\n",
    "            'NPRO', 'NUMR', 'None', 'PRCL', 'PRED', 'PREP', 'PRTF', 'PRTS', 'VERB']"
   ]
  },
  {
   "cell_type": "code",
   "execution_count": 128,
   "metadata": {},
   "outputs": [],
   "source": [
    "def count_POS(words):\n",
    "    POS_dict = {'ADJF': 0,\n",
    "                'ADJS': 0,\n",
    "                'ADVB': 0,\n",
    "                'COMP': 0,\n",
    "                'CONJ': 0,\n",
    "                'GRND': 0,\n",
    "                'INFN': 0,\n",
    "                'INTJ': 0,\n",
    "                'NOUN': 0,\n",
    "                'NPRO': 0,\n",
    "                'NUMR': 0,\n",
    "                'None': 0,\n",
    "                'PRCL': 0,\n",
    "                'PRED': 0,\n",
    "                'PREP': 0,\n",
    "                'PRTF': 0,\n",
    "                'PRTS': 0,\n",
    "                'VERB': 0}\n",
    "    \n",
    "    for word in words.split():\n",
    "        p = morph.parse(word)[0]\n",
    "        tag = p.tag.POS\n",
    "        if tag is None:\n",
    "            tag = 'None'\n",
    "        POS_dict[tag] += 1\n",
    "    return list(POS_dict.values())"
   ]
  },
  {
   "cell_type": "code",
   "execution_count": 134,
   "metadata": {},
   "outputs": [
    {
     "data": {
      "application/vnd.jupyter.widget-view+json": {
       "model_id": "5822a695116d496eacd25c1a518f564e",
       "version_major": 2,
       "version_minor": 0
      },
      "text/plain": [
       "HBox(children=(IntProgress(value=0, max=162), HTML(value='')))"
      ]
     },
     "metadata": {},
     "output_type": "display_data"
    },
    {
     "data": {
      "application/vnd.jupyter.widget-view+json": {
       "model_id": "afe90e7e335c4f2bb4bd38cedff38b1d",
       "version_major": 2,
       "version_minor": 0
      },
      "text/plain": [
       "HBox(children=(IntProgress(value=0, max=162), HTML(value='')))"
      ]
     },
     "metadata": {},
     "output_type": "display_data"
    }
   ],
   "source": [
    "for i in ['1', '2']:\n",
    "    all_data['pos_vector'+i] = all_data['words'+i].progress_apply(count_POS)\n",
    "    \n",
    "    all_data[ [tag+i for tag in tag_list] ] = pd.DataFrame(all_data['pos_vector'+i].tolist())"
   ]
  },
  {
   "cell_type": "markdown",
   "metadata": {},
   "source": [
    "## Повторяющиеся слова\n",
    "\n",
    "Лемматизирую тексты и считаю сколько слов встречаются в обеих ЭДЕ"
   ]
  },
  {
   "cell_type": "code",
   "execution_count": 158,
   "metadata": {},
   "outputs": [],
   "source": [
    "def lemmatizer(words):\n",
    "    lem_text = []\n",
    "    for word in words.split():\n",
    "        lem = morph.parse(word)[0].normal_form\n",
    "#         if lem not in stops:\n",
    "        lem_text.append(lem)\n",
    "    return ' '.join(lem_text)\n",
    "\n",
    "def similar_words(lemm_a, lemm_b):\n",
    "    return list(set(lemm_a.split()) & set(lemm_b.split()))"
   ]
  },
  {
   "cell_type": "code",
   "execution_count": 147,
   "metadata": {},
   "outputs": [
    {
     "data": {
      "application/vnd.jupyter.widget-view+json": {
       "model_id": "48da1a86099a4fffb33df06568e03774",
       "version_major": 2,
       "version_minor": 0
      },
      "text/plain": [
       "HBox(children=(IntProgress(value=0, max=162), HTML(value='')))"
      ]
     },
     "metadata": {},
     "output_type": "display_data"
    },
    {
     "data": {
      "application/vnd.jupyter.widget-view+json": {
       "model_id": "b64927d77f6b41a1a9a77c76ba3d4d45",
       "version_major": 2,
       "version_minor": 0
      },
      "text/plain": [
       "HBox(children=(IntProgress(value=0, max=162), HTML(value='')))"
      ]
     },
     "metadata": {},
     "output_type": "display_data"
    }
   ],
   "source": [
    "for i in ['1', '2']:\n",
    "    all_data['lemm'+i] = all_data['words'+i].progress_apply(lemmatizer)"
   ]
  },
  {
   "cell_type": "code",
   "execution_count": 159,
   "metadata": {},
   "outputs": [],
   "source": [
    "all_data['similar_words'] = all_data.apply(lambda x: similar_words(x['lemm1'], x['lemm2']), axis=1)\n",
    "all_data['n_similar_words'] = all_data['similar_words'].apply(len)"
   ]
  },
  {
   "cell_type": "code",
   "execution_count": 364,
   "metadata": {
    "scrolled": false
   },
   "outputs": [
    {
     "data": {
      "text/plain": [
       "2                                     [и]\n",
       "3                    [уровень, транспорт]\n",
       "9                                     [с]\n",
       "11                               [бывать]\n",
       "15                                  [кот]\n",
       "18                               [писать]\n",
       "20                                  [для]\n",
       "21                             [хотеться]\n",
       "22     [быстрый, результат, это, к, путь]\n",
       "23                    [быть, пищеварение]\n",
       "25                      [тестер, платить]\n",
       "26                             [работать]\n",
       "27                    [требовать, ресурс]\n",
       "28                               [способ]\n",
       "30                                  [что]\n",
       "32                           [технология]\n",
       "34                                   [не]\n",
       "35                            [я, хотеть]\n",
       "37                [я, мочь, сказать, что]\n",
       "39                             [удобство]\n",
       "41              [значит, нужно, что, это]\n",
       "42            [россия, что, это, союз, и]\n",
       "45                                  [они]\n",
       "49                                [когда]\n",
       "53                              [я, быть]\n",
       "56                                [не, я]\n",
       "59                                  [что]\n",
       "60                                  [что]\n",
       "62                                [я, на]\n",
       "66                      [класс, парковка]\n",
       "                      ...                \n",
       "72                                   [по]\n",
       "73                        [я, дневный, и]\n",
       "79                                    [и]\n",
       "82                                    [я]\n",
       "87                                [диван]\n",
       "92                                    [я]\n",
       "95                                   [не]\n",
       "97                                    [и]\n",
       "100                          [это, время]\n",
       "110                                   [к]\n",
       "115                               [волос]\n",
       "119                              [и, они]\n",
       "120                  [сервис, уязвимость]\n",
       "121                                   [с]\n",
       "122                      [звонить, вы, с]\n",
       "123                              [это, к]\n",
       "128                                  [не]\n",
       "129                           [россия, и]\n",
       "132                                  [не]\n",
       "133                                   [в]\n",
       "142                                [быть]\n",
       "143                     [граница, плохой]\n",
       "146                                 [что]\n",
       "147                                  [не]\n",
       "149                             [большой]\n",
       "150                            [в, центр]\n",
       "153                                   [у]\n",
       "155                               [очень]\n",
       "156                                  [не]\n",
       "160                                   [я]\n",
       "Name: similar_words, Length: 61, dtype: object"
      ]
     },
     "execution_count": 364,
     "metadata": {},
     "output_type": "execute_result"
    }
   ],
   "source": [
    "all_data[all_data['n_similar_words'] != 0]['similar_words']"
   ]
  },
  {
   "cell_type": "markdown",
   "metadata": {},
   "source": [
    "## Эмбединги\n",
    "\n",
    "Обучаю модель, получаю вектора размерности 10 для каждой пары ЭДЕ и считаю их косинусную близовть. Вектора разбиваю на 10 отдельных признаков."
   ]
  },
  {
   "cell_type": "markdown",
   "metadata": {},
   "source": [
    "### doc2vec"
   ]
  },
  {
   "cell_type": "code",
   "execution_count": 162,
   "metadata": {},
   "outputs": [],
   "source": [
    "from gensim.models.doc2vec import Doc2Vec, TaggedDocument"
   ]
  },
  {
   "cell_type": "code",
   "execution_count": 179,
   "metadata": {},
   "outputs": [
    {
     "data": {
      "text/plain": [
       "324"
      ]
     },
     "execution_count": 179,
     "metadata": {},
     "output_type": "execute_result"
    }
   ],
   "source": [
    "corpora = all_data['lemm1'].values.tolist() + all_data['lemm2'].values.tolist()\n",
    "len(corpora)"
   ]
  },
  {
   "cell_type": "code",
   "execution_count": 186,
   "metadata": {},
   "outputs": [],
   "source": [
    "documents = [TaggedDocument(doc.split(), [i]) for i, doc in enumerate(corpora)]\n",
    "model = Doc2Vec(documents, vector_size=10, window=2, min_count=1)"
   ]
  },
  {
   "cell_type": "code",
   "execution_count": 198,
   "metadata": {},
   "outputs": [],
   "source": [
    "def get_d2v_vector(lemm):\n",
    "    return model.infer_vector(lemm.split())\n",
    "\n",
    "def cosine_d2v(lemm1, lemm2):\n",
    "    return model.wv.n_similarity(lemm1.split(),lemm2.split())"
   ]
  },
  {
   "cell_type": "code",
   "execution_count": 195,
   "metadata": {},
   "outputs": [
    {
     "data": {
      "application/vnd.jupyter.widget-view+json": {
       "model_id": "db166d88fce34f3eace5cfa1099ea679",
       "version_major": 2,
       "version_minor": 0
      },
      "text/plain": [
       "HBox(children=(IntProgress(value=0, max=162), HTML(value='')))"
      ]
     },
     "metadata": {},
     "output_type": "display_data"
    },
    {
     "data": {
      "application/vnd.jupyter.widget-view+json": {
       "model_id": "92d6ac4169be453bbeb2fcf1e5394e86",
       "version_major": 2,
       "version_minor": 0
      },
      "text/plain": [
       "HBox(children=(IntProgress(value=0, max=162), HTML(value='')))"
      ]
     },
     "metadata": {},
     "output_type": "display_data"
    }
   ],
   "source": [
    "for i in ['1', '2']:\n",
    "    all_data['d2v_vector'+i] = all_data['lemm'+i].progress_apply(get_d2v_vector)\n",
    "    all_data[ ['v'+str(n)+'_'+i for n in range(10)] ] = pd.DataFrame(all_data['d2v_vector'+i].tolist())"
   ]
  },
  {
   "cell_type": "code",
   "execution_count": 199,
   "metadata": {},
   "outputs": [],
   "source": [
    "all_data['cosine_d2v'] = all_data.apply(lambda x: cosine_d2v(x['lemm1'], x['lemm2']), axis=1)"
   ]
  },
  {
   "cell_type": "code",
   "execution_count": 202,
   "metadata": {},
   "outputs": [],
   "source": [
    "#all_data.to_excel('data_d2vvectors.xlsx')"
   ]
  },
  {
   "cell_type": "markdown",
   "metadata": {},
   "source": [
    "## Полярность\n",
    "\n",
    "сделаю если будет время"
   ]
  },
  {
   "cell_type": "markdown",
   "metadata": {},
   "source": [
    "### Сохранение всех результатов экселе"
   ]
  },
  {
   "cell_type": "code",
   "execution_count": 137,
   "metadata": {},
   "outputs": [],
   "source": [
    "all_data.to_excel('data_full_markup.xlsx')"
   ]
  },
  {
   "cell_type": "markdown",
   "metadata": {},
   "source": [
    "# Модели"
   ]
  },
  {
   "cell_type": "code",
   "execution_count": 251,
   "metadata": {},
   "outputs": [],
   "source": [
    "import numpy as np\n",
    "from sklearn.metrics import classification_report"
   ]
  },
  {
   "cell_type": "markdown",
   "metadata": {},
   "source": [
    "## Обчающая и тестовая выборки"
   ]
  },
  {
   "cell_type": "code",
   "execution_count": 225,
   "metadata": {},
   "outputs": [],
   "source": [
    "from sklearn.preprocessing import LabelEncoder\n",
    "from sklearn.model_selection import train_test_split"
   ]
  },
  {
   "cell_type": "code",
   "execution_count": 203,
   "metadata": {},
   "outputs": [],
   "source": [
    "no_marker = all_data[all_data['есть маркер?'] == 'нет']"
   ]
  },
  {
   "cell_type": "code",
   "execution_count": 277,
   "metadata": {},
   "outputs": [],
   "source": [
    "not_features = ['id', 'есть маркер?', 'текст',\n",
    "                'эде1', 'эде2',\n",
    "                'tokens1', 'tokens2',\n",
    "                'words1', 'words2',\n",
    "                'pos_vector1', 'pos_vector2',\n",
    "                'lemm1', 'lemm2',\n",
    "                'similar_words', 'if punct', \n",
    "                'd2v_vector1', 'd2v_vector2']\n",
    "\n",
    "not_features.extend(['v'+str(n)+'_'+'1' for n in range(10)])\n",
    "not_features.extend(['v'+str(n)+'_'+'2' for n in range(10)])\n",
    "\n",
    "features = list(set(no_marker.columns.values.tolist()) - set(not_features))\n",
    "\n",
    "data = no_marker.drop(columns=not_features)\n",
    "data = data.apply(LabelEncoder().fit_transform) # 1 = contrast, 0 = cause\n",
    "\n",
    "X = data.drop(columns=['relation'])\n",
    "y = data['relation']\n",
    "\n",
    "X_train, X_test, y_train, y_test = train_test_split(X, y, \n",
    "                                                    stratify=y,\n",
    "                                                    test_size=0.2, # мало данных очень :(\n",
    "                                                    random_state=42)"
   ]
  },
  {
   "cell_type": "code",
   "execution_count": 278,
   "metadata": {},
   "outputs": [
    {
     "name": "stdout",
     "output_type": "stream",
     "text": [
      "<class 'pandas.core.frame.DataFrame'>\n",
      "Int64Index: 88 entries, 90 to 114\n",
      "Data columns (total 44 columns):\n",
      "n_words1            88 non-null int64\n",
      "av_words_length1    88 non-null int64\n",
      "n_words2            88 non-null int64\n",
      "av_words_length2    88 non-null int64\n",
      "n_words_diff        88 non-null int64\n",
      "punct               88 non-null int32\n",
      "ADJF1               88 non-null int64\n",
      "ADJS1               88 non-null int64\n",
      "ADVB1               88 non-null int64\n",
      "COMP1               88 non-null int64\n",
      "CONJ1               88 non-null int64\n",
      "GRND1               88 non-null int64\n",
      "INFN1               88 non-null int64\n",
      "INTJ1               88 non-null int64\n",
      "NOUN1               88 non-null int64\n",
      "NPRO1               88 non-null int64\n",
      "NUMR1               88 non-null int64\n",
      "None1               88 non-null int64\n",
      "PRCL1               88 non-null int64\n",
      "PRED1               88 non-null int64\n",
      "PREP1               88 non-null int64\n",
      "PRTF1               88 non-null int64\n",
      "PRTS1               88 non-null int64\n",
      "VERB1               88 non-null int64\n",
      "ADJF2               88 non-null int64\n",
      "ADJS2               88 non-null int64\n",
      "ADVB2               88 non-null int64\n",
      "COMP2               88 non-null int64\n",
      "CONJ2               88 non-null int64\n",
      "GRND2               88 non-null int64\n",
      "INFN2               88 non-null int64\n",
      "INTJ2               88 non-null int64\n",
      "NOUN2               88 non-null int64\n",
      "NPRO2               88 non-null int64\n",
      "NUMR2               88 non-null int64\n",
      "None2               88 non-null int64\n",
      "PRCL2               88 non-null int64\n",
      "PRED2               88 non-null int64\n",
      "PREP2               88 non-null int64\n",
      "PRTF2               88 non-null int64\n",
      "PRTS2               88 non-null int64\n",
      "VERB2               88 non-null int64\n",
      "n_similar_words     88 non-null int64\n",
      "cosine_d2v          88 non-null int64\n",
      "dtypes: int32(1), int64(43)\n",
      "memory usage: 30.6 KB\n"
     ]
    }
   ],
   "source": [
    "X_train.info()"
   ]
  },
  {
   "cell_type": "markdown",
   "metadata": {},
   "source": [
    "## Логистическая регрессия"
   ]
  },
  {
   "cell_type": "code",
   "execution_count": 279,
   "metadata": {},
   "outputs": [],
   "source": [
    "from sklearn.linear_model import LogisticRegression"
   ]
  },
  {
   "cell_type": "code",
   "execution_count": 280,
   "metadata": {},
   "outputs": [
    {
     "name": "stderr",
     "output_type": "stream",
     "text": [
      "C:\\Users\\User\\AppData\\Roaming\\Python\\Python37\\site-packages\\sklearn\\linear_model\\logistic.py:432: FutureWarning: Default solver will be changed to 'lbfgs' in 0.22. Specify a solver to silence this warning.\n",
      "  FutureWarning)\n"
     ]
    },
    {
     "data": {
      "text/plain": [
       "LogisticRegression(C=1.0, class_weight=None, dual=False, fit_intercept=True,\n",
       "                   intercept_scaling=1, l1_ratio=None, max_iter=100,\n",
       "                   multi_class='warn', n_jobs=None, penalty='l2',\n",
       "                   random_state=42, solver='warn', tol=0.0001, verbose=0,\n",
       "                   warm_start=False)"
      ]
     },
     "execution_count": 280,
     "metadata": {},
     "output_type": "execute_result"
    }
   ],
   "source": [
    "lreg = LogisticRegression(random_state=42)\n",
    "lreg.fit(X_train, y_train)"
   ]
  },
  {
   "cell_type": "code",
   "execution_count": 281,
   "metadata": {},
   "outputs": [
    {
     "name": "stdout",
     "output_type": "stream",
     "text": [
      "              precision    recall  f1-score   support\n",
      "\n",
      "           0       0.64      0.58      0.61        12\n",
      "           1       0.55      0.60      0.57        10\n",
      "\n",
      "    accuracy                           0.59        22\n",
      "   macro avg       0.59      0.59      0.59        22\n",
      "weighted avg       0.60      0.59      0.59        22\n",
      "\n"
     ]
    }
   ],
   "source": [
    "y_pred_lreg = lreg.predict(X_test)\n",
    "print(classification_report(y_test, y_pred_lreg))"
   ]
  },
  {
   "cell_type": "code",
   "execution_count": 282,
   "metadata": {},
   "outputs": [
    {
     "name": "stdout",
     "output_type": "stream",
     "text": [
      "PRCL2 - 1.4418182574917624\n",
      "VERB1 - 0.7769343349619825\n",
      "ADJS1 - 0.7519581265606148\n",
      "NUMR1 - 0.6492688657991561\n",
      "ADVB1 - 0.6410744329186915\n",
      "INTJ2 - 0.5196478464919837\n",
      "INTJ1 - 0.47848683269919123\n",
      "n_similar_words - 0.439011671847521\n",
      "ADJF2 - 0.38622192941860956\n",
      "ADJF1 - 0.36520497489119347\n",
      "PRED1 - 0.3382336322230944\n",
      "PREP2 - 0.3329041576480166\n",
      "PRCL1 - 0.31412225793558224\n",
      "CONJ2 - 0.30521029630530505\n",
      "CONJ1 - 0.20303672054039237\n",
      "INFN1 - 0.1886194674078756\n",
      "punct - 0.16667553524817455\n",
      "NOUN1 - 0.13535616561877475\n",
      "None2 - 0.11908241575725895\n",
      "ADJS2 - 0.09066097075068742\n",
      "PRTS2 - 0.07213391299529187\n",
      "n_words1 - 0.06758742883286142\n",
      "COMP1 - 0.06751203968016951\n",
      "av_words_length1 - 0.014456668209450905\n",
      "cosine_d2v - 0.002692012468709721\n",
      "av_words_length2 - 0.00209408425216892\n",
      "PRED2 - -0.01419579586614734\n",
      "NUMR2 - -0.03946002188379342\n",
      "PRTF2 - -0.06567664889373234\n",
      "NPRO2 - -0.07264446718980605\n",
      "ADVB2 - -0.08267573667947359\n",
      "n_words_diff - -0.11133725374498016\n",
      "PREP1 - -0.12975280824261096\n",
      "INFN2 - -0.14731930966848944\n",
      "None1 - -0.20351196168162733\n",
      "PRTS1 - -0.21452352307571915\n",
      "NPRO1 - -0.3191197036731078\n",
      "n_words2 - -0.34954173186801557\n",
      "NOUN2 - -0.35930971854591864\n",
      "GRND1 - -0.3676999076699552\n",
      "GRND2 - -0.4536876695007369\n",
      "COMP2 - -0.6248200494097311\n",
      "PRTF1 - -1.0039199003975137\n",
      "VERB2 - -1.094009112251121\n"
     ]
    }
   ],
   "source": [
    "feature_importances_lreg = lreg.coef_\n",
    "for ind in np.argsort(-feature_importances_lreg[0]):\n",
    "    print(X_train.columns[ind], '-', feature_importances_lreg[0][ind])"
   ]
  },
  {
   "cell_type": "markdown",
   "metadata": {},
   "source": [
    "## Decision Tree"
   ]
  },
  {
   "cell_type": "code",
   "execution_count": 283,
   "metadata": {},
   "outputs": [],
   "source": [
    "from sklearn.tree import DecisionTreeClassifier"
   ]
  },
  {
   "cell_type": "code",
   "execution_count": 284,
   "metadata": {},
   "outputs": [
    {
     "data": {
      "text/plain": [
       "DecisionTreeClassifier(class_weight=None, criterion='gini', max_depth=None,\n",
       "                       max_features=None, max_leaf_nodes=None,\n",
       "                       min_impurity_decrease=0.0, min_impurity_split=None,\n",
       "                       min_samples_leaf=1, min_samples_split=2,\n",
       "                       min_weight_fraction_leaf=0.0, presort=False,\n",
       "                       random_state=42, splitter='best')"
      ]
     },
     "execution_count": 284,
     "metadata": {},
     "output_type": "execute_result"
    }
   ],
   "source": [
    "tree_clf = DecisionTreeClassifier(random_state=42)\n",
    "tree_clf.fit(X_train, y_train)"
   ]
  },
  {
   "cell_type": "code",
   "execution_count": 285,
   "metadata": {},
   "outputs": [
    {
     "name": "stdout",
     "output_type": "stream",
     "text": [
      "              precision    recall  f1-score   support\n",
      "\n",
      "           0       0.64      0.58      0.61        12\n",
      "           1       0.55      0.60      0.57        10\n",
      "\n",
      "    accuracy                           0.59        22\n",
      "   macro avg       0.59      0.59      0.59        22\n",
      "weighted avg       0.60      0.59      0.59        22\n",
      "\n"
     ]
    }
   ],
   "source": [
    "y_pred_tree = tree_clf.predict(X_test)\n",
    "print(classification_report(y_test, y_pred_tree))"
   ]
  },
  {
   "cell_type": "code",
   "execution_count": 286,
   "metadata": {},
   "outputs": [
    {
     "name": "stdout",
     "output_type": "stream",
     "text": [
      "PRCL2 - 0.21573100812231258\n",
      "VERB2 - 0.12620294494609435\n",
      "n_words2 - 0.10160853639114505\n",
      "av_words_length2 - 0.08639261196469429\n",
      "cosine_d2v - 0.07323509113790443\n",
      "av_words_length1 - 0.06528640441683918\n",
      "ADVB2 - 0.055797101449275355\n",
      "punct - 0.05579710144927529\n",
      "n_words_diff - 0.04800303035020269\n",
      "n_words1 - 0.04099378881987578\n",
      "ADVB1 - 0.03993758814174692\n",
      "NPRO1 - 0.039855072463768106\n",
      "PRCL1 - 0.03036576949620427\n",
      "CONJ2 - 0.020793950850661633\n",
      "PRTF2 - 0.0\n",
      "PREP2 - 0.0\n",
      "ADJF1 - 0.0\n",
      "PRED2 - 0.0\n",
      "ADJS1 - 0.0\n",
      "GRND2 - 0.0\n",
      "None2 - 0.0\n",
      "NUMR2 - 0.0\n",
      "NPRO2 - 0.0\n",
      "NOUN2 - 0.0\n",
      "INTJ2 - 0.0\n",
      "INFN2 - 0.0\n",
      "PRTS2 - 0.0\n",
      "CONJ1 - 0.0\n",
      "COMP1 - 0.0\n",
      "ADJS2 - 0.0\n",
      "ADJF2 - 0.0\n",
      "VERB1 - 0.0\n",
      "PRTS1 - 0.0\n",
      "n_similar_words - 0.0\n",
      "PREP1 - 0.0\n",
      "PRED1 - 0.0\n",
      "None1 - 0.0\n",
      "NUMR1 - 0.0\n",
      "NOUN1 - 0.0\n",
      "INTJ1 - 0.0\n",
      "INFN1 - 0.0\n",
      "GRND1 - 0.0\n",
      "COMP2 - 0.0\n",
      "PRTF1 - 0.0\n"
     ]
    }
   ],
   "source": [
    "feature_importances_tree = tree_clf.feature_importances_\n",
    "for ind in np.argsort(-feature_importances_tree):\n",
    "    print(X_train.columns[ind], '-', feature_importances_tree[ind])"
   ]
  },
  {
   "cell_type": "markdown",
   "metadata": {},
   "source": [
    "## Random Forest"
   ]
  },
  {
   "cell_type": "code",
   "execution_count": 287,
   "metadata": {},
   "outputs": [],
   "source": [
    "from sklearn.ensemble import RandomForestClassifier"
   ]
  },
  {
   "cell_type": "code",
   "execution_count": 288,
   "metadata": {},
   "outputs": [
    {
     "data": {
      "text/plain": [
       "RandomForestClassifier(bootstrap=True, class_weight=None, criterion='gini',\n",
       "                       max_depth=None, max_features='auto', max_leaf_nodes=None,\n",
       "                       min_impurity_decrease=0.0, min_impurity_split=None,\n",
       "                       min_samples_leaf=1, min_samples_split=2,\n",
       "                       min_weight_fraction_leaf=0.0, n_estimators=10,\n",
       "                       n_jobs=None, oob_score=False, random_state=42, verbose=0,\n",
       "                       warm_start=False)"
      ]
     },
     "execution_count": 288,
     "metadata": {},
     "output_type": "execute_result"
    }
   ],
   "source": [
    "rf_clf = RandomForestClassifier(n_estimators=10, random_state=42)\n",
    "rf_clf.fit(X_train, y_train)"
   ]
  },
  {
   "cell_type": "code",
   "execution_count": 289,
   "metadata": {},
   "outputs": [
    {
     "name": "stdout",
     "output_type": "stream",
     "text": [
      "              precision    recall  f1-score   support\n",
      "\n",
      "           0       0.62      0.67      0.64        12\n",
      "           1       0.56      0.50      0.53        10\n",
      "\n",
      "    accuracy                           0.59        22\n",
      "   macro avg       0.59      0.58      0.58        22\n",
      "weighted avg       0.59      0.59      0.59        22\n",
      "\n"
     ]
    }
   ],
   "source": [
    "y_pred_forest = rf_clf.predict(X_test)\n",
    "print(classification_report(y_test, y_pred_forest))"
   ]
  },
  {
   "cell_type": "code",
   "execution_count": 290,
   "metadata": {},
   "outputs": [
    {
     "name": "stdout",
     "output_type": "stream",
     "text": [
      "PRCL2 - 0.11393944535263056\n",
      "n_words_diff - 0.09387652669530482\n",
      "n_words1 - 0.07494660815147766\n",
      "punct - 0.06637832000587193\n",
      "n_words2 - 0.05861732039067642\n",
      "av_words_length2 - 0.054474183146566914\n",
      "cosine_d2v - 0.04826910922128853\n",
      "ADJF2 - 0.0428217274429654\n",
      "PREP2 - 0.03689442662536834\n",
      "NOUN2 - 0.029505760927644308\n",
      "ADJF1 - 0.029074516564330005\n",
      "NOUN1 - 0.028576776071700775\n",
      "ADVB1 - 0.027254419286337872\n",
      "av_words_length1 - 0.02490611180946959\n",
      "VERB2 - 0.024119609803302394\n",
      "VERB1 - 0.02396183172756378\n",
      "CONJ2 - 0.023748871920095994\n",
      "n_similar_words - 0.020426784533927947\n",
      "ADVB2 - 0.01996915907058492\n",
      "COMP2 - 0.015494248590427778\n",
      "PREP1 - 0.015297504796768632\n",
      "NPRO2 - 0.014935954888178445\n",
      "PRCL1 - 0.014397491377957585\n",
      "CONJ1 - 0.013579317957000864\n",
      "GRND1 - 0.012687952394557472\n",
      "NPRO1 - 0.01231447171070604\n",
      "INFN2 - 0.011087167411588968\n",
      "COMP1 - 0.009572441409349023\n",
      "INFN1 - 0.006177999385086529\n",
      "ADJS1 - 0.0056985112885734\n",
      "INTJ2 - 0.005580014619638303\n",
      "PRED2 - 0.005181113460183228\n",
      "PRED1 - 0.004853841749010041\n",
      "NUMR2 - 0.004781781397832475\n",
      "None1 - 0.003044455976474658\n",
      "GRND2 - 0.002417859203194756\n",
      "PRTF1 - 0.0011363636363636363\n",
      "PRTS1 - 0.0\n",
      "NUMR1 - 0.0\n",
      "PRTF2 - 0.0\n",
      "PRTS2 - 0.0\n",
      "INTJ1 - 0.0\n",
      "None2 - 0.0\n",
      "ADJS2 - 0.0\n"
     ]
    }
   ],
   "source": [
    "feature_importances_forest = rf_clf.feature_importances_\n",
    "for ind in np.argsort(-feature_importances_forest):\n",
    "    print(X_train.columns[ind], '-', feature_importances_forest[ind])"
   ]
  },
  {
   "cell_type": "markdown",
   "metadata": {},
   "source": [
    "## SVM"
   ]
  },
  {
   "cell_type": "code",
   "execution_count": 291,
   "metadata": {},
   "outputs": [],
   "source": [
    "from sklearn.svm import SVC"
   ]
  },
  {
   "cell_type": "code",
   "execution_count": 292,
   "metadata": {},
   "outputs": [
    {
     "data": {
      "text/plain": [
       "SVC(C=1.0, cache_size=200, class_weight=None, coef0=0.0,\n",
       "    decision_function_shape='ovr', degree=3, gamma='auto_deprecated',\n",
       "    kernel='linear', max_iter=-1, probability=False, random_state=42,\n",
       "    shrinking=True, tol=0.001, verbose=False)"
      ]
     },
     "execution_count": 292,
     "metadata": {},
     "output_type": "execute_result"
    }
   ],
   "source": [
    "svc = SVC(kernel='linear', random_state=42)\n",
    "svc.fit(X_train, y_train)"
   ]
  },
  {
   "cell_type": "code",
   "execution_count": 293,
   "metadata": {},
   "outputs": [
    {
     "name": "stdout",
     "output_type": "stream",
     "text": [
      "              precision    recall  f1-score   support\n",
      "\n",
      "           0       0.67      0.50      0.57        12\n",
      "           1       0.54      0.70      0.61        10\n",
      "\n",
      "    accuracy                           0.59        22\n",
      "   macro avg       0.60      0.60      0.59        22\n",
      "weighted avg       0.61      0.59      0.59        22\n",
      "\n"
     ]
    }
   ],
   "source": [
    "y_pred_svc = svc.predict(X_test)\n",
    "print(classification_report(y_test, y_pred_svc))"
   ]
  },
  {
   "cell_type": "code",
   "execution_count": 295,
   "metadata": {},
   "outputs": [
    {
     "name": "stdout",
     "output_type": "stream",
     "text": [
      "ADJS1 - 1.3514891268549845\n",
      "PRCL2 - 1.2876732122855103\n",
      "NUMR1 - 1.0\n",
      "None2 - 0.6755966599104591\n",
      "VERB1 - 0.6735783111944948\n",
      "INTJ2 - 0.6330577708191962\n",
      "ADJF2 - 0.590713647253041\n",
      "PRCL1 - 0.5383838711381996\n",
      "ADVB1 - 0.5175509390626284\n",
      "PREP2 - 0.48233723898684244\n",
      "PRED1 - 0.4805366821591743\n",
      "INTJ1 - 0.4205718834584063\n",
      "CONJ2 - 0.41235971635502416\n",
      "COMP1 - 0.40551870898118947\n",
      "n_similar_words - 0.3878361607075189\n",
      "ADJF1 - 0.2848581476767858\n",
      "n_words_diff - 0.24064374586830195\n",
      "CONJ1 - 0.2336550382638493\n",
      "NOUN1 - 0.208005708483623\n",
      "INFN1 - 0.20548429181575312\n",
      "punct - 0.17011756473456818\n",
      "PRED2 - 0.07102227993285881\n",
      "PRTF2 - 0.028175734258001517\n",
      "av_words_length1 - 0.019772303488109433\n",
      "av_words_length2 - 0.006609086059795377\n",
      "INFN2 - 0.006102880156296009\n",
      "n_words2 - 0.005135985486136252\n",
      "cosine_d2v - 0.001496792262461577\n",
      "PRTS2 - 0.0\n",
      "NUMR2 - 0.0\n",
      "NPRO2 - -0.013996669476033285\n",
      "PREP1 - -0.041970244893192565\n",
      "GRND2 - -0.08719621096316553\n",
      "ADJS2 - -0.0986274679302954\n",
      "ADVB2 - -0.11571719090029242\n",
      "GRND1 - -0.15567734167962444\n",
      "NPRO1 - -0.1926242143386806\n",
      "None1 - -0.297021746290031\n",
      "NOUN2 - -0.38918639566019453\n",
      "n_words1 - -0.40239605267358414\n",
      "PRTS1 - -0.44755974774806034\n",
      "COMP2 - -0.48999026765490095\n",
      "VERB2 - -0.9871889518862406\n",
      "PRTF1 - -1.732381159294523\n"
     ]
    }
   ],
   "source": [
    "feature_importances_svc = svc.coef_\n",
    "for ind in np.argsort(-feature_importances_svc[0]):\n",
    "    print(X_train.columns[ind], '-', feature_importances_svc[0][ind])"
   ]
  },
  {
   "cell_type": "markdown",
   "metadata": {},
   "source": [
    "## Сравнение качества моделей"
   ]
  },
  {
   "cell_type": "markdown",
   "metadata": {},
   "source": [
    "### F1-score"
   ]
  },
  {
   "cell_type": "code",
   "execution_count": 380,
   "metadata": {},
   "outputs": [
    {
     "data": {
      "text/html": [
       "<div>\n",
       "<style scoped>\n",
       "    .dataframe tbody tr th:only-of-type {\n",
       "        vertical-align: middle;\n",
       "    }\n",
       "\n",
       "    .dataframe tbody tr th {\n",
       "        vertical-align: top;\n",
       "    }\n",
       "\n",
       "    .dataframe thead th {\n",
       "        text-align: right;\n",
       "    }\n",
       "</style>\n",
       "<table border=\"1\" class=\"dataframe\">\n",
       "  <thead>\n",
       "    <tr style=\"text-align: right;\">\n",
       "      <th></th>\n",
       "      <th>LReg</th>\n",
       "      <th>DTree</th>\n",
       "      <th>RForest</th>\n",
       "      <th>SVM</th>\n",
       "    </tr>\n",
       "  </thead>\n",
       "  <tbody>\n",
       "    <tr>\n",
       "      <th>cause</th>\n",
       "      <td>0.608696</td>\n",
       "      <td>0.608696</td>\n",
       "      <td>0.640000</td>\n",
       "      <td>0.571429</td>\n",
       "    </tr>\n",
       "    <tr>\n",
       "      <th>contrast</th>\n",
       "      <td>0.571429</td>\n",
       "      <td>0.571429</td>\n",
       "      <td>0.526316</td>\n",
       "      <td>0.608696</td>\n",
       "    </tr>\n",
       "  </tbody>\n",
       "</table>\n",
       "</div>"
      ],
      "text/plain": [
       "              LReg     DTree   RForest       SVM\n",
       "cause     0.608696  0.608696  0.640000  0.571429\n",
       "contrast  0.571429  0.571429  0.526316  0.608696"
      ]
     },
     "execution_count": 380,
     "metadata": {},
     "output_type": "execute_result"
    }
   ],
   "source": [
    "pd.DataFrame({\n",
    "    'LReg': [classification_report(y_test, y_pred_lreg, output_dict=True)['0']['f1-score'], classification_report(y_test, y_pred_lreg, output_dict=True)['1']['f1-score']],\n",
    "    'DTree': [classification_report(y_test, y_pred_tree, output_dict=True)['0']['f1-score'], classification_report(y_test, y_pred_tree, output_dict=True)['1']['f1-score']],\n",
    "    'RForest': [classification_report(y_test, y_pred_forest, output_dict=True)['0']['f1-score'], classification_report(y_test, y_pred_forest, output_dict=True)['1']['f1-score']],\n",
    "    'SVM': [classification_report(y_test, y_pred_svc, output_dict=True)['0']['f1-score'], classification_report(y_test, y_pred_svc, output_dict=True)['1']['f1-score']]\n",
    "}, index=['cause', 'contrast'])"
   ]
  },
  {
   "cell_type": "markdown",
   "metadata": {},
   "source": [
    "### Precision"
   ]
  },
  {
   "cell_type": "code",
   "execution_count": 385,
   "metadata": {},
   "outputs": [
    {
     "data": {
      "text/html": [
       "<div>\n",
       "<style scoped>\n",
       "    .dataframe tbody tr th:only-of-type {\n",
       "        vertical-align: middle;\n",
       "    }\n",
       "\n",
       "    .dataframe tbody tr th {\n",
       "        vertical-align: top;\n",
       "    }\n",
       "\n",
       "    .dataframe thead th {\n",
       "        text-align: right;\n",
       "    }\n",
       "</style>\n",
       "<table border=\"1\" class=\"dataframe\">\n",
       "  <thead>\n",
       "    <tr style=\"text-align: right;\">\n",
       "      <th></th>\n",
       "      <th>LReg</th>\n",
       "      <th>DTree</th>\n",
       "      <th>RForest</th>\n",
       "      <th>SVM</th>\n",
       "    </tr>\n",
       "  </thead>\n",
       "  <tbody>\n",
       "    <tr>\n",
       "      <th>cause</th>\n",
       "      <td>0.636364</td>\n",
       "      <td>0.636364</td>\n",
       "      <td>0.615385</td>\n",
       "      <td>0.666667</td>\n",
       "    </tr>\n",
       "    <tr>\n",
       "      <th>contrast</th>\n",
       "      <td>0.545455</td>\n",
       "      <td>0.545455</td>\n",
       "      <td>0.555556</td>\n",
       "      <td>0.538462</td>\n",
       "    </tr>\n",
       "  </tbody>\n",
       "</table>\n",
       "</div>"
      ],
      "text/plain": [
       "              LReg     DTree   RForest       SVM\n",
       "cause     0.636364  0.636364  0.615385  0.666667\n",
       "contrast  0.545455  0.545455  0.555556  0.538462"
      ]
     },
     "execution_count": 385,
     "metadata": {},
     "output_type": "execute_result"
    }
   ],
   "source": [
    "pd.DataFrame({\n",
    "    'LReg': [classification_report(y_test, y_pred_lreg, output_dict=True)['0']['precision'], classification_report(y_test, y_pred_lreg, output_dict=True)['1']['precision']],\n",
    "    'DTree': [classification_report(y_test, y_pred_tree, output_dict=True)['0']['precision'], classification_report(y_test, y_pred_tree, output_dict=True)['1']['precision']],\n",
    "    'RForest': [classification_report(y_test, y_pred_forest, output_dict=True)['0']['precision'], classification_report(y_test, y_pred_forest, output_dict=True)['1']['precision']],\n",
    "    'SVM': [classification_report(y_test, y_pred_svc, output_dict=True)['0']['precision'], classification_report(y_test, y_pred_svc, output_dict=True)['1']['precision']]\n",
    "}, index=['cause', 'contrast'])"
   ]
  },
  {
   "cell_type": "markdown",
   "metadata": {},
   "source": [
    "### Recall"
   ]
  },
  {
   "cell_type": "code",
   "execution_count": 386,
   "metadata": {},
   "outputs": [
    {
     "data": {
      "text/html": [
       "<div>\n",
       "<style scoped>\n",
       "    .dataframe tbody tr th:only-of-type {\n",
       "        vertical-align: middle;\n",
       "    }\n",
       "\n",
       "    .dataframe tbody tr th {\n",
       "        vertical-align: top;\n",
       "    }\n",
       "\n",
       "    .dataframe thead th {\n",
       "        text-align: right;\n",
       "    }\n",
       "</style>\n",
       "<table border=\"1\" class=\"dataframe\">\n",
       "  <thead>\n",
       "    <tr style=\"text-align: right;\">\n",
       "      <th></th>\n",
       "      <th>LReg</th>\n",
       "      <th>DTree</th>\n",
       "      <th>RForest</th>\n",
       "      <th>SVM</th>\n",
       "    </tr>\n",
       "  </thead>\n",
       "  <tbody>\n",
       "    <tr>\n",
       "      <th>cause</th>\n",
       "      <td>0.583333</td>\n",
       "      <td>0.583333</td>\n",
       "      <td>0.666667</td>\n",
       "      <td>0.5</td>\n",
       "    </tr>\n",
       "    <tr>\n",
       "      <th>contrast</th>\n",
       "      <td>0.600000</td>\n",
       "      <td>0.600000</td>\n",
       "      <td>0.500000</td>\n",
       "      <td>0.7</td>\n",
       "    </tr>\n",
       "  </tbody>\n",
       "</table>\n",
       "</div>"
      ],
      "text/plain": [
       "              LReg     DTree   RForest  SVM\n",
       "cause     0.583333  0.583333  0.666667  0.5\n",
       "contrast  0.600000  0.600000  0.500000  0.7"
      ]
     },
     "execution_count": 386,
     "metadata": {},
     "output_type": "execute_result"
    }
   ],
   "source": [
    "pd.DataFrame({\n",
    "    'LReg': [classification_report(y_test, y_pred_lreg, output_dict=True)['0']['recall'], classification_report(y_test, y_pred_lreg, output_dict=True)['1']['recall']],\n",
    "    'DTree': [classification_report(y_test, y_pred_tree, output_dict=True)['0']['recall'], classification_report(y_test, y_pred_tree, output_dict=True)['1']['recall']],\n",
    "    'RForest': [classification_report(y_test, y_pred_forest, output_dict=True)['0']['recall'], classification_report(y_test, y_pred_forest, output_dict=True)['1']['recall']],\n",
    "    'SVM': [classification_report(y_test, y_pred_svc, output_dict=True)['0']['recall'], classification_report(y_test, y_pred_svc, output_dict=True)['1']['recall']]\n",
    "}, index=['cause', 'contrast'])"
   ]
  },
  {
   "cell_type": "markdown",
   "metadata": {},
   "source": [
    "## Сравнение важности признаков\n",
    "\n",
    "Сравниваю абсолютные значения всех признаков"
   ]
  },
  {
   "cell_type": "code",
   "execution_count": 346,
   "metadata": {},
   "outputs": [],
   "source": [
    "features = pd.DataFrame({'LReg': abs(feature_importances_lreg[0]), \n",
    "              'DTree': feature_importances_tree, \n",
    "              'RForest': feature_importances_forest,\n",
    "              'SVM': abs(feature_importances_svc[0]),}, index=X_train.columns)"
   ]
  },
  {
   "cell_type": "code",
   "execution_count": 359,
   "metadata": {},
   "outputs": [],
   "source": [
    "import seaborn as sns\n",
    "import matplotlib.pyplot as plt"
   ]
  },
  {
   "cell_type": "code",
   "execution_count": 358,
   "metadata": {},
   "outputs": [
    {
     "data": {
      "image/png": "[encoded data removed]",
      "text/plain": [
       "<Figure size 720x720 with 4 Axes>"
      ]
     },
     "metadata": {
      "needs_background": "light"
     },
     "output_type": "display_data"
    }
   ],
   "source": [
    "fig, (ax,ax2) = plt.subplots(ncols=2, figsize=(10,10))\n",
    "fig.subplots_adjust(wspace=0.5)\n",
    "sns.heatmap(features[['LReg', 'SVM']], cmap=\"rocket\", ax=ax, cbar=True, vmin=0)\n",
    "#fig.colorbar(ax.collections[0], ax=ax,location=\"left\", use_gridspec=False, pad=0.2)\n",
    "sns.heatmap(features[['DTree', 'RForest']], cmap=\"rocket\", ax=ax2, cbar=True, vmax=0.12)\n",
    "#fig.colorbar(ax2.collections[0], ax=ax2,location=\"right\", use_gridspec=False, pad=0.2)\n",
    "#ax2.yaxis.tick_right()\n",
    "#ax2.tick_params(rotation=0)\n",
    "plt.show()"
   ]
  },
  {
   "cell_type": "code",
   "execution_count": 360,
   "metadata": {},
   "outputs": [
    {
     "data": {
      "text/html": [
       "<div>\n",
       "<style scoped>\n",
       "    .dataframe tbody tr th:only-of-type {\n",
       "        vertical-align: middle;\n",
       "    }\n",
       "\n",
       "    .dataframe tbody tr th {\n",
       "        vertical-align: top;\n",
       "    }\n",
       "\n",
       "    .dataframe thead th {\n",
       "        text-align: right;\n",
       "    }\n",
       "</style>\n",
       "<table border=\"1\" class=\"dataframe\">\n",
       "  <thead>\n",
       "    <tr style=\"text-align: right;\">\n",
       "      <th></th>\n",
       "      <th>LReg</th>\n",
       "      <th>DTree</th>\n",
       "      <th>RForest</th>\n",
       "      <th>SVM</th>\n",
       "    </tr>\n",
       "  </thead>\n",
       "  <tbody>\n",
       "    <tr>\n",
       "      <th>n_words1</th>\n",
       "      <td>0.067587</td>\n",
       "      <td>0.040994</td>\n",
       "      <td>0.074947</td>\n",
       "      <td>0.402396</td>\n",
       "    </tr>\n",
       "    <tr>\n",
       "      <th>av_words_length1</th>\n",
       "      <td>0.014457</td>\n",
       "      <td>0.065286</td>\n",
       "      <td>0.024906</td>\n",
       "      <td>0.019772</td>\n",
       "    </tr>\n",
       "    <tr>\n",
       "      <th>n_words2</th>\n",
       "      <td>0.349542</td>\n",
       "      <td>0.101609</td>\n",
       "      <td>0.058617</td>\n",
       "      <td>0.005136</td>\n",
       "    </tr>\n",
       "    <tr>\n",
       "      <th>av_words_length2</th>\n",
       "      <td>0.002094</td>\n",
       "      <td>0.086393</td>\n",
       "      <td>0.054474</td>\n",
       "      <td>0.006609</td>\n",
       "    </tr>\n",
       "    <tr>\n",
       "      <th>n_words_diff</th>\n",
       "      <td>0.111337</td>\n",
       "      <td>0.048003</td>\n",
       "      <td>0.093877</td>\n",
       "      <td>0.240644</td>\n",
       "    </tr>\n",
       "    <tr>\n",
       "      <th>punct</th>\n",
       "      <td>0.166676</td>\n",
       "      <td>0.055797</td>\n",
       "      <td>0.066378</td>\n",
       "      <td>0.170118</td>\n",
       "    </tr>\n",
       "    <tr>\n",
       "      <th>ADJF1</th>\n",
       "      <td>0.365205</td>\n",
       "      <td>0.000000</td>\n",
       "      <td>0.029075</td>\n",
       "      <td>0.284858</td>\n",
       "    </tr>\n",
       "    <tr>\n",
       "      <th>ADJS1</th>\n",
       "      <td>0.751958</td>\n",
       "      <td>0.000000</td>\n",
       "      <td>0.005699</td>\n",
       "      <td>1.351489</td>\n",
       "    </tr>\n",
       "    <tr>\n",
       "      <th>ADVB1</th>\n",
       "      <td>0.641074</td>\n",
       "      <td>0.039938</td>\n",
       "      <td>0.027254</td>\n",
       "      <td>0.517551</td>\n",
       "    </tr>\n",
       "    <tr>\n",
       "      <th>COMP1</th>\n",
       "      <td>0.067512</td>\n",
       "      <td>0.000000</td>\n",
       "      <td>0.009572</td>\n",
       "      <td>0.405519</td>\n",
       "    </tr>\n",
       "    <tr>\n",
       "      <th>CONJ1</th>\n",
       "      <td>0.203037</td>\n",
       "      <td>0.000000</td>\n",
       "      <td>0.013579</td>\n",
       "      <td>0.233655</td>\n",
       "    </tr>\n",
       "    <tr>\n",
       "      <th>GRND1</th>\n",
       "      <td>0.367700</td>\n",
       "      <td>0.000000</td>\n",
       "      <td>0.012688</td>\n",
       "      <td>0.155677</td>\n",
       "    </tr>\n",
       "    <tr>\n",
       "      <th>INFN1</th>\n",
       "      <td>0.188619</td>\n",
       "      <td>0.000000</td>\n",
       "      <td>0.006178</td>\n",
       "      <td>0.205484</td>\n",
       "    </tr>\n",
       "    <tr>\n",
       "      <th>INTJ1</th>\n",
       "      <td>0.478487</td>\n",
       "      <td>0.000000</td>\n",
       "      <td>0.000000</td>\n",
       "      <td>0.420572</td>\n",
       "    </tr>\n",
       "    <tr>\n",
       "      <th>NOUN1</th>\n",
       "      <td>0.135356</td>\n",
       "      <td>0.000000</td>\n",
       "      <td>0.028577</td>\n",
       "      <td>0.208006</td>\n",
       "    </tr>\n",
       "    <tr>\n",
       "      <th>NPRO1</th>\n",
       "      <td>0.319120</td>\n",
       "      <td>0.039855</td>\n",
       "      <td>0.012314</td>\n",
       "      <td>0.192624</td>\n",
       "    </tr>\n",
       "    <tr>\n",
       "      <th>NUMR1</th>\n",
       "      <td>0.649269</td>\n",
       "      <td>0.000000</td>\n",
       "      <td>0.000000</td>\n",
       "      <td>1.000000</td>\n",
       "    </tr>\n",
       "    <tr>\n",
       "      <th>None1</th>\n",
       "      <td>0.203512</td>\n",
       "      <td>0.000000</td>\n",
       "      <td>0.003044</td>\n",
       "      <td>0.297022</td>\n",
       "    </tr>\n",
       "    <tr>\n",
       "      <th>PRCL1</th>\n",
       "      <td>0.314122</td>\n",
       "      <td>0.030366</td>\n",
       "      <td>0.014397</td>\n",
       "      <td>0.538384</td>\n",
       "    </tr>\n",
       "    <tr>\n",
       "      <th>PRED1</th>\n",
       "      <td>0.338234</td>\n",
       "      <td>0.000000</td>\n",
       "      <td>0.004854</td>\n",
       "      <td>0.480537</td>\n",
       "    </tr>\n",
       "    <tr>\n",
       "      <th>PREP1</th>\n",
       "      <td>0.129753</td>\n",
       "      <td>0.000000</td>\n",
       "      <td>0.015298</td>\n",
       "      <td>0.041970</td>\n",
       "    </tr>\n",
       "    <tr>\n",
       "      <th>PRTF1</th>\n",
       "      <td>1.003920</td>\n",
       "      <td>0.000000</td>\n",
       "      <td>0.001136</td>\n",
       "      <td>1.732381</td>\n",
       "    </tr>\n",
       "    <tr>\n",
       "      <th>PRTS1</th>\n",
       "      <td>0.214524</td>\n",
       "      <td>0.000000</td>\n",
       "      <td>0.000000</td>\n",
       "      <td>0.447560</td>\n",
       "    </tr>\n",
       "    <tr>\n",
       "      <th>VERB1</th>\n",
       "      <td>0.776934</td>\n",
       "      <td>0.000000</td>\n",
       "      <td>0.023962</td>\n",
       "      <td>0.673578</td>\n",
       "    </tr>\n",
       "    <tr>\n",
       "      <th>ADJF2</th>\n",
       "      <td>0.386222</td>\n",
       "      <td>0.000000</td>\n",
       "      <td>0.042822</td>\n",
       "      <td>0.590714</td>\n",
       "    </tr>\n",
       "    <tr>\n",
       "      <th>ADJS2</th>\n",
       "      <td>0.090661</td>\n",
       "      <td>0.000000</td>\n",
       "      <td>0.000000</td>\n",
       "      <td>0.098627</td>\n",
       "    </tr>\n",
       "    <tr>\n",
       "      <th>ADVB2</th>\n",
       "      <td>0.082676</td>\n",
       "      <td>0.055797</td>\n",
       "      <td>0.019969</td>\n",
       "      <td>0.115717</td>\n",
       "    </tr>\n",
       "    <tr>\n",
       "      <th>COMP2</th>\n",
       "      <td>0.624820</td>\n",
       "      <td>0.000000</td>\n",
       "      <td>0.015494</td>\n",
       "      <td>0.489990</td>\n",
       "    </tr>\n",
       "    <tr>\n",
       "      <th>CONJ2</th>\n",
       "      <td>0.305210</td>\n",
       "      <td>0.020794</td>\n",
       "      <td>0.023749</td>\n",
       "      <td>0.412360</td>\n",
       "    </tr>\n",
       "    <tr>\n",
       "      <th>GRND2</th>\n",
       "      <td>0.453688</td>\n",
       "      <td>0.000000</td>\n",
       "      <td>0.002418</td>\n",
       "      <td>0.087196</td>\n",
       "    </tr>\n",
       "    <tr>\n",
       "      <th>INFN2</th>\n",
       "      <td>0.147319</td>\n",
       "      <td>0.000000</td>\n",
       "      <td>0.011087</td>\n",
       "      <td>0.006103</td>\n",
       "    </tr>\n",
       "    <tr>\n",
       "      <th>INTJ2</th>\n",
       "      <td>0.519648</td>\n",
       "      <td>0.000000</td>\n",
       "      <td>0.005580</td>\n",
       "      <td>0.633058</td>\n",
       "    </tr>\n",
       "    <tr>\n",
       "      <th>NOUN2</th>\n",
       "      <td>0.359310</td>\n",
       "      <td>0.000000</td>\n",
       "      <td>0.029506</td>\n",
       "      <td>0.389186</td>\n",
       "    </tr>\n",
       "    <tr>\n",
       "      <th>NPRO2</th>\n",
       "      <td>0.072644</td>\n",
       "      <td>0.000000</td>\n",
       "      <td>0.014936</td>\n",
       "      <td>0.013997</td>\n",
       "    </tr>\n",
       "    <tr>\n",
       "      <th>NUMR2</th>\n",
       "      <td>0.039460</td>\n",
       "      <td>0.000000</td>\n",
       "      <td>0.004782</td>\n",
       "      <td>0.000000</td>\n",
       "    </tr>\n",
       "    <tr>\n",
       "      <th>None2</th>\n",
       "      <td>0.119082</td>\n",
       "      <td>0.000000</td>\n",
       "      <td>0.000000</td>\n",
       "      <td>0.675597</td>\n",
       "    </tr>\n",
       "    <tr>\n",
       "      <th>PRCL2</th>\n",
       "      <td>1.441818</td>\n",
       "      <td>0.215731</td>\n",
       "      <td>0.113939</td>\n",
       "      <td>1.287673</td>\n",
       "    </tr>\n",
       "    <tr>\n",
       "      <th>PRED2</th>\n",
       "      <td>0.014196</td>\n",
       "      <td>0.000000</td>\n",
       "      <td>0.005181</td>\n",
       "      <td>0.071022</td>\n",
       "    </tr>\n",
       "    <tr>\n",
       "      <th>PREP2</th>\n",
       "      <td>0.332904</td>\n",
       "      <td>0.000000</td>\n",
       "      <td>0.036894</td>\n",
       "      <td>0.482337</td>\n",
       "    </tr>\n",
       "    <tr>\n",
       "      <th>PRTF2</th>\n",
       "      <td>0.065677</td>\n",
       "      <td>0.000000</td>\n",
       "      <td>0.000000</td>\n",
       "      <td>0.028176</td>\n",
       "    </tr>\n",
       "    <tr>\n",
       "      <th>PRTS2</th>\n",
       "      <td>0.072134</td>\n",
       "      <td>0.000000</td>\n",
       "      <td>0.000000</td>\n",
       "      <td>0.000000</td>\n",
       "    </tr>\n",
       "    <tr>\n",
       "      <th>VERB2</th>\n",
       "      <td>1.094009</td>\n",
       "      <td>0.126203</td>\n",
       "      <td>0.024120</td>\n",
       "      <td>0.987189</td>\n",
       "    </tr>\n",
       "    <tr>\n",
       "      <th>n_similar_words</th>\n",
       "      <td>0.439012</td>\n",
       "      <td>0.000000</td>\n",
       "      <td>0.020427</td>\n",
       "      <td>0.387836</td>\n",
       "    </tr>\n",
       "    <tr>\n",
       "      <th>cosine_d2v</th>\n",
       "      <td>0.002692</td>\n",
       "      <td>0.073235</td>\n",
       "      <td>0.048269</td>\n",
       "      <td>0.001497</td>\n",
       "    </tr>\n",
       "  </tbody>\n",
       "</table>\n",
       "</div>"
      ],
      "text/plain": [
       "                      LReg     DTree   RForest       SVM\n",
       "n_words1          0.067587  0.040994  0.074947  0.402396\n",
       "av_words_length1  0.014457  0.065286  0.024906  0.019772\n",
       "n_words2          0.349542  0.101609  0.058617  0.005136\n",
       "av_words_length2  0.002094  0.086393  0.054474  0.006609\n",
       "n_words_diff      0.111337  0.048003  0.093877  0.240644\n",
       "punct             0.166676  0.055797  0.066378  0.170118\n",
       "ADJF1             0.365205  0.000000  0.029075  0.284858\n",
       "ADJS1             0.751958  0.000000  0.005699  1.351489\n",
       "ADVB1             0.641074  0.039938  0.027254  0.517551\n",
       "COMP1             0.067512  0.000000  0.009572  0.405519\n",
       "CONJ1             0.203037  0.000000  0.013579  0.233655\n",
       "GRND1             0.367700  0.000000  0.012688  0.155677\n",
       "INFN1             0.188619  0.000000  0.006178  0.205484\n",
       "INTJ1             0.478487  0.000000  0.000000  0.420572\n",
       "NOUN1             0.135356  0.000000  0.028577  0.208006\n",
       "NPRO1             0.319120  0.039855  0.012314  0.192624\n",
       "NUMR1             0.649269  0.000000  0.000000  1.000000\n",
       "None1             0.203512  0.000000  0.003044  0.297022\n",
       "PRCL1             0.314122  0.030366  0.014397  0.538384\n",
       "PRED1             0.338234  0.000000  0.004854  0.480537\n",
       "PREP1             0.129753  0.000000  0.015298  0.041970\n",
       "PRTF1             1.003920  0.000000  0.001136  1.732381\n",
       "PRTS1             0.214524  0.000000  0.000000  0.447560\n",
       "VERB1             0.776934  0.000000  0.023962  0.673578\n",
       "ADJF2             0.386222  0.000000  0.042822  0.590714\n",
       "ADJS2             0.090661  0.000000  0.000000  0.098627\n",
       "ADVB2             0.082676  0.055797  0.019969  0.115717\n",
       "COMP2             0.624820  0.000000  0.015494  0.489990\n",
       "CONJ2             0.305210  0.020794  0.023749  0.412360\n",
       "GRND2             0.453688  0.000000  0.002418  0.087196\n",
       "INFN2             0.147319  0.000000  0.011087  0.006103\n",
       "INTJ2             0.519648  0.000000  0.005580  0.633058\n",
       "NOUN2             0.359310  0.000000  0.029506  0.389186\n",
       "NPRO2             0.072644  0.000000  0.014936  0.013997\n",
       "NUMR2             0.039460  0.000000  0.004782  0.000000\n",
       "None2             0.119082  0.000000  0.000000  0.675597\n",
       "PRCL2             1.441818  0.215731  0.113939  1.287673\n",
       "PRED2             0.014196  0.000000  0.005181  0.071022\n",
       "PREP2             0.332904  0.000000  0.036894  0.482337\n",
       "PRTF2             0.065677  0.000000  0.000000  0.028176\n",
       "PRTS2             0.072134  0.000000  0.000000  0.000000\n",
       "VERB2             1.094009  0.126203  0.024120  0.987189\n",
       "n_similar_words   0.439012  0.000000  0.020427  0.387836\n",
       "cosine_d2v        0.002692  0.073235  0.048269  0.001497"
      ]
     },
     "execution_count": 360,
     "metadata": {},
     "output_type": "execute_result"
    }
   ],
   "source": [
    "features"
   ]
  },
  {
   "cell_type": "markdown",
   "metadata": {},
   "source": [
    "_Анна Полянская, НИУ ВШЭ, 2020_"
   ]
  }
 ],
 "metadata": {
  "kernelspec": {
   "display_name": "Python 3",
   "language": "python",
   "name": "python3"
  },
  "language_info": {
   "codemirror_mode": {
    "name": "ipython",
    "version": 3
   },
   "file_extension": ".py",
   "mimetype": "text/x-python",
   "name": "python",
   "nbconvert_exporter": "python",
   "pygments_lexer": "ipython3",
   "version": "3.7.3"
  }
 },
 "nbformat": 4,
 "nbformat_minor": 2
}
