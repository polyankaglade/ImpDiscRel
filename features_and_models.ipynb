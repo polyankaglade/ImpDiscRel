{
 "cells": [
  {
   "cell_type": "code",
   "execution_count": 1,
   "metadata": {},
   "outputs": [],
   "source": [
    "import pandas as pd\n",
    "\n",
    "from tqdm.auto import tqdm\n",
    "tqdm.pandas()"
   ]
  },
  {
   "cell_type": "markdown",
   "metadata": {},
   "source": [
    "## Данные\n",
    "\n",
    "собираю примеры из нескольких отдельных файлов"
   ]
  },
  {
   "cell_type": "code",
   "execution_count": 2,
   "metadata": {},
   "outputs": [],
   "source": [
    "contrast_df = pd.read_csv('Data\\contrast_clean_extended.tsv', sep='\\t')\n",
    "cause_df = pd.read_csv('Data\\cause_clean_extended.tsv', sep='\\t')"
   ]
  },
  {
   "cell_type": "code",
   "execution_count": 3,
   "metadata": {},
   "outputs": [
    {
     "data": {
      "text/html": [
       "<div>\n",
       "<style scoped>\n",
       "    .dataframe tbody tr th:only-of-type {\n",
       "        vertical-align: middle;\n",
       "    }\n",
       "\n",
       "    .dataframe tbody tr th {\n",
       "        vertical-align: top;\n",
       "    }\n",
       "\n",
       "    .dataframe thead th {\n",
       "        text-align: right;\n",
       "    }\n",
       "</style>\n",
       "<table border=\"1\" class=\"dataframe\">\n",
       "  <thead>\n",
       "    <tr style=\"text-align: right;\">\n",
       "      <th></th>\n",
       "      <th>id</th>\n",
       "      <th>текст</th>\n",
       "      <th>relation</th>\n",
       "    </tr>\n",
       "  </thead>\n",
       "  <tbody>\n",
       "    <tr>\n",
       "      <th>0</th>\n",
       "      <td>407</td>\n",
       "      <td>В солнечный день, наверное, и вода играет друг...</td>\n",
       "      <td>contrast</td>\n",
       "    </tr>\n",
       "    <tr>\n",
       "      <th>1</th>\n",
       "      <td>921</td>\n",
       "      <td>там никто не в курсе никаких автобусов_говорят...</td>\n",
       "      <td>contrast</td>\n",
       "    </tr>\n",
       "    <tr>\n",
       "      <th>2</th>\n",
       "      <td>1051</td>\n",
       "      <td>В каком-то проёме за щёлкой эти монетки и оста...</td>\n",
       "      <td>contrast</td>\n",
       "    </tr>\n",
       "    <tr>\n",
       "      <th>3</th>\n",
       "      <td>1067</td>\n",
       "      <td>Что ни говори, общий относительно приличный ур...</td>\n",
       "      <td>contrast</td>\n",
       "    </tr>\n",
       "    <tr>\n",
       "      <th>4</th>\n",
       "      <td>1161</td>\n",
       "      <td>Коробка красивая,_прибор явно туфтовый, даже п...</td>\n",
       "      <td>contrast</td>\n",
       "    </tr>\n",
       "  </tbody>\n",
       "</table>\n",
       "</div>"
      ],
      "text/plain": [
       "     id                                              текст  relation\n",
       "0   407  В солнечный день, наверное, и вода играет друг...  contrast\n",
       "1   921  там никто не в курсе никаких автобусов_говорят...  contrast\n",
       "2  1051  В каком-то проёме за щёлкой эти монетки и оста...  contrast\n",
       "3  1067  Что ни говори, общий относительно приличный ур...  contrast\n",
       "4  1161  Коробка красивая,_прибор явно туфтовый, даже п...  contrast"
      ]
     },
     "execution_count": 3,
     "metadata": {},
     "output_type": "execute_result"
    }
   ],
   "source": [
    "df1 = contrast_df\n",
    "df1['relation'] = 'contrast'\n",
    "df1.head()"
   ]
  },
  {
   "cell_type": "code",
   "execution_count": 4,
   "metadata": {},
   "outputs": [
    {
     "data": {
      "text/html": [
       "<div>\n",
       "<style scoped>\n",
       "    .dataframe tbody tr th:only-of-type {\n",
       "        vertical-align: middle;\n",
       "    }\n",
       "\n",
       "    .dataframe tbody tr th {\n",
       "        vertical-align: top;\n",
       "    }\n",
       "\n",
       "    .dataframe thead th {\n",
       "        text-align: right;\n",
       "    }\n",
       "</style>\n",
       "<table border=\"1\" class=\"dataframe\">\n",
       "  <thead>\n",
       "    <tr style=\"text-align: right;\">\n",
       "      <th></th>\n",
       "      <th>id</th>\n",
       "      <th>текст</th>\n",
       "      <th>relation</th>\n",
       "    </tr>\n",
       "  </thead>\n",
       "  <tbody>\n",
       "    <tr>\n",
       "      <th>0</th>\n",
       "      <td>24</td>\n",
       "      <td>Помада довольно стойкая,_отлично переживет пер...</td>\n",
       "      <td>cause</td>\n",
       "    </tr>\n",
       "    <tr>\n",
       "      <th>1</th>\n",
       "      <td>101</td>\n",
       "      <td>Выпадает небольшой осадок._Всегда встряхиваю п...</td>\n",
       "      <td>cause</td>\n",
       "    </tr>\n",
       "    <tr>\n",
       "      <th>2</th>\n",
       "      <td>136</td>\n",
       "      <td>зато есть ощущение, что присутствует муцин ули...</td>\n",
       "      <td>cause</td>\n",
       "    </tr>\n",
       "    <tr>\n",
       "      <th>3</th>\n",
       "      <td>206</td>\n",
       "      <td>Не самый послушный,_может осыпаться под глаза.</td>\n",
       "      <td>cause</td>\n",
       "    </tr>\n",
       "    <tr>\n",
       "      <th>4</th>\n",
       "      <td>392</td>\n",
       "      <td>После октябрьской революции_монастырь официаль...</td>\n",
       "      <td>cause</td>\n",
       "    </tr>\n",
       "  </tbody>\n",
       "</table>\n",
       "</div>"
      ],
      "text/plain": [
       "    id                                              текст relation\n",
       "0   24  Помада довольно стойкая,_отлично переживет пер...    cause\n",
       "1  101  Выпадает небольшой осадок._Всегда встряхиваю п...    cause\n",
       "2  136  зато есть ощущение, что присутствует муцин ули...    cause\n",
       "3  206     Не самый послушный,_может осыпаться под глаза.    cause\n",
       "4  392  После октябрьской революции_монастырь официаль...    cause"
      ]
     },
     "execution_count": 4,
     "metadata": {},
     "output_type": "execute_result"
    }
   ],
   "source": [
    "df2 = cause_df\n",
    "df2['relation'] = 'cause'\n",
    "df2.head()"
   ]
  },
  {
   "cell_type": "markdown",
   "metadata": {},
   "source": [
    "склеиваю два датафрейма и проверяю, что нигде ничего не потерялось (нет пустых значений)"
   ]
  },
  {
   "cell_type": "code",
   "execution_count": 5,
   "metadata": {},
   "outputs": [
    {
     "data": {
      "text/plain": [
       "id          False\n",
       "текст       False\n",
       "relation    False\n",
       "dtype: bool"
      ]
     },
     "execution_count": 5,
     "metadata": {},
     "output_type": "execute_result"
    }
   ],
   "source": [
    "all_data = pd.concat([df1, df2], ignore_index=True)\n",
    "all_data.isna().any()"
   ]
  },
  {
   "cell_type": "code",
   "execution_count": 6,
   "metadata": {},
   "outputs": [
    {
     "name": "stdout",
     "output_type": "stream",
     "text": [
      "<class 'pandas.core.frame.DataFrame'>\n",
      "RangeIndex: 200 entries, 0 to 199\n",
      "Data columns (total 3 columns):\n",
      "id          200 non-null int64\n",
      "текст       200 non-null object\n",
      "relation    200 non-null object\n",
      "dtypes: int64(1), object(2)\n",
      "memory usage: 4.8+ KB\n"
     ]
    }
   ],
   "source": [
    "all_data.info()"
   ]
  },
  {
   "cell_type": "markdown",
   "metadata": {},
   "source": [
    "Разделяю пример на две ЭДЕ по `_`"
   ]
  },
  {
   "cell_type": "code",
   "execution_count": 7,
   "metadata": {},
   "outputs": [
    {
     "data": {
      "text/html": [
       "<div>\n",
       "<style scoped>\n",
       "    .dataframe tbody tr th:only-of-type {\n",
       "        vertical-align: middle;\n",
       "    }\n",
       "\n",
       "    .dataframe tbody tr th {\n",
       "        vertical-align: top;\n",
       "    }\n",
       "\n",
       "    .dataframe thead th {\n",
       "        text-align: right;\n",
       "    }\n",
       "</style>\n",
       "<table border=\"1\" class=\"dataframe\">\n",
       "  <thead>\n",
       "    <tr style=\"text-align: right;\">\n",
       "      <th></th>\n",
       "      <th>id</th>\n",
       "      <th>текст</th>\n",
       "      <th>relation</th>\n",
       "      <th>эде1</th>\n",
       "      <th>эде2</th>\n",
       "    </tr>\n",
       "  </thead>\n",
       "  <tbody>\n",
       "    <tr>\n",
       "      <th>0</th>\n",
       "      <td>407</td>\n",
       "      <td>В солнечный день, наверное, и вода играет друг...</td>\n",
       "      <td>contrast</td>\n",
       "      <td>В солнечный день, наверное, и вода играет друг...</td>\n",
       "      <td>Главное, что это не повод сидеть дома,</td>\n",
       "    </tr>\n",
       "    <tr>\n",
       "      <th>1</th>\n",
       "      <td>921</td>\n",
       "      <td>там никто не в курсе никаких автобусов_говорят...</td>\n",
       "      <td>contrast</td>\n",
       "      <td>там никто не в курсе никаких автобусов</td>\n",
       "      <td>говорят; что всё на автостанцию приходит.</td>\n",
       "    </tr>\n",
       "    <tr>\n",
       "      <th>2</th>\n",
       "      <td>1051</td>\n",
       "      <td>В каком-то проёме за щёлкой эти монетки и оста...</td>\n",
       "      <td>contrast</td>\n",
       "      <td>В каком-то проёме за щёлкой эти монетки и оста...</td>\n",
       "      <td>И даже никаких чеков автомат не выдаёт.</td>\n",
       "    </tr>\n",
       "    <tr>\n",
       "      <th>3</th>\n",
       "      <td>1067</td>\n",
       "      <td>Что ни говори, общий относительно приличный ур...</td>\n",
       "      <td>contrast</td>\n",
       "      <td>Что ни говори, общий относительно приличный ур...</td>\n",
       "      <td>Автобусный транспорт реально много где на уров...</td>\n",
       "    </tr>\n",
       "    <tr>\n",
       "      <th>4</th>\n",
       "      <td>1161</td>\n",
       "      <td>Коробка красивая,_прибор явно туфтовый, даже п...</td>\n",
       "      <td>contrast</td>\n",
       "      <td>Коробка красивая,</td>\n",
       "      <td>прибор явно туфтовый, даже по внешнему виду.</td>\n",
       "    </tr>\n",
       "  </tbody>\n",
       "</table>\n",
       "</div>"
      ],
      "text/plain": [
       "     id                                              текст  relation  \\\n",
       "0   407  В солнечный день, наверное, и вода играет друг...  contrast   \n",
       "1   921  там никто не в курсе никаких автобусов_говорят...  contrast   \n",
       "2  1051  В каком-то проёме за щёлкой эти монетки и оста...  contrast   \n",
       "3  1067  Что ни говори, общий относительно приличный ур...  contrast   \n",
       "4  1161  Коробка красивая,_прибор явно туфтовый, даже п...  contrast   \n",
       "\n",
       "                                                эде1  \\\n",
       "0  В солнечный день, наверное, и вода играет друг...   \n",
       "1             там никто не в курсе никаких автобусов   \n",
       "2  В каком-то проёме за щёлкой эти монетки и оста...   \n",
       "3  Что ни говори, общий относительно приличный ур...   \n",
       "4                                  Коробка красивая,   \n",
       "\n",
       "                                                эде2  \n",
       "0             Главное, что это не повод сидеть дома,  \n",
       "1          говорят; что всё на автостанцию приходит.  \n",
       "2            И даже никаких чеков автомат не выдаёт.  \n",
       "3  Автобусный транспорт реально много где на уров...  \n",
       "4       прибор явно туфтовый, даже по внешнему виду.  "
      ]
     },
     "execution_count": 7,
     "metadata": {},
     "output_type": "execute_result"
    }
   ],
   "source": [
    "new_df = all_data['текст'].str.split('_',expand=True)\n",
    "new_df = new_df.rename(columns={0:'эде1', 1:'эде2'})\n",
    "all_data = pd.concat([ all_data, new_df[['эде1', 'эде2']] ], axis=1)\n",
    "all_data.head()"
   ]
  },
  {
   "cell_type": "markdown",
   "metadata": {},
   "source": [
    "# Признаки\n",
    "\n",
    "считаю все признаки, которые можно получить автоматически"
   ]
  },
  {
   "cell_type": "markdown",
   "metadata": {},
   "source": [
    "## Длины\n",
    "\n",
    "Токенизирую тексты и считаю следующие параметры (учитывая только слова, без пунктуации):\n",
    "\n",
    "`n_words` - кол-во слов в каждой ЭДЕ\n",
    "\n",
    "`av_words_length` - средняя длина слова в каждой ЭДЕ\n",
    "\n",
    "`n_words_diff` - разница в кол-вах между словами (знак показывает, какая из ЭДЕ длинее)"
   ]
  },
  {
   "cell_type": "code",
   "execution_count": 8,
   "metadata": {},
   "outputs": [],
   "source": [
    "import re\n",
    "from razdel import tokenize"
   ]
  },
  {
   "cell_type": "code",
   "execution_count": 9,
   "metadata": {},
   "outputs": [],
   "source": [
    "def tokenizer(text_data):\n",
    "    tokens = [_.text for _ in list(tokenize(str(text_data).lower()))] #if not re.search('[^а-яА-ЯёЁa-zA-z]', _.text)]\n",
    "    return \" \".join(tokens)\n",
    "\n",
    "def get_words(tokens):\n",
    "    words = [token for token in tokens.split() if not re.search('[^а-яА-ЯёЁa-zA-z]', token)]\n",
    "    return \" \".join(words)\n",
    "\n",
    "def count_words(words):\n",
    "    return len(words.split())\n",
    "\n",
    "def av_word_length(words):\n",
    "    l = [len(word) for word in words.split()]\n",
    "    return sum(l)/len(l)"
   ]
  },
  {
   "cell_type": "code",
   "execution_count": 10,
   "metadata": {},
   "outputs": [
    {
     "data": {
      "application/vnd.jupyter.widget-view+json": {
       "model_id": "e2c67b34a6fc44088820c187c6d68844",
       "version_major": 2,
       "version_minor": 0
      },
      "text/plain": [
       "HBox(children=(IntProgress(value=0, max=200), HTML(value='')))"
      ]
     },
     "metadata": {},
     "output_type": "display_data"
    },
    {
     "name": "stdout",
     "output_type": "stream",
     "text": [
      "\n"
     ]
    },
    {
     "data": {
      "application/vnd.jupyter.widget-view+json": {
       "model_id": "218b697a0a334d7f8df496effdab8c0d",
       "version_major": 2,
       "version_minor": 0
      },
      "text/plain": [
       "HBox(children=(IntProgress(value=0, max=200), HTML(value='')))"
      ]
     },
     "metadata": {},
     "output_type": "display_data"
    },
    {
     "name": "stdout",
     "output_type": "stream",
     "text": [
      "\n"
     ]
    },
    {
     "data": {
      "application/vnd.jupyter.widget-view+json": {
       "model_id": "58cae0ea8b7b4233b5fd87909c494eea",
       "version_major": 2,
       "version_minor": 0
      },
      "text/plain": [
       "HBox(children=(IntProgress(value=0, max=200), HTML(value='')))"
      ]
     },
     "metadata": {},
     "output_type": "display_data"
    },
    {
     "name": "stdout",
     "output_type": "stream",
     "text": [
      "\n"
     ]
    },
    {
     "data": {
      "application/vnd.jupyter.widget-view+json": {
       "model_id": "87b68d176b1e4a5ca5327c7788ba4e44",
       "version_major": 2,
       "version_minor": 0
      },
      "text/plain": [
       "HBox(children=(IntProgress(value=0, max=200), HTML(value='')))"
      ]
     },
     "metadata": {},
     "output_type": "display_data"
    },
    {
     "name": "stdout",
     "output_type": "stream",
     "text": [
      "\n"
     ]
    },
    {
     "data": {
      "application/vnd.jupyter.widget-view+json": {
       "model_id": "c10dfe8684804e7c8eb13869d6d7fd08",
       "version_major": 2,
       "version_minor": 0
      },
      "text/plain": [
       "HBox(children=(IntProgress(value=0, max=200), HTML(value='')))"
      ]
     },
     "metadata": {},
     "output_type": "display_data"
    },
    {
     "name": "stdout",
     "output_type": "stream",
     "text": [
      "\n"
     ]
    },
    {
     "data": {
      "application/vnd.jupyter.widget-view+json": {
       "model_id": "673967c0d03e443aab68f669a7a4c2c7",
       "version_major": 2,
       "version_minor": 0
      },
      "text/plain": [
       "HBox(children=(IntProgress(value=0, max=200), HTML(value='')))"
      ]
     },
     "metadata": {},
     "output_type": "display_data"
    },
    {
     "name": "stdout",
     "output_type": "stream",
     "text": [
      "\n"
     ]
    },
    {
     "data": {
      "application/vnd.jupyter.widget-view+json": {
       "model_id": "bbb0d2a177394669aba92c365f6f7f9a",
       "version_major": 2,
       "version_minor": 0
      },
      "text/plain": [
       "HBox(children=(IntProgress(value=0, max=200), HTML(value='')))"
      ]
     },
     "metadata": {},
     "output_type": "display_data"
    },
    {
     "name": "stdout",
     "output_type": "stream",
     "text": [
      "\n"
     ]
    },
    {
     "data": {
      "application/vnd.jupyter.widget-view+json": {
       "model_id": "b414f344ba4249a2b8544e5504abf8b7",
       "version_major": 2,
       "version_minor": 0
      },
      "text/plain": [
       "HBox(children=(IntProgress(value=0, max=200), HTML(value='')))"
      ]
     },
     "metadata": {},
     "output_type": "display_data"
    },
    {
     "name": "stdout",
     "output_type": "stream",
     "text": [
      "\n"
     ]
    }
   ],
   "source": [
    "for i in ['1', '2']:\n",
    "    all_data['tokens'+i] = all_data['эде'+i].progress_apply(tokenizer)\n",
    "    all_data['words'+i] = all_data['tokens'+i].progress_apply(get_words)\n",
    "    all_data['n_words'+i] = all_data['words'+i].progress_apply(count_words)\n",
    "    all_data['av_words_length'+i] = all_data['words'+i].progress_apply(av_word_length)"
   ]
  },
  {
   "cell_type": "code",
   "execution_count": 11,
   "metadata": {},
   "outputs": [],
   "source": [
    "all_data['n_words_diff'] = all_data['n_words1'] - all_data['n_words2']"
   ]
  },
  {
   "cell_type": "markdown",
   "metadata": {},
   "source": [
    "Распределение длин"
   ]
  },
  {
   "cell_type": "code",
   "execution_count": 12,
   "metadata": {},
   "outputs": [],
   "source": [
    "import seaborn as sns\n",
    "import matplotlib.pyplot as plt"
   ]
  },
  {
   "cell_type": "code",
   "execution_count": 13,
   "metadata": {},
   "outputs": [
    {
     "data": {
      "text/html": [
       "<div>\n",
       "<style scoped>\n",
       "    .dataframe tbody tr th:only-of-type {\n",
       "        vertical-align: middle;\n",
       "    }\n",
       "\n",
       "    .dataframe tbody tr th {\n",
       "        vertical-align: top;\n",
       "    }\n",
       "\n",
       "    .dataframe thead th {\n",
       "        text-align: right;\n",
       "    }\n",
       "</style>\n",
       "<table border=\"1\" class=\"dataframe\">\n",
       "  <thead>\n",
       "    <tr style=\"text-align: right;\">\n",
       "      <th></th>\n",
       "      <th>id</th>\n",
       "      <th>n_words1</th>\n",
       "      <th>av_words_length1</th>\n",
       "      <th>n_words2</th>\n",
       "      <th>av_words_length2</th>\n",
       "      <th>n_words_diff</th>\n",
       "    </tr>\n",
       "    <tr>\n",
       "      <th>relation</th>\n",
       "      <th></th>\n",
       "      <th></th>\n",
       "      <th></th>\n",
       "      <th></th>\n",
       "      <th></th>\n",
       "      <th></th>\n",
       "    </tr>\n",
       "  </thead>\n",
       "  <tbody>\n",
       "    <tr>\n",
       "      <th>cause</th>\n",
       "      <td>7962.52</td>\n",
       "      <td>6.83</td>\n",
       "      <td>5.867120</td>\n",
       "      <td>6.50</td>\n",
       "      <td>5.849493</td>\n",
       "      <td>0.33</td>\n",
       "    </tr>\n",
       "    <tr>\n",
       "      <th>contrast</th>\n",
       "      <td>10371.23</td>\n",
       "      <td>8.38</td>\n",
       "      <td>5.774431</td>\n",
       "      <td>6.68</td>\n",
       "      <td>5.980861</td>\n",
       "      <td>1.70</td>\n",
       "    </tr>\n",
       "  </tbody>\n",
       "</table>\n",
       "</div>"
      ],
      "text/plain": [
       "                id  n_words1  av_words_length1  n_words2  av_words_length2  \\\n",
       "relation                                                                     \n",
       "cause      7962.52      6.83          5.867120      6.50          5.849493   \n",
       "contrast  10371.23      8.38          5.774431      6.68          5.980861   \n",
       "\n",
       "          n_words_diff  \n",
       "relation                \n",
       "cause             0.33  \n",
       "contrast          1.70  "
      ]
     },
     "execution_count": 13,
     "metadata": {},
     "output_type": "execute_result"
    }
   ],
   "source": [
    "all_data.groupby(by='relation').mean()"
   ]
  },
  {
   "cell_type": "code",
   "execution_count": 14,
   "metadata": {},
   "outputs": [
    {
     "data": {
      "text/plain": [
       "<matplotlib.axes._subplots.AxesSubplot at 0x20701249550>"
      ]
     },
     "execution_count": 14,
     "metadata": {},
     "output_type": "execute_result"
    },
    {
     "data": {
      "image/png": "[encoded data removed]",
      "text/plain": [
       "<Figure size 432x288 with 1 Axes>"
      ]
     },
     "metadata": {
      "needs_background": "light"
     },
     "output_type": "display_data"
    }
   ],
   "source": [
    "all_data[all_data['relation'] == 'cause']['n_words1'].plot.kde()\n",
    "all_data[all_data['relation'] == 'cause']['n_words2'].plot.kde()"
   ]
  },
  {
   "cell_type": "code",
   "execution_count": 15,
   "metadata": {},
   "outputs": [
    {
     "data": {
      "text/plain": [
       "<matplotlib.axes._subplots.AxesSubplot at 0x207044f8f28>"
      ]
     },
     "execution_count": 15,
     "metadata": {},
     "output_type": "execute_result"
    },
    {
     "data": {
      "image/png": "[encoded data removed]",
      "text/plain": [
       "<Figure size 432x288 with 1 Axes>"
      ]
     },
     "metadata": {
      "needs_background": "light"
     },
     "output_type": "display_data"
    }
   ],
   "source": [
    "all_data[all_data['relation'] == 'contrast']['n_words1'].plot.kde()\n",
    "all_data[all_data['relation'] == 'contrast']['n_words2'].plot.kde()"
   ]
  },
  {
   "cell_type": "code",
   "execution_count": 16,
   "metadata": {},
   "outputs": [
    {
     "data": {
      "text/plain": [
       "<matplotlib.axes._subplots.AxesSubplot at 0x207045ba1d0>"
      ]
     },
     "execution_count": 16,
     "metadata": {},
     "output_type": "execute_result"
    },
    {
     "data": {
      "image/png": "[encoded data removed]",
      "text/plain": [
       "<Figure size 432x288 with 1 Axes>"
      ]
     },
     "metadata": {
      "needs_background": "light"
     },
     "output_type": "display_data"
    }
   ],
   "source": [
    "all_data[all_data['relation'] == 'contrast']['n_words_diff'].plot.kde()\n",
    "all_data[all_data['relation'] == 'cause']['n_words_diff'].plot.kde()"
   ]
  },
  {
   "cell_type": "markdown",
   "metadata": {},
   "source": [
    "## Пунктуация между ЭДЕ\n",
    "\n",
    "`punct` - знак препинания между двумя ЭДЕ (беру последний токен первой ЭДЕ). _None_ если знаков там нет. Данные заранее нормализованы вручную так, чтобы знак оставался в первом элементе. "
   ]
  },
  {
   "cell_type": "code",
   "execution_count": 17,
   "metadata": {},
   "outputs": [],
   "source": [
    "def find_punct(tokens):\n",
    "    last = tokens[-1]\n",
    "    if last not in ['.', ',', ':', '-', '?', ')', '…']:\n",
    "        last = 'none'\n",
    "        \n",
    "    return last\n",
    "\n",
    "all_data['punct'] = all_data['tokens1'].apply(find_punct)\n",
    "all_data['if punct'] = (all_data['punct'] != 'none')"
   ]
  },
  {
   "cell_type": "markdown",
   "metadata": {},
   "source": [
    "## POS анализ\n",
    "\n",
    "Считаю вектор со значениями всех частей речи и разбиваю его на отдельные признаки"
   ]
  },
  {
   "cell_type": "code",
   "execution_count": 18,
   "metadata": {},
   "outputs": [],
   "source": [
    "from pymorphy2 import MorphAnalyzer\n",
    "morph = MorphAnalyzer()"
   ]
  },
  {
   "cell_type": "code",
   "execution_count": 19,
   "metadata": {},
   "outputs": [],
   "source": [
    "tag_list = ['ADJF', 'ADJS', 'ADVB', 'COMP', 'CONJ', 'GRND', 'INFN', 'INTJ', 'NOUN',\n",
    "            'NPRO', 'NUMR', 'None', 'PRCL', 'PRED', 'PREP', 'PRTF', 'PRTS', 'VERB']"
   ]
  },
  {
   "cell_type": "code",
   "execution_count": 20,
   "metadata": {},
   "outputs": [],
   "source": [
    "def count_POS(words):\n",
    "    POS_dict = {'ADJF': 0,\n",
    "                'ADJS': 0,\n",
    "                'ADVB': 0,\n",
    "                'COMP': 0,\n",
    "                'CONJ': 0,\n",
    "                'GRND': 0,\n",
    "                'INFN': 0,\n",
    "                'INTJ': 0,\n",
    "                'NOUN': 0,\n",
    "                'NPRO': 0,\n",
    "                'NUMR': 0,\n",
    "                'None': 0,\n",
    "                'PRCL': 0,\n",
    "                'PRED': 0,\n",
    "                'PREP': 0,\n",
    "                'PRTF': 0,\n",
    "                'PRTS': 0,\n",
    "                'VERB': 0}\n",
    "    \n",
    "    for word in words.split():\n",
    "        p = morph.parse(word)[0]\n",
    "        tag = p.tag.POS\n",
    "        if tag is None:\n",
    "            tag = 'None'\n",
    "        POS_dict[tag] += 1\n",
    "    return list(POS_dict.values())"
   ]
  },
  {
   "cell_type": "code",
   "execution_count": 21,
   "metadata": {},
   "outputs": [
    {
     "data": {
      "application/vnd.jupyter.widget-view+json": {
       "model_id": "9106ce205dc4417fb0c5dfe1933989df",
       "version_major": 2,
       "version_minor": 0
      },
      "text/plain": [
       "HBox(children=(IntProgress(value=0, max=200), HTML(value='')))"
      ]
     },
     "metadata": {},
     "output_type": "display_data"
    },
    {
     "name": "stdout",
     "output_type": "stream",
     "text": [
      "\n"
     ]
    },
    {
     "data": {
      "application/vnd.jupyter.widget-view+json": {
       "model_id": "5a8d381e992e4a5997aca2d42d19abfa",
       "version_major": 2,
       "version_minor": 0
      },
      "text/plain": [
       "HBox(children=(IntProgress(value=0, max=200), HTML(value='')))"
      ]
     },
     "metadata": {},
     "output_type": "display_data"
    },
    {
     "name": "stdout",
     "output_type": "stream",
     "text": [
      "\n"
     ]
    }
   ],
   "source": [
    "for i in ['1', '2']:\n",
    "    all_data['pos_vector'+i] = all_data['words'+i].progress_apply(count_POS)\n",
    "    \n",
    "    all_data[ [tag+i for tag in tag_list] ] = pd.DataFrame(all_data['pos_vector'+i].tolist())"
   ]
  },
  {
   "cell_type": "markdown",
   "metadata": {},
   "source": [
    "## Повторяющиеся слова\n",
    "\n",
    "Лемматизирую тексты и считаю сколько слов встречаются в обеих ЭДЕ"
   ]
  },
  {
   "cell_type": "code",
   "execution_count": 22,
   "metadata": {},
   "outputs": [],
   "source": [
    "def lemmatizer(words):\n",
    "    lem_text = []\n",
    "    for word in words.split():\n",
    "        lem = morph.parse(word)[0].normal_form\n",
    "#         if lem not in stops:\n",
    "        lem_text.append(lem)\n",
    "    return ' '.join(lem_text)\n",
    "\n",
    "def similar_words(lemm_a, lemm_b):\n",
    "    return list(set(lemm_a.split()) & set(lemm_b.split()))"
   ]
  },
  {
   "cell_type": "code",
   "execution_count": 23,
   "metadata": {},
   "outputs": [
    {
     "data": {
      "application/vnd.jupyter.widget-view+json": {
       "model_id": "86d2af6489e24133a6953274e751cb90",
       "version_major": 2,
       "version_minor": 0
      },
      "text/plain": [
       "HBox(children=(IntProgress(value=0, max=200), HTML(value='')))"
      ]
     },
     "metadata": {},
     "output_type": "display_data"
    },
    {
     "name": "stdout",
     "output_type": "stream",
     "text": [
      "\n"
     ]
    },
    {
     "data": {
      "application/vnd.jupyter.widget-view+json": {
       "model_id": "ef2a47803c7c4c90b79f5da6a2dbb22b",
       "version_major": 2,
       "version_minor": 0
      },
      "text/plain": [
       "HBox(children=(IntProgress(value=0, max=200), HTML(value='')))"
      ]
     },
     "metadata": {},
     "output_type": "display_data"
    },
    {
     "name": "stdout",
     "output_type": "stream",
     "text": [
      "\n"
     ]
    }
   ],
   "source": [
    "for i in ['1', '2']:\n",
    "    all_data['lemm'+i] = all_data['words'+i].progress_apply(lemmatizer)"
   ]
  },
  {
   "cell_type": "code",
   "execution_count": 24,
   "metadata": {},
   "outputs": [],
   "source": [
    "all_data['similar_words'] = all_data.apply(lambda x: similar_words(x['lemm1'], x['lemm2']), axis=1)\n",
    "all_data['n_similar_words'] = all_data['similar_words'].apply(len)"
   ]
  },
  {
   "cell_type": "code",
   "execution_count": 25,
   "metadata": {
    "scrolled": false
   },
   "outputs": [
    {
     "data": {
      "text/plain": [
       "2                                          [и]\n",
       "3                         [уровень, транспорт]\n",
       "9                                          [с]\n",
       "11                                    [бывать]\n",
       "15                                       [кот]\n",
       "18                                    [писать]\n",
       "20                                       [для]\n",
       "21                                  [хотеться]\n",
       "22          [путь, к, это, результат, быстрый]\n",
       "23                         [быть, пищеварение]\n",
       "25                           [тестер, платить]\n",
       "26                                  [работать]\n",
       "27                         [требовать, ресурс]\n",
       "28                                    [способ]\n",
       "30                                       [что]\n",
       "32                                [технология]\n",
       "34                                        [не]\n",
       "35                                 [я, хотеть]\n",
       "37                     [сказать, мочь, я, что]\n",
       "39                                  [удобство]\n",
       "41                   [нужно, значит, что, это]\n",
       "42                 [союз, и, россия, это, что]\n",
       "45                                       [они]\n",
       "49                                     [когда]\n",
       "52                                         [в]\n",
       "53                                   [это, не]\n",
       "55     [в, себя, вредить, человек, граница, с]\n",
       "56                                    [рулить]\n",
       "57                                     [и, не]\n",
       "59                                       [это]\n",
       "                        ...                   \n",
       "89                                      [план]\n",
       "90                                        [бы]\n",
       "93                                         [у]\n",
       "95                               [освобождать]\n",
       "98                             [распределение]\n",
       "99                                    [случай]\n",
       "106                          [класс, парковка]\n",
       "109                            [в, для, я, не]\n",
       "111                            [дневный, и, я]\n",
       "117                                        [и]\n",
       "120                                        [я]\n",
       "127                                        [я]\n",
       "130                                       [не]\n",
       "132                                        [и]\n",
       "134                               [время, это]\n",
       "139                                        [к]\n",
       "147                                   [и, они]\n",
       "148                       [сервис, уязвимость]\n",
       "149                                        [с]\n",
       "150                                   [это, к]\n",
       "154                                       [не]\n",
       "159                                  [большой]\n",
       "160                                 [в, центр]\n",
       "166                                        [в]\n",
       "178                             [не, с, очень]\n",
       "180                                        [в]\n",
       "182                                        [и]\n",
       "184                                  [большой]\n",
       "188                                       [на]\n",
       "189                                        [с]\n",
       "Name: similar_words, Length: 78, dtype: object"
      ]
     },
     "execution_count": 25,
     "metadata": {},
     "output_type": "execute_result"
    }
   ],
   "source": [
    "all_data[all_data['n_similar_words'] != 0]['similar_words']"
   ]
  },
  {
   "cell_type": "markdown",
   "metadata": {},
   "source": [
    "## Эмбединги\n",
    "\n",
    "Обучаю модель, получаю вектора размерности 10 для каждой пары ЭДЕ и считаю их косинусную близовть. Вектора разбиваю на 10 отдельных признаков. Как дальше покажут эксперименты, если использовать эти 10 отдельных признаков, то почти все модели получаются сильно завязаны на каку-то их часть, при этом если их не использовать - качество не особо и меняется. Так что в итоге при обучении я буду использовать только значение близости между векторами двух ЭДЕ `cosine_d2v`."
   ]
  },
  {
   "cell_type": "markdown",
   "metadata": {},
   "source": [
    "### doc2vec"
   ]
  },
  {
   "cell_type": "code",
   "execution_count": 26,
   "metadata": {},
   "outputs": [],
   "source": [
    "from gensim.models.doc2vec import Doc2Vec, TaggedDocument"
   ]
  },
  {
   "cell_type": "code",
   "execution_count": 27,
   "metadata": {},
   "outputs": [
    {
     "data": {
      "text/plain": [
       "400"
      ]
     },
     "execution_count": 27,
     "metadata": {},
     "output_type": "execute_result"
    }
   ],
   "source": [
    "corpora = all_data['lemm1'].values.tolist() + all_data['lemm2'].values.tolist()\n",
    "len(corpora)"
   ]
  },
  {
   "cell_type": "code",
   "execution_count": 28,
   "metadata": {},
   "outputs": [],
   "source": [
    "documents = [TaggedDocument(doc.split(), [i]) for i, doc in enumerate(corpora)]\n",
    "model = Doc2Vec(documents, vector_size=10, window=2, min_count=1)"
   ]
  },
  {
   "cell_type": "code",
   "execution_count": 29,
   "metadata": {},
   "outputs": [],
   "source": [
    "def get_d2v_vector(lemm):\n",
    "    return model.infer_vector(lemm.split())\n",
    "\n",
    "def cosine_d2v(lemm1, lemm2):\n",
    "    return model.wv.n_similarity(lemm1.split(),lemm2.split())"
   ]
  },
  {
   "cell_type": "code",
   "execution_count": 30,
   "metadata": {},
   "outputs": [
    {
     "data": {
      "application/vnd.jupyter.widget-view+json": {
       "model_id": "20e26d87645743588414f52075dea384",
       "version_major": 2,
       "version_minor": 0
      },
      "text/plain": [
       "HBox(children=(IntProgress(value=0, max=200), HTML(value='')))"
      ]
     },
     "metadata": {},
     "output_type": "display_data"
    },
    {
     "name": "stdout",
     "output_type": "stream",
     "text": [
      "\n"
     ]
    },
    {
     "data": {
      "application/vnd.jupyter.widget-view+json": {
       "model_id": "c9225652ab7d4fe69a41e69157dde440",
       "version_major": 2,
       "version_minor": 0
      },
      "text/plain": [
       "HBox(children=(IntProgress(value=0, max=200), HTML(value='')))"
      ]
     },
     "metadata": {},
     "output_type": "display_data"
    },
    {
     "name": "stdout",
     "output_type": "stream",
     "text": [
      "\n"
     ]
    }
   ],
   "source": [
    "for i in ['1', '2']:\n",
    "    all_data['d2v_vector'+i] = all_data['lemm'+i].progress_apply(get_d2v_vector)\n",
    "    all_data[ ['v'+str(n)+'_'+i for n in range(10)] ] = pd.DataFrame(all_data['d2v_vector'+i].tolist())"
   ]
  },
  {
   "cell_type": "code",
   "execution_count": 31,
   "metadata": {},
   "outputs": [],
   "source": [
    "all_data['cosine_d2v'] = all_data.apply(lambda x: cosine_d2v(x['lemm1'], x['lemm2']), axis=1)"
   ]
  },
  {
   "cell_type": "markdown",
   "metadata": {},
   "source": [
    "### Сохранение всех результатов в экселе"
   ]
  },
  {
   "cell_type": "code",
   "execution_count": 32,
   "metadata": {},
   "outputs": [],
   "source": [
    "all_data.to_excel('Data\\data_full_markup.xlsx')"
   ]
  },
  {
   "cell_type": "markdown",
   "metadata": {},
   "source": [
    "# Модели"
   ]
  },
  {
   "cell_type": "code",
   "execution_count": 33,
   "metadata": {},
   "outputs": [],
   "source": [
    "import numpy as np\n",
    "from sklearn.metrics import classification_report"
   ]
  },
  {
   "cell_type": "markdown",
   "metadata": {},
   "source": [
    "## Обчающая и тестовая выборки"
   ]
  },
  {
   "cell_type": "code",
   "execution_count": 34,
   "metadata": {},
   "outputs": [],
   "source": [
    "from sklearn.preprocessing import LabelEncoder\n",
    "from sklearn.model_selection import train_test_split"
   ]
  },
  {
   "cell_type": "code",
   "execution_count": 35,
   "metadata": {},
   "outputs": [],
   "source": [
    "not_features = ['id', 'текст',\n",
    "                'эде1', 'эде2',\n",
    "                'tokens1', 'tokens2',\n",
    "                'words1', 'words2',\n",
    "                'pos_vector1', 'pos_vector2',\n",
    "                'lemm1', 'lemm2',\n",
    "                'similar_words', 'if punct', \n",
    "                'd2v_vector1', 'd2v_vector2']\n",
    "\n",
    "not_features.extend(['v'+str(n)+'_'+'1' for n in range(10)])\n",
    "not_features.extend(['v'+str(n)+'_'+'2' for n in range(10)])\n",
    "\n",
    "features_list = list(set(all_data.columns.values.tolist()) - set(not_features))\n",
    "features_list.remove('relation')\n",
    "\n",
    "data = all_data.drop(columns=not_features)\n",
    "data = data.apply(LabelEncoder().fit_transform) # 1 = contrast, 0 = cause\n",
    "\n",
    "X = data.drop(columns=['relation'])\n",
    "y = data['relation']\n",
    "\n",
    "X_train, X_test, y_train, y_test = train_test_split(X, y, \n",
    "                                                    stratify=y,\n",
    "                                                    test_size=0.2,\n",
    "                                                    random_state=42)"
   ]
  },
  {
   "cell_type": "code",
   "execution_count": 36,
   "metadata": {},
   "outputs": [
    {
     "data": {
      "text/plain": [
       "44"
      ]
     },
     "execution_count": 36,
     "metadata": {},
     "output_type": "execute_result"
    }
   ],
   "source": [
    "len(features_list)"
   ]
  },
  {
   "cell_type": "code",
   "execution_count": 37,
   "metadata": {},
   "outputs": [
    {
     "name": "stdout",
     "output_type": "stream",
     "text": [
      "<class 'pandas.core.frame.DataFrame'>\n",
      "Int64Index: 160 entries, 154 to 5\n",
      "Data columns (total 44 columns):\n",
      "n_words1            160 non-null int64\n",
      "av_words_length1    160 non-null int64\n",
      "n_words2            160 non-null int64\n",
      "av_words_length2    160 non-null int64\n",
      "n_words_diff        160 non-null int64\n",
      "punct               160 non-null int32\n",
      "ADJF1               160 non-null int64\n",
      "ADJS1               160 non-null int64\n",
      "ADVB1               160 non-null int64\n",
      "COMP1               160 non-null int64\n",
      "CONJ1               160 non-null int64\n",
      "GRND1               160 non-null int64\n",
      "INFN1               160 non-null int64\n",
      "INTJ1               160 non-null int64\n",
      "NOUN1               160 non-null int64\n",
      "NPRO1               160 non-null int64\n",
      "NUMR1               160 non-null int64\n",
      "None1               160 non-null int64\n",
      "PRCL1               160 non-null int64\n",
      "PRED1               160 non-null int64\n",
      "PREP1               160 non-null int64\n",
      "PRTF1               160 non-null int64\n",
      "PRTS1               160 non-null int64\n",
      "VERB1               160 non-null int64\n",
      "ADJF2               160 non-null int64\n",
      "ADJS2               160 non-null int64\n",
      "ADVB2               160 non-null int64\n",
      "COMP2               160 non-null int64\n",
      "CONJ2               160 non-null int64\n",
      "GRND2               160 non-null int64\n",
      "INFN2               160 non-null int64\n",
      "INTJ2               160 non-null int64\n",
      "NOUN2               160 non-null int64\n",
      "NPRO2               160 non-null int64\n",
      "NUMR2               160 non-null int64\n",
      "None2               160 non-null int64\n",
      "PRCL2               160 non-null int64\n",
      "PRED2               160 non-null int64\n",
      "PREP2               160 non-null int64\n",
      "PRTF2               160 non-null int64\n",
      "PRTS2               160 non-null int64\n",
      "VERB2               160 non-null int64\n",
      "n_similar_words     160 non-null int64\n",
      "cosine_d2v          160 non-null int64\n",
      "dtypes: int32(1), int64(43)\n",
      "memory usage: 55.6 KB\n"
     ]
    }
   ],
   "source": [
    "X_train.info()"
   ]
  },
  {
   "cell_type": "markdown",
   "metadata": {},
   "source": [
    "## Корреляция признаков\n",
    "\n",
    "вроде сильно коррелирующих нет"
   ]
  },
  {
   "cell_type": "code",
   "execution_count": 38,
   "metadata": {},
   "outputs": [
    {
     "data": {
      "text/plain": [
       "<matplotlib.axes._subplots.AxesSubplot at 0x20706bddf98>"
      ]
     },
     "execution_count": 38,
     "metadata": {},
     "output_type": "execute_result"
    },
    {
     "data": {
      "image/png": "[encoded data removed]",
      "text/plain": [
       "<Figure size 720x720 with 2 Axes>"
      ]
     },
     "metadata": {
      "needs_background": "light"
     },
     "output_type": "display_data"
    }
   ],
   "source": [
    "corr_matrix = data.drop(columns=['relation']).corr()\n",
    "plt.subplots(figsize=(10,10))\n",
    "sns.heatmap(corr_matrix)"
   ]
  },
  {
   "cell_type": "markdown",
   "metadata": {},
   "source": [
    "### Корреляция между признаками и классом"
   ]
  },
  {
   "cell_type": "code",
   "execution_count": 39,
   "metadata": {},
   "outputs": [
    {
     "name": "stdout",
     "output_type": "stream",
     "text": [
      "n_similar_words - 0.24938907724170786\n",
      "PRCL2 - 0.22423052782558048\n",
      "n_words1 - 0.18248905029295673\n",
      "PRCL1 - 0.16947553762062917\n",
      "ADJF1 - 0.16485989852481342\n",
      "ADJS1 - 0.15309310892394895\n",
      "NOUN1 - 0.14864888347169689\n",
      "n_words_diff - 0.1396137509584346\n",
      "ADJF2 - 0.12121830534626488\n",
      "VERB1 - 0.12027695586485297\n",
      "INTJ2 - 0.11724207635210979\n",
      "punct - 0.09976037959994381\n",
      "CONJ1 - 0.0970494958830943\n",
      "INFN1 - 0.08835852486128691\n",
      "cosine_d2v - 0.08435192873430357\n",
      "INTJ1 - 0.08161943426864189\n",
      "NUMR1 - 0.07142857142857151\n",
      "None2 - 0.07088812050083323\n",
      "PRTF2 - 0.060845543573612736\n",
      "PREP2 - 0.05463583647081531\n",
      "PRED1 - 0.05324139056496659\n",
      "PREP1 - 0.05200401152588276\n",
      "av_words_length2 - 0.02976722807720608\n",
      "ADJS2 - 0.02720647808954716\n",
      "NOUN2 - 0.025854491181538285\n",
      "CONJ2 - 0.025822040901125175\n",
      "n_words2 - 0.01857273628971618\n",
      "av_words_length1 - -0.012286604849893192\n",
      "NPRO2 - -0.018979740450028024\n",
      "None1 - -0.019924430474521027\n",
      "COMP1 - -0.02411915350974739\n",
      "NPRO1 - -0.03907323325822833\n",
      "PRTS1 - -0.041134503489486336\n",
      "ADVB1 - -0.05001148354678104\n",
      "ADVB2 - -0.06544632461438334\n",
      "COMP2 - -0.08900862436453902\n",
      "PRED2 - -0.08964374649555988\n",
      "VERB2 - -0.09834372928459252\n",
      "PRTF1 - -0.11642257885595005\n",
      "PRTS2 - -0.11724207635210993\n",
      "NUMR2 - -0.1428571428571429\n",
      "GRND1 - -0.15352206215728006\n",
      "GRND2 - -0.16915022303045837\n",
      "INFN2 - -0.1745353257001641\n"
     ]
    }
   ],
   "source": [
    "feature_corr = np.empty(0)\n",
    "\n",
    "for f in features_list:\n",
    "    feature_corr = np.append(feature_corr, data[['relation', f]].corr()['relation'][f])\n",
    "    \n",
    "for ind in np.argsort(-feature_corr):\n",
    "    print(features_list[ind], '-', feature_corr[ind])"
   ]
  },
  {
   "cell_type": "markdown",
   "metadata": {},
   "source": [
    "## Статистическая значимость признаков\n",
    "\n",
    "без комментариев"
   ]
  },
  {
   "cell_type": "code",
   "execution_count": 40,
   "metadata": {},
   "outputs": [],
   "source": [
    "from sklearn.feature_selection import chi2"
   ]
  },
  {
   "cell_type": "code",
   "execution_count": 41,
   "metadata": {},
   "outputs": [
    {
     "data": {
      "text/plain": [
       "<matplotlib.axes._subplots.AxesSubplot at 0x20706ec7710>"
      ]
     },
     "execution_count": 41,
     "metadata": {},
     "output_type": "execute_result"
    },
    {
     "data": {
      "image/png": "[encoded data removed]",
      "text/plain": [
       "<Figure size 720x720 with 1 Axes>"
      ]
     },
     "metadata": {
      "needs_background": "light"
     },
     "output_type": "display_data"
    }
   ],
   "source": [
    "chi_scores = chi2(X, y)\n",
    "p_values = pd.Series(chi_scores[1], index = X.columns)\n",
    "p_values.sort_values(ascending = False, inplace = True)\n",
    "plt.subplots(figsize=(10,10))\n",
    "p_values.plot.bar()"
   ]
  },
  {
   "cell_type": "markdown",
   "metadata": {},
   "source": [
    "## Логистическая регрессия"
   ]
  },
  {
   "cell_type": "code",
   "execution_count": 42,
   "metadata": {},
   "outputs": [],
   "source": [
    "from sklearn.linear_model import LogisticRegression"
   ]
  },
  {
   "cell_type": "code",
   "execution_count": 43,
   "metadata": {},
   "outputs": [
    {
     "name": "stderr",
     "output_type": "stream",
     "text": [
      "C:\\Users\\User\\AppData\\Roaming\\Python\\Python37\\site-packages\\sklearn\\linear_model\\logistic.py:432: FutureWarning: Default solver will be changed to 'lbfgs' in 0.22. Specify a solver to silence this warning.\n",
      "  FutureWarning)\n"
     ]
    },
    {
     "data": {
      "text/plain": [
       "LogisticRegression(C=1.0, class_weight=None, dual=False, fit_intercept=True,\n",
       "                   intercept_scaling=1, l1_ratio=None, max_iter=100,\n",
       "                   multi_class='warn', n_jobs=None, penalty='l2',\n",
       "                   random_state=42, solver='warn', tol=0.0001, verbose=0,\n",
       "                   warm_start=False)"
      ]
     },
     "execution_count": 43,
     "metadata": {},
     "output_type": "execute_result"
    }
   ],
   "source": [
    "lreg = LogisticRegression(random_state=42)\n",
    "lreg.fit(X_train, y_train)"
   ]
  },
  {
   "cell_type": "code",
   "execution_count": 44,
   "metadata": {},
   "outputs": [
    {
     "name": "stdout",
     "output_type": "stream",
     "text": [
      "              precision    recall  f1-score   support\n",
      "\n",
      "           0       0.64      0.90      0.75        20\n",
      "           1       0.83      0.50      0.62        20\n",
      "\n",
      "    accuracy                           0.70        40\n",
      "   macro avg       0.74      0.70      0.69        40\n",
      "weighted avg       0.74      0.70      0.69        40\n",
      "\n"
     ]
    }
   ],
   "source": [
    "y_pred_lreg = lreg.predict(X_test)\n",
    "print(classification_report(y_test, y_pred_lreg))"
   ]
  },
  {
   "cell_type": "code",
   "execution_count": 45,
   "metadata": {},
   "outputs": [
    {
     "name": "stdout",
     "output_type": "stream",
     "text": [
      "ADJS1 - 1.0926052685517167\n",
      "INTJ1 - 0.9531457388668532\n",
      "n_similar_words - 0.8131207284309575\n",
      "PRCL2 - 0.6407257405370884\n",
      "ADJF2 - 0.5617537288789896\n",
      "INTJ2 - 0.5553221569008576\n",
      "VERB1 - 0.529420924472552\n",
      "NPRO2 - 0.471563501968951\n",
      "PREP2 - 0.43430349270129337\n",
      "None2 - 0.4325108745368614\n",
      "NUMR1 - 0.3797468144777583\n",
      "PRED1 - 0.35527071617372125\n",
      "CONJ2 - 0.2520641184413455\n",
      "ADJF1 - 0.2356405053550953\n",
      "PRCL1 - 0.23334104984558549\n",
      "INFN1 - 0.14035458140616625\n",
      "punct - 0.14028000028853324\n",
      "n_words1 - 0.13503876223859185\n",
      "ADVB1 - 0.11926330444569667\n",
      "ADJS2 - 0.08926210557505608\n",
      "NOUN1 - 0.0807572206399138\n",
      "COMP2 - 0.07255057846448508\n",
      "NOUN2 - 0.0390615027973567\n",
      "PRTS1 - 0.02411174725835533\n",
      "av_words_length2 - 0.008137028396664235\n",
      "av_words_length1 - 0.003928012292981928\n",
      "cosine_d2v - -0.0008242745564194075\n",
      "PRED2 - -0.042218842726422734\n",
      "PREP1 - -0.0945211291984596\n",
      "n_words_diff - -0.12135796439895563\n",
      "CONJ1 - -0.12141102606322829\n",
      "PRTF2 - -0.2058418859611028\n",
      "ADVB2 - -0.20898365661499144\n",
      "VERB2 - -0.2662335695351152\n",
      "GRND1 - -0.3008726791314668\n",
      "NUMR2 - -0.3141032193221955\n",
      "COMP1 - -0.31521483966318375\n",
      "PRTS2 - -0.3784549223709466\n",
      "INFN2 - -0.3903740335917917\n",
      "NPRO1 - -0.43833447396939373\n",
      "n_words2 - -0.46248719586924913\n",
      "None1 - -0.5287657114464581\n",
      "GRND2 - -1.2239985671285019\n",
      "PRTF1 - -1.589103208084618\n"
     ]
    }
   ],
   "source": [
    "feature_importances_lreg = lreg.coef_\n",
    "for ind in np.argsort(-feature_importances_lreg[0]):\n",
    "    print(X_train.columns[ind], '-', feature_importances_lreg[0][ind])"
   ]
  },
  {
   "cell_type": "markdown",
   "metadata": {},
   "source": [
    "## Decision Tree"
   ]
  },
  {
   "cell_type": "code",
   "execution_count": 46,
   "metadata": {},
   "outputs": [],
   "source": [
    "from sklearn.tree import DecisionTreeClassifier"
   ]
  },
  {
   "cell_type": "code",
   "execution_count": 47,
   "metadata": {},
   "outputs": [
    {
     "data": {
      "text/plain": [
       "DecisionTreeClassifier(class_weight=None, criterion='gini', max_depth=None,\n",
       "                       max_features=None, max_leaf_nodes=None,\n",
       "                       min_impurity_decrease=0.0, min_impurity_split=None,\n",
       "                       min_samples_leaf=1, min_samples_split=2,\n",
       "                       min_weight_fraction_leaf=0.0, presort=False,\n",
       "                       random_state=42, splitter='best')"
      ]
     },
     "execution_count": 47,
     "metadata": {},
     "output_type": "execute_result"
    }
   ],
   "source": [
    "tree_clf = DecisionTreeClassifier(random_state=42)\n",
    "tree_clf.fit(X_train, y_train)"
   ]
  },
  {
   "cell_type": "code",
   "execution_count": 48,
   "metadata": {},
   "outputs": [
    {
     "name": "stdout",
     "output_type": "stream",
     "text": [
      "              precision    recall  f1-score   support\n",
      "\n",
      "           0       0.52      0.65      0.58        20\n",
      "           1       0.53      0.40      0.46        20\n",
      "\n",
      "    accuracy                           0.53        40\n",
      "   macro avg       0.53      0.53      0.52        40\n",
      "weighted avg       0.53      0.53      0.52        40\n",
      "\n"
     ]
    }
   ],
   "source": [
    "y_pred_tree = tree_clf.predict(X_test)\n",
    "print(classification_report(y_test, y_pred_tree))"
   ]
  },
  {
   "cell_type": "code",
   "execution_count": 49,
   "metadata": {},
   "outputs": [
    {
     "name": "stdout",
     "output_type": "stream",
     "text": [
      "n_words2 - 0.12841461213837527\n",
      "n_similar_words - 0.10121457489878546\n",
      "n_words1 - 0.08490036231884056\n",
      "NPRO1 - 0.06959751996637242\n",
      "cosine_d2v - 0.0632440476190476\n",
      "n_words_diff - 0.0604370596302076\n",
      "PRCL2 - 0.057696270558031684\n",
      "av_words_length1 - 0.04404761904761905\n",
      "GRND1 - 0.04292679479932162\n",
      "INFN1 - 0.036111111111111094\n",
      "CONJ2 - 0.035416666666666666\n",
      "NPRO2 - 0.03333333333333333\n",
      "ADJF2 - 0.0319790642223451\n",
      "ADJS1 - 0.03109507954125048\n",
      "GRND2 - 0.029701468710089385\n",
      "VERB1 - 0.023116395099153707\n",
      "COMP2 - 0.02291666666666667\n",
      "INFN2 - 0.0188673469387755\n",
      "NOUN2 - 0.01875\n",
      "PRTF1 - 0.018409586056644896\n",
      "ADVB1 - 0.018127450980392146\n",
      "PREP1 - 0.01666666666666667\n",
      "NOUN1 - 0.00719696969696971\n",
      "PRED1 - 0.0058333333333333405\n",
      "VERB2 - 0.0\n",
      "PRTS2 - 0.0\n",
      "PRTF2 - 0.0\n",
      "PREP2 - 0.0\n",
      "PRED2 - 0.0\n",
      "ADJF1 - 0.0\n",
      "None2 - 0.0\n",
      "NUMR2 - 0.0\n",
      "INTJ2 - 0.0\n",
      "CONJ1 - 0.0\n",
      "INTJ1 - 0.0\n",
      "av_words_length2 - 0.0\n",
      "ADVB2 - 0.0\n",
      "ADJS2 - 0.0\n",
      "NUMR1 - 0.0\n",
      "None1 - 0.0\n",
      "PRTS1 - 0.0\n",
      "PRCL1 - 0.0\n",
      "COMP1 - 0.0\n",
      "punct - 0.0\n"
     ]
    }
   ],
   "source": [
    "feature_importances_tree = tree_clf.feature_importances_\n",
    "for ind in np.argsort(-feature_importances_tree):\n",
    "    print(X_train.columns[ind], '-', feature_importances_tree[ind])"
   ]
  },
  {
   "cell_type": "markdown",
   "metadata": {},
   "source": [
    "## Random Forest"
   ]
  },
  {
   "cell_type": "code",
   "execution_count": 50,
   "metadata": {},
   "outputs": [],
   "source": [
    "from sklearn.ensemble import RandomForestClassifier"
   ]
  },
  {
   "cell_type": "code",
   "execution_count": 51,
   "metadata": {},
   "outputs": [
    {
     "data": {
      "text/plain": [
       "RandomForestClassifier(bootstrap=True, class_weight=None, criterion='gini',\n",
       "                       max_depth=None, max_features='auto', max_leaf_nodes=None,\n",
       "                       min_impurity_decrease=0.0, min_impurity_split=None,\n",
       "                       min_samples_leaf=1, min_samples_split=2,\n",
       "                       min_weight_fraction_leaf=0.0, n_estimators=100,\n",
       "                       n_jobs=None, oob_score=False, random_state=42, verbose=0,\n",
       "                       warm_start=False)"
      ]
     },
     "execution_count": 51,
     "metadata": {},
     "output_type": "execute_result"
    }
   ],
   "source": [
    "rf_clf = RandomForestClassifier(n_estimators=100, random_state=42)\n",
    "rf_clf.fit(X_train, y_train)"
   ]
  },
  {
   "cell_type": "code",
   "execution_count": 52,
   "metadata": {},
   "outputs": [
    {
     "name": "stdout",
     "output_type": "stream",
     "text": [
      "              precision    recall  f1-score   support\n",
      "\n",
      "           0       0.62      0.80      0.70        20\n",
      "           1       0.71      0.50      0.59        20\n",
      "\n",
      "    accuracy                           0.65        40\n",
      "   macro avg       0.66      0.65      0.64        40\n",
      "weighted avg       0.66      0.65      0.64        40\n",
      "\n"
     ]
    }
   ],
   "source": [
    "y_pred_forest = rf_clf.predict(X_test)\n",
    "print(classification_report(y_test, y_pred_forest))"
   ]
  },
  {
   "cell_type": "code",
   "execution_count": 53,
   "metadata": {},
   "outputs": [
    {
     "name": "stdout",
     "output_type": "stream",
     "text": [
      "av_words_length1 - 0.06987827976545953\n",
      "cosine_d2v - 0.06683527283393702\n",
      "av_words_length2 - 0.0650065990018059\n",
      "n_similar_words - 0.06275774640960004\n",
      "n_words1 - 0.05731089490010717\n",
      "n_words_diff - 0.055265220951278976\n",
      "n_words2 - 0.04572808201236842\n",
      "NOUN1 - 0.04472933053519498\n",
      "NOUN2 - 0.040606279223169436\n",
      "ADJF2 - 0.034934590779201934\n",
      "punct - 0.0341126209314709\n",
      "PRCL1 - 0.029418667967648693\n",
      "ADJF1 - 0.029061164264657355\n",
      "PREP2 - 0.027823720840016213\n",
      "VERB1 - 0.025445869240594898\n",
      "CONJ1 - 0.024355039904657337\n",
      "PRCL2 - 0.02405047655294471\n",
      "VERB2 - 0.022675314891483667\n",
      "PREP1 - 0.019591018427045404\n",
      "ADVB2 - 0.019481724605882413\n",
      "ADVB1 - 0.019288354103033464\n",
      "NPRO1 - 0.019265396900555634\n",
      "INFN2 - 0.017068943941978956\n",
      "INFN1 - 0.016173080894703498\n",
      "GRND2 - 0.015602674098215124\n",
      "CONJ2 - 0.01434934492165462\n",
      "NPRO2 - 0.011873667679375772\n",
      "ADJS1 - 0.011792614161598842\n",
      "GRND1 - 0.010727624552556476\n",
      "PRTF1 - 0.010508507736523296\n",
      "INTJ1 - 0.006913126553814419\n",
      "COMP2 - 0.006775805528128782\n",
      "PRED1 - 0.0065033104291720035\n",
      "COMP1 - 0.0053978205054298215\n",
      "INTJ2 - 0.00508974587418201\n",
      "PRTS2 - 0.00495546916949727\n",
      "None1 - 0.0037626769502808453\n",
      "NUMR2 - 0.003522095999030298\n",
      "PRED2 - 0.0032245204936563123\n",
      "PRTF2 - 0.0026322594031327035\n",
      "NUMR1 - 0.0023281768430745845\n",
      "None2 - 0.0015665698858547464\n",
      "ADJS2 - 0.000845751442627217\n",
      "PRTS1 - 0.000764547893398347\n"
     ]
    }
   ],
   "source": [
    "feature_importances_forest = rf_clf.feature_importances_\n",
    "for ind in np.argsort(-feature_importances_forest):\n",
    "    print(X_train.columns[ind], '-', feature_importances_forest[ind])"
   ]
  },
  {
   "cell_type": "markdown",
   "metadata": {},
   "source": [
    "## SVM"
   ]
  },
  {
   "cell_type": "code",
   "execution_count": 54,
   "metadata": {},
   "outputs": [],
   "source": [
    "from sklearn.svm import SVC"
   ]
  },
  {
   "cell_type": "code",
   "execution_count": 55,
   "metadata": {},
   "outputs": [
    {
     "data": {
      "text/plain": [
       "SVC(C=1.0, cache_size=200, class_weight=None, coef0=0.0,\n",
       "    decision_function_shape='ovr', degree=3, gamma='auto_deprecated',\n",
       "    kernel='linear', max_iter=-1, probability=False, random_state=42,\n",
       "    shrinking=True, tol=0.001, verbose=False)"
      ]
     },
     "execution_count": 55,
     "metadata": {},
     "output_type": "execute_result"
    }
   ],
   "source": [
    "svc = SVC(kernel='linear', random_state=42)\n",
    "svc.fit(X_train, y_train)"
   ]
  },
  {
   "cell_type": "code",
   "execution_count": 56,
   "metadata": {},
   "outputs": [
    {
     "name": "stdout",
     "output_type": "stream",
     "text": [
      "              precision    recall  f1-score   support\n",
      "\n",
      "           0       0.65      0.85      0.74        20\n",
      "           1       0.79      0.55      0.65        20\n",
      "\n",
      "    accuracy                           0.70        40\n",
      "   macro avg       0.72      0.70      0.69        40\n",
      "weighted avg       0.72      0.70      0.69        40\n",
      "\n"
     ]
    }
   ],
   "source": [
    "y_pred_svc = svc.predict(X_test)\n",
    "print(classification_report(y_test, y_pred_svc))"
   ]
  },
  {
   "cell_type": "code",
   "execution_count": 57,
   "metadata": {},
   "outputs": [
    {
     "name": "stdout",
     "output_type": "stream",
     "text": [
      "INTJ1 - 1.1009265330307363\n",
      "ADJS1 - 0.8550911780416364\n",
      "n_similar_words - 0.7757032620555566\n",
      "PRCL2 - 0.6466692574940685\n",
      "None2 - 0.62127957743971\n",
      "n_words1 - 0.5263399670859403\n",
      "NPRO2 - 0.49562008702683036\n",
      "VERB1 - 0.41261735545983225\n",
      "PREP2 - 0.35226700046527526\n",
      "NUMR1 - 0.3513886013584876\n",
      "PRED1 - 0.3438336763167309\n",
      "INTJ2 - 0.32539317051817607\n",
      "CONJ2 - 0.30260412449187046\n",
      "COMP2 - 0.2863590838001458\n",
      "ADJF2 - 0.2505581414267728\n",
      "PRTS1 - 0.23600388445749865\n",
      "ADJF1 - 0.2333135517121847\n",
      "INFN1 - 0.1901316944247533\n",
      "PRCL1 - 0.18306062658972166\n",
      "ADJS2 - 0.1655754278103329\n",
      "PREP1 - 0.1410165600552742\n",
      "punct - 0.1005779797213906\n",
      "NOUN1 - 0.05654625865187324\n",
      "av_words_length2 - 0.015663848678749925\n",
      "av_words_length1 - 0.004349250410267569\n",
      "cosine_d2v - 0.0006839015940203197\n",
      "PRTS2 - 0.0\n",
      "ADVB1 - -0.06201357357200998\n",
      "NOUN2 - -0.06962793113045551\n",
      "NUMR2 - -0.20240999284577926\n",
      "CONJ1 - -0.20788481995629882\n",
      "VERB2 - -0.2213356343685171\n",
      "PRED2 - -0.236900888905613\n",
      "INFN2 - -0.2659408011161819\n",
      "GRND1 - -0.2826862480013719\n",
      "ADVB2 - -0.30667698868741855\n",
      "PRTF2 - -0.3233228607387395\n",
      "None1 - -0.3631824227738991\n",
      "NPRO1 - -0.37039923643471084\n",
      "n_words_diff - -0.5094950486498755\n",
      "COMP1 - -0.6880521599784712\n",
      "n_words2 - -0.7517387202800214\n",
      "PRTF1 - -1.5990777411990498\n",
      "GRND2 - -1.6353498697531457\n"
     ]
    }
   ],
   "source": [
    "feature_importances_svc = svc.coef_\n",
    "for ind in np.argsort(-feature_importances_svc[0]):\n",
    "    print(X_train.columns[ind], '-', feature_importances_svc[0][ind])"
   ]
  },
  {
   "cell_type": "markdown",
   "metadata": {},
   "source": [
    "## Сравнение качества моделей"
   ]
  },
  {
   "cell_type": "markdown",
   "metadata": {},
   "source": [
    "### F1-score"
   ]
  },
  {
   "cell_type": "code",
   "execution_count": 58,
   "metadata": {},
   "outputs": [
    {
     "data": {
      "text/html": [
       "<div>\n",
       "<style scoped>\n",
       "    .dataframe tbody tr th:only-of-type {\n",
       "        vertical-align: middle;\n",
       "    }\n",
       "\n",
       "    .dataframe tbody tr th {\n",
       "        vertical-align: top;\n",
       "    }\n",
       "\n",
       "    .dataframe thead th {\n",
       "        text-align: right;\n",
       "    }\n",
       "</style>\n",
       "<table border=\"1\" class=\"dataframe\">\n",
       "  <thead>\n",
       "    <tr style=\"text-align: right;\">\n",
       "      <th></th>\n",
       "      <th>LReg</th>\n",
       "      <th>DTree</th>\n",
       "      <th>RForest</th>\n",
       "      <th>SVM</th>\n",
       "    </tr>\n",
       "  </thead>\n",
       "  <tbody>\n",
       "    <tr>\n",
       "      <th>cause</th>\n",
       "      <td>0.750</td>\n",
       "      <td>0.577778</td>\n",
       "      <td>0.695652</td>\n",
       "      <td>0.739130</td>\n",
       "    </tr>\n",
       "    <tr>\n",
       "      <th>contrast</th>\n",
       "      <td>0.625</td>\n",
       "      <td>0.457143</td>\n",
       "      <td>0.588235</td>\n",
       "      <td>0.647059</td>\n",
       "    </tr>\n",
       "  </tbody>\n",
       "</table>\n",
       "</div>"
      ],
      "text/plain": [
       "           LReg     DTree   RForest       SVM\n",
       "cause     0.750  0.577778  0.695652  0.739130\n",
       "contrast  0.625  0.457143  0.588235  0.647059"
      ]
     },
     "execution_count": 58,
     "metadata": {},
     "output_type": "execute_result"
    }
   ],
   "source": [
    "pd.DataFrame({\n",
    "    'LReg': [classification_report(y_test, y_pred_lreg, output_dict=True)['0']['f1-score'], classification_report(y_test, y_pred_lreg, output_dict=True)['1']['f1-score']],\n",
    "    'DTree': [classification_report(y_test, y_pred_tree, output_dict=True)['0']['f1-score'], classification_report(y_test, y_pred_tree, output_dict=True)['1']['f1-score']],\n",
    "    'RForest': [classification_report(y_test, y_pred_forest, output_dict=True)['0']['f1-score'], classification_report(y_test, y_pred_forest, output_dict=True)['1']['f1-score']],\n",
    "    'SVM': [classification_report(y_test, y_pred_svc, output_dict=True)['0']['f1-score'], classification_report(y_test, y_pred_svc, output_dict=True)['1']['f1-score']]\n",
    "}, index=['cause', 'contrast'])"
   ]
  },
  {
   "cell_type": "markdown",
   "metadata": {},
   "source": [
    "### Precision"
   ]
  },
  {
   "cell_type": "code",
   "execution_count": 59,
   "metadata": {},
   "outputs": [
    {
     "data": {
      "text/html": [
       "<div>\n",
       "<style scoped>\n",
       "    .dataframe tbody tr th:only-of-type {\n",
       "        vertical-align: middle;\n",
       "    }\n",
       "\n",
       "    .dataframe tbody tr th {\n",
       "        vertical-align: top;\n",
       "    }\n",
       "\n",
       "    .dataframe thead th {\n",
       "        text-align: right;\n",
       "    }\n",
       "</style>\n",
       "<table border=\"1\" class=\"dataframe\">\n",
       "  <thead>\n",
       "    <tr style=\"text-align: right;\">\n",
       "      <th></th>\n",
       "      <th>LReg</th>\n",
       "      <th>DTree</th>\n",
       "      <th>RForest</th>\n",
       "      <th>SVM</th>\n",
       "    </tr>\n",
       "  </thead>\n",
       "  <tbody>\n",
       "    <tr>\n",
       "      <th>cause</th>\n",
       "      <td>0.642857</td>\n",
       "      <td>0.520000</td>\n",
       "      <td>0.615385</td>\n",
       "      <td>0.653846</td>\n",
       "    </tr>\n",
       "    <tr>\n",
       "      <th>contrast</th>\n",
       "      <td>0.833333</td>\n",
       "      <td>0.533333</td>\n",
       "      <td>0.714286</td>\n",
       "      <td>0.785714</td>\n",
       "    </tr>\n",
       "  </tbody>\n",
       "</table>\n",
       "</div>"
      ],
      "text/plain": [
       "              LReg     DTree   RForest       SVM\n",
       "cause     0.642857  0.520000  0.615385  0.653846\n",
       "contrast  0.833333  0.533333  0.714286  0.785714"
      ]
     },
     "execution_count": 59,
     "metadata": {},
     "output_type": "execute_result"
    }
   ],
   "source": [
    "pd.DataFrame({\n",
    "    'LReg': [classification_report(y_test, y_pred_lreg, output_dict=True)['0']['precision'], classification_report(y_test, y_pred_lreg, output_dict=True)['1']['precision']],\n",
    "    'DTree': [classification_report(y_test, y_pred_tree, output_dict=True)['0']['precision'], classification_report(y_test, y_pred_tree, output_dict=True)['1']['precision']],\n",
    "    'RForest': [classification_report(y_test, y_pred_forest, output_dict=True)['0']['precision'], classification_report(y_test, y_pred_forest, output_dict=True)['1']['precision']],\n",
    "    'SVM': [classification_report(y_test, y_pred_svc, output_dict=True)['0']['precision'], classification_report(y_test, y_pred_svc, output_dict=True)['1']['precision']]\n",
    "}, index=['cause', 'contrast'])"
   ]
  },
  {
   "cell_type": "markdown",
   "metadata": {},
   "source": [
    "### Recall"
   ]
  },
  {
   "cell_type": "code",
   "execution_count": 60,
   "metadata": {},
   "outputs": [
    {
     "data": {
      "text/html": [
       "<div>\n",
       "<style scoped>\n",
       "    .dataframe tbody tr th:only-of-type {\n",
       "        vertical-align: middle;\n",
       "    }\n",
       "\n",
       "    .dataframe tbody tr th {\n",
       "        vertical-align: top;\n",
       "    }\n",
       "\n",
       "    .dataframe thead th {\n",
       "        text-align: right;\n",
       "    }\n",
       "</style>\n",
       "<table border=\"1\" class=\"dataframe\">\n",
       "  <thead>\n",
       "    <tr style=\"text-align: right;\">\n",
       "      <th></th>\n",
       "      <th>LReg</th>\n",
       "      <th>DTree</th>\n",
       "      <th>RForest</th>\n",
       "      <th>SVM</th>\n",
       "    </tr>\n",
       "  </thead>\n",
       "  <tbody>\n",
       "    <tr>\n",
       "      <th>cause</th>\n",
       "      <td>0.9</td>\n",
       "      <td>0.65</td>\n",
       "      <td>0.8</td>\n",
       "      <td>0.85</td>\n",
       "    </tr>\n",
       "    <tr>\n",
       "      <th>contrast</th>\n",
       "      <td>0.5</td>\n",
       "      <td>0.40</td>\n",
       "      <td>0.5</td>\n",
       "      <td>0.55</td>\n",
       "    </tr>\n",
       "  </tbody>\n",
       "</table>\n",
       "</div>"
      ],
      "text/plain": [
       "          LReg  DTree  RForest   SVM\n",
       "cause      0.9   0.65      0.8  0.85\n",
       "contrast   0.5   0.40      0.5  0.55"
      ]
     },
     "execution_count": 60,
     "metadata": {},
     "output_type": "execute_result"
    }
   ],
   "source": [
    "pd.DataFrame({\n",
    "    'LReg': [classification_report(y_test, y_pred_lreg, output_dict=True)['0']['recall'], classification_report(y_test, y_pred_lreg, output_dict=True)['1']['recall']],\n",
    "    'DTree': [classification_report(y_test, y_pred_tree, output_dict=True)['0']['recall'], classification_report(y_test, y_pred_tree, output_dict=True)['1']['recall']],\n",
    "    'RForest': [classification_report(y_test, y_pred_forest, output_dict=True)['0']['recall'], classification_report(y_test, y_pred_forest, output_dict=True)['1']['recall']],\n",
    "    'SVM': [classification_report(y_test, y_pred_svc, output_dict=True)['0']['recall'], classification_report(y_test, y_pred_svc, output_dict=True)['1']['recall']]\n",
    "}, index=['cause', 'contrast'])"
   ]
  },
  {
   "cell_type": "markdown",
   "metadata": {},
   "source": [
    "## Сравнение важности признаков\n",
    "\n",
    "Сравниваю абсолютные значения всех признаков"
   ]
  },
  {
   "cell_type": "code",
   "execution_count": 61,
   "metadata": {},
   "outputs": [],
   "source": [
    "features = pd.DataFrame({'LReg': abs(feature_importances_lreg[0]), \n",
    "              'DTree': feature_importances_tree, \n",
    "              'RForest': feature_importances_forest,\n",
    "              'SVM': abs(feature_importances_svc[0]),}, index=X_train.columns)"
   ]
  },
  {
   "cell_type": "code",
   "execution_count": 62,
   "metadata": {},
   "outputs": [
    {
     "data": {
      "image/png": "[encoded data removed]",
      "text/plain": [
       "<Figure size 720x720 with 4 Axes>"
      ]
     },
     "metadata": {
      "needs_background": "light"
     },
     "output_type": "display_data"
    }
   ],
   "source": [
    "fig, (ax,ax2) = plt.subplots(ncols=2, figsize=(10,10))\n",
    "fig.subplots_adjust(wspace=0.5)\n",
    "sns.heatmap(features[['LReg', 'SVM']], cmap=\"rocket\", ax=ax, cbar=True, vmin=0)\n",
    "sns.heatmap(features[['DTree', 'RForest']], cmap=\"rocket\", ax=ax2, cbar=True, vmax=0.12)\n",
    "plt.show()"
   ]
  },
  {
   "cell_type": "code",
   "execution_count": 63,
   "metadata": {},
   "outputs": [
    {
     "data": {
      "text/html": [
       "<div>\n",
       "<style scoped>\n",
       "    .dataframe tbody tr th:only-of-type {\n",
       "        vertical-align: middle;\n",
       "    }\n",
       "\n",
       "    .dataframe tbody tr th {\n",
       "        vertical-align: top;\n",
       "    }\n",
       "\n",
       "    .dataframe thead th {\n",
       "        text-align: right;\n",
       "    }\n",
       "</style>\n",
       "<table border=\"1\" class=\"dataframe\">\n",
       "  <thead>\n",
       "    <tr style=\"text-align: right;\">\n",
       "      <th></th>\n",
       "      <th>LReg</th>\n",
       "      <th>DTree</th>\n",
       "      <th>RForest</th>\n",
       "      <th>SVM</th>\n",
       "    </tr>\n",
       "  </thead>\n",
       "  <tbody>\n",
       "    <tr>\n",
       "      <th>n_words1</th>\n",
       "      <td>0.135039</td>\n",
       "      <td>0.084900</td>\n",
       "      <td>0.057311</td>\n",
       "      <td>0.526340</td>\n",
       "    </tr>\n",
       "    <tr>\n",
       "      <th>av_words_length1</th>\n",
       "      <td>0.003928</td>\n",
       "      <td>0.044048</td>\n",
       "      <td>0.069878</td>\n",
       "      <td>0.004349</td>\n",
       "    </tr>\n",
       "    <tr>\n",
       "      <th>n_words2</th>\n",
       "      <td>0.462487</td>\n",
       "      <td>0.128415</td>\n",
       "      <td>0.045728</td>\n",
       "      <td>0.751739</td>\n",
       "    </tr>\n",
       "    <tr>\n",
       "      <th>av_words_length2</th>\n",
       "      <td>0.008137</td>\n",
       "      <td>0.000000</td>\n",
       "      <td>0.065007</td>\n",
       "      <td>0.015664</td>\n",
       "    </tr>\n",
       "    <tr>\n",
       "      <th>n_words_diff</th>\n",
       "      <td>0.121358</td>\n",
       "      <td>0.060437</td>\n",
       "      <td>0.055265</td>\n",
       "      <td>0.509495</td>\n",
       "    </tr>\n",
       "    <tr>\n",
       "      <th>punct</th>\n",
       "      <td>0.140280</td>\n",
       "      <td>0.000000</td>\n",
       "      <td>0.034113</td>\n",
       "      <td>0.100578</td>\n",
       "    </tr>\n",
       "    <tr>\n",
       "      <th>ADJF1</th>\n",
       "      <td>0.235641</td>\n",
       "      <td>0.000000</td>\n",
       "      <td>0.029061</td>\n",
       "      <td>0.233314</td>\n",
       "    </tr>\n",
       "    <tr>\n",
       "      <th>ADJS1</th>\n",
       "      <td>1.092605</td>\n",
       "      <td>0.031095</td>\n",
       "      <td>0.011793</td>\n",
       "      <td>0.855091</td>\n",
       "    </tr>\n",
       "    <tr>\n",
       "      <th>ADVB1</th>\n",
       "      <td>0.119263</td>\n",
       "      <td>0.018127</td>\n",
       "      <td>0.019288</td>\n",
       "      <td>0.062014</td>\n",
       "    </tr>\n",
       "    <tr>\n",
       "      <th>COMP1</th>\n",
       "      <td>0.315215</td>\n",
       "      <td>0.000000</td>\n",
       "      <td>0.005398</td>\n",
       "      <td>0.688052</td>\n",
       "    </tr>\n",
       "    <tr>\n",
       "      <th>CONJ1</th>\n",
       "      <td>0.121411</td>\n",
       "      <td>0.000000</td>\n",
       "      <td>0.024355</td>\n",
       "      <td>0.207885</td>\n",
       "    </tr>\n",
       "    <tr>\n",
       "      <th>GRND1</th>\n",
       "      <td>0.300873</td>\n",
       "      <td>0.042927</td>\n",
       "      <td>0.010728</td>\n",
       "      <td>0.282686</td>\n",
       "    </tr>\n",
       "    <tr>\n",
       "      <th>INFN1</th>\n",
       "      <td>0.140355</td>\n",
       "      <td>0.036111</td>\n",
       "      <td>0.016173</td>\n",
       "      <td>0.190132</td>\n",
       "    </tr>\n",
       "    <tr>\n",
       "      <th>INTJ1</th>\n",
       "      <td>0.953146</td>\n",
       "      <td>0.000000</td>\n",
       "      <td>0.006913</td>\n",
       "      <td>1.100927</td>\n",
       "    </tr>\n",
       "    <tr>\n",
       "      <th>NOUN1</th>\n",
       "      <td>0.080757</td>\n",
       "      <td>0.007197</td>\n",
       "      <td>0.044729</td>\n",
       "      <td>0.056546</td>\n",
       "    </tr>\n",
       "    <tr>\n",
       "      <th>NPRO1</th>\n",
       "      <td>0.438334</td>\n",
       "      <td>0.069598</td>\n",
       "      <td>0.019265</td>\n",
       "      <td>0.370399</td>\n",
       "    </tr>\n",
       "    <tr>\n",
       "      <th>NUMR1</th>\n",
       "      <td>0.379747</td>\n",
       "      <td>0.000000</td>\n",
       "      <td>0.002328</td>\n",
       "      <td>0.351389</td>\n",
       "    </tr>\n",
       "    <tr>\n",
       "      <th>None1</th>\n",
       "      <td>0.528766</td>\n",
       "      <td>0.000000</td>\n",
       "      <td>0.003763</td>\n",
       "      <td>0.363182</td>\n",
       "    </tr>\n",
       "    <tr>\n",
       "      <th>PRCL1</th>\n",
       "      <td>0.233341</td>\n",
       "      <td>0.000000</td>\n",
       "      <td>0.029419</td>\n",
       "      <td>0.183061</td>\n",
       "    </tr>\n",
       "    <tr>\n",
       "      <th>PRED1</th>\n",
       "      <td>0.355271</td>\n",
       "      <td>0.005833</td>\n",
       "      <td>0.006503</td>\n",
       "      <td>0.343834</td>\n",
       "    </tr>\n",
       "    <tr>\n",
       "      <th>PREP1</th>\n",
       "      <td>0.094521</td>\n",
       "      <td>0.016667</td>\n",
       "      <td>0.019591</td>\n",
       "      <td>0.141017</td>\n",
       "    </tr>\n",
       "    <tr>\n",
       "      <th>PRTF1</th>\n",
       "      <td>1.589103</td>\n",
       "      <td>0.018410</td>\n",
       "      <td>0.010509</td>\n",
       "      <td>1.599078</td>\n",
       "    </tr>\n",
       "    <tr>\n",
       "      <th>PRTS1</th>\n",
       "      <td>0.024112</td>\n",
       "      <td>0.000000</td>\n",
       "      <td>0.000765</td>\n",
       "      <td>0.236004</td>\n",
       "    </tr>\n",
       "    <tr>\n",
       "      <th>VERB1</th>\n",
       "      <td>0.529421</td>\n",
       "      <td>0.023116</td>\n",
       "      <td>0.025446</td>\n",
       "      <td>0.412617</td>\n",
       "    </tr>\n",
       "    <tr>\n",
       "      <th>ADJF2</th>\n",
       "      <td>0.561754</td>\n",
       "      <td>0.031979</td>\n",
       "      <td>0.034935</td>\n",
       "      <td>0.250558</td>\n",
       "    </tr>\n",
       "    <tr>\n",
       "      <th>ADJS2</th>\n",
       "      <td>0.089262</td>\n",
       "      <td>0.000000</td>\n",
       "      <td>0.000846</td>\n",
       "      <td>0.165575</td>\n",
       "    </tr>\n",
       "    <tr>\n",
       "      <th>ADVB2</th>\n",
       "      <td>0.208984</td>\n",
       "      <td>0.000000</td>\n",
       "      <td>0.019482</td>\n",
       "      <td>0.306677</td>\n",
       "    </tr>\n",
       "    <tr>\n",
       "      <th>COMP2</th>\n",
       "      <td>0.072551</td>\n",
       "      <td>0.022917</td>\n",
       "      <td>0.006776</td>\n",
       "      <td>0.286359</td>\n",
       "    </tr>\n",
       "    <tr>\n",
       "      <th>CONJ2</th>\n",
       "      <td>0.252064</td>\n",
       "      <td>0.035417</td>\n",
       "      <td>0.014349</td>\n",
       "      <td>0.302604</td>\n",
       "    </tr>\n",
       "    <tr>\n",
       "      <th>GRND2</th>\n",
       "      <td>1.223999</td>\n",
       "      <td>0.029701</td>\n",
       "      <td>0.015603</td>\n",
       "      <td>1.635350</td>\n",
       "    </tr>\n",
       "    <tr>\n",
       "      <th>INFN2</th>\n",
       "      <td>0.390374</td>\n",
       "      <td>0.018867</td>\n",
       "      <td>0.017069</td>\n",
       "      <td>0.265941</td>\n",
       "    </tr>\n",
       "    <tr>\n",
       "      <th>INTJ2</th>\n",
       "      <td>0.555322</td>\n",
       "      <td>0.000000</td>\n",
       "      <td>0.005090</td>\n",
       "      <td>0.325393</td>\n",
       "    </tr>\n",
       "    <tr>\n",
       "      <th>NOUN2</th>\n",
       "      <td>0.039062</td>\n",
       "      <td>0.018750</td>\n",
       "      <td>0.040606</td>\n",
       "      <td>0.069628</td>\n",
       "    </tr>\n",
       "    <tr>\n",
       "      <th>NPRO2</th>\n",
       "      <td>0.471564</td>\n",
       "      <td>0.033333</td>\n",
       "      <td>0.011874</td>\n",
       "      <td>0.495620</td>\n",
       "    </tr>\n",
       "    <tr>\n",
       "      <th>NUMR2</th>\n",
       "      <td>0.314103</td>\n",
       "      <td>0.000000</td>\n",
       "      <td>0.003522</td>\n",
       "      <td>0.202410</td>\n",
       "    </tr>\n",
       "    <tr>\n",
       "      <th>None2</th>\n",
       "      <td>0.432511</td>\n",
       "      <td>0.000000</td>\n",
       "      <td>0.001567</td>\n",
       "      <td>0.621280</td>\n",
       "    </tr>\n",
       "    <tr>\n",
       "      <th>PRCL2</th>\n",
       "      <td>0.640726</td>\n",
       "      <td>0.057696</td>\n",
       "      <td>0.024050</td>\n",
       "      <td>0.646669</td>\n",
       "    </tr>\n",
       "    <tr>\n",
       "      <th>PRED2</th>\n",
       "      <td>0.042219</td>\n",
       "      <td>0.000000</td>\n",
       "      <td>0.003225</td>\n",
       "      <td>0.236901</td>\n",
       "    </tr>\n",
       "    <tr>\n",
       "      <th>PREP2</th>\n",
       "      <td>0.434303</td>\n",
       "      <td>0.000000</td>\n",
       "      <td>0.027824</td>\n",
       "      <td>0.352267</td>\n",
       "    </tr>\n",
       "    <tr>\n",
       "      <th>PRTF2</th>\n",
       "      <td>0.205842</td>\n",
       "      <td>0.000000</td>\n",
       "      <td>0.002632</td>\n",
       "      <td>0.323323</td>\n",
       "    </tr>\n",
       "    <tr>\n",
       "      <th>PRTS2</th>\n",
       "      <td>0.378455</td>\n",
       "      <td>0.000000</td>\n",
       "      <td>0.004955</td>\n",
       "      <td>0.000000</td>\n",
       "    </tr>\n",
       "    <tr>\n",
       "      <th>VERB2</th>\n",
       "      <td>0.266234</td>\n",
       "      <td>0.000000</td>\n",
       "      <td>0.022675</td>\n",
       "      <td>0.221336</td>\n",
       "    </tr>\n",
       "    <tr>\n",
       "      <th>n_similar_words</th>\n",
       "      <td>0.813121</td>\n",
       "      <td>0.101215</td>\n",
       "      <td>0.062758</td>\n",
       "      <td>0.775703</td>\n",
       "    </tr>\n",
       "    <tr>\n",
       "      <th>cosine_d2v</th>\n",
       "      <td>0.000824</td>\n",
       "      <td>0.063244</td>\n",
       "      <td>0.066835</td>\n",
       "      <td>0.000684</td>\n",
       "    </tr>\n",
       "  </tbody>\n",
       "</table>\n",
       "</div>"
      ],
      "text/plain": [
       "                      LReg     DTree   RForest       SVM\n",
       "n_words1          0.135039  0.084900  0.057311  0.526340\n",
       "av_words_length1  0.003928  0.044048  0.069878  0.004349\n",
       "n_words2          0.462487  0.128415  0.045728  0.751739\n",
       "av_words_length2  0.008137  0.000000  0.065007  0.015664\n",
       "n_words_diff      0.121358  0.060437  0.055265  0.509495\n",
       "punct             0.140280  0.000000  0.034113  0.100578\n",
       "ADJF1             0.235641  0.000000  0.029061  0.233314\n",
       "ADJS1             1.092605  0.031095  0.011793  0.855091\n",
       "ADVB1             0.119263  0.018127  0.019288  0.062014\n",
       "COMP1             0.315215  0.000000  0.005398  0.688052\n",
       "CONJ1             0.121411  0.000000  0.024355  0.207885\n",
       "GRND1             0.300873  0.042927  0.010728  0.282686\n",
       "INFN1             0.140355  0.036111  0.016173  0.190132\n",
       "INTJ1             0.953146  0.000000  0.006913  1.100927\n",
       "NOUN1             0.080757  0.007197  0.044729  0.056546\n",
       "NPRO1             0.438334  0.069598  0.019265  0.370399\n",
       "NUMR1             0.379747  0.000000  0.002328  0.351389\n",
       "None1             0.528766  0.000000  0.003763  0.363182\n",
       "PRCL1             0.233341  0.000000  0.029419  0.183061\n",
       "PRED1             0.355271  0.005833  0.006503  0.343834\n",
       "PREP1             0.094521  0.016667  0.019591  0.141017\n",
       "PRTF1             1.589103  0.018410  0.010509  1.599078\n",
       "PRTS1             0.024112  0.000000  0.000765  0.236004\n",
       "VERB1             0.529421  0.023116  0.025446  0.412617\n",
       "ADJF2             0.561754  0.031979  0.034935  0.250558\n",
       "ADJS2             0.089262  0.000000  0.000846  0.165575\n",
       "ADVB2             0.208984  0.000000  0.019482  0.306677\n",
       "COMP2             0.072551  0.022917  0.006776  0.286359\n",
       "CONJ2             0.252064  0.035417  0.014349  0.302604\n",
       "GRND2             1.223999  0.029701  0.015603  1.635350\n",
       "INFN2             0.390374  0.018867  0.017069  0.265941\n",
       "INTJ2             0.555322  0.000000  0.005090  0.325393\n",
       "NOUN2             0.039062  0.018750  0.040606  0.069628\n",
       "NPRO2             0.471564  0.033333  0.011874  0.495620\n",
       "NUMR2             0.314103  0.000000  0.003522  0.202410\n",
       "None2             0.432511  0.000000  0.001567  0.621280\n",
       "PRCL2             0.640726  0.057696  0.024050  0.646669\n",
       "PRED2             0.042219  0.000000  0.003225  0.236901\n",
       "PREP2             0.434303  0.000000  0.027824  0.352267\n",
       "PRTF2             0.205842  0.000000  0.002632  0.323323\n",
       "PRTS2             0.378455  0.000000  0.004955  0.000000\n",
       "VERB2             0.266234  0.000000  0.022675  0.221336\n",
       "n_similar_words   0.813121  0.101215  0.062758  0.775703\n",
       "cosine_d2v        0.000824  0.063244  0.066835  0.000684"
      ]
     },
     "execution_count": 63,
     "metadata": {},
     "output_type": "execute_result"
    }
   ],
   "source": [
    "features"
   ]
  },
  {
   "cell_type": "markdown",
   "metadata": {},
   "source": [
    "_Анна Полянская, НИУ ВШЭ, 2020_"
   ]
  }
 ],
 "metadata": {
  "kernelspec": {
   "display_name": "Python 3",
   "language": "python",
   "name": "python3"
  },
  "language_info": {
   "codemirror_mode": {
    "name": "ipython",
    "version": 3
   },
   "file_extension": ".py",
   "mimetype": "text/x-python",
   "name": "python",
   "nbconvert_exporter": "python",
   "pygments_lexer": "ipython3",
   "version": "3.7.3"
  }
 },
 "nbformat": 4,
 "nbformat_minor": 2
}
