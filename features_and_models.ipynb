{
 "cells": [
  {
   "cell_type": "code",
   "execution_count": 1,
   "metadata": {},
   "outputs": [],
   "source": [
    "import pandas as pd\n",
    "\n",
    "from tqdm.auto import tqdm\n",
    "tqdm.pandas()"
   ]
  },
  {
   "cell_type": "markdown",
   "metadata": {},
   "source": [
    "## Данные\n",
    "\n",
    "собираю примеры из нескольких отдельных файлов"
   ]
  },
  {
   "cell_type": "code",
   "execution_count": 2,
   "metadata": {},
   "outputs": [],
   "source": [
    "contrast_df = pd.read_csv('Data\\contrast_clean_extended.tsv', sep='\\t')\n",
    "cause_df = pd.read_csv('Data\\cause_clean_extended.tsv', sep='\\t')"
   ]
  },
  {
   "cell_type": "code",
   "execution_count": 3,
   "metadata": {},
   "outputs": [
    {
     "data": {
      "text/html": [
       "<div>\n",
       "<style scoped>\n",
       "    .dataframe tbody tr th:only-of-type {\n",
       "        vertical-align: middle;\n",
       "    }\n",
       "\n",
       "    .dataframe tbody tr th {\n",
       "        vertical-align: top;\n",
       "    }\n",
       "\n",
       "    .dataframe thead th {\n",
       "        text-align: right;\n",
       "    }\n",
       "</style>\n",
       "<table border=\"1\" class=\"dataframe\">\n",
       "  <thead>\n",
       "    <tr style=\"text-align: right;\">\n",
       "      <th></th>\n",
       "      <th>id</th>\n",
       "      <th>текст</th>\n",
       "      <th>relation</th>\n",
       "    </tr>\n",
       "  </thead>\n",
       "  <tbody>\n",
       "    <tr>\n",
       "      <th>0</th>\n",
       "      <td>407</td>\n",
       "      <td>В солнечный день, наверное, и вода играет друг...</td>\n",
       "      <td>contrast</td>\n",
       "    </tr>\n",
       "    <tr>\n",
       "      <th>1</th>\n",
       "      <td>921</td>\n",
       "      <td>там никто не в курсе никаких автобусов_говорят...</td>\n",
       "      <td>contrast</td>\n",
       "    </tr>\n",
       "    <tr>\n",
       "      <th>2</th>\n",
       "      <td>1051</td>\n",
       "      <td>В каком-то проёме за щёлкой эти монетки и оста...</td>\n",
       "      <td>contrast</td>\n",
       "    </tr>\n",
       "    <tr>\n",
       "      <th>3</th>\n",
       "      <td>1067</td>\n",
       "      <td>Что ни говори, общий относительно приличный ур...</td>\n",
       "      <td>contrast</td>\n",
       "    </tr>\n",
       "    <tr>\n",
       "      <th>4</th>\n",
       "      <td>1161</td>\n",
       "      <td>Коробка красивая,_прибор явно туфтовый, даже п...</td>\n",
       "      <td>contrast</td>\n",
       "    </tr>\n",
       "  </tbody>\n",
       "</table>\n",
       "</div>"
      ],
      "text/plain": [
       "     id                                              текст  relation\n",
       "0   407  В солнечный день, наверное, и вода играет друг...  contrast\n",
       "1   921  там никто не в курсе никаких автобусов_говорят...  contrast\n",
       "2  1051  В каком-то проёме за щёлкой эти монетки и оста...  contrast\n",
       "3  1067  Что ни говори, общий относительно приличный ур...  contrast\n",
       "4  1161  Коробка красивая,_прибор явно туфтовый, даже п...  contrast"
      ]
     },
     "execution_count": 3,
     "metadata": {},
     "output_type": "execute_result"
    }
   ],
   "source": [
    "df1 = contrast_df\n",
    "df1['relation'] = 'contrast'\n",
    "df1.head()"
   ]
  },
  {
   "cell_type": "code",
   "execution_count": 4,
   "metadata": {},
   "outputs": [
    {
     "data": {
      "text/html": [
       "<div>\n",
       "<style scoped>\n",
       "    .dataframe tbody tr th:only-of-type {\n",
       "        vertical-align: middle;\n",
       "    }\n",
       "\n",
       "    .dataframe tbody tr th {\n",
       "        vertical-align: top;\n",
       "    }\n",
       "\n",
       "    .dataframe thead th {\n",
       "        text-align: right;\n",
       "    }\n",
       "</style>\n",
       "<table border=\"1\" class=\"dataframe\">\n",
       "  <thead>\n",
       "    <tr style=\"text-align: right;\">\n",
       "      <th></th>\n",
       "      <th>id</th>\n",
       "      <th>текст</th>\n",
       "      <th>relation</th>\n",
       "    </tr>\n",
       "  </thead>\n",
       "  <tbody>\n",
       "    <tr>\n",
       "      <th>0</th>\n",
       "      <td>24</td>\n",
       "      <td>Помада довольно стойкая,_отлично переживет пер...</td>\n",
       "      <td>cause</td>\n",
       "    </tr>\n",
       "    <tr>\n",
       "      <th>1</th>\n",
       "      <td>101</td>\n",
       "      <td>Выпадает небольшой осадок._Всегда встряхиваю п...</td>\n",
       "      <td>cause</td>\n",
       "    </tr>\n",
       "    <tr>\n",
       "      <th>2</th>\n",
       "      <td>136</td>\n",
       "      <td>зато есть ощущение, что присутствует муцин ули...</td>\n",
       "      <td>cause</td>\n",
       "    </tr>\n",
       "    <tr>\n",
       "      <th>3</th>\n",
       "      <td>206</td>\n",
       "      <td>Не самый послушный,_может осыпаться под глаза.</td>\n",
       "      <td>cause</td>\n",
       "    </tr>\n",
       "    <tr>\n",
       "      <th>4</th>\n",
       "      <td>392</td>\n",
       "      <td>После октябрьской революции_монастырь официаль...</td>\n",
       "      <td>cause</td>\n",
       "    </tr>\n",
       "  </tbody>\n",
       "</table>\n",
       "</div>"
      ],
      "text/plain": [
       "    id                                              текст relation\n",
       "0   24  Помада довольно стойкая,_отлично переживет пер...    cause\n",
       "1  101  Выпадает небольшой осадок._Всегда встряхиваю п...    cause\n",
       "2  136  зато есть ощущение, что присутствует муцин ули...    cause\n",
       "3  206     Не самый послушный,_может осыпаться под глаза.    cause\n",
       "4  392  После октябрьской революции_монастырь официаль...    cause"
      ]
     },
     "execution_count": 4,
     "metadata": {},
     "output_type": "execute_result"
    }
   ],
   "source": [
    "df2 = cause_df\n",
    "df2['relation'] = 'cause'\n",
    "df2.head()"
   ]
  },
  {
   "cell_type": "markdown",
   "metadata": {},
   "source": [
    "склеиваю два датафрейма и проверяю, что нигде ничего не потерялось (нет пустых значений)"
   ]
  },
  {
   "cell_type": "code",
   "execution_count": 5,
   "metadata": {},
   "outputs": [
    {
     "data": {
      "text/plain": [
       "id          False\n",
       "текст       False\n",
       "relation    False\n",
       "dtype: bool"
      ]
     },
     "execution_count": 5,
     "metadata": {},
     "output_type": "execute_result"
    }
   ],
   "source": [
    "all_data = pd.concat([df1, df2], ignore_index=True)\n",
    "all_data.isna().any()"
   ]
  },
  {
   "cell_type": "code",
   "execution_count": 6,
   "metadata": {},
   "outputs": [
    {
     "name": "stdout",
     "output_type": "stream",
     "text": [
      "<class 'pandas.core.frame.DataFrame'>\n",
      "RangeIndex: 200 entries, 0 to 199\n",
      "Data columns (total 3 columns):\n",
      "id          200 non-null int64\n",
      "текст       200 non-null object\n",
      "relation    200 non-null object\n",
      "dtypes: int64(1), object(2)\n",
      "memory usage: 4.8+ KB\n"
     ]
    }
   ],
   "source": [
    "all_data.info()"
   ]
  },
  {
   "cell_type": "markdown",
   "metadata": {},
   "source": [
    "Разделяю пример на две ЭДЕ по `_`"
   ]
  },
  {
   "cell_type": "code",
   "execution_count": 7,
   "metadata": {},
   "outputs": [
    {
     "data": {
      "text/html": [
       "<div>\n",
       "<style scoped>\n",
       "    .dataframe tbody tr th:only-of-type {\n",
       "        vertical-align: middle;\n",
       "    }\n",
       "\n",
       "    .dataframe tbody tr th {\n",
       "        vertical-align: top;\n",
       "    }\n",
       "\n",
       "    .dataframe thead th {\n",
       "        text-align: right;\n",
       "    }\n",
       "</style>\n",
       "<table border=\"1\" class=\"dataframe\">\n",
       "  <thead>\n",
       "    <tr style=\"text-align: right;\">\n",
       "      <th></th>\n",
       "      <th>id</th>\n",
       "      <th>текст</th>\n",
       "      <th>relation</th>\n",
       "      <th>эде1</th>\n",
       "      <th>эде2</th>\n",
       "    </tr>\n",
       "  </thead>\n",
       "  <tbody>\n",
       "    <tr>\n",
       "      <th>0</th>\n",
       "      <td>407</td>\n",
       "      <td>В солнечный день, наверное, и вода играет друг...</td>\n",
       "      <td>contrast</td>\n",
       "      <td>В солнечный день, наверное, и вода играет друг...</td>\n",
       "      <td>Главное, что это не повод сидеть дома,</td>\n",
       "    </tr>\n",
       "    <tr>\n",
       "      <th>1</th>\n",
       "      <td>921</td>\n",
       "      <td>там никто не в курсе никаких автобусов_говорят...</td>\n",
       "      <td>contrast</td>\n",
       "      <td>там никто не в курсе никаких автобусов</td>\n",
       "      <td>говорят; что всё на автостанцию приходит.</td>\n",
       "    </tr>\n",
       "    <tr>\n",
       "      <th>2</th>\n",
       "      <td>1051</td>\n",
       "      <td>В каком-то проёме за щёлкой эти монетки и оста...</td>\n",
       "      <td>contrast</td>\n",
       "      <td>В каком-то проёме за щёлкой эти монетки и оста...</td>\n",
       "      <td>И даже никаких чеков автомат не выдаёт.</td>\n",
       "    </tr>\n",
       "    <tr>\n",
       "      <th>3</th>\n",
       "      <td>1067</td>\n",
       "      <td>Что ни говори, общий относительно приличный ур...</td>\n",
       "      <td>contrast</td>\n",
       "      <td>Что ни говори, общий относительно приличный ур...</td>\n",
       "      <td>Автобусный транспорт реально много где на уров...</td>\n",
       "    </tr>\n",
       "    <tr>\n",
       "      <th>4</th>\n",
       "      <td>1161</td>\n",
       "      <td>Коробка красивая,_прибор явно туфтовый, даже п...</td>\n",
       "      <td>contrast</td>\n",
       "      <td>Коробка красивая,</td>\n",
       "      <td>прибор явно туфтовый, даже по внешнему виду.</td>\n",
       "    </tr>\n",
       "  </tbody>\n",
       "</table>\n",
       "</div>"
      ],
      "text/plain": [
       "     id                                              текст  relation  \\\n",
       "0   407  В солнечный день, наверное, и вода играет друг...  contrast   \n",
       "1   921  там никто не в курсе никаких автобусов_говорят...  contrast   \n",
       "2  1051  В каком-то проёме за щёлкой эти монетки и оста...  contrast   \n",
       "3  1067  Что ни говори, общий относительно приличный ур...  contrast   \n",
       "4  1161  Коробка красивая,_прибор явно туфтовый, даже п...  contrast   \n",
       "\n",
       "                                                эде1  \\\n",
       "0  В солнечный день, наверное, и вода играет друг...   \n",
       "1             там никто не в курсе никаких автобусов   \n",
       "2  В каком-то проёме за щёлкой эти монетки и оста...   \n",
       "3  Что ни говори, общий относительно приличный ур...   \n",
       "4                                  Коробка красивая,   \n",
       "\n",
       "                                                эде2  \n",
       "0             Главное, что это не повод сидеть дома,  \n",
       "1          говорят; что всё на автостанцию приходит.  \n",
       "2            И даже никаких чеков автомат не выдаёт.  \n",
       "3  Автобусный транспорт реально много где на уров...  \n",
       "4       прибор явно туфтовый, даже по внешнему виду.  "
      ]
     },
     "execution_count": 7,
     "metadata": {},
     "output_type": "execute_result"
    }
   ],
   "source": [
    "new_df = all_data['текст'].str.split('_',expand=True)\n",
    "new_df = new_df.rename(columns={0:'эде1', 1:'эде2'})\n",
    "all_data = pd.concat([ all_data, new_df[['эде1', 'эде2']] ], axis=1)\n",
    "all_data.head()"
   ]
  },
  {
   "cell_type": "markdown",
   "metadata": {},
   "source": [
    "# Признаки\n",
    "\n",
    "считаю все признаки, которые можно получить автоматически"
   ]
  },
  {
   "cell_type": "markdown",
   "metadata": {},
   "source": [
    "## Длины\n",
    "\n",
    "Токенизирую тексты и считаю следующие параметры (учитывая только слова, без пунктуации):\n",
    "\n",
    "`n_words` - кол-во слов в каждой ЭДЕ\n",
    "\n",
    "`av_words_length` - средняя длина слова в каждой ЭДЕ\n",
    "\n",
    "`n_words_diff` - разница в кол-вах между словами (знак показывает, какая из ЭДЕ длинее)"
   ]
  },
  {
   "cell_type": "code",
   "execution_count": 8,
   "metadata": {},
   "outputs": [],
   "source": [
    "import re\n",
    "from razdel import tokenize"
   ]
  },
  {
   "cell_type": "code",
   "execution_count": 9,
   "metadata": {},
   "outputs": [],
   "source": [
    "def tokenizer(text_data):\n",
    "    tokens = [_.text for _ in list(tokenize(str(text_data).lower()))] #if not re.search('[^а-яА-ЯёЁa-zA-z]', _.text)]\n",
    "    return \" \".join(tokens)\n",
    "\n",
    "def get_words(tokens):\n",
    "    words = [token for token in tokens.split() if not re.search('[^а-яА-ЯёЁa-zA-z]', token)]\n",
    "    return \" \".join(words)\n",
    "\n",
    "def count_words(words):\n",
    "    return len(words.split())\n",
    "\n",
    "def av_word_length(words):\n",
    "    l = [len(word) for word in words.split()]\n",
    "    return sum(l)/len(l)"
   ]
  },
  {
   "cell_type": "code",
   "execution_count": 10,
   "metadata": {},
   "outputs": [
    {
     "data": {
      "application/vnd.jupyter.widget-view+json": {
       "model_id": "22fa7927d7944a8792c61b6ab557d509",
       "version_major": 2,
       "version_minor": 0
      },
      "text/plain": [
       "HBox(children=(IntProgress(value=0, max=200), HTML(value='')))"
      ]
     },
     "metadata": {},
     "output_type": "display_data"
    },
    {
     "name": "stdout",
     "output_type": "stream",
     "text": [
      "\n"
     ]
    },
    {
     "data": {
      "application/vnd.jupyter.widget-view+json": {
       "model_id": "b2e8655e0c6f447a8e3a9dd6e9b87b0a",
       "version_major": 2,
       "version_minor": 0
      },
      "text/plain": [
       "HBox(children=(IntProgress(value=0, max=200), HTML(value='')))"
      ]
     },
     "metadata": {},
     "output_type": "display_data"
    },
    {
     "name": "stdout",
     "output_type": "stream",
     "text": [
      "\n"
     ]
    },
    {
     "data": {
      "application/vnd.jupyter.widget-view+json": {
       "model_id": "43aa9a0b1fa044be8d69e5e336c54182",
       "version_major": 2,
       "version_minor": 0
      },
      "text/plain": [
       "HBox(children=(IntProgress(value=0, max=200), HTML(value='')))"
      ]
     },
     "metadata": {},
     "output_type": "display_data"
    },
    {
     "name": "stdout",
     "output_type": "stream",
     "text": [
      "\n"
     ]
    },
    {
     "data": {
      "application/vnd.jupyter.widget-view+json": {
       "model_id": "13286857872e434c8359822118ee6232",
       "version_major": 2,
       "version_minor": 0
      },
      "text/plain": [
       "HBox(children=(IntProgress(value=0, max=200), HTML(value='')))"
      ]
     },
     "metadata": {},
     "output_type": "display_data"
    },
    {
     "name": "stdout",
     "output_type": "stream",
     "text": [
      "\n"
     ]
    },
    {
     "data": {
      "application/vnd.jupyter.widget-view+json": {
       "model_id": "4d58a2aac49a4359b75370de6446346d",
       "version_major": 2,
       "version_minor": 0
      },
      "text/plain": [
       "HBox(children=(IntProgress(value=0, max=200), HTML(value='')))"
      ]
     },
     "metadata": {},
     "output_type": "display_data"
    },
    {
     "name": "stdout",
     "output_type": "stream",
     "text": [
      "\n"
     ]
    },
    {
     "data": {
      "application/vnd.jupyter.widget-view+json": {
       "model_id": "021b63a4d22146d092b030a0175332aa",
       "version_major": 2,
       "version_minor": 0
      },
      "text/plain": [
       "HBox(children=(IntProgress(value=0, max=200), HTML(value='')))"
      ]
     },
     "metadata": {},
     "output_type": "display_data"
    },
    {
     "name": "stdout",
     "output_type": "stream",
     "text": [
      "\n"
     ]
    },
    {
     "data": {
      "application/vnd.jupyter.widget-view+json": {
       "model_id": "b9acf4343c024e3981e1559aa9e08575",
       "version_major": 2,
       "version_minor": 0
      },
      "text/plain": [
       "HBox(children=(IntProgress(value=0, max=200), HTML(value='')))"
      ]
     },
     "metadata": {},
     "output_type": "display_data"
    },
    {
     "name": "stdout",
     "output_type": "stream",
     "text": [
      "\n"
     ]
    },
    {
     "data": {
      "application/vnd.jupyter.widget-view+json": {
       "model_id": "a81bb6d6ac9d4f03a2b9697d34b4bd2c",
       "version_major": 2,
       "version_minor": 0
      },
      "text/plain": [
       "HBox(children=(IntProgress(value=0, max=200), HTML(value='')))"
      ]
     },
     "metadata": {},
     "output_type": "display_data"
    },
    {
     "name": "stdout",
     "output_type": "stream",
     "text": [
      "\n"
     ]
    }
   ],
   "source": [
    "for i in ['1', '2']:\n",
    "    all_data['tokens'+i] = all_data['эде'+i].progress_apply(tokenizer)\n",
    "    all_data['words'+i] = all_data['tokens'+i].progress_apply(get_words)\n",
    "    all_data['n_words'+i] = all_data['words'+i].progress_apply(count_words)\n",
    "    all_data['av_words_length'+i] = all_data['words'+i].progress_apply(av_word_length)"
   ]
  },
  {
   "cell_type": "code",
   "execution_count": 11,
   "metadata": {},
   "outputs": [],
   "source": [
    "all_data['n_words_diff'] = all_data['n_words1'] - all_data['n_words2']"
   ]
  },
  {
   "cell_type": "markdown",
   "metadata": {},
   "source": [
    "Распределение длин"
   ]
  },
  {
   "cell_type": "code",
   "execution_count": 12,
   "metadata": {},
   "outputs": [],
   "source": [
    "import seaborn as sns\n",
    "import matplotlib.pyplot as plt"
   ]
  },
  {
   "cell_type": "code",
   "execution_count": 13,
   "metadata": {},
   "outputs": [
    {
     "data": {
      "text/html": [
       "<div>\n",
       "<style scoped>\n",
       "    .dataframe tbody tr th:only-of-type {\n",
       "        vertical-align: middle;\n",
       "    }\n",
       "\n",
       "    .dataframe tbody tr th {\n",
       "        vertical-align: top;\n",
       "    }\n",
       "\n",
       "    .dataframe thead th {\n",
       "        text-align: right;\n",
       "    }\n",
       "</style>\n",
       "<table border=\"1\" class=\"dataframe\">\n",
       "  <thead>\n",
       "    <tr style=\"text-align: right;\">\n",
       "      <th></th>\n",
       "      <th>id</th>\n",
       "      <th>n_words1</th>\n",
       "      <th>av_words_length1</th>\n",
       "      <th>n_words2</th>\n",
       "      <th>av_words_length2</th>\n",
       "      <th>n_words_diff</th>\n",
       "    </tr>\n",
       "    <tr>\n",
       "      <th>relation</th>\n",
       "      <th></th>\n",
       "      <th></th>\n",
       "      <th></th>\n",
       "      <th></th>\n",
       "      <th></th>\n",
       "      <th></th>\n",
       "    </tr>\n",
       "  </thead>\n",
       "  <tbody>\n",
       "    <tr>\n",
       "      <th>cause</th>\n",
       "      <td>7962.52</td>\n",
       "      <td>6.83</td>\n",
       "      <td>5.867120</td>\n",
       "      <td>6.50</td>\n",
       "      <td>5.849493</td>\n",
       "      <td>0.33</td>\n",
       "    </tr>\n",
       "    <tr>\n",
       "      <th>contrast</th>\n",
       "      <td>10371.23</td>\n",
       "      <td>8.38</td>\n",
       "      <td>5.774431</td>\n",
       "      <td>6.68</td>\n",
       "      <td>5.980861</td>\n",
       "      <td>1.70</td>\n",
       "    </tr>\n",
       "  </tbody>\n",
       "</table>\n",
       "</div>"
      ],
      "text/plain": [
       "                id  n_words1  av_words_length1  n_words2  av_words_length2  \\\n",
       "relation                                                                     \n",
       "cause      7962.52      6.83          5.867120      6.50          5.849493   \n",
       "contrast  10371.23      8.38          5.774431      6.68          5.980861   \n",
       "\n",
       "          n_words_diff  \n",
       "relation                \n",
       "cause             0.33  \n",
       "contrast          1.70  "
      ]
     },
     "execution_count": 13,
     "metadata": {},
     "output_type": "execute_result"
    }
   ],
   "source": [
    "all_data.groupby(by='relation').mean()"
   ]
  },
  {
   "cell_type": "code",
   "execution_count": 14,
   "metadata": {},
   "outputs": [
    {
     "data": {
      "text/plain": [
       "<matplotlib.axes._subplots.AxesSubplot at 0x203ba168780>"
      ]
     },
     "execution_count": 14,
     "metadata": {},
     "output_type": "execute_result"
    },
    {
     "data": {
      "image/png": "[encoded data removed]",
      "text/plain": [
       "<Figure size 432x288 with 1 Axes>"
      ]
     },
     "metadata": {
      "needs_background": "light"
     },
     "output_type": "display_data"
    }
   ],
   "source": [
    "all_data[all_data['relation'] == 'cause']['n_words1'].plot.kde()\n",
    "all_data[all_data['relation'] == 'cause']['n_words2'].plot.kde()"
   ]
  },
  {
   "cell_type": "code",
   "execution_count": 15,
   "metadata": {},
   "outputs": [
    {
     "data": {
      "text/plain": [
       "<matplotlib.axes._subplots.AxesSubplot at 0x203bd466668>"
      ]
     },
     "execution_count": 15,
     "metadata": {},
     "output_type": "execute_result"
    },
    {
     "data": {
      "image/png": "[encoded data removed]",
      "text/plain": [
       "<Figure size 432x288 with 1 Axes>"
      ]
     },
     "metadata": {
      "needs_background": "light"
     },
     "output_type": "display_data"
    }
   ],
   "source": [
    "all_data[all_data['relation'] == 'contrast']['n_words1'].plot.kde()\n",
    "all_data[all_data['relation'] == 'contrast']['n_words2'].plot.kde()"
   ]
  },
  {
   "cell_type": "code",
   "execution_count": 16,
   "metadata": {},
   "outputs": [
    {
     "data": {
      "text/plain": [
       "<matplotlib.axes._subplots.AxesSubplot at 0x203ba1519b0>"
      ]
     },
     "execution_count": 16,
     "metadata": {},
     "output_type": "execute_result"
    },
    {
     "data": {
      "image/png": "[encoded data removed]",
      "text/plain": [
       "<Figure size 432x288 with 1 Axes>"
      ]
     },
     "metadata": {
      "needs_background": "light"
     },
     "output_type": "display_data"
    }
   ],
   "source": [
    "all_data[all_data['relation'] == 'contrast']['n_words_diff'].plot.kde()\n",
    "all_data[all_data['relation'] == 'cause']['n_words_diff'].plot.kde()"
   ]
  },
  {
   "cell_type": "markdown",
   "metadata": {},
   "source": [
    "## Пунктуация между ЭДЕ\n",
    "\n",
    "`punct` - знак препинания между двумя ЭДЕ (беру последний токен первой ЭДЕ). _None_ если знаков там нет. Данные заранее нормализованы вручную так, чтобы знак оставался в первом элементе. "
   ]
  },
  {
   "cell_type": "code",
   "execution_count": 17,
   "metadata": {},
   "outputs": [],
   "source": [
    "def find_punct(tokens):\n",
    "    last = tokens[-1]\n",
    "    if last not in ['.', ',', ':', '-', '?', ')', '…']:\n",
    "        last = 'none'\n",
    "        \n",
    "    return last\n",
    "\n",
    "all_data['punct'] = all_data['tokens1'].apply(find_punct)\n",
    "all_data['if punct'] = (all_data['punct'] != 'none')"
   ]
  },
  {
   "cell_type": "markdown",
   "metadata": {},
   "source": [
    "## POS анализ\n",
    "\n",
    "Считаю вектор со значениями всех частей речи и разбиваю его на отдельные признаки"
   ]
  },
  {
   "cell_type": "code",
   "execution_count": 18,
   "metadata": {},
   "outputs": [],
   "source": [
    "from pymorphy2 import MorphAnalyzer\n",
    "morph = MorphAnalyzer()"
   ]
  },
  {
   "cell_type": "code",
   "execution_count": 19,
   "metadata": {},
   "outputs": [],
   "source": [
    "tag_list = ['ADJF', 'ADJS', 'ADVB', 'COMP', 'CONJ', 'GRND', 'INFN', 'INTJ', 'NOUN',\n",
    "            'NPRO', 'NUMR', 'None', 'PRCL', 'PRED', 'PREP', 'PRTF', 'PRTS', 'VERB']"
   ]
  },
  {
   "cell_type": "code",
   "execution_count": 20,
   "metadata": {},
   "outputs": [],
   "source": [
    "def count_POS(words):\n",
    "    POS_dict = {'ADJF': 0,\n",
    "                'ADJS': 0,\n",
    "                'ADVB': 0,\n",
    "                'COMP': 0,\n",
    "                'CONJ': 0,\n",
    "                'GRND': 0,\n",
    "                'INFN': 0,\n",
    "                'INTJ': 0,\n",
    "                'NOUN': 0,\n",
    "                'NPRO': 0,\n",
    "                'NUMR': 0,\n",
    "                'None': 0,\n",
    "                'PRCL': 0,\n",
    "                'PRED': 0,\n",
    "                'PREP': 0,\n",
    "                'PRTF': 0,\n",
    "                'PRTS': 0,\n",
    "                'VERB': 0}\n",
    "    \n",
    "    for word in words.split():\n",
    "        p = morph.parse(word)[0]\n",
    "        tag = p.tag.POS\n",
    "        if tag is None:\n",
    "            tag = 'None'\n",
    "        POS_dict[tag] += 1\n",
    "    return list(POS_dict.values())"
   ]
  },
  {
   "cell_type": "code",
   "execution_count": 21,
   "metadata": {},
   "outputs": [
    {
     "data": {
      "application/vnd.jupyter.widget-view+json": {
       "model_id": "1076ce95be9742bc8d2b5581cbd8106f",
       "version_major": 2,
       "version_minor": 0
      },
      "text/plain": [
       "HBox(children=(IntProgress(value=0, max=200), HTML(value='')))"
      ]
     },
     "metadata": {},
     "output_type": "display_data"
    },
    {
     "name": "stdout",
     "output_type": "stream",
     "text": [
      "\n"
     ]
    },
    {
     "data": {
      "application/vnd.jupyter.widget-view+json": {
       "model_id": "801ba39ed6764c439a37345411621af5",
       "version_major": 2,
       "version_minor": 0
      },
      "text/plain": [
       "HBox(children=(IntProgress(value=0, max=200), HTML(value='')))"
      ]
     },
     "metadata": {},
     "output_type": "display_data"
    },
    {
     "name": "stdout",
     "output_type": "stream",
     "text": [
      "\n"
     ]
    }
   ],
   "source": [
    "for i in ['1', '2']:\n",
    "    all_data['pos_vector'+i] = all_data['words'+i].progress_apply(count_POS)\n",
    "    \n",
    "    all_data[ [tag+i for tag in tag_list] ] = pd.DataFrame(all_data['pos_vector'+i].tolist())"
   ]
  },
  {
   "cell_type": "markdown",
   "metadata": {},
   "source": [
    "## Повторяющиеся слова\n",
    "\n",
    "Лемматизирую тексты и считаю сколько слов встречаются в обеих ЭДЕ"
   ]
  },
  {
   "cell_type": "code",
   "execution_count": 22,
   "metadata": {},
   "outputs": [],
   "source": [
    "def lemmatizer(words):\n",
    "    lem_text = []\n",
    "    for word in words.split():\n",
    "        lem = morph.parse(word)[0].normal_form\n",
    "#         if lem not in stops:\n",
    "        lem_text.append(lem)\n",
    "    return ' '.join(lem_text)\n",
    "\n",
    "def similar_words(lemm_a, lemm_b):\n",
    "    return list(set(lemm_a.split()) & set(lemm_b.split()))"
   ]
  },
  {
   "cell_type": "code",
   "execution_count": 23,
   "metadata": {},
   "outputs": [
    {
     "data": {
      "application/vnd.jupyter.widget-view+json": {
       "model_id": "a0f99e3d3e73471a87ee57779e15d944",
       "version_major": 2,
       "version_minor": 0
      },
      "text/plain": [
       "HBox(children=(IntProgress(value=0, max=200), HTML(value='')))"
      ]
     },
     "metadata": {},
     "output_type": "display_data"
    },
    {
     "name": "stdout",
     "output_type": "stream",
     "text": [
      "\n"
     ]
    },
    {
     "data": {
      "application/vnd.jupyter.widget-view+json": {
       "model_id": "af60a6f1ef934b1387b1f2421ae90db3",
       "version_major": 2,
       "version_minor": 0
      },
      "text/plain": [
       "HBox(children=(IntProgress(value=0, max=200), HTML(value='')))"
      ]
     },
     "metadata": {},
     "output_type": "display_data"
    },
    {
     "name": "stdout",
     "output_type": "stream",
     "text": [
      "\n"
     ]
    }
   ],
   "source": [
    "for i in ['1', '2']:\n",
    "    all_data['lemm'+i] = all_data['words'+i].progress_apply(lemmatizer)"
   ]
  },
  {
   "cell_type": "code",
   "execution_count": 24,
   "metadata": {},
   "outputs": [],
   "source": [
    "all_data['similar_words'] = all_data.apply(lambda x: similar_words(x['lemm1'], x['lemm2']), axis=1)\n",
    "all_data['n_similar_words'] = all_data['similar_words'].apply(len)"
   ]
  },
  {
   "cell_type": "code",
   "execution_count": 25,
   "metadata": {
    "scrolled": false
   },
   "outputs": [
    {
     "data": {
      "text/plain": [
       "2                                          [и]\n",
       "3                         [уровень, транспорт]\n",
       "9                                          [с]\n",
       "11                                    [бывать]\n",
       "15                                       [кот]\n",
       "18                                    [писать]\n",
       "20                                       [для]\n",
       "21                                  [хотеться]\n",
       "22          [быстрый, результат, это, к, путь]\n",
       "23                         [пищеварение, быть]\n",
       "25                           [платить, тестер]\n",
       "26                                  [работать]\n",
       "27                         [ресурс, требовать]\n",
       "28                                    [способ]\n",
       "30                                       [что]\n",
       "32                                [технология]\n",
       "34                                        [не]\n",
       "35                                 [хотеть, я]\n",
       "37                     [что, я, мочь, сказать]\n",
       "39                                  [удобство]\n",
       "41                   [нужно, что, это, значит]\n",
       "42                 [что, союз, россия, это, и]\n",
       "45                                       [они]\n",
       "49                                     [когда]\n",
       "52                                         [в]\n",
       "53                                   [не, это]\n",
       "55     [в, граница, с, себя, человек, вредить]\n",
       "56                                    [рулить]\n",
       "57                                     [не, и]\n",
       "59                                       [это]\n",
       "                        ...                   \n",
       "89                                      [план]\n",
       "90                                        [бы]\n",
       "93                                         [у]\n",
       "95                               [освобождать]\n",
       "98                             [распределение]\n",
       "99                                    [случай]\n",
       "106                          [парковка, класс]\n",
       "109                            [в, не, я, для]\n",
       "111                            [и, я, дневный]\n",
       "117                                        [и]\n",
       "120                                        [я]\n",
       "127                                        [я]\n",
       "130                                       [не]\n",
       "132                                        [и]\n",
       "134                               [время, это]\n",
       "139                                        [к]\n",
       "147                                   [они, и]\n",
       "148                       [уязвимость, сервис]\n",
       "149                                        [с]\n",
       "150                                   [это, к]\n",
       "154                                       [не]\n",
       "159                                  [большой]\n",
       "160                                 [в, центр]\n",
       "166                                        [в]\n",
       "178                             [не, очень, с]\n",
       "180                                        [в]\n",
       "182                                        [и]\n",
       "184                                  [большой]\n",
       "188                                       [на]\n",
       "189                                        [с]\n",
       "Name: similar_words, Length: 78, dtype: object"
      ]
     },
     "execution_count": 25,
     "metadata": {},
     "output_type": "execute_result"
    }
   ],
   "source": [
    "all_data[all_data['n_similar_words'] != 0]['similar_words']"
   ]
  },
  {
   "cell_type": "markdown",
   "metadata": {},
   "source": [
    "## Эмбединги\n",
    "\n",
    "Обучаю модель, получаю вектора размерности 10 для каждой пары ЭДЕ и считаю их косинусную близовть. Вектора разбиваю на 10 отдельных признаков. Как дальше покажут эксперименты, если использовать эти 10 отдельных признаков, то почти все модели получаются сильно завязаны на каку-то их часть, при этом если их не использовать - качество не особо и меняется. Так что в итоге при обучении я буду использовать только значение близости между векторами двух ЭДЕ `cosine_d2v`."
   ]
  },
  {
   "cell_type": "markdown",
   "metadata": {},
   "source": [
    "### doc2vec"
   ]
  },
  {
   "cell_type": "code",
   "execution_count": 26,
   "metadata": {},
   "outputs": [],
   "source": [
    "from gensim.models.doc2vec import Doc2Vec, TaggedDocument"
   ]
  },
  {
   "cell_type": "code",
   "execution_count": 27,
   "metadata": {},
   "outputs": [
    {
     "data": {
      "text/plain": [
       "400"
      ]
     },
     "execution_count": 27,
     "metadata": {},
     "output_type": "execute_result"
    }
   ],
   "source": [
    "corpora = all_data['lemm1'].values.tolist() + all_data['lemm2'].values.tolist()\n",
    "len(corpora)"
   ]
  },
  {
   "cell_type": "code",
   "execution_count": 28,
   "metadata": {},
   "outputs": [],
   "source": [
    "documents = [TaggedDocument(doc.split(), [i]) for i, doc in enumerate(corpora)]\n",
    "model = Doc2Vec(documents, vector_size=10, window=2, min_count=1)"
   ]
  },
  {
   "cell_type": "code",
   "execution_count": 29,
   "metadata": {},
   "outputs": [],
   "source": [
    "def get_d2v_vector(lemm):\n",
    "    return model.infer_vector(lemm.split())\n",
    "\n",
    "def cosine_d2v(lemm1, lemm2):\n",
    "    return model.wv.n_similarity(lemm1.split(),lemm2.split())"
   ]
  },
  {
   "cell_type": "code",
   "execution_count": 30,
   "metadata": {},
   "outputs": [
    {
     "data": {
      "application/vnd.jupyter.widget-view+json": {
       "model_id": "ed70e54d2c774f8d81344d8b7cec9a5d",
       "version_major": 2,
       "version_minor": 0
      },
      "text/plain": [
       "HBox(children=(IntProgress(value=0, max=200), HTML(value='')))"
      ]
     },
     "metadata": {},
     "output_type": "display_data"
    },
    {
     "name": "stdout",
     "output_type": "stream",
     "text": [
      "\n"
     ]
    },
    {
     "data": {
      "application/vnd.jupyter.widget-view+json": {
       "model_id": "a63db4c24bae459a8f7acdf47c1425c9",
       "version_major": 2,
       "version_minor": 0
      },
      "text/plain": [
       "HBox(children=(IntProgress(value=0, max=200), HTML(value='')))"
      ]
     },
     "metadata": {},
     "output_type": "display_data"
    },
    {
     "name": "stdout",
     "output_type": "stream",
     "text": [
      "\n"
     ]
    }
   ],
   "source": [
    "for i in ['1', '2']:\n",
    "    all_data['d2v_vector'+i] = all_data['lemm'+i].progress_apply(get_d2v_vector)\n",
    "    all_data[ ['v'+str(n)+'_'+i for n in range(10)] ] = pd.DataFrame(all_data['d2v_vector'+i].tolist())"
   ]
  },
  {
   "cell_type": "code",
   "execution_count": 31,
   "metadata": {},
   "outputs": [],
   "source": [
    "all_data['cosine_d2v'] = all_data.apply(lambda x: cosine_d2v(x['lemm1'], x['lemm2']), axis=1)"
   ]
  },
  {
   "cell_type": "markdown",
   "metadata": {},
   "source": [
    "### Сохранение всех результатов в экселе"
   ]
  },
  {
   "cell_type": "code",
   "execution_count": 32,
   "metadata": {},
   "outputs": [],
   "source": [
    "all_data.to_excel('Data\\data_full_markup.xlsx')"
   ]
  },
  {
   "cell_type": "markdown",
   "metadata": {},
   "source": [
    "# Модели"
   ]
  },
  {
   "cell_type": "code",
   "execution_count": 33,
   "metadata": {},
   "outputs": [],
   "source": [
    "import numpy as np\n",
    "from sklearn.metrics import classification_report"
   ]
  },
  {
   "cell_type": "markdown",
   "metadata": {},
   "source": [
    "## Обчающая и тестовая выборки"
   ]
  },
  {
   "cell_type": "code",
   "execution_count": 34,
   "metadata": {},
   "outputs": [],
   "source": [
    "from sklearn.preprocessing import LabelEncoder\n",
    "from sklearn.model_selection import train_test_split"
   ]
  },
  {
   "cell_type": "code",
   "execution_count": 35,
   "metadata": {},
   "outputs": [],
   "source": [
    "not_features = ['id', 'текст',\n",
    "                'эде1', 'эде2',\n",
    "                'tokens1', 'tokens2',\n",
    "                'words1', 'words2',\n",
    "                'pos_vector1', 'pos_vector2',\n",
    "                'lemm1', 'lemm2',\n",
    "                'similar_words', 'if punct', \n",
    "                'd2v_vector1', 'd2v_vector2']\n",
    "\n",
    "not_features.extend(['v'+str(n)+'_'+'1' for n in range(10)])\n",
    "not_features.extend(['v'+str(n)+'_'+'2' for n in range(10)])\n",
    "\n",
    "features_list = list(set(all_data.columns.values.tolist()) - set(not_features))\n",
    "features_list.remove('relation')\n",
    "\n",
    "data = all_data.drop(columns=not_features)\n",
    "data = data.apply(LabelEncoder().fit_transform) # 1 = contrast, 0 = cause\n",
    "\n",
    "X = data.drop(columns=['relation'])\n",
    "y = data['relation']\n",
    "\n",
    "X_train, X_test, y_train, y_test = train_test_split(X, y, \n",
    "                                                    stratify=y,\n",
    "                                                    test_size=0.2,\n",
    "                                                    random_state=42)"
   ]
  },
  {
   "cell_type": "code",
   "execution_count": 36,
   "metadata": {},
   "outputs": [
    {
     "data": {
      "text/plain": [
       "44"
      ]
     },
     "execution_count": 36,
     "metadata": {},
     "output_type": "execute_result"
    }
   ],
   "source": [
    "len(features_list)"
   ]
  },
  {
   "cell_type": "code",
   "execution_count": 65,
   "metadata": {},
   "outputs": [
    {
     "data": {
      "text/html": [
       "<div>\n",
       "<style scoped>\n",
       "    .dataframe tbody tr th:only-of-type {\n",
       "        vertical-align: middle;\n",
       "    }\n",
       "\n",
       "    .dataframe tbody tr th {\n",
       "        vertical-align: top;\n",
       "    }\n",
       "\n",
       "    .dataframe thead th {\n",
       "        text-align: right;\n",
       "    }\n",
       "</style>\n",
       "<table border=\"1\" class=\"dataframe\">\n",
       "  <thead>\n",
       "    <tr style=\"text-align: right;\">\n",
       "      <th></th>\n",
       "      <th>n_words1</th>\n",
       "      <th>av_words_length1</th>\n",
       "      <th>n_words2</th>\n",
       "      <th>av_words_length2</th>\n",
       "      <th>n_words_diff</th>\n",
       "      <th>punct</th>\n",
       "      <th>ADJF1</th>\n",
       "      <th>ADJS1</th>\n",
       "      <th>ADVB1</th>\n",
       "      <th>COMP1</th>\n",
       "      <th>...</th>\n",
       "      <th>NUMR2</th>\n",
       "      <th>None2</th>\n",
       "      <th>PRCL2</th>\n",
       "      <th>PRED2</th>\n",
       "      <th>PREP2</th>\n",
       "      <th>PRTF2</th>\n",
       "      <th>PRTS2</th>\n",
       "      <th>VERB2</th>\n",
       "      <th>n_similar_words</th>\n",
       "      <th>cosine_d2v</th>\n",
       "    </tr>\n",
       "  </thead>\n",
       "  <tbody>\n",
       "    <tr>\n",
       "      <th>137</th>\n",
       "      <td>8</td>\n",
       "      <td>75</td>\n",
       "      <td>4</td>\n",
       "      <td>86</td>\n",
       "      <td>15</td>\n",
       "      <td>1</td>\n",
       "      <td>1</td>\n",
       "      <td>0</td>\n",
       "      <td>1</td>\n",
       "      <td>1</td>\n",
       "      <td>...</td>\n",
       "      <td>0</td>\n",
       "      <td>0</td>\n",
       "      <td>0</td>\n",
       "      <td>0</td>\n",
       "      <td>0</td>\n",
       "      <td>0</td>\n",
       "      <td>0</td>\n",
       "      <td>1</td>\n",
       "      <td>0</td>\n",
       "      <td>174</td>\n",
       "    </tr>\n",
       "    <tr>\n",
       "      <th>40</th>\n",
       "      <td>4</td>\n",
       "      <td>15</td>\n",
       "      <td>4</td>\n",
       "      <td>58</td>\n",
       "      <td>11</td>\n",
       "      <td>2</td>\n",
       "      <td>1</td>\n",
       "      <td>0</td>\n",
       "      <td>0</td>\n",
       "      <td>1</td>\n",
       "      <td>...</td>\n",
       "      <td>0</td>\n",
       "      <td>0</td>\n",
       "      <td>3</td>\n",
       "      <td>0</td>\n",
       "      <td>0</td>\n",
       "      <td>0</td>\n",
       "      <td>0</td>\n",
       "      <td>1</td>\n",
       "      <td>0</td>\n",
       "      <td>111</td>\n",
       "    </tr>\n",
       "    <tr>\n",
       "      <th>95</th>\n",
       "      <td>4</td>\n",
       "      <td>72</td>\n",
       "      <td>3</td>\n",
       "      <td>32</td>\n",
       "      <td>12</td>\n",
       "      <td>2</td>\n",
       "      <td>0</td>\n",
       "      <td>0</td>\n",
       "      <td>0</td>\n",
       "      <td>0</td>\n",
       "      <td>...</td>\n",
       "      <td>0</td>\n",
       "      <td>0</td>\n",
       "      <td>0</td>\n",
       "      <td>0</td>\n",
       "      <td>0</td>\n",
       "      <td>0</td>\n",
       "      <td>0</td>\n",
       "      <td>1</td>\n",
       "      <td>1</td>\n",
       "      <td>154</td>\n",
       "    </tr>\n",
       "    <tr>\n",
       "      <th>96</th>\n",
       "      <td>3</td>\n",
       "      <td>78</td>\n",
       "      <td>7</td>\n",
       "      <td>35</td>\n",
       "      <td>7</td>\n",
       "      <td>0</td>\n",
       "      <td>1</td>\n",
       "      <td>0</td>\n",
       "      <td>0</td>\n",
       "      <td>0</td>\n",
       "      <td>...</td>\n",
       "      <td>0</td>\n",
       "      <td>0</td>\n",
       "      <td>0</td>\n",
       "      <td>0</td>\n",
       "      <td>1</td>\n",
       "      <td>0</td>\n",
       "      <td>0</td>\n",
       "      <td>1</td>\n",
       "      <td>0</td>\n",
       "      <td>35</td>\n",
       "    </tr>\n",
       "    <tr>\n",
       "      <th>123</th>\n",
       "      <td>0</td>\n",
       "      <td>56</td>\n",
       "      <td>9</td>\n",
       "      <td>36</td>\n",
       "      <td>2</td>\n",
       "      <td>0</td>\n",
       "      <td>0</td>\n",
       "      <td>0</td>\n",
       "      <td>0</td>\n",
       "      <td>0</td>\n",
       "      <td>...</td>\n",
       "      <td>0</td>\n",
       "      <td>0</td>\n",
       "      <td>0</td>\n",
       "      <td>1</td>\n",
       "      <td>2</td>\n",
       "      <td>0</td>\n",
       "      <td>0</td>\n",
       "      <td>0</td>\n",
       "      <td>0</td>\n",
       "      <td>165</td>\n",
       "    </tr>\n",
       "    <tr>\n",
       "      <th>4</th>\n",
       "      <td>0</td>\n",
       "      <td>86</td>\n",
       "      <td>6</td>\n",
       "      <td>29</td>\n",
       "      <td>5</td>\n",
       "      <td>0</td>\n",
       "      <td>1</td>\n",
       "      <td>0</td>\n",
       "      <td>0</td>\n",
       "      <td>0</td>\n",
       "      <td>...</td>\n",
       "      <td>0</td>\n",
       "      <td>0</td>\n",
       "      <td>1</td>\n",
       "      <td>0</td>\n",
       "      <td>1</td>\n",
       "      <td>0</td>\n",
       "      <td>0</td>\n",
       "      <td>0</td>\n",
       "      <td>0</td>\n",
       "      <td>92</td>\n",
       "    </tr>\n",
       "    <tr>\n",
       "      <th>129</th>\n",
       "      <td>1</td>\n",
       "      <td>9</td>\n",
       "      <td>11</td>\n",
       "      <td>17</td>\n",
       "      <td>1</td>\n",
       "      <td>0</td>\n",
       "      <td>0</td>\n",
       "      <td>0</td>\n",
       "      <td>0</td>\n",
       "      <td>0</td>\n",
       "      <td>...</td>\n",
       "      <td>0</td>\n",
       "      <td>0</td>\n",
       "      <td>0</td>\n",
       "      <td>0</td>\n",
       "      <td>3</td>\n",
       "      <td>1</td>\n",
       "      <td>0</td>\n",
       "      <td>1</td>\n",
       "      <td>0</td>\n",
       "      <td>96</td>\n",
       "    </tr>\n",
       "    <tr>\n",
       "      <th>80</th>\n",
       "      <td>0</td>\n",
       "      <td>40</td>\n",
       "      <td>6</td>\n",
       "      <td>52</td>\n",
       "      <td>5</td>\n",
       "      <td>5</td>\n",
       "      <td>0</td>\n",
       "      <td>0</td>\n",
       "      <td>0</td>\n",
       "      <td>0</td>\n",
       "      <td>...</td>\n",
       "      <td>0</td>\n",
       "      <td>0</td>\n",
       "      <td>0</td>\n",
       "      <td>0</td>\n",
       "      <td>0</td>\n",
       "      <td>0</td>\n",
       "      <td>0</td>\n",
       "      <td>1</td>\n",
       "      <td>1</td>\n",
       "      <td>186</td>\n",
       "    </tr>\n",
       "    <tr>\n",
       "      <th>61</th>\n",
       "      <td>19</td>\n",
       "      <td>57</td>\n",
       "      <td>4</td>\n",
       "      <td>70</td>\n",
       "      <td>25</td>\n",
       "      <td>2</td>\n",
       "      <td>6</td>\n",
       "      <td>0</td>\n",
       "      <td>0</td>\n",
       "      <td>0</td>\n",
       "      <td>...</td>\n",
       "      <td>0</td>\n",
       "      <td>0</td>\n",
       "      <td>0</td>\n",
       "      <td>0</td>\n",
       "      <td>1</td>\n",
       "      <td>0</td>\n",
       "      <td>0</td>\n",
       "      <td>0</td>\n",
       "      <td>1</td>\n",
       "      <td>99</td>\n",
       "    </tr>\n",
       "    <tr>\n",
       "      <th>186</th>\n",
       "      <td>4</td>\n",
       "      <td>40</td>\n",
       "      <td>10</td>\n",
       "      <td>76</td>\n",
       "      <td>5</td>\n",
       "      <td>0</td>\n",
       "      <td>1</td>\n",
       "      <td>0</td>\n",
       "      <td>0</td>\n",
       "      <td>0</td>\n",
       "      <td>...</td>\n",
       "      <td>1</td>\n",
       "      <td>0</td>\n",
       "      <td>0</td>\n",
       "      <td>0</td>\n",
       "      <td>2</td>\n",
       "      <td>0</td>\n",
       "      <td>0</td>\n",
       "      <td>1</td>\n",
       "      <td>0</td>\n",
       "      <td>3</td>\n",
       "    </tr>\n",
       "    <tr>\n",
       "      <th>7</th>\n",
       "      <td>8</td>\n",
       "      <td>24</td>\n",
       "      <td>5</td>\n",
       "      <td>5</td>\n",
       "      <td>14</td>\n",
       "      <td>0</td>\n",
       "      <td>0</td>\n",
       "      <td>0</td>\n",
       "      <td>1</td>\n",
       "      <td>0</td>\n",
       "      <td>...</td>\n",
       "      <td>0</td>\n",
       "      <td>0</td>\n",
       "      <td>0</td>\n",
       "      <td>0</td>\n",
       "      <td>1</td>\n",
       "      <td>0</td>\n",
       "      <td>0</td>\n",
       "      <td>1</td>\n",
       "      <td>0</td>\n",
       "      <td>161</td>\n",
       "    </tr>\n",
       "    <tr>\n",
       "      <th>97</th>\n",
       "      <td>4</td>\n",
       "      <td>92</td>\n",
       "      <td>15</td>\n",
       "      <td>67</td>\n",
       "      <td>0</td>\n",
       "      <td>0</td>\n",
       "      <td>2</td>\n",
       "      <td>0</td>\n",
       "      <td>0</td>\n",
       "      <td>0</td>\n",
       "      <td>...</td>\n",
       "      <td>0</td>\n",
       "      <td>0</td>\n",
       "      <td>0</td>\n",
       "      <td>1</td>\n",
       "      <td>4</td>\n",
       "      <td>0</td>\n",
       "      <td>0</td>\n",
       "      <td>0</td>\n",
       "      <td>0</td>\n",
       "      <td>31</td>\n",
       "    </tr>\n",
       "    <tr>\n",
       "      <th>101</th>\n",
       "      <td>1</td>\n",
       "      <td>90</td>\n",
       "      <td>3</td>\n",
       "      <td>92</td>\n",
       "      <td>9</td>\n",
       "      <td>2</td>\n",
       "      <td>1</td>\n",
       "      <td>0</td>\n",
       "      <td>0</td>\n",
       "      <td>0</td>\n",
       "      <td>...</td>\n",
       "      <td>0</td>\n",
       "      <td>0</td>\n",
       "      <td>0</td>\n",
       "      <td>0</td>\n",
       "      <td>1</td>\n",
       "      <td>0</td>\n",
       "      <td>0</td>\n",
       "      <td>1</td>\n",
       "      <td>0</td>\n",
       "      <td>54</td>\n",
       "    </tr>\n",
       "    <tr>\n",
       "      <th>27</th>\n",
       "      <td>4</td>\n",
       "      <td>96</td>\n",
       "      <td>3</td>\n",
       "      <td>96</td>\n",
       "      <td>12</td>\n",
       "      <td>0</td>\n",
       "      <td>1</td>\n",
       "      <td>0</td>\n",
       "      <td>0</td>\n",
       "      <td>0</td>\n",
       "      <td>...</td>\n",
       "      <td>0</td>\n",
       "      <td>0</td>\n",
       "      <td>1</td>\n",
       "      <td>0</td>\n",
       "      <td>0</td>\n",
       "      <td>1</td>\n",
       "      <td>0</td>\n",
       "      <td>0</td>\n",
       "      <td>2</td>\n",
       "      <td>167</td>\n",
       "    </tr>\n",
       "    <tr>\n",
       "      <th>191</th>\n",
       "      <td>2</td>\n",
       "      <td>86</td>\n",
       "      <td>5</td>\n",
       "      <td>39</td>\n",
       "      <td>8</td>\n",
       "      <td>0</td>\n",
       "      <td>0</td>\n",
       "      <td>0</td>\n",
       "      <td>0</td>\n",
       "      <td>0</td>\n",
       "      <td>...</td>\n",
       "      <td>0</td>\n",
       "      <td>0</td>\n",
       "      <td>0</td>\n",
       "      <td>0</td>\n",
       "      <td>1</td>\n",
       "      <td>0</td>\n",
       "      <td>0</td>\n",
       "      <td>0</td>\n",
       "      <td>0</td>\n",
       "      <td>61</td>\n",
       "    </tr>\n",
       "    <tr>\n",
       "      <th>114</th>\n",
       "      <td>2</td>\n",
       "      <td>15</td>\n",
       "      <td>5</td>\n",
       "      <td>62</td>\n",
       "      <td>8</td>\n",
       "      <td>0</td>\n",
       "      <td>0</td>\n",
       "      <td>0</td>\n",
       "      <td>1</td>\n",
       "      <td>1</td>\n",
       "      <td>...</td>\n",
       "      <td>0</td>\n",
       "      <td>0</td>\n",
       "      <td>0</td>\n",
       "      <td>0</td>\n",
       "      <td>0</td>\n",
       "      <td>0</td>\n",
       "      <td>0</td>\n",
       "      <td>1</td>\n",
       "      <td>0</td>\n",
       "      <td>74</td>\n",
       "    </tr>\n",
       "    <tr>\n",
       "      <th>71</th>\n",
       "      <td>6</td>\n",
       "      <td>3</td>\n",
       "      <td>2</td>\n",
       "      <td>71</td>\n",
       "      <td>15</td>\n",
       "      <td>0</td>\n",
       "      <td>1</td>\n",
       "      <td>0</td>\n",
       "      <td>0</td>\n",
       "      <td>0</td>\n",
       "      <td>...</td>\n",
       "      <td>0</td>\n",
       "      <td>0</td>\n",
       "      <td>1</td>\n",
       "      <td>0</td>\n",
       "      <td>0</td>\n",
       "      <td>0</td>\n",
       "      <td>0</td>\n",
       "      <td>1</td>\n",
       "      <td>1</td>\n",
       "      <td>122</td>\n",
       "    </tr>\n",
       "    <tr>\n",
       "      <th>152</th>\n",
       "      <td>4</td>\n",
       "      <td>84</td>\n",
       "      <td>4</td>\n",
       "      <td>15</td>\n",
       "      <td>11</td>\n",
       "      <td>0</td>\n",
       "      <td>0</td>\n",
       "      <td>0</td>\n",
       "      <td>0</td>\n",
       "      <td>0</td>\n",
       "      <td>...</td>\n",
       "      <td>0</td>\n",
       "      <td>0</td>\n",
       "      <td>0</td>\n",
       "      <td>0</td>\n",
       "      <td>1</td>\n",
       "      <td>0</td>\n",
       "      <td>0</td>\n",
       "      <td>1</td>\n",
       "      <td>0</td>\n",
       "      <td>32</td>\n",
       "    </tr>\n",
       "    <tr>\n",
       "      <th>187</th>\n",
       "      <td>10</td>\n",
       "      <td>102</td>\n",
       "      <td>8</td>\n",
       "      <td>71</td>\n",
       "      <td>13</td>\n",
       "      <td>0</td>\n",
       "      <td>4</td>\n",
       "      <td>0</td>\n",
       "      <td>0</td>\n",
       "      <td>0</td>\n",
       "      <td>...</td>\n",
       "      <td>0</td>\n",
       "      <td>0</td>\n",
       "      <td>0</td>\n",
       "      <td>0</td>\n",
       "      <td>2</td>\n",
       "      <td>0</td>\n",
       "      <td>0</td>\n",
       "      <td>1</td>\n",
       "      <td>0</td>\n",
       "      <td>90</td>\n",
       "    </tr>\n",
       "    <tr>\n",
       "      <th>34</th>\n",
       "      <td>15</td>\n",
       "      <td>28</td>\n",
       "      <td>10</td>\n",
       "      <td>49</td>\n",
       "      <td>16</td>\n",
       "      <td>4</td>\n",
       "      <td>5</td>\n",
       "      <td>1</td>\n",
       "      <td>1</td>\n",
       "      <td>0</td>\n",
       "      <td>...</td>\n",
       "      <td>0</td>\n",
       "      <td>0</td>\n",
       "      <td>2</td>\n",
       "      <td>0</td>\n",
       "      <td>2</td>\n",
       "      <td>1</td>\n",
       "      <td>0</td>\n",
       "      <td>0</td>\n",
       "      <td>1</td>\n",
       "      <td>82</td>\n",
       "    </tr>\n",
       "    <tr>\n",
       "      <th>171</th>\n",
       "      <td>2</td>\n",
       "      <td>48</td>\n",
       "      <td>5</td>\n",
       "      <td>57</td>\n",
       "      <td>8</td>\n",
       "      <td>0</td>\n",
       "      <td>1</td>\n",
       "      <td>0</td>\n",
       "      <td>1</td>\n",
       "      <td>0</td>\n",
       "      <td>...</td>\n",
       "      <td>0</td>\n",
       "      <td>0</td>\n",
       "      <td>0</td>\n",
       "      <td>1</td>\n",
       "      <td>0</td>\n",
       "      <td>0</td>\n",
       "      <td>0</td>\n",
       "      <td>0</td>\n",
       "      <td>0</td>\n",
       "      <td>19</td>\n",
       "    </tr>\n",
       "    <tr>\n",
       "      <th>47</th>\n",
       "      <td>1</td>\n",
       "      <td>74</td>\n",
       "      <td>3</td>\n",
       "      <td>26</td>\n",
       "      <td>9</td>\n",
       "      <td>2</td>\n",
       "      <td>0</td>\n",
       "      <td>0</td>\n",
       "      <td>0</td>\n",
       "      <td>0</td>\n",
       "      <td>...</td>\n",
       "      <td>0</td>\n",
       "      <td>0</td>\n",
       "      <td>1</td>\n",
       "      <td>0</td>\n",
       "      <td>0</td>\n",
       "      <td>0</td>\n",
       "      <td>0</td>\n",
       "      <td>0</td>\n",
       "      <td>0</td>\n",
       "      <td>190</td>\n",
       "    </tr>\n",
       "    <tr>\n",
       "      <th>22</th>\n",
       "      <td>18</td>\n",
       "      <td>32</td>\n",
       "      <td>6</td>\n",
       "      <td>48</td>\n",
       "      <td>24</td>\n",
       "      <td>2</td>\n",
       "      <td>3</td>\n",
       "      <td>0</td>\n",
       "      <td>0</td>\n",
       "      <td>0</td>\n",
       "      <td>...</td>\n",
       "      <td>0</td>\n",
       "      <td>0</td>\n",
       "      <td>1</td>\n",
       "      <td>0</td>\n",
       "      <td>1</td>\n",
       "      <td>0</td>\n",
       "      <td>0</td>\n",
       "      <td>0</td>\n",
       "      <td>5</td>\n",
       "      <td>184</td>\n",
       "    </tr>\n",
       "    <tr>\n",
       "      <th>6</th>\n",
       "      <td>8</td>\n",
       "      <td>10</td>\n",
       "      <td>2</td>\n",
       "      <td>0</td>\n",
       "      <td>17</td>\n",
       "      <td>5</td>\n",
       "      <td>0</td>\n",
       "      <td>0</td>\n",
       "      <td>1</td>\n",
       "      <td>0</td>\n",
       "      <td>...</td>\n",
       "      <td>0</td>\n",
       "      <td>0</td>\n",
       "      <td>1</td>\n",
       "      <td>0</td>\n",
       "      <td>0</td>\n",
       "      <td>0</td>\n",
       "      <td>0</td>\n",
       "      <td>1</td>\n",
       "      <td>0</td>\n",
       "      <td>37</td>\n",
       "    </tr>\n",
       "    <tr>\n",
       "      <th>43</th>\n",
       "      <td>8</td>\n",
       "      <td>56</td>\n",
       "      <td>10</td>\n",
       "      <td>63</td>\n",
       "      <td>9</td>\n",
       "      <td>0</td>\n",
       "      <td>2</td>\n",
       "      <td>0</td>\n",
       "      <td>0</td>\n",
       "      <td>0</td>\n",
       "      <td>...</td>\n",
       "      <td>0</td>\n",
       "      <td>0</td>\n",
       "      <td>0</td>\n",
       "      <td>0</td>\n",
       "      <td>1</td>\n",
       "      <td>0</td>\n",
       "      <td>0</td>\n",
       "      <td>1</td>\n",
       "      <td>0</td>\n",
       "      <td>135</td>\n",
       "    </tr>\n",
       "    <tr>\n",
       "      <th>72</th>\n",
       "      <td>2</td>\n",
       "      <td>48</td>\n",
       "      <td>5</td>\n",
       "      <td>71</td>\n",
       "      <td>8</td>\n",
       "      <td>0</td>\n",
       "      <td>1</td>\n",
       "      <td>0</td>\n",
       "      <td>0</td>\n",
       "      <td>0</td>\n",
       "      <td>...</td>\n",
       "      <td>0</td>\n",
       "      <td>0</td>\n",
       "      <td>0</td>\n",
       "      <td>0</td>\n",
       "      <td>1</td>\n",
       "      <td>0</td>\n",
       "      <td>0</td>\n",
       "      <td>0</td>\n",
       "      <td>0</td>\n",
       "      <td>68</td>\n",
       "    </tr>\n",
       "    <tr>\n",
       "      <th>11</th>\n",
       "      <td>2</td>\n",
       "      <td>83</td>\n",
       "      <td>1</td>\n",
       "      <td>98</td>\n",
       "      <td>12</td>\n",
       "      <td>0</td>\n",
       "      <td>1</td>\n",
       "      <td>0</td>\n",
       "      <td>0</td>\n",
       "      <td>0</td>\n",
       "      <td>...</td>\n",
       "      <td>0</td>\n",
       "      <td>0</td>\n",
       "      <td>0</td>\n",
       "      <td>0</td>\n",
       "      <td>0</td>\n",
       "      <td>0</td>\n",
       "      <td>0</td>\n",
       "      <td>1</td>\n",
       "      <td>1</td>\n",
       "      <td>85</td>\n",
       "    </tr>\n",
       "    <tr>\n",
       "      <th>184</th>\n",
       "      <td>4</td>\n",
       "      <td>35</td>\n",
       "      <td>7</td>\n",
       "      <td>35</td>\n",
       "      <td>8</td>\n",
       "      <td>0</td>\n",
       "      <td>2</td>\n",
       "      <td>0</td>\n",
       "      <td>0</td>\n",
       "      <td>0</td>\n",
       "      <td>...</td>\n",
       "      <td>0</td>\n",
       "      <td>0</td>\n",
       "      <td>0</td>\n",
       "      <td>0</td>\n",
       "      <td>0</td>\n",
       "      <td>0</td>\n",
       "      <td>0</td>\n",
       "      <td>1</td>\n",
       "      <td>1</td>\n",
       "      <td>178</td>\n",
       "    </tr>\n",
       "    <tr>\n",
       "      <th>33</th>\n",
       "      <td>2</td>\n",
       "      <td>91</td>\n",
       "      <td>7</td>\n",
       "      <td>10</td>\n",
       "      <td>6</td>\n",
       "      <td>0</td>\n",
       "      <td>0</td>\n",
       "      <td>0</td>\n",
       "      <td>0</td>\n",
       "      <td>0</td>\n",
       "      <td>...</td>\n",
       "      <td>0</td>\n",
       "      <td>0</td>\n",
       "      <td>2</td>\n",
       "      <td>0</td>\n",
       "      <td>1</td>\n",
       "      <td>0</td>\n",
       "      <td>0</td>\n",
       "      <td>1</td>\n",
       "      <td>0</td>\n",
       "      <td>109</td>\n",
       "    </tr>\n",
       "    <tr>\n",
       "      <th>120</th>\n",
       "      <td>4</td>\n",
       "      <td>30</td>\n",
       "      <td>13</td>\n",
       "      <td>9</td>\n",
       "      <td>2</td>\n",
       "      <td>5</td>\n",
       "      <td>0</td>\n",
       "      <td>1</td>\n",
       "      <td>1</td>\n",
       "      <td>0</td>\n",
       "      <td>...</td>\n",
       "      <td>0</td>\n",
       "      <td>0</td>\n",
       "      <td>0</td>\n",
       "      <td>0</td>\n",
       "      <td>1</td>\n",
       "      <td>0</td>\n",
       "      <td>1</td>\n",
       "      <td>1</td>\n",
       "      <td>1</td>\n",
       "      <td>140</td>\n",
       "    </tr>\n",
       "    <tr>\n",
       "      <th>36</th>\n",
       "      <td>2</td>\n",
       "      <td>65</td>\n",
       "      <td>4</td>\n",
       "      <td>43</td>\n",
       "      <td>9</td>\n",
       "      <td>0</td>\n",
       "      <td>0</td>\n",
       "      <td>0</td>\n",
       "      <td>1</td>\n",
       "      <td>0</td>\n",
       "      <td>...</td>\n",
       "      <td>0</td>\n",
       "      <td>0</td>\n",
       "      <td>1</td>\n",
       "      <td>0</td>\n",
       "      <td>0</td>\n",
       "      <td>0</td>\n",
       "      <td>0</td>\n",
       "      <td>0</td>\n",
       "      <td>0</td>\n",
       "      <td>66</td>\n",
       "    </tr>\n",
       "    <tr>\n",
       "      <th>192</th>\n",
       "      <td>9</td>\n",
       "      <td>57</td>\n",
       "      <td>7</td>\n",
       "      <td>80</td>\n",
       "      <td>13</td>\n",
       "      <td>0</td>\n",
       "      <td>2</td>\n",
       "      <td>0</td>\n",
       "      <td>1</td>\n",
       "      <td>0</td>\n",
       "      <td>...</td>\n",
       "      <td>0</td>\n",
       "      <td>0</td>\n",
       "      <td>1</td>\n",
       "      <td>0</td>\n",
       "      <td>1</td>\n",
       "      <td>1</td>\n",
       "      <td>0</td>\n",
       "      <td>0</td>\n",
       "      <td>0</td>\n",
       "      <td>150</td>\n",
       "    </tr>\n",
       "    <tr>\n",
       "      <th>174</th>\n",
       "      <td>3</td>\n",
       "      <td>51</td>\n",
       "      <td>2</td>\n",
       "      <td>46</td>\n",
       "      <td>12</td>\n",
       "      <td>0</td>\n",
       "      <td>0</td>\n",
       "      <td>0</td>\n",
       "      <td>0</td>\n",
       "      <td>1</td>\n",
       "      <td>...</td>\n",
       "      <td>0</td>\n",
       "      <td>0</td>\n",
       "      <td>0</td>\n",
       "      <td>0</td>\n",
       "      <td>1</td>\n",
       "      <td>0</td>\n",
       "      <td>0</td>\n",
       "      <td>0</td>\n",
       "      <td>0</td>\n",
       "      <td>114</td>\n",
       "    </tr>\n",
       "    <tr>\n",
       "      <th>182</th>\n",
       "      <td>9</td>\n",
       "      <td>16</td>\n",
       "      <td>7</td>\n",
       "      <td>26</td>\n",
       "      <td>13</td>\n",
       "      <td>0</td>\n",
       "      <td>2</td>\n",
       "      <td>0</td>\n",
       "      <td>0</td>\n",
       "      <td>0</td>\n",
       "      <td>...</td>\n",
       "      <td>0</td>\n",
       "      <td>0</td>\n",
       "      <td>0</td>\n",
       "      <td>0</td>\n",
       "      <td>1</td>\n",
       "      <td>0</td>\n",
       "      <td>0</td>\n",
       "      <td>1</td>\n",
       "      <td>1</td>\n",
       "      <td>42</td>\n",
       "    </tr>\n",
       "    <tr>\n",
       "      <th>160</th>\n",
       "      <td>2</td>\n",
       "      <td>9</td>\n",
       "      <td>3</td>\n",
       "      <td>21</td>\n",
       "      <td>10</td>\n",
       "      <td>5</td>\n",
       "      <td>0</td>\n",
       "      <td>0</td>\n",
       "      <td>0</td>\n",
       "      <td>0</td>\n",
       "      <td>...</td>\n",
       "      <td>0</td>\n",
       "      <td>0</td>\n",
       "      <td>0</td>\n",
       "      <td>0</td>\n",
       "      <td>1</td>\n",
       "      <td>0</td>\n",
       "      <td>0</td>\n",
       "      <td>0</td>\n",
       "      <td>2</td>\n",
       "      <td>191</td>\n",
       "    </tr>\n",
       "    <tr>\n",
       "      <th>102</th>\n",
       "      <td>5</td>\n",
       "      <td>56</td>\n",
       "      <td>2</td>\n",
       "      <td>92</td>\n",
       "      <td>14</td>\n",
       "      <td>0</td>\n",
       "      <td>0</td>\n",
       "      <td>0</td>\n",
       "      <td>0</td>\n",
       "      <td>0</td>\n",
       "      <td>...</td>\n",
       "      <td>0</td>\n",
       "      <td>0</td>\n",
       "      <td>0</td>\n",
       "      <td>0</td>\n",
       "      <td>0</td>\n",
       "      <td>0</td>\n",
       "      <td>0</td>\n",
       "      <td>0</td>\n",
       "      <td>0</td>\n",
       "      <td>33</td>\n",
       "    </tr>\n",
       "    <tr>\n",
       "      <th>163</th>\n",
       "      <td>2</td>\n",
       "      <td>48</td>\n",
       "      <td>1</td>\n",
       "      <td>26</td>\n",
       "      <td>12</td>\n",
       "      <td>0</td>\n",
       "      <td>0</td>\n",
       "      <td>0</td>\n",
       "      <td>1</td>\n",
       "      <td>0</td>\n",
       "      <td>...</td>\n",
       "      <td>0</td>\n",
       "      <td>0</td>\n",
       "      <td>0</td>\n",
       "      <td>0</td>\n",
       "      <td>0</td>\n",
       "      <td>0</td>\n",
       "      <td>0</td>\n",
       "      <td>0</td>\n",
       "      <td>0</td>\n",
       "      <td>136</td>\n",
       "    </tr>\n",
       "    <tr>\n",
       "      <th>151</th>\n",
       "      <td>4</td>\n",
       "      <td>40</td>\n",
       "      <td>8</td>\n",
       "      <td>66</td>\n",
       "      <td>7</td>\n",
       "      <td>0</td>\n",
       "      <td>0</td>\n",
       "      <td>0</td>\n",
       "      <td>0</td>\n",
       "      <td>0</td>\n",
       "      <td>...</td>\n",
       "      <td>0</td>\n",
       "      <td>0</td>\n",
       "      <td>0</td>\n",
       "      <td>0</td>\n",
       "      <td>1</td>\n",
       "      <td>1</td>\n",
       "      <td>0</td>\n",
       "      <td>1</td>\n",
       "      <td>0</td>\n",
       "      <td>120</td>\n",
       "    </tr>\n",
       "    <tr>\n",
       "      <th>32</th>\n",
       "      <td>4</td>\n",
       "      <td>94</td>\n",
       "      <td>11</td>\n",
       "      <td>51</td>\n",
       "      <td>4</td>\n",
       "      <td>2</td>\n",
       "      <td>0</td>\n",
       "      <td>0</td>\n",
       "      <td>1</td>\n",
       "      <td>0</td>\n",
       "      <td>...</td>\n",
       "      <td>0</td>\n",
       "      <td>0</td>\n",
       "      <td>1</td>\n",
       "      <td>0</td>\n",
       "      <td>1</td>\n",
       "      <td>1</td>\n",
       "      <td>0</td>\n",
       "      <td>0</td>\n",
       "      <td>1</td>\n",
       "      <td>83</td>\n",
       "    </tr>\n",
       "    <tr>\n",
       "      <th>121</th>\n",
       "      <td>2</td>\n",
       "      <td>48</td>\n",
       "      <td>10</td>\n",
       "      <td>37</td>\n",
       "      <td>3</td>\n",
       "      <td>0</td>\n",
       "      <td>0</td>\n",
       "      <td>0</td>\n",
       "      <td>0</td>\n",
       "      <td>0</td>\n",
       "      <td>...</td>\n",
       "      <td>1</td>\n",
       "      <td>0</td>\n",
       "      <td>0</td>\n",
       "      <td>0</td>\n",
       "      <td>2</td>\n",
       "      <td>0</td>\n",
       "      <td>0</td>\n",
       "      <td>1</td>\n",
       "      <td>0</td>\n",
       "      <td>128</td>\n",
       "    </tr>\n",
       "  </tbody>\n",
       "</table>\n",
       "<p>40 rows × 44 columns</p>\n",
       "</div>"
      ],
      "text/plain": [
       "     n_words1  av_words_length1  n_words2  av_words_length2  n_words_diff  \\\n",
       "137         8                75         4                86            15   \n",
       "40          4                15         4                58            11   \n",
       "95          4                72         3                32            12   \n",
       "96          3                78         7                35             7   \n",
       "123         0                56         9                36             2   \n",
       "4           0                86         6                29             5   \n",
       "129         1                 9        11                17             1   \n",
       "80          0                40         6                52             5   \n",
       "61         19                57         4                70            25   \n",
       "186         4                40        10                76             5   \n",
       "7           8                24         5                 5            14   \n",
       "97          4                92        15                67             0   \n",
       "101         1                90         3                92             9   \n",
       "27          4                96         3                96            12   \n",
       "191         2                86         5                39             8   \n",
       "114         2                15         5                62             8   \n",
       "71          6                 3         2                71            15   \n",
       "152         4                84         4                15            11   \n",
       "187        10               102         8                71            13   \n",
       "34         15                28        10                49            16   \n",
       "171         2                48         5                57             8   \n",
       "47          1                74         3                26             9   \n",
       "22         18                32         6                48            24   \n",
       "6           8                10         2                 0            17   \n",
       "43          8                56        10                63             9   \n",
       "72          2                48         5                71             8   \n",
       "11          2                83         1                98            12   \n",
       "184         4                35         7                35             8   \n",
       "33          2                91         7                10             6   \n",
       "120         4                30        13                 9             2   \n",
       "36          2                65         4                43             9   \n",
       "192         9                57         7                80            13   \n",
       "174         3                51         2                46            12   \n",
       "182         9                16         7                26            13   \n",
       "160         2                 9         3                21            10   \n",
       "102         5                56         2                92            14   \n",
       "163         2                48         1                26            12   \n",
       "151         4                40         8                66             7   \n",
       "32          4                94        11                51             4   \n",
       "121         2                48        10                37             3   \n",
       "\n",
       "     punct  ADJF1  ADJS1  ADVB1  COMP1  ...  NUMR2  None2  PRCL2  PRED2  \\\n",
       "137      1      1      0      1      1  ...      0      0      0      0   \n",
       "40       2      1      0      0      1  ...      0      0      3      0   \n",
       "95       2      0      0      0      0  ...      0      0      0      0   \n",
       "96       0      1      0      0      0  ...      0      0      0      0   \n",
       "123      0      0      0      0      0  ...      0      0      0      1   \n",
       "4        0      1      0      0      0  ...      0      0      1      0   \n",
       "129      0      0      0      0      0  ...      0      0      0      0   \n",
       "80       5      0      0      0      0  ...      0      0      0      0   \n",
       "61       2      6      0      0      0  ...      0      0      0      0   \n",
       "186      0      1      0      0      0  ...      1      0      0      0   \n",
       "7        0      0      0      1      0  ...      0      0      0      0   \n",
       "97       0      2      0      0      0  ...      0      0      0      1   \n",
       "101      2      1      0      0      0  ...      0      0      0      0   \n",
       "27       0      1      0      0      0  ...      0      0      1      0   \n",
       "191      0      0      0      0      0  ...      0      0      0      0   \n",
       "114      0      0      0      1      1  ...      0      0      0      0   \n",
       "71       0      1      0      0      0  ...      0      0      1      0   \n",
       "152      0      0      0      0      0  ...      0      0      0      0   \n",
       "187      0      4      0      0      0  ...      0      0      0      0   \n",
       "34       4      5      1      1      0  ...      0      0      2      0   \n",
       "171      0      1      0      1      0  ...      0      0      0      1   \n",
       "47       2      0      0      0      0  ...      0      0      1      0   \n",
       "22       2      3      0      0      0  ...      0      0      1      0   \n",
       "6        5      0      0      1      0  ...      0      0      1      0   \n",
       "43       0      2      0      0      0  ...      0      0      0      0   \n",
       "72       0      1      0      0      0  ...      0      0      0      0   \n",
       "11       0      1      0      0      0  ...      0      0      0      0   \n",
       "184      0      2      0      0      0  ...      0      0      0      0   \n",
       "33       0      0      0      0      0  ...      0      0      2      0   \n",
       "120      5      0      1      1      0  ...      0      0      0      0   \n",
       "36       0      0      0      1      0  ...      0      0      1      0   \n",
       "192      0      2      0      1      0  ...      0      0      1      0   \n",
       "174      0      0      0      0      1  ...      0      0      0      0   \n",
       "182      0      2      0      0      0  ...      0      0      0      0   \n",
       "160      5      0      0      0      0  ...      0      0      0      0   \n",
       "102      0      0      0      0      0  ...      0      0      0      0   \n",
       "163      0      0      0      1      0  ...      0      0      0      0   \n",
       "151      0      0      0      0      0  ...      0      0      0      0   \n",
       "32       2      0      0      1      0  ...      0      0      1      0   \n",
       "121      0      0      0      0      0  ...      1      0      0      0   \n",
       "\n",
       "     PREP2  PRTF2  PRTS2  VERB2  n_similar_words  cosine_d2v  \n",
       "137      0      0      0      1                0         174  \n",
       "40       0      0      0      1                0         111  \n",
       "95       0      0      0      1                1         154  \n",
       "96       1      0      0      1                0          35  \n",
       "123      2      0      0      0                0         165  \n",
       "4        1      0      0      0                0          92  \n",
       "129      3      1      0      1                0          96  \n",
       "80       0      0      0      1                1         186  \n",
       "61       1      0      0      0                1          99  \n",
       "186      2      0      0      1                0           3  \n",
       "7        1      0      0      1                0         161  \n",
       "97       4      0      0      0                0          31  \n",
       "101      1      0      0      1                0          54  \n",
       "27       0      1      0      0                2         167  \n",
       "191      1      0      0      0                0          61  \n",
       "114      0      0      0      1                0          74  \n",
       "71       0      0      0      1                1         122  \n",
       "152      1      0      0      1                0          32  \n",
       "187      2      0      0      1                0          90  \n",
       "34       2      1      0      0                1          82  \n",
       "171      0      0      0      0                0          19  \n",
       "47       0      0      0      0                0         190  \n",
       "22       1      0      0      0                5         184  \n",
       "6        0      0      0      1                0          37  \n",
       "43       1      0      0      1                0         135  \n",
       "72       1      0      0      0                0          68  \n",
       "11       0      0      0      1                1          85  \n",
       "184      0      0      0      1                1         178  \n",
       "33       1      0      0      1                0         109  \n",
       "120      1      0      1      1                1         140  \n",
       "36       0      0      0      0                0          66  \n",
       "192      1      1      0      0                0         150  \n",
       "174      1      0      0      0                0         114  \n",
       "182      1      0      0      1                1          42  \n",
       "160      1      0      0      0                2         191  \n",
       "102      0      0      0      0                0          33  \n",
       "163      0      0      0      0                0         136  \n",
       "151      1      1      0      1                0         120  \n",
       "32       1      1      0      0                1          83  \n",
       "121      2      0      0      1                0         128  \n",
       "\n",
       "[40 rows x 44 columns]"
      ]
     },
     "execution_count": 65,
     "metadata": {},
     "output_type": "execute_result"
    }
   ],
   "source": [
    "X_test"
   ]
  },
  {
   "cell_type": "code",
   "execution_count": 37,
   "metadata": {},
   "outputs": [
    {
     "name": "stdout",
     "output_type": "stream",
     "text": [
      "<class 'pandas.core.frame.DataFrame'>\n",
      "Int64Index: 160 entries, 154 to 5\n",
      "Data columns (total 44 columns):\n",
      "n_words1            160 non-null int64\n",
      "av_words_length1    160 non-null int64\n",
      "n_words2            160 non-null int64\n",
      "av_words_length2    160 non-null int64\n",
      "n_words_diff        160 non-null int64\n",
      "punct               160 non-null int32\n",
      "ADJF1               160 non-null int64\n",
      "ADJS1               160 non-null int64\n",
      "ADVB1               160 non-null int64\n",
      "COMP1               160 non-null int64\n",
      "CONJ1               160 non-null int64\n",
      "GRND1               160 non-null int64\n",
      "INFN1               160 non-null int64\n",
      "INTJ1               160 non-null int64\n",
      "NOUN1               160 non-null int64\n",
      "NPRO1               160 non-null int64\n",
      "NUMR1               160 non-null int64\n",
      "None1               160 non-null int64\n",
      "PRCL1               160 non-null int64\n",
      "PRED1               160 non-null int64\n",
      "PREP1               160 non-null int64\n",
      "PRTF1               160 non-null int64\n",
      "PRTS1               160 non-null int64\n",
      "VERB1               160 non-null int64\n",
      "ADJF2               160 non-null int64\n",
      "ADJS2               160 non-null int64\n",
      "ADVB2               160 non-null int64\n",
      "COMP2               160 non-null int64\n",
      "CONJ2               160 non-null int64\n",
      "GRND2               160 non-null int64\n",
      "INFN2               160 non-null int64\n",
      "INTJ2               160 non-null int64\n",
      "NOUN2               160 non-null int64\n",
      "NPRO2               160 non-null int64\n",
      "NUMR2               160 non-null int64\n",
      "None2               160 non-null int64\n",
      "PRCL2               160 non-null int64\n",
      "PRED2               160 non-null int64\n",
      "PREP2               160 non-null int64\n",
      "PRTF2               160 non-null int64\n",
      "PRTS2               160 non-null int64\n",
      "VERB2               160 non-null int64\n",
      "n_similar_words     160 non-null int64\n",
      "cosine_d2v          160 non-null int64\n",
      "dtypes: int32(1), int64(43)\n",
      "memory usage: 55.6 KB\n"
     ]
    }
   ],
   "source": [
    "X_train.info()"
   ]
  },
  {
   "cell_type": "markdown",
   "metadata": {},
   "source": [
    "## Корреляция признаков\n",
    "\n",
    "вроде сильно коррелирующих нет"
   ]
  },
  {
   "cell_type": "code",
   "execution_count": 38,
   "metadata": {},
   "outputs": [
    {
     "data": {
      "text/plain": [
       "<matplotlib.axes._subplots.AxesSubplot at 0x203bfaeaf28>"
      ]
     },
     "execution_count": 38,
     "metadata": {},
     "output_type": "execute_result"
    },
    {
     "data": {
      "image/png": "[encoded data removed]",
      "text/plain": [
       "<Figure size 720x720 with 2 Axes>"
      ]
     },
     "metadata": {
      "needs_background": "light"
     },
     "output_type": "display_data"
    }
   ],
   "source": [
    "corr_matrix = data.drop(columns=['relation']).corr()\n",
    "plt.subplots(figsize=(10,10))\n",
    "sns.heatmap(corr_matrix)"
   ]
  },
  {
   "cell_type": "markdown",
   "metadata": {},
   "source": [
    "### Корреляция между признаками и классом"
   ]
  },
  {
   "cell_type": "code",
   "execution_count": 39,
   "metadata": {},
   "outputs": [
    {
     "name": "stdout",
     "output_type": "stream",
     "text": [
      "n_similar_words - 0.24938907724170786\n",
      "PRCL2 - 0.22423052782558048\n",
      "n_words1 - 0.18248905029295673\n",
      "PRCL1 - 0.16947553762062917\n",
      "ADJF1 - 0.16485989852481342\n",
      "ADJS1 - 0.15309310892394895\n",
      "NOUN1 - 0.14864888347169689\n",
      "n_words_diff - 0.1396137509584346\n",
      "cosine_d2v - 0.1280001546912738\n",
      "ADJF2 - 0.12121830534626488\n",
      "VERB1 - 0.12027695586485297\n",
      "INTJ2 - 0.11724207635210979\n",
      "punct - 0.09976037959994381\n",
      "CONJ1 - 0.0970494958830943\n",
      "INFN1 - 0.08835852486128691\n",
      "INTJ1 - 0.08161943426864189\n",
      "NUMR1 - 0.07142857142857151\n",
      "None2 - 0.07088812050083323\n",
      "PRTF2 - 0.060845543573612736\n",
      "PREP2 - 0.05463583647081531\n",
      "PRED1 - 0.05324139056496659\n",
      "PREP1 - 0.05200401152588276\n",
      "av_words_length2 - 0.02976722807720608\n",
      "ADJS2 - 0.02720647808954716\n",
      "NOUN2 - 0.025854491181538285\n",
      "CONJ2 - 0.025822040901125175\n",
      "n_words2 - 0.01857273628971618\n",
      "av_words_length1 - -0.012286604849893192\n",
      "NPRO2 - -0.018979740450028024\n",
      "None1 - -0.019924430474521027\n",
      "COMP1 - -0.02411915350974739\n",
      "NPRO1 - -0.03907323325822833\n",
      "PRTS1 - -0.041134503489486336\n",
      "ADVB1 - -0.05001148354678104\n",
      "ADVB2 - -0.06544632461438334\n",
      "COMP2 - -0.08900862436453902\n",
      "PRED2 - -0.08964374649555988\n",
      "VERB2 - -0.09834372928459252\n",
      "PRTF1 - -0.11642257885595005\n",
      "PRTS2 - -0.11724207635210993\n",
      "NUMR2 - -0.1428571428571429\n",
      "GRND1 - -0.15352206215728006\n",
      "GRND2 - -0.16915022303045837\n",
      "INFN2 - -0.1745353257001641\n"
     ]
    }
   ],
   "source": [
    "feature_corr = np.empty(0)\n",
    "\n",
    "for f in features_list:\n",
    "    feature_corr = np.append(feature_corr, data[['relation', f]].corr()['relation'][f])\n",
    "    \n",
    "for ind in np.argsort(-feature_corr):\n",
    "    print(features_list[ind], '-', feature_corr[ind])"
   ]
  },
  {
   "cell_type": "markdown",
   "metadata": {},
   "source": [
    "## Статистическая значимость признаков\n",
    "\n",
    "без комментариев"
   ]
  },
  {
   "cell_type": "code",
   "execution_count": 40,
   "metadata": {},
   "outputs": [],
   "source": [
    "from sklearn.feature_selection import chi2"
   ]
  },
  {
   "cell_type": "code",
   "execution_count": 41,
   "metadata": {},
   "outputs": [
    {
     "data": {
      "text/plain": [
       "<matplotlib.axes._subplots.AxesSubplot at 0x203aaacb710>"
      ]
     },
     "execution_count": 41,
     "metadata": {},
     "output_type": "execute_result"
    },
    {
     "data": {
      "image/png": "[encoded data removed]",
      "text/plain": [
       "<Figure size 720x720 with 1 Axes>"
      ]
     },
     "metadata": {
      "needs_background": "light"
     },
     "output_type": "display_data"
    }
   ],
   "source": [
    "chi_scores = chi2(X, y)\n",
    "p_values = pd.Series(chi_scores[1], index = X.columns)\n",
    "p_values.sort_values(ascending = False, inplace = True)\n",
    "plt.subplots(figsize=(10,10))\n",
    "p_values.plot.bar()"
   ]
  },
  {
   "cell_type": "markdown",
   "metadata": {},
   "source": [
    "## Логистическая регрессия"
   ]
  },
  {
   "cell_type": "code",
   "execution_count": 42,
   "metadata": {},
   "outputs": [],
   "source": [
    "from sklearn.linear_model import LogisticRegression"
   ]
  },
  {
   "cell_type": "code",
   "execution_count": 43,
   "metadata": {},
   "outputs": [
    {
     "name": "stderr",
     "output_type": "stream",
     "text": [
      "C:\\Users\\User\\AppData\\Roaming\\Python\\Python37\\site-packages\\sklearn\\linear_model\\logistic.py:432: FutureWarning: Default solver will be changed to 'lbfgs' in 0.22. Specify a solver to silence this warning.\n",
      "  FutureWarning)\n"
     ]
    },
    {
     "data": {
      "text/plain": [
       "LogisticRegression(C=1.0, class_weight=None, dual=False, fit_intercept=True,\n",
       "                   intercept_scaling=1, l1_ratio=None, max_iter=100,\n",
       "                   multi_class='warn', n_jobs=None, penalty='l2',\n",
       "                   random_state=42, solver='warn', tol=0.0001, verbose=0,\n",
       "                   warm_start=False)"
      ]
     },
     "execution_count": 43,
     "metadata": {},
     "output_type": "execute_result"
    }
   ],
   "source": [
    "lreg = LogisticRegression(random_state=42)\n",
    "lreg.fit(X_train, y_train)"
   ]
  },
  {
   "cell_type": "code",
   "execution_count": 44,
   "metadata": {},
   "outputs": [
    {
     "name": "stdout",
     "output_type": "stream",
     "text": [
      "              precision    recall  f1-score   support\n",
      "\n",
      "           0       0.67      0.90      0.77        20\n",
      "           1       0.85      0.55      0.67        20\n",
      "\n",
      "    accuracy                           0.73        40\n",
      "   macro avg       0.76      0.73      0.72        40\n",
      "weighted avg       0.76      0.72      0.72        40\n",
      "\n"
     ]
    }
   ],
   "source": [
    "y_pred_lreg = lreg.predict(X_test)\n",
    "print(classification_report(y_test, y_pred_lreg))"
   ]
  },
  {
   "cell_type": "code",
   "execution_count": 45,
   "metadata": {},
   "outputs": [
    {
     "name": "stdout",
     "output_type": "stream",
     "text": [
      "ADJS1 - 1.0989811636527205\n",
      "INTJ1 - 0.9259558187954454\n",
      "n_similar_words - 0.7047507669396752\n",
      "PRCL2 - 0.597582107815822\n",
      "INTJ2 - 0.5735262672469239\n",
      "ADJF2 - 0.5375832396762608\n",
      "VERB1 - 0.5340403127685922\n",
      "NPRO2 - 0.5222443517756898\n",
      "None2 - 0.4567790061503608\n",
      "PREP2 - 0.42509840200851273\n",
      "NUMR1 - 0.4122408327838444\n",
      "PRED1 - 0.3885899160164885\n",
      "ADJF1 - 0.2691651368653796\n",
      "CONJ2 - 0.24385060792503233\n",
      "PRCL1 - 0.23160371196490565\n",
      "n_words1 - 0.16111078803335982\n",
      "punct - 0.1319334398337\n",
      "ADJS2 - 0.13041013338292487\n",
      "INFN1 - 0.1233860630044201\n",
      "ADVB1 - 0.12154801012428995\n",
      "NOUN1 - 0.10948427101687337\n",
      "COMP2 - 0.05365846683113117\n",
      "PRED2 - 0.03166794495697791\n",
      "av_words_length2 - 0.009433588887810722\n",
      "cosine_d2v - 0.0035632048202110774\n",
      "av_words_length1 - 0.0023015728929119774\n",
      "NOUN2 - -0.00734492171837695\n",
      "PRTS1 - -0.0190842406050088\n",
      "CONJ1 - -0.09887737528008168\n",
      "PREP1 - -0.10564370498906597\n",
      "n_words_diff - -0.1597731627027079\n",
      "PRTF2 - -0.22085738776319733\n",
      "ADVB2 - -0.23138659321727673\n",
      "VERB2 - -0.24629588114214748\n",
      "NUMR2 - -0.3001091645422297\n",
      "GRND1 - -0.3084615472085537\n",
      "COMP1 - -0.35471120099039316\n",
      "PRTS2 - -0.4005061770816193\n",
      "NPRO1 - -0.4578608651793678\n",
      "n_words2 - -0.4667785854331163\n",
      "INFN2 - -0.470276946234137\n",
      "None1 - -0.48390218264721757\n",
      "GRND2 - -1.2180739174458781\n",
      "PRTF1 - -1.5724611537170021\n"
     ]
    }
   ],
   "source": [
    "feature_importances_lreg = lreg.coef_\n",
    "for ind in np.argsort(-feature_importances_lreg[0]):\n",
    "    print(X_train.columns[ind], '-', feature_importances_lreg[0][ind])"
   ]
  },
  {
   "cell_type": "markdown",
   "metadata": {},
   "source": [
    "## Decision Tree"
   ]
  },
  {
   "cell_type": "code",
   "execution_count": 46,
   "metadata": {},
   "outputs": [],
   "source": [
    "from sklearn.tree import DecisionTreeClassifier"
   ]
  },
  {
   "cell_type": "code",
   "execution_count": 47,
   "metadata": {},
   "outputs": [
    {
     "data": {
      "text/plain": [
       "DecisionTreeClassifier(class_weight=None, criterion='gini', max_depth=None,\n",
       "                       max_features=None, max_leaf_nodes=None,\n",
       "                       min_impurity_decrease=0.0, min_impurity_split=None,\n",
       "                       min_samples_leaf=1, min_samples_split=2,\n",
       "                       min_weight_fraction_leaf=0.0, presort=False,\n",
       "                       random_state=42, splitter='best')"
      ]
     },
     "execution_count": 47,
     "metadata": {},
     "output_type": "execute_result"
    }
   ],
   "source": [
    "tree_clf = DecisionTreeClassifier(random_state=42)\n",
    "tree_clf.fit(X_train, y_train)"
   ]
  },
  {
   "cell_type": "code",
   "execution_count": 48,
   "metadata": {},
   "outputs": [
    {
     "name": "stdout",
     "output_type": "stream",
     "text": [
      "              precision    recall  f1-score   support\n",
      "\n",
      "           0       0.52      0.70      0.60        20\n",
      "           1       0.54      0.35      0.42        20\n",
      "\n",
      "    accuracy                           0.53        40\n",
      "   macro avg       0.53      0.52      0.51        40\n",
      "weighted avg       0.53      0.53      0.51        40\n",
      "\n"
     ]
    }
   ],
   "source": [
    "y_pred_tree = tree_clf.predict(X_test)\n",
    "print(classification_report(y_test, y_pred_tree))"
   ]
  },
  {
   "cell_type": "code",
   "execution_count": 49,
   "metadata": {},
   "outputs": [
    {
     "name": "stdout",
     "output_type": "stream",
     "text": [
      "n_words2 - 0.11197115975742289\n",
      "n_words_diff - 0.10464758594599707\n",
      "n_similar_words - 0.10121457489878546\n",
      "NPRO1 - 0.09511835329970575\n",
      "INFN1 - 0.05958333333333332\n",
      "av_words_length2 - 0.05333333333333333\n",
      "av_words_length1 - 0.052826510721247597\n",
      "ADJF2 - 0.0446716147273956\n",
      "GRND1 - 0.04292679479932162\n",
      "GRND2 - 0.033939393939393915\n",
      "NOUN1 - 0.03323863636363637\n",
      "cosine_d2v - 0.03321428571428573\n",
      "n_words1 - 0.032608695652173905\n",
      "ADJS1 - 0.03109507954125048\n",
      "PRTF1 - 0.029701468710089385\n",
      "PRCL2 - 0.02554278416347382\n",
      "VERB1 - 0.023116395099153707\n",
      "COMP2 - 0.022500000000000006\n",
      "PREP2 - 0.01875\n",
      "PREP1 - 0.01666666666666667\n",
      "NPRO2 - 0.016666666666666666\n",
      "NOUN2 - 0.016666666666666666\n",
      "PRTS2 - 0.0\n",
      "PRTF2 - 0.0\n",
      "PRED2 - 0.0\n",
      "INTJ2 - 0.0\n",
      "None2 - 0.0\n",
      "NUMR2 - 0.0\n",
      "VERB2 - 0.0\n",
      "INFN2 - 0.0\n",
      "INTJ1 - 0.0\n",
      "CONJ1 - 0.0\n",
      "ADVB2 - 0.0\n",
      "ADJS2 - 0.0\n",
      "ADJF1 - 0.0\n",
      "PRTS1 - 0.0\n",
      "PRED1 - 0.0\n",
      "PRCL1 - 0.0\n",
      "None1 - 0.0\n",
      "NUMR1 - 0.0\n",
      "ADVB1 - 0.0\n",
      "COMP1 - 0.0\n",
      "punct - 0.0\n",
      "CONJ2 - 0.0\n"
     ]
    }
   ],
   "source": [
    "feature_importances_tree = tree_clf.feature_importances_\n",
    "for ind in np.argsort(-feature_importances_tree):\n",
    "    print(X_train.columns[ind], '-', feature_importances_tree[ind])"
   ]
  },
  {
   "cell_type": "markdown",
   "metadata": {},
   "source": [
    "## Random Forest"
   ]
  },
  {
   "cell_type": "code",
   "execution_count": 50,
   "metadata": {},
   "outputs": [],
   "source": [
    "from sklearn.ensemble import RandomForestClassifier"
   ]
  },
  {
   "cell_type": "code",
   "execution_count": 51,
   "metadata": {},
   "outputs": [
    {
     "data": {
      "text/plain": [
       "RandomForestClassifier(bootstrap=True, class_weight=None, criterion='gini',\n",
       "                       max_depth=None, max_features='auto', max_leaf_nodes=None,\n",
       "                       min_impurity_decrease=0.0, min_impurity_split=None,\n",
       "                       min_samples_leaf=1, min_samples_split=2,\n",
       "                       min_weight_fraction_leaf=0.0, n_estimators=100,\n",
       "                       n_jobs=None, oob_score=False, random_state=42, verbose=0,\n",
       "                       warm_start=False)"
      ]
     },
     "execution_count": 51,
     "metadata": {},
     "output_type": "execute_result"
    }
   ],
   "source": [
    "rf_clf = RandomForestClassifier(n_estimators=100, random_state=42)\n",
    "rf_clf.fit(X_train, y_train)"
   ]
  },
  {
   "cell_type": "code",
   "execution_count": 52,
   "metadata": {},
   "outputs": [
    {
     "name": "stdout",
     "output_type": "stream",
     "text": [
      "              precision    recall  f1-score   support\n",
      "\n",
      "           0       0.58      0.70      0.64        20\n",
      "           1       0.62      0.50      0.56        20\n",
      "\n",
      "    accuracy                           0.60        40\n",
      "   macro avg       0.60      0.60      0.60        40\n",
      "weighted avg       0.60      0.60      0.60        40\n",
      "\n"
     ]
    }
   ],
   "source": [
    "y_pred_forest = rf_clf.predict(X_test)\n",
    "print(classification_report(y_test, y_pred_forest))"
   ]
  },
  {
   "cell_type": "code",
   "execution_count": 53,
   "metadata": {},
   "outputs": [
    {
     "name": "stdout",
     "output_type": "stream",
     "text": [
      "cosine_d2v - 0.07567768055506847\n",
      "av_words_length2 - 0.06498063573428901\n",
      "av_words_length1 - 0.06397024493817423\n",
      "n_similar_words - 0.06020444848369864\n",
      "n_words_diff - 0.05813854188542212\n",
      "n_words1 - 0.05805561726278077\n",
      "NOUN1 - 0.04773219103862678\n",
      "n_words2 - 0.04484501677338018\n",
      "NOUN2 - 0.03821815983540855\n",
      "ADJF1 - 0.03565053516574672\n",
      "punct - 0.034594159999035395\n",
      "ADJF2 - 0.028185234165166707\n",
      "PRCL1 - 0.02541571046868854\n",
      "CONJ1 - 0.02445682419953397\n",
      "VERB1 - 0.02300471538992793\n",
      "PREP2 - 0.022290748257444763\n",
      "PRCL2 - 0.022061871152403278\n",
      "VERB2 - 0.021406788483628744\n",
      "NPRO1 - 0.020024049119811312\n",
      "ADVB1 - 0.019988579601373\n",
      "PREP1 - 0.01879344487581272\n",
      "ADVB2 - 0.018043411515492887\n",
      "INFN2 - 0.01724275489683374\n",
      "GRND2 - 0.017157314777954756\n",
      "PRTF1 - 0.014438466596134743\n",
      "CONJ2 - 0.014293123731311648\n",
      "INFN1 - 0.014121383781719348\n",
      "NPRO2 - 0.013269447742158809\n",
      "GRND1 - 0.01289385920489358\n",
      "ADJS1 - 0.01107592237725287\n",
      "INTJ1 - 0.008517205784771047\n",
      "COMP2 - 0.008483171593362659\n",
      "COMP1 - 0.005490159096901803\n",
      "PRED1 - 0.005345242398098951\n",
      "PRTS2 - 0.004946797422521928\n",
      "INTJ2 - 0.004741848509488462\n",
      "None1 - 0.003948616740061644\n",
      "PRED2 - 0.003908415632501781\n",
      "NUMR1 - 0.003780360458836578\n",
      "ADJS2 - 0.0029741165468910907\n",
      "PRTF2 - 0.002303253967511305\n",
      "NUMR2 - 0.0022432944776060405\n",
      "None2 - 0.001946131757968089\n",
      "PRTS1 - 0.0011405036043043416\n"
     ]
    }
   ],
   "source": [
    "feature_importances_forest = rf_clf.feature_importances_\n",
    "for ind in np.argsort(-feature_importances_forest):\n",
    "    print(X_train.columns[ind], '-', feature_importances_forest[ind])"
   ]
  },
  {
   "cell_type": "markdown",
   "metadata": {},
   "source": [
    "## SVM"
   ]
  },
  {
   "cell_type": "code",
   "execution_count": 54,
   "metadata": {},
   "outputs": [],
   "source": [
    "from sklearn.svm import SVC"
   ]
  },
  {
   "cell_type": "code",
   "execution_count": 55,
   "metadata": {},
   "outputs": [
    {
     "data": {
      "text/plain": [
       "SVC(C=1.0, cache_size=200, class_weight=None, coef0=0.0,\n",
       "    decision_function_shape='ovr', degree=3, gamma='auto_deprecated',\n",
       "    kernel='linear', max_iter=-1, probability=False, random_state=42,\n",
       "    shrinking=True, tol=0.001, verbose=False)"
      ]
     },
     "execution_count": 55,
     "metadata": {},
     "output_type": "execute_result"
    }
   ],
   "source": [
    "svc = SVC(kernel='linear', random_state=42)\n",
    "svc.fit(X_train, y_train)"
   ]
  },
  {
   "cell_type": "code",
   "execution_count": 56,
   "metadata": {},
   "outputs": [
    {
     "name": "stdout",
     "output_type": "stream",
     "text": [
      "              precision    recall  f1-score   support\n",
      "\n",
      "           0       0.67      0.80      0.73        20\n",
      "           1       0.75      0.60      0.67        20\n",
      "\n",
      "    accuracy                           0.70        40\n",
      "   macro avg       0.71      0.70      0.70        40\n",
      "weighted avg       0.71      0.70      0.70        40\n",
      "\n"
     ]
    }
   ],
   "source": [
    "y_pred_svc = svc.predict(X_test)\n",
    "print(classification_report(y_test, y_pred_svc))"
   ]
  },
  {
   "cell_type": "code",
   "execution_count": 57,
   "metadata": {},
   "outputs": [
    {
     "name": "stdout",
     "output_type": "stream",
     "text": [
      "INTJ1 - 1.0968109680505418\n",
      "ADJS1 - 1.0682571426069154\n",
      "None2 - 0.7117499686699064\n",
      "PRCL2 - 0.6455992035018312\n",
      "n_similar_words - 0.6306846723706426\n",
      "n_words1 - 0.6073957112629316\n",
      "VERB1 - 0.5286519333174455\n",
      "NPRO2 - 0.45723827396412675\n",
      "PREP2 - 0.3888912925311774\n",
      "PRED1 - 0.38681854790401576\n",
      "CONJ2 - 0.34430816424710153\n",
      "ADJF2 - 0.33340315098044826\n",
      "COMP2 - 0.302621965970953\n",
      "ADJF1 - 0.2543402361971072\n",
      "ADJS2 - 0.21207930691505192\n",
      "NUMR1 - 0.17537227392355925\n",
      "PRCL1 - 0.16134142990523292\n",
      "PREP1 - 0.10851466327660653\n",
      "INTJ2 - 0.09681096805054182\n",
      "PRTS1 - 0.09248039059433666\n",
      "INFN1 - 0.09083609995569297\n",
      "punct - 0.06279635776936043\n",
      "NOUN1 - 0.04716419491652246\n",
      "av_words_length2 - 0.013580182589862488\n",
      "cosine_d2v - 0.004000272596954346\n",
      "av_words_length1 - 0.0016929829472474012\n",
      "ADVB1 - -0.034216656387572986\n",
      "GRND1 - -0.07280986883423113\n",
      "PRTS2 - -0.07280986883423113\n",
      "PRED2 - -0.08596603923555923\n",
      "NOUN2 - -0.10616641429474427\n",
      "VERB2 - -0.17204075773787686\n",
      "NUMR2 - -0.20014683351139034\n",
      "CONJ1 - -0.20586656116487623\n",
      "None1 - -0.22084962411063058\n",
      "ADVB2 - -0.3102730197190988\n",
      "INFN2 - -0.31268718427866826\n",
      "NPRO1 - -0.4064948032432274\n",
      "PRTF2 - -0.525275996928984\n",
      "n_words_diff - -0.5746363754871808\n",
      "COMP1 - -0.5850380259018135\n",
      "n_words2 - -0.8359438991614496\n",
      "GRND2 - -1.5622070113205488\n",
      "PRTF1 - -1.677324888759797\n"
     ]
    }
   ],
   "source": [
    "feature_importances_svc = svc.coef_\n",
    "for ind in np.argsort(-feature_importances_svc[0]):\n",
    "    print(X_train.columns[ind], '-', feature_importances_svc[0][ind])"
   ]
  },
  {
   "cell_type": "markdown",
   "metadata": {},
   "source": [
    "## Сравнение качества моделей"
   ]
  },
  {
   "cell_type": "markdown",
   "metadata": {},
   "source": [
    "### F1-score"
   ]
  },
  {
   "cell_type": "code",
   "execution_count": 58,
   "metadata": {},
   "outputs": [
    {
     "data": {
      "text/html": [
       "<div>\n",
       "<style scoped>\n",
       "    .dataframe tbody tr th:only-of-type {\n",
       "        vertical-align: middle;\n",
       "    }\n",
       "\n",
       "    .dataframe tbody tr th {\n",
       "        vertical-align: top;\n",
       "    }\n",
       "\n",
       "    .dataframe thead th {\n",
       "        text-align: right;\n",
       "    }\n",
       "</style>\n",
       "<table border=\"1\" class=\"dataframe\">\n",
       "  <thead>\n",
       "    <tr style=\"text-align: right;\">\n",
       "      <th></th>\n",
       "      <th>LReg</th>\n",
       "      <th>DTree</th>\n",
       "      <th>RForest</th>\n",
       "      <th>SVM</th>\n",
       "    </tr>\n",
       "  </thead>\n",
       "  <tbody>\n",
       "    <tr>\n",
       "      <th>cause</th>\n",
       "      <td>0.765957</td>\n",
       "      <td>0.595745</td>\n",
       "      <td>0.636364</td>\n",
       "      <td>0.727273</td>\n",
       "    </tr>\n",
       "    <tr>\n",
       "      <th>contrast</th>\n",
       "      <td>0.666667</td>\n",
       "      <td>0.424242</td>\n",
       "      <td>0.555556</td>\n",
       "      <td>0.666667</td>\n",
       "    </tr>\n",
       "  </tbody>\n",
       "</table>\n",
       "</div>"
      ],
      "text/plain": [
       "              LReg     DTree   RForest       SVM\n",
       "cause     0.765957  0.595745  0.636364  0.727273\n",
       "contrast  0.666667  0.424242  0.555556  0.666667"
      ]
     },
     "execution_count": 58,
     "metadata": {},
     "output_type": "execute_result"
    }
   ],
   "source": [
    "pd.DataFrame({\n",
    "    'LReg': [classification_report(y_test, y_pred_lreg, output_dict=True)['0']['f1-score'], classification_report(y_test, y_pred_lreg, output_dict=True)['1']['f1-score']],\n",
    "    'DTree': [classification_report(y_test, y_pred_tree, output_dict=True)['0']['f1-score'], classification_report(y_test, y_pred_tree, output_dict=True)['1']['f1-score']],\n",
    "    'RForest': [classification_report(y_test, y_pred_forest, output_dict=True)['0']['f1-score'], classification_report(y_test, y_pred_forest, output_dict=True)['1']['f1-score']],\n",
    "    'SVM': [classification_report(y_test, y_pred_svc, output_dict=True)['0']['f1-score'], classification_report(y_test, y_pred_svc, output_dict=True)['1']['f1-score']]\n",
    "}, index=['cause', 'contrast'])"
   ]
  },
  {
   "cell_type": "markdown",
   "metadata": {},
   "source": [
    "### Precision"
   ]
  },
  {
   "cell_type": "code",
   "execution_count": 59,
   "metadata": {},
   "outputs": [
    {
     "data": {
      "text/html": [
       "<div>\n",
       "<style scoped>\n",
       "    .dataframe tbody tr th:only-of-type {\n",
       "        vertical-align: middle;\n",
       "    }\n",
       "\n",
       "    .dataframe tbody tr th {\n",
       "        vertical-align: top;\n",
       "    }\n",
       "\n",
       "    .dataframe thead th {\n",
       "        text-align: right;\n",
       "    }\n",
       "</style>\n",
       "<table border=\"1\" class=\"dataframe\">\n",
       "  <thead>\n",
       "    <tr style=\"text-align: right;\">\n",
       "      <th></th>\n",
       "      <th>LReg</th>\n",
       "      <th>DTree</th>\n",
       "      <th>RForest</th>\n",
       "      <th>SVM</th>\n",
       "    </tr>\n",
       "  </thead>\n",
       "  <tbody>\n",
       "    <tr>\n",
       "      <th>cause</th>\n",
       "      <td>0.666667</td>\n",
       "      <td>0.518519</td>\n",
       "      <td>0.583333</td>\n",
       "      <td>0.666667</td>\n",
       "    </tr>\n",
       "    <tr>\n",
       "      <th>contrast</th>\n",
       "      <td>0.846154</td>\n",
       "      <td>0.538462</td>\n",
       "      <td>0.625000</td>\n",
       "      <td>0.750000</td>\n",
       "    </tr>\n",
       "  </tbody>\n",
       "</table>\n",
       "</div>"
      ],
      "text/plain": [
       "              LReg     DTree   RForest       SVM\n",
       "cause     0.666667  0.518519  0.583333  0.666667\n",
       "contrast  0.846154  0.538462  0.625000  0.750000"
      ]
     },
     "execution_count": 59,
     "metadata": {},
     "output_type": "execute_result"
    }
   ],
   "source": [
    "pd.DataFrame({\n",
    "    'LReg': [classification_report(y_test, y_pred_lreg, output_dict=True)['0']['precision'], classification_report(y_test, y_pred_lreg, output_dict=True)['1']['precision']],\n",
    "    'DTree': [classification_report(y_test, y_pred_tree, output_dict=True)['0']['precision'], classification_report(y_test, y_pred_tree, output_dict=True)['1']['precision']],\n",
    "    'RForest': [classification_report(y_test, y_pred_forest, output_dict=True)['0']['precision'], classification_report(y_test, y_pred_forest, output_dict=True)['1']['precision']],\n",
    "    'SVM': [classification_report(y_test, y_pred_svc, output_dict=True)['0']['precision'], classification_report(y_test, y_pred_svc, output_dict=True)['1']['precision']]\n",
    "}, index=['cause', 'contrast'])"
   ]
  },
  {
   "cell_type": "markdown",
   "metadata": {},
   "source": [
    "### Recall"
   ]
  },
  {
   "cell_type": "code",
   "execution_count": 60,
   "metadata": {},
   "outputs": [
    {
     "data": {
      "text/html": [
       "<div>\n",
       "<style scoped>\n",
       "    .dataframe tbody tr th:only-of-type {\n",
       "        vertical-align: middle;\n",
       "    }\n",
       "\n",
       "    .dataframe tbody tr th {\n",
       "        vertical-align: top;\n",
       "    }\n",
       "\n",
       "    .dataframe thead th {\n",
       "        text-align: right;\n",
       "    }\n",
       "</style>\n",
       "<table border=\"1\" class=\"dataframe\">\n",
       "  <thead>\n",
       "    <tr style=\"text-align: right;\">\n",
       "      <th></th>\n",
       "      <th>LReg</th>\n",
       "      <th>DTree</th>\n",
       "      <th>RForest</th>\n",
       "      <th>SVM</th>\n",
       "    </tr>\n",
       "  </thead>\n",
       "  <tbody>\n",
       "    <tr>\n",
       "      <th>cause</th>\n",
       "      <td>0.90</td>\n",
       "      <td>0.70</td>\n",
       "      <td>0.7</td>\n",
       "      <td>0.8</td>\n",
       "    </tr>\n",
       "    <tr>\n",
       "      <th>contrast</th>\n",
       "      <td>0.55</td>\n",
       "      <td>0.35</td>\n",
       "      <td>0.5</td>\n",
       "      <td>0.6</td>\n",
       "    </tr>\n",
       "  </tbody>\n",
       "</table>\n",
       "</div>"
      ],
      "text/plain": [
       "          LReg  DTree  RForest  SVM\n",
       "cause     0.90   0.70      0.7  0.8\n",
       "contrast  0.55   0.35      0.5  0.6"
      ]
     },
     "execution_count": 60,
     "metadata": {},
     "output_type": "execute_result"
    }
   ],
   "source": [
    "pd.DataFrame({\n",
    "    'LReg': [classification_report(y_test, y_pred_lreg, output_dict=True)['0']['recall'], classification_report(y_test, y_pred_lreg, output_dict=True)['1']['recall']],\n",
    "    'DTree': [classification_report(y_test, y_pred_tree, output_dict=True)['0']['recall'], classification_report(y_test, y_pred_tree, output_dict=True)['1']['recall']],\n",
    "    'RForest': [classification_report(y_test, y_pred_forest, output_dict=True)['0']['recall'], classification_report(y_test, y_pred_forest, output_dict=True)['1']['recall']],\n",
    "    'SVM': [classification_report(y_test, y_pred_svc, output_dict=True)['0']['recall'], classification_report(y_test, y_pred_svc, output_dict=True)['1']['recall']]\n",
    "}, index=['cause', 'contrast'])"
   ]
  },
  {
   "cell_type": "markdown",
   "metadata": {},
   "source": [
    "## Сравнение важности признаков\n",
    "\n",
    "Сравниваю абсолютные значения всех признаков"
   ]
  },
  {
   "cell_type": "code",
   "execution_count": 61,
   "metadata": {},
   "outputs": [],
   "source": [
    "features = pd.DataFrame({'LReg': abs(feature_importances_lreg[0]), \n",
    "              'DTree': feature_importances_tree, \n",
    "              'RForest': feature_importances_forest,\n",
    "              'SVM': abs(feature_importances_svc[0]),}, index=X_train.columns)"
   ]
  },
  {
   "cell_type": "code",
   "execution_count": 62,
   "metadata": {},
   "outputs": [
    {
     "data": {
      "image/png": "[encoded data removed]",
      "text/plain": [
       "<Figure size 720x720 with 4 Axes>"
      ]
     },
     "metadata": {
      "needs_background": "light"
     },
     "output_type": "display_data"
    }
   ],
   "source": [
    "fig, (ax,ax2) = plt.subplots(ncols=2, figsize=(10,10))\n",
    "fig.subplots_adjust(wspace=0.5)\n",
    "sns.heatmap(features[['LReg', 'SVM']], cmap=\"rocket\", ax=ax, cbar=True, vmin=0)\n",
    "sns.heatmap(features[['DTree', 'RForest']], cmap=\"rocket\", ax=ax2, cbar=True, vmax=0.12)\n",
    "plt.show()"
   ]
  },
  {
   "cell_type": "code",
   "execution_count": 63,
   "metadata": {},
   "outputs": [
    {
     "data": {
      "text/html": [
       "<div>\n",
       "<style scoped>\n",
       "    .dataframe tbody tr th:only-of-type {\n",
       "        vertical-align: middle;\n",
       "    }\n",
       "\n",
       "    .dataframe tbody tr th {\n",
       "        vertical-align: top;\n",
       "    }\n",
       "\n",
       "    .dataframe thead th {\n",
       "        text-align: right;\n",
       "    }\n",
       "</style>\n",
       "<table border=\"1\" class=\"dataframe\">\n",
       "  <thead>\n",
       "    <tr style=\"text-align: right;\">\n",
       "      <th></th>\n",
       "      <th>LReg</th>\n",
       "      <th>DTree</th>\n",
       "      <th>RForest</th>\n",
       "      <th>SVM</th>\n",
       "    </tr>\n",
       "  </thead>\n",
       "  <tbody>\n",
       "    <tr>\n",
       "      <th>n_words1</th>\n",
       "      <td>0.161111</td>\n",
       "      <td>0.032609</td>\n",
       "      <td>0.058056</td>\n",
       "      <td>0.607396</td>\n",
       "    </tr>\n",
       "    <tr>\n",
       "      <th>av_words_length1</th>\n",
       "      <td>0.002302</td>\n",
       "      <td>0.052827</td>\n",
       "      <td>0.063970</td>\n",
       "      <td>0.001693</td>\n",
       "    </tr>\n",
       "    <tr>\n",
       "      <th>n_words2</th>\n",
       "      <td>0.466779</td>\n",
       "      <td>0.111971</td>\n",
       "      <td>0.044845</td>\n",
       "      <td>0.835944</td>\n",
       "    </tr>\n",
       "    <tr>\n",
       "      <th>av_words_length2</th>\n",
       "      <td>0.009434</td>\n",
       "      <td>0.053333</td>\n",
       "      <td>0.064981</td>\n",
       "      <td>0.013580</td>\n",
       "    </tr>\n",
       "    <tr>\n",
       "      <th>n_words_diff</th>\n",
       "      <td>0.159773</td>\n",
       "      <td>0.104648</td>\n",
       "      <td>0.058139</td>\n",
       "      <td>0.574636</td>\n",
       "    </tr>\n",
       "    <tr>\n",
       "      <th>punct</th>\n",
       "      <td>0.131933</td>\n",
       "      <td>0.000000</td>\n",
       "      <td>0.034594</td>\n",
       "      <td>0.062796</td>\n",
       "    </tr>\n",
       "    <tr>\n",
       "      <th>ADJF1</th>\n",
       "      <td>0.269165</td>\n",
       "      <td>0.000000</td>\n",
       "      <td>0.035651</td>\n",
       "      <td>0.254340</td>\n",
       "    </tr>\n",
       "    <tr>\n",
       "      <th>ADJS1</th>\n",
       "      <td>1.098981</td>\n",
       "      <td>0.031095</td>\n",
       "      <td>0.011076</td>\n",
       "      <td>1.068257</td>\n",
       "    </tr>\n",
       "    <tr>\n",
       "      <th>ADVB1</th>\n",
       "      <td>0.121548</td>\n",
       "      <td>0.000000</td>\n",
       "      <td>0.019989</td>\n",
       "      <td>0.034217</td>\n",
       "    </tr>\n",
       "    <tr>\n",
       "      <th>COMP1</th>\n",
       "      <td>0.354711</td>\n",
       "      <td>0.000000</td>\n",
       "      <td>0.005490</td>\n",
       "      <td>0.585038</td>\n",
       "    </tr>\n",
       "    <tr>\n",
       "      <th>CONJ1</th>\n",
       "      <td>0.098877</td>\n",
       "      <td>0.000000</td>\n",
       "      <td>0.024457</td>\n",
       "      <td>0.205867</td>\n",
       "    </tr>\n",
       "    <tr>\n",
       "      <th>GRND1</th>\n",
       "      <td>0.308462</td>\n",
       "      <td>0.042927</td>\n",
       "      <td>0.012894</td>\n",
       "      <td>0.072810</td>\n",
       "    </tr>\n",
       "    <tr>\n",
       "      <th>INFN1</th>\n",
       "      <td>0.123386</td>\n",
       "      <td>0.059583</td>\n",
       "      <td>0.014121</td>\n",
       "      <td>0.090836</td>\n",
       "    </tr>\n",
       "    <tr>\n",
       "      <th>INTJ1</th>\n",
       "      <td>0.925956</td>\n",
       "      <td>0.000000</td>\n",
       "      <td>0.008517</td>\n",
       "      <td>1.096811</td>\n",
       "    </tr>\n",
       "    <tr>\n",
       "      <th>NOUN1</th>\n",
       "      <td>0.109484</td>\n",
       "      <td>0.033239</td>\n",
       "      <td>0.047732</td>\n",
       "      <td>0.047164</td>\n",
       "    </tr>\n",
       "    <tr>\n",
       "      <th>NPRO1</th>\n",
       "      <td>0.457861</td>\n",
       "      <td>0.095118</td>\n",
       "      <td>0.020024</td>\n",
       "      <td>0.406495</td>\n",
       "    </tr>\n",
       "    <tr>\n",
       "      <th>NUMR1</th>\n",
       "      <td>0.412241</td>\n",
       "      <td>0.000000</td>\n",
       "      <td>0.003780</td>\n",
       "      <td>0.175372</td>\n",
       "    </tr>\n",
       "    <tr>\n",
       "      <th>None1</th>\n",
       "      <td>0.483902</td>\n",
       "      <td>0.000000</td>\n",
       "      <td>0.003949</td>\n",
       "      <td>0.220850</td>\n",
       "    </tr>\n",
       "    <tr>\n",
       "      <th>PRCL1</th>\n",
       "      <td>0.231604</td>\n",
       "      <td>0.000000</td>\n",
       "      <td>0.025416</td>\n",
       "      <td>0.161341</td>\n",
       "    </tr>\n",
       "    <tr>\n",
       "      <th>PRED1</th>\n",
       "      <td>0.388590</td>\n",
       "      <td>0.000000</td>\n",
       "      <td>0.005345</td>\n",
       "      <td>0.386819</td>\n",
       "    </tr>\n",
       "    <tr>\n",
       "      <th>PREP1</th>\n",
       "      <td>0.105644</td>\n",
       "      <td>0.016667</td>\n",
       "      <td>0.018793</td>\n",
       "      <td>0.108515</td>\n",
       "    </tr>\n",
       "    <tr>\n",
       "      <th>PRTF1</th>\n",
       "      <td>1.572461</td>\n",
       "      <td>0.029701</td>\n",
       "      <td>0.014438</td>\n",
       "      <td>1.677325</td>\n",
       "    </tr>\n",
       "    <tr>\n",
       "      <th>PRTS1</th>\n",
       "      <td>0.019084</td>\n",
       "      <td>0.000000</td>\n",
       "      <td>0.001141</td>\n",
       "      <td>0.092480</td>\n",
       "    </tr>\n",
       "    <tr>\n",
       "      <th>VERB1</th>\n",
       "      <td>0.534040</td>\n",
       "      <td>0.023116</td>\n",
       "      <td>0.023005</td>\n",
       "      <td>0.528652</td>\n",
       "    </tr>\n",
       "    <tr>\n",
       "      <th>ADJF2</th>\n",
       "      <td>0.537583</td>\n",
       "      <td>0.044672</td>\n",
       "      <td>0.028185</td>\n",
       "      <td>0.333403</td>\n",
       "    </tr>\n",
       "    <tr>\n",
       "      <th>ADJS2</th>\n",
       "      <td>0.130410</td>\n",
       "      <td>0.000000</td>\n",
       "      <td>0.002974</td>\n",
       "      <td>0.212079</td>\n",
       "    </tr>\n",
       "    <tr>\n",
       "      <th>ADVB2</th>\n",
       "      <td>0.231387</td>\n",
       "      <td>0.000000</td>\n",
       "      <td>0.018043</td>\n",
       "      <td>0.310273</td>\n",
       "    </tr>\n",
       "    <tr>\n",
       "      <th>COMP2</th>\n",
       "      <td>0.053658</td>\n",
       "      <td>0.022500</td>\n",
       "      <td>0.008483</td>\n",
       "      <td>0.302622</td>\n",
       "    </tr>\n",
       "    <tr>\n",
       "      <th>CONJ2</th>\n",
       "      <td>0.243851</td>\n",
       "      <td>0.000000</td>\n",
       "      <td>0.014293</td>\n",
       "      <td>0.344308</td>\n",
       "    </tr>\n",
       "    <tr>\n",
       "      <th>GRND2</th>\n",
       "      <td>1.218074</td>\n",
       "      <td>0.033939</td>\n",
       "      <td>0.017157</td>\n",
       "      <td>1.562207</td>\n",
       "    </tr>\n",
       "    <tr>\n",
       "      <th>INFN2</th>\n",
       "      <td>0.470277</td>\n",
       "      <td>0.000000</td>\n",
       "      <td>0.017243</td>\n",
       "      <td>0.312687</td>\n",
       "    </tr>\n",
       "    <tr>\n",
       "      <th>INTJ2</th>\n",
       "      <td>0.573526</td>\n",
       "      <td>0.000000</td>\n",
       "      <td>0.004742</td>\n",
       "      <td>0.096811</td>\n",
       "    </tr>\n",
       "    <tr>\n",
       "      <th>NOUN2</th>\n",
       "      <td>0.007345</td>\n",
       "      <td>0.016667</td>\n",
       "      <td>0.038218</td>\n",
       "      <td>0.106166</td>\n",
       "    </tr>\n",
       "    <tr>\n",
       "      <th>NPRO2</th>\n",
       "      <td>0.522244</td>\n",
       "      <td>0.016667</td>\n",
       "      <td>0.013269</td>\n",
       "      <td>0.457238</td>\n",
       "    </tr>\n",
       "    <tr>\n",
       "      <th>NUMR2</th>\n",
       "      <td>0.300109</td>\n",
       "      <td>0.000000</td>\n",
       "      <td>0.002243</td>\n",
       "      <td>0.200147</td>\n",
       "    </tr>\n",
       "    <tr>\n",
       "      <th>None2</th>\n",
       "      <td>0.456779</td>\n",
       "      <td>0.000000</td>\n",
       "      <td>0.001946</td>\n",
       "      <td>0.711750</td>\n",
       "    </tr>\n",
       "    <tr>\n",
       "      <th>PRCL2</th>\n",
       "      <td>0.597582</td>\n",
       "      <td>0.025543</td>\n",
       "      <td>0.022062</td>\n",
       "      <td>0.645599</td>\n",
       "    </tr>\n",
       "    <tr>\n",
       "      <th>PRED2</th>\n",
       "      <td>0.031668</td>\n",
       "      <td>0.000000</td>\n",
       "      <td>0.003908</td>\n",
       "      <td>0.085966</td>\n",
       "    </tr>\n",
       "    <tr>\n",
       "      <th>PREP2</th>\n",
       "      <td>0.425098</td>\n",
       "      <td>0.018750</td>\n",
       "      <td>0.022291</td>\n",
       "      <td>0.388891</td>\n",
       "    </tr>\n",
       "    <tr>\n",
       "      <th>PRTF2</th>\n",
       "      <td>0.220857</td>\n",
       "      <td>0.000000</td>\n",
       "      <td>0.002303</td>\n",
       "      <td>0.525276</td>\n",
       "    </tr>\n",
       "    <tr>\n",
       "      <th>PRTS2</th>\n",
       "      <td>0.400506</td>\n",
       "      <td>0.000000</td>\n",
       "      <td>0.004947</td>\n",
       "      <td>0.072810</td>\n",
       "    </tr>\n",
       "    <tr>\n",
       "      <th>VERB2</th>\n",
       "      <td>0.246296</td>\n",
       "      <td>0.000000</td>\n",
       "      <td>0.021407</td>\n",
       "      <td>0.172041</td>\n",
       "    </tr>\n",
       "    <tr>\n",
       "      <th>n_similar_words</th>\n",
       "      <td>0.704751</td>\n",
       "      <td>0.101215</td>\n",
       "      <td>0.060204</td>\n",
       "      <td>0.630685</td>\n",
       "    </tr>\n",
       "    <tr>\n",
       "      <th>cosine_d2v</th>\n",
       "      <td>0.003563</td>\n",
       "      <td>0.033214</td>\n",
       "      <td>0.075678</td>\n",
       "      <td>0.004000</td>\n",
       "    </tr>\n",
       "  </tbody>\n",
       "</table>\n",
       "</div>"
      ],
      "text/plain": [
       "                      LReg     DTree   RForest       SVM\n",
       "n_words1          0.161111  0.032609  0.058056  0.607396\n",
       "av_words_length1  0.002302  0.052827  0.063970  0.001693\n",
       "n_words2          0.466779  0.111971  0.044845  0.835944\n",
       "av_words_length2  0.009434  0.053333  0.064981  0.013580\n",
       "n_words_diff      0.159773  0.104648  0.058139  0.574636\n",
       "punct             0.131933  0.000000  0.034594  0.062796\n",
       "ADJF1             0.269165  0.000000  0.035651  0.254340\n",
       "ADJS1             1.098981  0.031095  0.011076  1.068257\n",
       "ADVB1             0.121548  0.000000  0.019989  0.034217\n",
       "COMP1             0.354711  0.000000  0.005490  0.585038\n",
       "CONJ1             0.098877  0.000000  0.024457  0.205867\n",
       "GRND1             0.308462  0.042927  0.012894  0.072810\n",
       "INFN1             0.123386  0.059583  0.014121  0.090836\n",
       "INTJ1             0.925956  0.000000  0.008517  1.096811\n",
       "NOUN1             0.109484  0.033239  0.047732  0.047164\n",
       "NPRO1             0.457861  0.095118  0.020024  0.406495\n",
       "NUMR1             0.412241  0.000000  0.003780  0.175372\n",
       "None1             0.483902  0.000000  0.003949  0.220850\n",
       "PRCL1             0.231604  0.000000  0.025416  0.161341\n",
       "PRED1             0.388590  0.000000  0.005345  0.386819\n",
       "PREP1             0.105644  0.016667  0.018793  0.108515\n",
       "PRTF1             1.572461  0.029701  0.014438  1.677325\n",
       "PRTS1             0.019084  0.000000  0.001141  0.092480\n",
       "VERB1             0.534040  0.023116  0.023005  0.528652\n",
       "ADJF2             0.537583  0.044672  0.028185  0.333403\n",
       "ADJS2             0.130410  0.000000  0.002974  0.212079\n",
       "ADVB2             0.231387  0.000000  0.018043  0.310273\n",
       "COMP2             0.053658  0.022500  0.008483  0.302622\n",
       "CONJ2             0.243851  0.000000  0.014293  0.344308\n",
       "GRND2             1.218074  0.033939  0.017157  1.562207\n",
       "INFN2             0.470277  0.000000  0.017243  0.312687\n",
       "INTJ2             0.573526  0.000000  0.004742  0.096811\n",
       "NOUN2             0.007345  0.016667  0.038218  0.106166\n",
       "NPRO2             0.522244  0.016667  0.013269  0.457238\n",
       "NUMR2             0.300109  0.000000  0.002243  0.200147\n",
       "None2             0.456779  0.000000  0.001946  0.711750\n",
       "PRCL2             0.597582  0.025543  0.022062  0.645599\n",
       "PRED2             0.031668  0.000000  0.003908  0.085966\n",
       "PREP2             0.425098  0.018750  0.022291  0.388891\n",
       "PRTF2             0.220857  0.000000  0.002303  0.525276\n",
       "PRTS2             0.400506  0.000000  0.004947  0.072810\n",
       "VERB2             0.246296  0.000000  0.021407  0.172041\n",
       "n_similar_words   0.704751  0.101215  0.060204  0.630685\n",
       "cosine_d2v        0.003563  0.033214  0.075678  0.004000"
      ]
     },
     "execution_count": 63,
     "metadata": {},
     "output_type": "execute_result"
    }
   ],
   "source": [
    "features"
   ]
  },
  {
   "cell_type": "markdown",
   "metadata": {},
   "source": [
    "## Ошибки"
   ]
  },
  {
   "cell_type": "code",
   "execution_count": 68,
   "metadata": {
    "collapsed": true
   },
   "outputs": [
    {
     "name": "stderr",
     "output_type": "stream",
     "text": [
      "C:\\ProgramData\\Anaconda3\\lib\\site-packages\\ipykernel_launcher.py:1: SettingWithCopyWarning: \n",
      "A value is trying to be set on a copy of a slice from a DataFrame.\n",
      "Try using .loc[row_indexer,col_indexer] = value instead\n",
      "\n",
      "See the caveats in the documentation: http://pandas.pydata.org/pandas-docs/stable/indexing.html#indexing-view-versus-copy\n",
      "  \"\"\"Entry point for launching an IPython kernel.\n",
      "C:\\ProgramData\\Anaconda3\\lib\\site-packages\\ipykernel_launcher.py:2: SettingWithCopyWarning: \n",
      "A value is trying to be set on a copy of a slice from a DataFrame.\n",
      "Try using .loc[row_indexer,col_indexer] = value instead\n",
      "\n",
      "See the caveats in the documentation: http://pandas.pydata.org/pandas-docs/stable/indexing.html#indexing-view-versus-copy\n",
      "  \n",
      "C:\\ProgramData\\Anaconda3\\lib\\site-packages\\ipykernel_launcher.py:3: SettingWithCopyWarning: \n",
      "A value is trying to be set on a copy of a slice from a DataFrame.\n",
      "Try using .loc[row_indexer,col_indexer] = value instead\n",
      "\n",
      "See the caveats in the documentation: http://pandas.pydata.org/pandas-docs/stable/indexing.html#indexing-view-versus-copy\n",
      "  This is separate from the ipykernel package so we can avoid doing imports until\n",
      "C:\\ProgramData\\Anaconda3\\lib\\site-packages\\ipykernel_launcher.py:4: SettingWithCopyWarning: \n",
      "A value is trying to be set on a copy of a slice from a DataFrame.\n",
      "Try using .loc[row_indexer,col_indexer] = value instead\n",
      "\n",
      "See the caveats in the documentation: http://pandas.pydata.org/pandas-docs/stable/indexing.html#indexing-view-versus-copy\n",
      "  after removing the cwd from sys.path.\n",
      "C:\\ProgramData\\Anaconda3\\lib\\site-packages\\ipykernel_launcher.py:5: SettingWithCopyWarning: \n",
      "A value is trying to be set on a copy of a slice from a DataFrame.\n",
      "Try using .loc[row_indexer,col_indexer] = value instead\n",
      "\n",
      "See the caveats in the documentation: http://pandas.pydata.org/pandas-docs/stable/indexing.html#indexing-view-versus-copy\n",
      "  \"\"\"\n"
     ]
    }
   ],
   "source": [
    "X_test['y_pred_lreg'] = y_pred_lreg\n",
    "X_test['y_pred_tree'] = y_pred_tree\n",
    "X_test['y_pred_forest'] = y_pred_forest\n",
    "X_test['y_pred_svc'] = y_pred_svc\n",
    "X_test['class'] = y_test"
   ]
  },
  {
   "cell_type": "code",
   "execution_count": 81,
   "metadata": {},
   "outputs": [
    {
     "name": "stderr",
     "output_type": "stream",
     "text": [
      "C:\\ProgramData\\Anaconda3\\lib\\site-packages\\ipykernel_launcher.py:3: SettingWithCopyWarning: \n",
      "A value is trying to be set on a copy of a slice from a DataFrame.\n",
      "Try using .loc[row_indexer,col_indexer] = value instead\n",
      "\n",
      "See the caveats in the documentation: http://pandas.pydata.org/pandas-docs/stable/indexing.html#indexing-view-versus-copy\n",
      "  This is separate from the ipykernel package so we can avoid doing imports until\n"
     ]
    },
    {
     "data": {
      "text/html": [
       "<div>\n",
       "<style scoped>\n",
       "    .dataframe tbody tr th:only-of-type {\n",
       "        vertical-align: middle;\n",
       "    }\n",
       "\n",
       "    .dataframe tbody tr th {\n",
       "        vertical-align: top;\n",
       "    }\n",
       "\n",
       "    .dataframe thead th {\n",
       "        text-align: right;\n",
       "    }\n",
       "</style>\n",
       "<table border=\"1\" class=\"dataframe\">\n",
       "  <thead>\n",
       "    <tr style=\"text-align: right;\">\n",
       "      <th></th>\n",
       "      <th>эде1</th>\n",
       "      <th>эде2</th>\n",
       "      <th>class</th>\n",
       "      <th>y_pred_lreg</th>\n",
       "      <th>y_pred_forest</th>\n",
       "      <th>y_pred_svc</th>\n",
       "      <th>comb</th>\n",
       "    </tr>\n",
       "  </thead>\n",
       "  <tbody>\n",
       "    <tr>\n",
       "      <th>4</th>\n",
       "      <td>Коробка красивая,</td>\n",
       "      <td>прибор явно туфтовый, даже по внешнему виду.</td>\n",
       "      <td>1</td>\n",
       "      <td>0</td>\n",
       "      <td>0</td>\n",
       "      <td>0</td>\n",
       "      <td>1</td>\n",
       "    </tr>\n",
       "    <tr>\n",
       "      <th>6</th>\n",
       "      <td>Он потом рассказывал, что я смотрела на него в...</td>\n",
       "      <td>- и не видела!</td>\n",
       "      <td>1</td>\n",
       "      <td>0</td>\n",
       "      <td>0</td>\n",
       "      <td>0</td>\n",
       "      <td>1</td>\n",
       "    </tr>\n",
       "    <tr>\n",
       "      <th>7</th>\n",
       "      <td>На лице официанта явно читается «мадам, вы не ...</td>\n",
       "      <td>у нас едят долго и вдумчиво».</td>\n",
       "      <td>1</td>\n",
       "      <td>0</td>\n",
       "      <td>0</td>\n",
       "      <td>0</td>\n",
       "      <td>1</td>\n",
       "    </tr>\n",
       "    <tr>\n",
       "      <th>32</th>\n",
       "      <td>Технология редко оказывается настоящим источни...</td>\n",
       "      <td>Почти всегда дело в людях, не разобравшихся, к...</td>\n",
       "      <td>1</td>\n",
       "      <td>0</td>\n",
       "      <td>1</td>\n",
       "      <td>0</td>\n",
       "      <td>2</td>\n",
       "    </tr>\n",
       "    <tr>\n",
       "      <th>33</th>\n",
       "      <td>Зоопарк технологий создает проблемы,</td>\n",
       "      <td>как бы вам не хотелось верить в обратное.</td>\n",
       "      <td>1</td>\n",
       "      <td>0</td>\n",
       "      <td>0</td>\n",
       "      <td>1</td>\n",
       "      <td>2</td>\n",
       "    </tr>\n",
       "    <tr>\n",
       "      <th>36</th>\n",
       "      <td>Это давно пора зафиксировать,</td>\n",
       "      <td>я просто немножко тормоз, конечно</td>\n",
       "      <td>1</td>\n",
       "      <td>0</td>\n",
       "      <td>0</td>\n",
       "      <td>0</td>\n",
       "      <td>1</td>\n",
       "    </tr>\n",
       "    <tr>\n",
       "      <th>40</th>\n",
       "      <td>Все выглядит так, как было раньше.</td>\n",
       "      <td>Вот только самолеты не приземляются.</td>\n",
       "      <td>1</td>\n",
       "      <td>1</td>\n",
       "      <td>0</td>\n",
       "      <td>1</td>\n",
       "      <td>3</td>\n",
       "    </tr>\n",
       "    <tr>\n",
       "      <th>43</th>\n",
       "      <td>Если создание цифровой экономики даёт России х...</td>\n",
       "      <td>все остальные сценарии ведут к неизбежному про...</td>\n",
       "      <td>1</td>\n",
       "      <td>1</td>\n",
       "      <td>0</td>\n",
       "      <td>1</td>\n",
       "      <td>3</td>\n",
       "    </tr>\n",
       "    <tr>\n",
       "      <th>47</th>\n",
       "      <td>стоит миру как-то пошатнуться.</td>\n",
       "      <td>Я - совсем не спортсменка,</td>\n",
       "      <td>1</td>\n",
       "      <td>1</td>\n",
       "      <td>0</td>\n",
       "      <td>1</td>\n",
       "      <td>3</td>\n",
       "    </tr>\n",
       "    <tr>\n",
       "      <th>72</th>\n",
       "      <td>начиная от дорожных знаков,</td>\n",
       "      <td>заканчивая надписью \"Спасибо\" на товарных чеках.</td>\n",
       "      <td>1</td>\n",
       "      <td>0</td>\n",
       "      <td>0</td>\n",
       "      <td>0</td>\n",
       "      <td>1</td>\n",
       "    </tr>\n",
       "    <tr>\n",
       "      <th>96</th>\n",
       "      <td>некоторые называют главным врагом Иран,</td>\n",
       "      <td>другие указывают на Израиль или совсем иные ст...</td>\n",
       "      <td>1</td>\n",
       "      <td>0</td>\n",
       "      <td>0</td>\n",
       "      <td>0</td>\n",
       "      <td>1</td>\n",
       "    </tr>\n",
       "    <tr>\n",
       "      <th>97</th>\n",
       "      <td>удары дронов приносят определенный краткосрочн...</td>\n",
       "      <td>чего нельзя сказать о последствиях для долгоср...</td>\n",
       "      <td>1</td>\n",
       "      <td>0</td>\n",
       "      <td>1</td>\n",
       "      <td>0</td>\n",
       "      <td>2</td>\n",
       "    </tr>\n",
       "    <tr>\n",
       "      <th>101</th>\n",
       "      <td>Выпадает небольшой осадок.</td>\n",
       "      <td>Всегда встряхиваю перед применением.</td>\n",
       "      <td>0</td>\n",
       "      <td>0</td>\n",
       "      <td>0</td>\n",
       "      <td>1</td>\n",
       "      <td>1</td>\n",
       "    </tr>\n",
       "    <tr>\n",
       "      <th>102</th>\n",
       "      <td>зато есть ощущение, что присутствует муцин ули...</td>\n",
       "      <td>консистенция крема какая-то тягучая.</td>\n",
       "      <td>0</td>\n",
       "      <td>1</td>\n",
       "      <td>1</td>\n",
       "      <td>1</td>\n",
       "      <td>3</td>\n",
       "    </tr>\n",
       "    <tr>\n",
       "      <th>160</th>\n",
       "      <td>Шире дороги в центр</td>\n",
       "      <td>— больше пробок в центре.</td>\n",
       "      <td>0</td>\n",
       "      <td>1</td>\n",
       "      <td>1</td>\n",
       "      <td>1</td>\n",
       "      <td>3</td>\n",
       "    </tr>\n",
       "    <tr>\n",
       "      <th>163</th>\n",
       "      <td>Крыша рухнула внутрь храма,</td>\n",
       "      <td>завалив его.</td>\n",
       "      <td>0</td>\n",
       "      <td>0</td>\n",
       "      <td>1</td>\n",
       "      <td>0</td>\n",
       "      <td>1</td>\n",
       "    </tr>\n",
       "    <tr>\n",
       "      <th>182</th>\n",
       "      <td>Но удержать замок, как и всю Ливонию, русские ...</td>\n",
       "      <td>и в конце концов эта местность досталась шведам.</td>\n",
       "      <td>0</td>\n",
       "      <td>0</td>\n",
       "      <td>1</td>\n",
       "      <td>0</td>\n",
       "      <td>1</td>\n",
       "    </tr>\n",
       "    <tr>\n",
       "      <th>184</th>\n",
       "      <td>Я не большой любитель подобных музеев,</td>\n",
       "      <td>всё больше люблю изучать страну, так сказать, ...</td>\n",
       "      <td>0</td>\n",
       "      <td>0</td>\n",
       "      <td>1</td>\n",
       "      <td>0</td>\n",
       "      <td>1</td>\n",
       "    </tr>\n",
       "    <tr>\n",
       "      <th>192</th>\n",
       "      <td>После более чем 150 актов протеста против кита...</td>\n",
       "      <td>заинтересованность в этой области кажется отню...</td>\n",
       "      <td>0</td>\n",
       "      <td>0</td>\n",
       "      <td>1</td>\n",
       "      <td>1</td>\n",
       "      <td>2</td>\n",
       "    </tr>\n",
       "  </tbody>\n",
       "</table>\n",
       "</div>"
      ],
      "text/plain": [
       "                                                  эде1  \\\n",
       "4                                    Коробка красивая,   \n",
       "6    Он потом рассказывал, что я смотрела на него в...   \n",
       "7    На лице официанта явно читается «мадам, вы не ...   \n",
       "32   Технология редко оказывается настоящим источни...   \n",
       "33                Зоопарк технологий создает проблемы,   \n",
       "36                       Это давно пора зафиксировать,   \n",
       "40                  Все выглядит так, как было раньше.   \n",
       "43   Если создание цифровой экономики даёт России х...   \n",
       "47                      стоит миру как-то пошатнуться.   \n",
       "72                         начиная от дорожных знаков,   \n",
       "96             некоторые называют главным врагом Иран,   \n",
       "97   удары дронов приносят определенный краткосрочн...   \n",
       "101                         Выпадает небольшой осадок.   \n",
       "102  зато есть ощущение, что присутствует муцин ули...   \n",
       "160                                Шире дороги в центр   \n",
       "163                        Крыша рухнула внутрь храма,   \n",
       "182  Но удержать замок, как и всю Ливонию, русские ...   \n",
       "184             Я не большой любитель подобных музеев,   \n",
       "192  После более чем 150 актов протеста против кита...   \n",
       "\n",
       "                                                  эде2  class  y_pred_lreg  \\\n",
       "4         прибор явно туфтовый, даже по внешнему виду.      1            0   \n",
       "6                                       - и не видела!      1            0   \n",
       "7                        у нас едят долго и вдумчиво».      1            0   \n",
       "32   Почти всегда дело в людях, не разобравшихся, к...      1            0   \n",
       "33           как бы вам не хотелось верить в обратное.      1            0   \n",
       "36                   я просто немножко тормоз, конечно      1            0   \n",
       "40                Вот только самолеты не приземляются.      1            1   \n",
       "43   все остальные сценарии ведут к неизбежному про...      1            1   \n",
       "47                          Я - совсем не спортсменка,      1            1   \n",
       "72   заканчивая надписью \"Спасибо\" на товарных чеках.       1            0   \n",
       "96   другие указывают на Израиль или совсем иные ст...      1            0   \n",
       "97   чего нельзя сказать о последствиях для долгоср...      1            0   \n",
       "101               Всегда встряхиваю перед применением.      0            0   \n",
       "102               консистенция крема какая-то тягучая.      0            1   \n",
       "160                          — больше пробок в центре.      0            1   \n",
       "163                                       завалив его.      0            0   \n",
       "182   и в конце концов эта местность досталась шведам.      0            0   \n",
       "184  всё больше люблю изучать страну, так сказать, ...      0            0   \n",
       "192  заинтересованность в этой области кажется отню...      0            0   \n",
       "\n",
       "     y_pred_forest  y_pred_svc  comb  \n",
       "4                0           0     1  \n",
       "6                0           0     1  \n",
       "7                0           0     1  \n",
       "32               1           0     2  \n",
       "33               0           1     2  \n",
       "36               0           0     1  \n",
       "40               0           1     3  \n",
       "43               0           1     3  \n",
       "47               0           1     3  \n",
       "72               0           0     1  \n",
       "96               0           0     1  \n",
       "97               1           0     2  \n",
       "101              0           1     1  \n",
       "102              1           1     3  \n",
       "160              1           1     3  \n",
       "163              1           0     1  \n",
       "182              1           0     1  \n",
       "184              1           0     1  \n",
       "192              1           1     2  "
      ]
     },
     "execution_count": 81,
     "metadata": {},
     "output_type": "execute_result"
    }
   ],
   "source": [
    "res_df = pd.concat([all_data, X_test], axis=1, join='inner')\n",
    "mistakes = res_df[['эде1', 'эде2', 'class', 'y_pred_lreg', 'y_pred_forest', 'y_pred_svc']]\n",
    "mistakes['comb'] = mistakes[['class', 'y_pred_lreg', 'y_pred_forest', 'y_pred_svc']].sum(axis=1)\n",
    "out = mistakes[(mistakes['comb'] != 0)&(mistakes['comb'] != 4)]\n",
    "out"
   ]
  },
  {
   "cell_type": "code",
   "execution_count": 82,
   "metadata": {},
   "outputs": [],
   "source": [
    "out.to_excel('mistakes.xlsx')"
   ]
  },
  {
   "cell_type": "markdown",
   "metadata": {},
   "source": [
    "_Анна Полянская, НИУ ВШЭ, 2020_"
   ]
  }
 ],
 "metadata": {
  "kernelspec": {
   "display_name": "Python 3",
   "language": "python",
   "name": "python3"
  },
  "language_info": {
   "codemirror_mode": {
    "name": "ipython",
    "version": 3
   },
   "file_extension": ".py",
   "mimetype": "text/x-python",
   "name": "python",
   "nbconvert_exporter": "python",
   "pygments_lexer": "ipython3",
   "version": "3.7.3"
  }
 },
 "nbformat": 4,
 "nbformat_minor": 2
}
